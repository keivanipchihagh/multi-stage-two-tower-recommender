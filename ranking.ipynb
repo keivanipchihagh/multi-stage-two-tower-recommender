{
 "cells": [
  {
   "cell_type": "code",
   "execution_count": 1,
   "metadata": {},
   "outputs": [],
   "source": [
    "# !pip install tf_keras tensorflow tensorflow-recommenders tensorflow-datasets scann"
   ]
  },
  {
   "cell_type": "code",
   "execution_count": 2,
   "metadata": {},
   "outputs": [],
   "source": [
    "# Use legacy Keras\n",
    "import os\n",
    "os.environ['TF_USE_LEGACY_KERAS'] = '1'"
   ]
  },
  {
   "cell_type": "code",
   "execution_count": 3,
   "metadata": {},
   "outputs": [
    {
     "name": "stderr",
     "output_type": "stream",
     "text": [
      "2024-08-25 20:57:51.841781: E external/local_xla/xla/stream_executor/cuda/cuda_fft.cc:485] Unable to register cuFFT factory: Attempting to register factory for plugin cuFFT when one has already been registered\n",
      "2024-08-25 20:57:51.858815: E external/local_xla/xla/stream_executor/cuda/cuda_dnn.cc:8454] Unable to register cuDNN factory: Attempting to register factory for plugin cuDNN when one has already been registered\n",
      "2024-08-25 20:57:51.863711: E external/local_xla/xla/stream_executor/cuda/cuda_blas.cc:1452] Unable to register cuBLAS factory: Attempting to register factory for plugin cuBLAS when one has already been registered\n",
      "2024-08-25 20:57:51.876070: I tensorflow/core/platform/cpu_feature_guard.cc:210] This TensorFlow binary is optimized to use available CPU instructions in performance-critical operations.\n",
      "To enable the following instructions: AVX2 FMA, in other operations, rebuild TensorFlow with the appropriate compiler flags.\n",
      "2024-08-25 20:57:52.913946: W tensorflow/compiler/tf2tensorrt/utils/py_utils.cc:38] TF-TRT Warning: Could not find TensorRT\n"
     ]
    }
   ],
   "source": [
    "from typing import Dict, Text\n",
    "\n",
    "import keras\n",
    "import numpy as np\n",
    "import tensorflow as tf\n",
    "from matplotlib import pyplot as plt\n",
    "\n",
    "import tensorflow_datasets as tfds\n",
    "import tensorflow_recommenders as tfrs\n",
    "\n",
    "RANDOM_STATE = 42\n",
    "\n",
    "tf.random.set_seed(RANDOM_STATE)"
   ]
  },
  {
   "cell_type": "markdown",
   "metadata": {},
   "source": [
    "## Preprocess"
   ]
  },
  {
   "cell_type": "markdown",
   "metadata": {},
   "source": [
    "### Download Datasets"
   ]
  },
  {
   "cell_type": "code",
   "execution_count": 4,
   "metadata": {},
   "outputs": [
    {
     "name": "stderr",
     "output_type": "stream",
     "text": [
      "WARNING: All log messages before absl::InitializeLog() is called are written to STDERR\n",
      "I0000 00:00:1724606874.767073  405991 cuda_executor.cc:1001] could not open file to read NUMA node: /sys/bus/pci/devices/0000:01:00.0/numa_node\n",
      "Your kernel may have been built without NUMA support.\n",
      "I0000 00:00:1724606874.812560  405991 cuda_executor.cc:1001] could not open file to read NUMA node: /sys/bus/pci/devices/0000:01:00.0/numa_node\n",
      "Your kernel may have been built without NUMA support.\n",
      "I0000 00:00:1724606874.812680  405991 cuda_executor.cc:1001] could not open file to read NUMA node: /sys/bus/pci/devices/0000:01:00.0/numa_node\n",
      "Your kernel may have been built without NUMA support.\n",
      "I0000 00:00:1724606874.816402  405991 cuda_executor.cc:1001] could not open file to read NUMA node: /sys/bus/pci/devices/0000:01:00.0/numa_node\n",
      "Your kernel may have been built without NUMA support.\n",
      "I0000 00:00:1724606874.816570  405991 cuda_executor.cc:1001] could not open file to read NUMA node: /sys/bus/pci/devices/0000:01:00.0/numa_node\n",
      "Your kernel may have been built without NUMA support.\n",
      "I0000 00:00:1724606874.816731  405991 cuda_executor.cc:1001] could not open file to read NUMA node: /sys/bus/pci/devices/0000:01:00.0/numa_node\n",
      "Your kernel may have been built without NUMA support.\n",
      "I0000 00:00:1724606874.965785  405991 cuda_executor.cc:1001] could not open file to read NUMA node: /sys/bus/pci/devices/0000:01:00.0/numa_node\n",
      "Your kernel may have been built without NUMA support.\n",
      "I0000 00:00:1724606874.965915  405991 cuda_executor.cc:1001] could not open file to read NUMA node: /sys/bus/pci/devices/0000:01:00.0/numa_node\n",
      "Your kernel may have been built without NUMA support.\n",
      "2024-08-25 20:57:54.965935: I tensorflow/core/common_runtime/gpu/gpu_device.cc:2112] Could not identify NUMA node of platform GPU id 0, defaulting to 0.  Your kernel may not have been built with NUMA support.\n",
      "I0000 00:00:1724606874.966017  405991 cuda_executor.cc:1001] could not open file to read NUMA node: /sys/bus/pci/devices/0000:01:00.0/numa_node\n",
      "Your kernel may have been built without NUMA support.\n",
      "2024-08-25 20:57:54.966045: I tensorflow/core/common_runtime/gpu/gpu_device.cc:2021] Created device /job:localhost/replica:0/task:0/device:GPU:0 with 3586 MB memory:  -> device: 0, name: NVIDIA GeForce RTX 3060 Laptop GPU, pci bus id: 0000:01:00.0, compute capability: 8.6\n"
     ]
    }
   ],
   "source": [
    "# Download the dataset and cache them as `tfrecord`\n",
    "\n",
    "ratings_dataset, ratings_dataset_info = tfds.load(\n",
    "    # Options: '25m-ratings', 'latest-small-ratings', '100k-ratings', '1m-ratings', '20m-ratings'\n",
    "    name = 'movielens/100k-ratings',\n",
    "    # MovieLense has only the `train` split.\n",
    "    split = 'train',\n",
    "    # Include metadata like version, description, homepage, citation, etc.\n",
    "    with_info = True\n",
    ")\n",
    "\n",
    "movies_dataset, movies_dataset_info = tfds.load(\n",
    "    # Options: '25m-movies', 'latest-small-movies', '100k-movies', '1m-movies', '20m-movies'\n",
    "    name = 'movielens/100k-movies',\n",
    "    # MovieLense has only the `train` split.\n",
    "    split = 'train',\n",
    "    # Include metadata like version, description, homepage, citation, etc.\n",
    "    with_info = True\n",
    ")"
   ]
  },
  {
   "cell_type": "markdown",
   "metadata": {},
   "source": [
    "### Feature Selection"
   ]
  },
  {
   "cell_type": "code",
   "execution_count": 5,
   "metadata": {},
   "outputs": [],
   "source": [
    "# Feature selection\n",
    "ratings_dataset = ratings_dataset.map(\n",
    "    lambda rating: {\n",
    "        # `user_id` is useful as a user identifier.\n",
    "        'user_id': rating['user_id'],\n",
    "        # `movie_id` is useful as a movie identifier.\n",
    "        'movie_id': rating['movie_id'],\n",
    "        # `movie_title` is useful as a textual information about the movie.\n",
    "        'movie_title': rating['movie_title'],\n",
    "        # `user_rating` shows the user's level of interest to a movie.\n",
    "        'user_rating': rating['user_rating'],\n",
    "        # `timestamp` will allow us to model the effect of time.\n",
    "        'timestamp': rating['timestamp']\n",
    "    }\n",
    ")"
   ]
  },
  {
   "cell_type": "markdown",
   "metadata": {},
   "source": [
    "### Dataset Splitting"
   ]
  },
  {
   "cell_type": "code",
   "execution_count": 6,
   "metadata": {},
   "outputs": [
    {
     "name": "stdout",
     "output_type": "stream",
     "text": [
      "trainset_size: 80000\n",
      "validset_size: 20000\n"
     ]
    }
   ],
   "source": [
    "# Shuffle the elements of the dataset randomly.\n",
    "ratings_dataset_shuffled = ratings_dataset.shuffle(\n",
    "    # The new dataset will be sampled from a buffer window of first `buffer_size`\n",
    "    # elements of the dataset\n",
    "    buffer_size = 100_000,\n",
    "    # The random seed used to create the distribution.\n",
    "    seed = RANDOM_STATE,\n",
    "    # `list(dataset.as_numpy_iterator()` yields different result for each call\n",
    "    # Because reshuffle_each_iteration defaults to True.\n",
    "    reshuffle_each_iteration = False\n",
    ")\n",
    "\n",
    "# Split dataset randomly (80% for training and 20% for validation)\n",
    "trainset_size: int  = 0.8 * ratings_dataset.__len__().numpy()\n",
    "\n",
    "ratings_trainset = ratings_dataset_shuffled.take(trainset_size)\n",
    "print(f\"trainset_size:\", ratings_trainset.__len__().numpy())\n",
    "\n",
    "ratings_validset = ratings_dataset_shuffled.skip(trainset_size)\n",
    "print(f\"validset_size:\", ratings_validset.__len__().numpy())"
   ]
  },
  {
   "cell_type": "markdown",
   "metadata": {},
   "source": [
    "### Categorical Features to Embeddings"
   ]
  },
  {
   "cell_type": "code",
   "execution_count": 7,
   "metadata": {},
   "outputs": [
    {
     "name": "stdout",
     "output_type": "stream",
     "text": [
      "Lookups for user_ids ['1', '124', 'xxx'] -> [91, 552, 525, 0]\n",
      "Embeddings for user_ids ['1', '124', 'xxx'] -> [[-0.03393519  0.0213888   0.00924094 -0.04084159  0.03682249  0.00116713\n",
      "  -0.02031722  0.01373101 -0.01961165 -0.04610368 -0.00121558  0.04663975\n",
      "   0.01142193  0.03803093 -0.01096069 -0.03070757  0.01565501  0.02189134\n",
      "  -0.01333858 -0.02083365 -0.03891505 -0.01672087 -0.04189209 -0.01524551\n",
      "  -0.01195803 -0.02470924  0.0091271   0.02163893 -0.03242143  0.01406464\n",
      "   0.04075884  0.03548893]\n",
      " [ 0.02140142 -0.00920161 -0.01517373 -0.02526646  0.00464509 -0.02591156\n",
      "  -0.02424341  0.00383397 -0.02576194  0.00761745  0.0319359   0.04574123\n",
      "   0.00779613  0.02745441 -0.04196014  0.03274686 -0.00364467 -0.04186556\n",
      "   0.03086442 -0.02462403 -0.04509177  0.04821355 -0.0309632  -0.00668238\n",
      "  -0.0278355   0.01664126  0.01396224 -0.00541742  0.03154484 -0.03118178\n",
      "   0.02897663 -0.02605695]\n",
      " [-0.02235779 -0.02778279  0.00175562 -0.01005274 -0.01895735  0.04490053\n",
      "  -0.02251985  0.01174849 -0.00518608 -0.04389957 -0.03231363 -0.01709383\n",
      "  -0.04653622  0.03011379  0.03808645 -0.04036664 -0.01523676 -0.02955153\n",
      "   0.04444163  0.00650228 -0.02096297  0.02857402 -0.03269212 -0.0272243\n",
      "  -0.020074   -0.03667355  0.02830546 -0.03162146  0.01056347 -0.04257014\n",
      "   0.02106969 -0.01694273]]\n"
     ]
    }
   ],
   "source": [
    "USER_ID_EMBEDDING_DIM = 32\n",
    "\n",
    "# Make a Keras StringLookup layer as the mapping (lookup)\n",
    "user_id_lookup_layer = tf.keras.layers.StringLookup(\n",
    "    mask_token = None,\n",
    "    # Include the OOV token so the layer can handle categorical values \n",
    "    # that are not in the vocabulary and the model can continue to learn \n",
    "    # and make recommendations even using features it has not been seen \n",
    "    # during vocabulary construction.\n",
    "    oov_token = \"[UNK]\",\n",
    ")\n",
    "\n",
    "# StringLookup layer is a non-trainable layer and its state (the vocabulary)\n",
    "# must be constructed and set before training in a step called \"adaptation\".\n",
    "user_id_lookup_layer.adapt(\n",
    "    ratings_trainset.map(\n",
    "        lambda x: x['user_id']\n",
    "    )\n",
    ")\n",
    "\n",
    "user_ids            = ['1', '124', 'xxx']\n",
    "user_ids_mappings   = list(user_id_lookup_layer(['1', '12', '100', 'xxx']).numpy())\n",
    "print(f\"Lookups for user_ids {user_ids} -> {user_ids_mappings}\")\n",
    "\n",
    "\n",
    "user_id_embedding_layer = tf.keras.layers.Embedding(\n",
    "    # Size of the vocabulary\n",
    "    input_dim = user_id_lookup_layer.vocabulary_size(),\n",
    "    # Dimension of the dense embedding\n",
    "    output_dim = USER_ID_EMBEDDING_DIM\n",
    ")\n",
    "\n",
    "# A model that takes raw string feature values (user_id) in and yields embeddings\n",
    "user_id_model = tf.keras.Sequential(\n",
    "    [\n",
    "        user_id_lookup_layer,\n",
    "        user_id_embedding_layer\n",
    "    ]\n",
    ")\n",
    "\n",
    "user_ids_embeddings = user_id_model(tf.convert_to_tensor(user_ids))\n",
    "print(f\"Embeddings for user_ids {user_ids} -> {user_ids_embeddings}\")"
   ]
  },
  {
   "cell_type": "code",
   "execution_count": 8,
   "metadata": {},
   "outputs": [
    {
     "name": "stdout",
     "output_type": "stream",
     "text": [
      "Lookups for movie_ids ['1', '124', 'xxx'] -> [8, 55, 3, 0]\n",
      "Embeddings for movie_ids ['1', '124', 'xxx'] -> [[ 0.03374739 -0.017897    0.03527561 -0.01648209 -0.01365081  0.00207224\n",
      "   0.03978071  0.01097931  0.02978874 -0.0114107   0.01519391  0.00019171\n",
      "   0.01910246 -0.03303077  0.02109862  0.0360238  -0.00964621  0.01646389\n",
      "  -0.00237633 -0.03461051 -0.02511708 -0.01185492  0.04410741  0.04140574\n",
      "   0.02682773 -0.03607493  0.01317384 -0.0469549  -0.01186467  0.0482522\n",
      "  -0.04892448  0.04520584]\n",
      " [-0.00867274 -0.04104244 -0.01447233 -0.02237027 -0.01922007  0.03275982\n",
      "   0.04044428  0.00156235 -0.02432325 -0.04628643 -0.02926295  0.0428993\n",
      "  -0.02042166  0.03804714  0.0058107   0.02914475 -0.01688553 -0.04194919\n",
      "  -0.04594545  0.04301104  0.04921443 -0.03200108  0.04628244 -0.04238492\n",
      "  -0.03685174  0.01894857  0.04423415 -0.03936982 -0.0022853  -0.01361101\n",
      "   0.03324418  0.03545767]\n",
      " [ 0.02715414  0.00813138  0.03795746 -0.02876743  0.02049286 -0.04916371\n",
      "   0.04529114  0.04653252  0.01510472  0.03626457  0.04165092 -0.02070321\n",
      "   0.00549807 -0.04838669  0.04094166 -0.02327074 -0.02962503  0.01173218\n",
      "  -0.04416543 -0.04927467  0.00705702 -0.02808169 -0.0205094  -0.00929183\n",
      "  -0.03197362 -0.02749118 -0.01383309  0.03734299  0.02081605 -0.03009482\n",
      "   0.03239502 -0.04830588]]\n"
     ]
    }
   ],
   "source": [
    "MOVIE_ID_EMBEDDING_DIM = 32\n",
    "\n",
    "# Make a Keras StringLookup layer as the mapping (lookup)\n",
    "movie_id_lookup_layer = tf.keras.layers.StringLookup(\n",
    "    mask_token = None,\n",
    "    # Include the OOV token so the layer can handle categorical values \n",
    "    # that are not in the vocabulary and the model can continue to learn \n",
    "    # and make recommendations even using features it has not been seen \n",
    "    # during vocabulary construction.\n",
    "    oov_token = \"[UNK]\",\n",
    ")\n",
    "\n",
    "# StringLookup layer is a non-trainable layer and its state (the vocabulary)\n",
    "# must be constructed and set before training in a step called \"adaptation\".\n",
    "movie_id_lookup_layer.adapt(\n",
    "    ratings_trainset.map(\n",
    "        lambda x: x['movie_id']\n",
    "    )\n",
    ")\n",
    "\n",
    "movie_ids            = ['1', '124', 'xxx']\n",
    "movie_ids_mappings   = list(movie_id_lookup_layer(['1', '12', '100', 'xxx']).numpy())\n",
    "print(f\"Lookups for movie_ids {movie_ids} -> {movie_ids_mappings}\")\n",
    "\n",
    "\n",
    "movie_id_embedding_layer = tf.keras.layers.Embedding(\n",
    "    # Size of the vocabulary\n",
    "    input_dim = movie_id_lookup_layer.vocabulary_size(),\n",
    "    # Dimension of the dense embedding\n",
    "    output_dim = MOVIE_ID_EMBEDDING_DIM\n",
    ")\n",
    "\n",
    "# A model that takes raw string feature values (movie_id) in and yields embeddings\n",
    "movie_id_model = tf.keras.Sequential(\n",
    "    [\n",
    "        movie_id_lookup_layer,\n",
    "        movie_id_embedding_layer\n",
    "    ]\n",
    ")\n",
    "\n",
    "movie_ids_embeddings = movie_id_model(tf.convert_to_tensor(movie_ids))\n",
    "print(f\"Embeddings for movie_ids {movie_ids} -> {movie_ids_embeddings}\")"
   ]
  },
  {
   "cell_type": "markdown",
   "metadata": {},
   "source": [
    "### Textual Features to Embeddings"
   ]
  },
  {
   "cell_type": "code",
   "execution_count": 9,
   "metadata": {},
   "outputs": [
    {
     "name": "stdout",
     "output_type": "stream",
     "text": [
      "Vocabulary -> ['first', 'contact', '1971', '1977', 'monty', '1983', 'love', 'on', 'last', 'men']\n",
      "Vectorized 'Postman, The (1997)' -? [1120    2    4]\n"
     ]
    }
   ],
   "source": [
    "MOVIE_TITLE_EMBEDDING_DIM = 32\n",
    "\n",
    "# Keras TextVectorization layer transforms the raw texts into `word pieces` and\n",
    "# map these pieces into tokens.\n",
    "movie_title_vectorization_layer = tf.keras.layers.TextVectorization()\n",
    "\n",
    "movie_title_vectorization_layer.adapt(\n",
    "    ratings_trainset.map(\n",
    "        lambda rating: rating['movie_title']\n",
    "    )\n",
    ")\n",
    "\n",
    "# Verify that the tokenization is done correctly\n",
    "vocabulary = movie_title_vectorization_layer.get_vocabulary()\n",
    "print(f\"Vocabulary -> {vocabulary[40:50]}\")\n",
    "print(f\"Vectorized 'Postman, The (1997)' -? {movie_title_vectorization_layer('Postman, The (1997)')}\")\n",
    "\n",
    "movie_title_embedding_layer = tf.keras.layers.Embedding(\n",
    "    input_dim = len(vocabulary),\n",
    "    output_dim = MOVIE_TITLE_EMBEDDING_DIM,\n",
    "    # Whether or not the input value 0 is a MASK token.\n",
    "    # Keras TextVectorization layer builds the vocabulary with MASK token.\n",
    "    mask_zero = True\n",
    ")\n",
    "\n",
    "movie_title_model = tf.keras.Sequential(\n",
    "    [\n",
    "       movie_title_vectorization_layer,\n",
    "       movie_title_embedding_layer,\n",
    "       # Each title contains multiple words, so we will get multiple embeddings\n",
    "       # for each title that should be compressed into a single embedding for\n",
    "       # the text. Models like RNNs, Transformers or Attentions are useful here.\n",
    "       # However, averaging all the words' embeddings together is also a good\n",
    "       # starting point.\n",
    "       tf.keras.layers.GlobalAveragePooling1D()\n",
    "    ]\n",
    ")"
   ]
  },
  {
   "cell_type": "markdown",
   "metadata": {},
   "source": [
    "### Build the Retrieval (Candidate Generation Phase)"
   ]
  },
  {
   "cell_type": "code",
   "execution_count": 10,
   "metadata": {},
   "outputs": [],
   "source": [
    "# Query tower\n",
    "query_model = user_id_model\n",
    " \n",
    "# Candidate tower\n",
    "candidate_model = movie_id_model\n",
    " \n",
    " \n",
    "# Here we only used query and candidate identifiers to buid the towers. This\n",
    "# corresponds exactly to a classic matrix factorization approach.\n",
    "# https://ieeexplore.ieee.org/abstract/document/4781121\n",
    "# However, we can extend `tf.keras.Model` class to an arbitrarily complex model\n",
    "# including other features and return the final embedding vector at the end.\n",
    "# For example, by using movie metadata in the candidate tower, we can alleviate\n",
    "# cold-start problem.\n",
    "# return tf.concat([\n",
    "#         self.user_embedding(inputs[\"user_id\"]),\n",
    "#         self.timestamp_embedding(inputs[\"timestamp\"]),\n",
    "#         self.normalized_timestamp(inputs[\"timestamp\"])\n",
    "#     ], axis=1)"
   ]
  },
  {
   "cell_type": "code",
   "execution_count": 11,
   "metadata": {},
   "outputs": [],
   "source": [
    "# Create implicit ratings for Retieval\n",
    "retrieval_ratings_trainset = ratings_trainset.map(\n",
    "    lambda rating: {\n",
    "        'user_id': rating['user_id'],\n",
    "        'movie_id': rating['movie_id'],\n",
    "    }\n",
    ")\n",
    " \n",
    "retrieval_ratings_testset = ratings_validset.map(\n",
    "    lambda rating: {\n",
    "        'user_id': rating['user_id'],\n",
    "        'movie_id': rating['movie_id'],\n",
    "    }\n",
    ")"
   ]
  },
  {
   "cell_type": "code",
   "execution_count": 12,
   "metadata": {},
   "outputs": [],
   "source": [
    "# We are using just `movie_id` feature for making the candidates representation\n",
    "candidates_corpus_dataset = movies_dataset.map(\n",
    "    lambda movie: movie['movie_id']\n",
    ")\n",
    "\n",
    "factorized_top_k_metrics = tfrs.metrics.FactorizedTopK(\n",
    "    # dataset of candidate embeddings from which candidates should be retrieved\n",
    "    candidates = candidates_corpus_dataset.batch(128).map(\n",
    "        candidate_model\n",
    "    )\n",
    ")"
   ]
  },
  {
   "cell_type": "code",
   "execution_count": 13,
   "metadata": {},
   "outputs": [],
   "source": [
    "# The task computes the metrics and return the in-batch softmax loss.\n",
    "# Because the metrics range over the entire candidate set, they are usually much\n",
    "# slower to compute. Consider setting `compute_metrics=False` in Retrieval\n",
    "# costructor during training to save the time in computing the metrics.\n",
    "retrieval_task_layer = tfrs.tasks.Retrieval(\n",
    "    metrics = factorized_top_k_metrics\n",
    ")"
   ]
  },
  {
   "cell_type": "code",
   "execution_count": 14,
   "metadata": {},
   "outputs": [],
   "source": [
    "class RankingModel(tfrs.models.Model):\n",
    "    \"\"\"\n",
    "        Ranking Model\n",
    "    \"\"\"\n",
    "\n",
    "    def __init__(\n",
    "        self,\n",
    "        query_model: tf.keras.Model,\n",
    "        candidate_model: tf.keras.Model,\n",
    "    ) -> 'RankingModel':\n",
    "        super().__init__()\n",
    "\n",
    "        self.query_model = query_model\n",
    "        self.candidate_model = candidate_model\n",
    "\n",
    "        self.rating_model = tf.keras.Sequential(\n",
    "            [\n",
    "                tf.keras.layers.Dense(256, activation='relu'),\n",
    "                tf.keras.layers.Dense(64, activation='relu'),\n",
    "                tf.keras.layers.Dense(1)\n",
    "            ]\n",
    "        )\n",
    "        self.ranking_task_layer = tfrs.tasks.Ranking(\n",
    "            loss = tf.keras.losses.MeanSquaredError(),\n",
    "            metrics = [\n",
    "                tf.keras.metrics.RootMeanSquaredError()\n",
    "            ]\n",
    "        )\n",
    "\n",
    "\n",
    "    def call(self, features: Dict[Text, tf.Tensor]) -> tf.Tensor:\n",
    "        user_id     = features[\"user_id\"]\n",
    "        movie_id    = features[\"movie_id\"]\n",
    "\n",
    "        user_embedding = self.query_model(user_id)\n",
    "        movie_embedding = self.candidate_model(movie_id)\n",
    "\n",
    "        return self.rating_model(tf.concat([user_embedding, movie_embedding], axis=1))\n",
    "\n",
    "\n",
    "    def compute_loss(\n",
    "        self,\n",
    "        features: Dict[Text, tf.Tensor],\n",
    "        training = False\n",
    "    ) -> tf.Tensor:\n",
    "        user_id     = features[\"user_id\"]\n",
    "        movie_id    = features[\"movie_id\"]\n",
    "        user_rating = features[\"user_rating\"]\n",
    "\n",
    "        query_embeddings     = self.query_model(user_id)\n",
    "        candidate_embeddings = self.candidate_model(movie_id)\n",
    "\n",
    "        rating_predictions = self.rating_model(\n",
    "            tf.concat([query_embeddings, candidate_embeddings], axis=1)\n",
    "            # We could use `tf.keras.layers.Concatenate(axis=1)([x, y])`\n",
    "        )\n",
    "\n",
    "        loss = self.ranking_task_layer(\n",
    "            predictions = rating_predictions,\n",
    "            labels = user_rating,\n",
    "            compute_metrics = not training  # Speed up training\n",
    "        )\n",
    "        return loss"
   ]
  },
  {
   "cell_type": "code",
   "execution_count": 15,
   "metadata": {},
   "outputs": [],
   "source": [
    "OPTIMIZER_STEP_SIZE = 0.1\n",
    "\n",
    "ranking_model = RankingModel(\n",
    "    query_model,\n",
    "    candidate_model\n",
    ")\n",
    "\n",
    "optimizer = tf.keras.optimizers.Adagrad(learning_rate = OPTIMIZER_STEP_SIZE)\n",
    "ranking_model.compile(optimizer = optimizer)"
   ]
  },
  {
   "cell_type": "code",
   "execution_count": 16,
   "metadata": {},
   "outputs": [
    {
     "name": "stdout",
     "output_type": "stream",
     "text": [
      "Epoch 1/10\n"
     ]
    },
    {
     "name": "stderr",
     "output_type": "stream",
     "text": [
      "WARNING: All log messages before absl::InitializeLog() is called are written to STDERR\n",
      "I0000 00:00:1724607574.501273  406111 service.cc:146] XLA service 0x7f29c988e220 initialized for platform CUDA (this does not guarantee that XLA will be used). Devices:\n",
      "I0000 00:00:1724607574.501334  406111 service.cc:154]   StreamExecutor device (0): NVIDIA GeForce RTX 3060 Laptop GPU, Compute Capability 8.6\n",
      "2024-08-25 21:09:34.508209: I tensorflow/compiler/mlir/tensorflow/utils/dump_mlir_util.cc:268] disabling MLIR crash reproducer, set env var `MLIR_CRASH_REPRODUCER_DIRECTORY` to enable.\n",
      "2024-08-25 21:09:34.521122: I external/local_xla/xla/stream_executor/cuda/cuda_dnn.cc:531] Loaded cuDNN version 8907\n",
      "I0000 00:00:1724607574.609372  406111 device_compiler.h:188] Compiled cluster using XLA!  This line is logged at most once for the lifetime of the process.\n"
     ]
    },
    {
     "name": "stdout",
     "output_type": "stream",
     "text": [
      "79/79 [==============================] - 17s 127ms/step - root_mean_squared_error: 0.0000e+00 - loss: 1.6202 - regularization_loss: 0.0000e+00 - total_loss: 1.6202 - val_root_mean_squared_error: 1.0234 - val_loss: 1.0274 - val_regularization_loss: 0.0000e+00 - val_total_loss: 1.0274\n",
      "Epoch 2/10\n",
      "79/79 [==============================] - 1s 11ms/step - root_mean_squared_error: 0.0000e+00 - loss: 0.9723 - regularization_loss: 0.0000e+00 - total_loss: 0.9723 - val_root_mean_squared_error: 0.9604 - val_loss: 0.9344 - val_regularization_loss: 0.0000e+00 - val_total_loss: 0.9344\n",
      "Epoch 3/10\n",
      "79/79 [==============================] - 1s 11ms/step - root_mean_squared_error: 0.0000e+00 - loss: 0.9031 - regularization_loss: 0.0000e+00 - total_loss: 0.9031 - val_root_mean_squared_error: 0.9511 - val_loss: 0.9275 - val_regularization_loss: 0.0000e+00 - val_total_loss: 0.9275\n",
      "Epoch 4/10\n",
      "79/79 [==============================] - 1s 11ms/step - root_mean_squared_error: 0.0000e+00 - loss: 0.8834 - regularization_loss: 0.0000e+00 - total_loss: 0.8834 - val_root_mean_squared_error: 0.9474 - val_loss: 0.9266 - val_regularization_loss: 0.0000e+00 - val_total_loss: 0.9266\n",
      "Epoch 5/10\n",
      "79/79 [==============================] - 1s 11ms/step - root_mean_squared_error: 0.0000e+00 - loss: 0.8740 - regularization_loss: 0.0000e+00 - total_loss: 0.8740 - val_root_mean_squared_error: 0.9451 - val_loss: 0.9255 - val_regularization_loss: 0.0000e+00 - val_total_loss: 0.9255\n",
      "Epoch 6/10\n",
      "79/79 [==============================] - 1s 12ms/step - root_mean_squared_error: 0.0000e+00 - loss: 0.8684 - regularization_loss: 0.0000e+00 - total_loss: 0.8684 - val_root_mean_squared_error: 0.9434 - val_loss: 0.9240 - val_regularization_loss: 0.0000e+00 - val_total_loss: 0.9240\n",
      "Epoch 7/10\n",
      "79/79 [==============================] - 1s 11ms/step - root_mean_squared_error: 0.0000e+00 - loss: 0.8645 - regularization_loss: 0.0000e+00 - total_loss: 0.8645 - val_root_mean_squared_error: 0.9423 - val_loss: 0.9227 - val_regularization_loss: 0.0000e+00 - val_total_loss: 0.9227\n",
      "Epoch 8/10\n",
      "79/79 [==============================] - 1s 11ms/step - root_mean_squared_error: 0.0000e+00 - loss: 0.8614 - regularization_loss: 0.0000e+00 - total_loss: 0.8614 - val_root_mean_squared_error: 0.9413 - val_loss: 0.9214 - val_regularization_loss: 0.0000e+00 - val_total_loss: 0.9214\n",
      "Epoch 9/10\n",
      "79/79 [==============================] - 1s 11ms/step - root_mean_squared_error: 0.0000e+00 - loss: 0.8590 - regularization_loss: 0.0000e+00 - total_loss: 0.8590 - val_root_mean_squared_error: 0.9405 - val_loss: 0.9200 - val_regularization_loss: 0.0000e+00 - val_total_loss: 0.9200\n",
      "Epoch 10/10\n",
      "79/79 [==============================] - 1s 10ms/step - root_mean_squared_error: 0.0000e+00 - loss: 0.8568 - regularization_loss: 0.0000e+00 - total_loss: 0.8568 - val_root_mean_squared_error: 0.9399 - val_loss: 0.9186 - val_regularization_loss: 0.0000e+00 - val_total_loss: 0.9186\n"
     ]
    }
   ],
   "source": [
    "EPOCHS = 10\n",
    "\n",
    "# Shuffle the training data for each epoch.\n",
    "# Batch and cache both the training and evaluation data.\n",
    "# `cache()` method caches the elements in the dataset in memory. To caches data\n",
    "# in a file pass the `filename` argument to the method: cache(filename='')\n",
    "# The first time the dataset is iterated over, its elements will be cached\n",
    "# either in the specified file or in memory. Subsequent iterations will use the\n",
    "# cached data.\n",
    "ranking_ratings_trainset = ratings_trainset.shuffle(100_000).batch(1024).cache()\n",
    "ranking_ratings_testset = ratings_validset.batch(1024).cache()\n",
    "\n",
    "history = ranking_model.fit(\n",
    "    ranking_ratings_trainset,\n",
    "    validation_data = ranking_ratings_testset,\n",
    "    validation_freq = 1,\n",
    "    epochs = EPOCHS\n",
    ")"
   ]
  },
  {
   "cell_type": "code",
   "execution_count": 17,
   "metadata": {},
   "outputs": [
    {
     "data": {
      "image/png": "[encoded data removed]",
      "text/plain": [
       "<Figure size 640x480 with 1 Axes>"
      ]
     },
     "metadata": {},
     "output_type": "display_data"
    }
   ],
   "source": [
    "# Plot loss\n",
    "plt.plot(history.history[\"loss\"])\n",
    "plt.plot(history.history[\"val_loss\"])\n",
    "plt.title(\"Model losses during training\")\n",
    "plt.xlabel(\"epoch\")\n",
    "plt.ylabel(\"loss\")\n",
    "plt.legend([\"train\", \"test\"], loc=\"upper right\")\n",
    "plt.show()"
   ]
  },
  {
   "cell_type": "code",
   "execution_count": 18,
   "metadata": {},
   "outputs": [
    {
     "name": "stdout",
     "output_type": "stream",
     "text": [
      "Ratings:\n",
      "500: [[3.9422517]]\n",
      "1457: [[3.755953]]\n",
      "1681: [[3.538662]]\n",
      "838: [[3.0737293]]\n"
     ]
    }
   ],
   "source": [
    "test_ratings = {}\n",
    "movie_ids = ['1681', '1457', '500', '838']\n",
    "for movie_id in movie_ids:\n",
    "  test_ratings[movie_id] = ranking_model({\n",
    "      \"user_id\": np.array([\"1\"]),\n",
    "      \"movie_id\": np.array([movie_id])\n",
    "  })\n",
    "\n",
    "print(\"Ratings:\")\n",
    "for title, score in sorted(test_ratings.items(), key=lambda x: x[1], reverse=True):\n",
    "  print(f\"{title}: {score}\")"
   ]
  },
  {
   "cell_type": "code",
   "execution_count": null,
   "metadata": {},
   "outputs": [],
   "source": []
  }
 ],
 "metadata": {
  "kernelspec": {
   "display_name": ".venv",
   "language": "python",
   "name": "python3"
  },
  "language_info": {
   "codemirror_mode": {
    "name": "ipython",
    "version": 3
   },
   "file_extension": ".py",
   "mimetype": "text/x-python",
   "name": "python",
   "nbconvert_exporter": "python",
   "pygments_lexer": "ipython3",
   "version": "3.10.12"
  }
 },
 "nbformat": 4,
 "nbformat_minor": 2
}
