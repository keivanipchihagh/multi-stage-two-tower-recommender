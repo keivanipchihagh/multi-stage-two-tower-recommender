{
 "cells": [
  {
   "cell_type": "code",
   "execution_count": 1,
   "metadata": {},
   "outputs": [],
   "source": [
    "# Use legacy Keras\n",
    "import os\n",
    "os.environ['TF_USE_LEGACY_KERAS'] = '1'"
   ]
  },
  {
   "cell_type": "code",
   "execution_count": 2,
   "metadata": {},
   "outputs": [
    {
     "name": "stderr",
     "output_type": "stream",
     "text": [
      "2024-08-28 16:18:42.635343: E external/local_xla/xla/stream_executor/cuda/cuda_fft.cc:485] Unable to register cuFFT factory: Attempting to register factory for plugin cuFFT when one has already been registered\n",
      "2024-08-28 16:18:42.651069: E external/local_xla/xla/stream_executor/cuda/cuda_dnn.cc:8454] Unable to register cuDNN factory: Attempting to register factory for plugin cuDNN when one has already been registered\n",
      "2024-08-28 16:18:42.655770: E external/local_xla/xla/stream_executor/cuda/cuda_blas.cc:1452] Unable to register cuBLAS factory: Attempting to register factory for plugin cuBLAS when one has already been registered\n",
      "2024-08-28 16:18:42.668953: I tensorflow/core/platform/cpu_feature_guard.cc:210] This TensorFlow binary is optimized to use available CPU instructions in performance-critical operations.\n",
      "To enable the following instructions: AVX2 FMA, in other operations, rebuild TensorFlow with the appropriate compiler flags.\n",
      "2024-08-28 16:18:43.652163: W tensorflow/compiler/tf2tensorrt/utils/py_utils.cc:38] TF-TRT Warning: Could not find TensorRT\n"
     ]
    }
   ],
   "source": [
    "from typing import Dict, Text\n",
    "\n",
    "import keras\n",
    "import numpy as np\n",
    "import tensorflow as tf\n",
    "from matplotlib import pyplot as plt\n",
    "\n",
    "import tensorflow_datasets as tfds\n",
    "import tensorflow_recommenders as tfrs\n",
    "\n",
    "RANDOM_STATE = 42\n",
    "\n",
    "tf.random.set_seed(RANDOM_STATE)"
   ]
  },
  {
   "cell_type": "markdown",
   "metadata": {},
   "source": [
    "## Preprocess"
   ]
  },
  {
   "cell_type": "markdown",
   "metadata": {},
   "source": [
    "### Download Datasets"
   ]
  },
  {
   "cell_type": "code",
   "execution_count": 3,
   "metadata": {},
   "outputs": [
    {
     "name": "stderr",
     "output_type": "stream",
     "text": [
      "WARNING: All log messages before absl::InitializeLog() is called are written to STDERR\n",
      "I0000 00:00:1724849325.849009  153666 cuda_executor.cc:1001] could not open file to read NUMA node: /sys/bus/pci/devices/0000:01:00.0/numa_node\n",
      "Your kernel may have been built without NUMA support.\n",
      "I0000 00:00:1724849325.905625  153666 cuda_executor.cc:1001] could not open file to read NUMA node: /sys/bus/pci/devices/0000:01:00.0/numa_node\n",
      "Your kernel may have been built without NUMA support.\n",
      "I0000 00:00:1724849325.905700  153666 cuda_executor.cc:1001] could not open file to read NUMA node: /sys/bus/pci/devices/0000:01:00.0/numa_node\n",
      "Your kernel may have been built without NUMA support.\n",
      "I0000 00:00:1724849325.909437  153666 cuda_executor.cc:1001] could not open file to read NUMA node: /sys/bus/pci/devices/0000:01:00.0/numa_node\n",
      "Your kernel may have been built without NUMA support.\n",
      "I0000 00:00:1724849325.909543  153666 cuda_executor.cc:1001] could not open file to read NUMA node: /sys/bus/pci/devices/0000:01:00.0/numa_node\n",
      "Your kernel may have been built without NUMA support.\n",
      "I0000 00:00:1724849325.909592  153666 cuda_executor.cc:1001] could not open file to read NUMA node: /sys/bus/pci/devices/0000:01:00.0/numa_node\n",
      "Your kernel may have been built without NUMA support.\n",
      "I0000 00:00:1724849326.113508  153666 cuda_executor.cc:1001] could not open file to read NUMA node: /sys/bus/pci/devices/0000:01:00.0/numa_node\n",
      "Your kernel may have been built without NUMA support.\n",
      "I0000 00:00:1724849326.113608  153666 cuda_executor.cc:1001] could not open file to read NUMA node: /sys/bus/pci/devices/0000:01:00.0/numa_node\n",
      "Your kernel may have been built without NUMA support.\n",
      "2024-08-28 16:18:46.113621: I tensorflow/core/common_runtime/gpu/gpu_device.cc:2112] Could not identify NUMA node of platform GPU id 0, defaulting to 0.  Your kernel may not have been built with NUMA support.\n",
      "I0000 00:00:1724849326.113731  153666 cuda_executor.cc:1001] could not open file to read NUMA node: /sys/bus/pci/devices/0000:01:00.0/numa_node\n",
      "Your kernel may have been built without NUMA support.\n",
      "2024-08-28 16:18:46.113788: I tensorflow/core/common_runtime/gpu/gpu_device.cc:2021] Created device /job:localhost/replica:0/task:0/device:GPU:0 with 3586 MB memory:  -> device: 0, name: NVIDIA GeForce RTX 3060 Laptop GPU, pci bus id: 0000:01:00.0, compute capability: 8.6\n"
     ]
    }
   ],
   "source": [
    "# Download the dataset and cache them as `tfrecord`\n",
    "\n",
    "ratings_dataset, ratings_dataset_info = tfds.load(\n",
    "    # Options: '25m-ratings', 'latest-small-ratings', '100k-ratings', '1m-ratings', '20m-ratings'\n",
    "    name = 'movielens/100k-ratings',\n",
    "    # MovieLense has only the `train` split.\n",
    "    split = 'train',\n",
    "    # Include metadata like version, description, homepage, citation, etc.\n",
    "    with_info = True\n",
    ")\n",
    "\n",
    "movies_dataset, movies_dataset_info = tfds.load(\n",
    "    # Options: '25m-movies', 'latest-small-movies', '100k-movies', '1m-movies', '20m-movies'\n",
    "    name = 'movielens/100k-movies',\n",
    "    # MovieLense has only the `train` split.\n",
    "    split = 'train',\n",
    "    # Include metadata like version, description, homepage, citation, etc.\n",
    "    with_info = True\n",
    ")"
   ]
  },
  {
   "cell_type": "markdown",
   "metadata": {},
   "source": [
    "### Feature Selection"
   ]
  },
  {
   "cell_type": "code",
   "execution_count": 4,
   "metadata": {},
   "outputs": [],
   "source": [
    "# Feature selection\n",
    "ratings_dataset = ratings_dataset.map(\n",
    "    lambda rating: {\n",
    "        # `user_id` is useful as a user identifier.\n",
    "        'user_id': rating['user_id'],\n",
    "        # `movie_id` is useful as a movie identifier.\n",
    "        'movie_id': rating['movie_id'],\n",
    "        # `movie_title` is useful as a textual information about the movie.\n",
    "        'movie_title': rating['movie_title'],\n",
    "        # `user_rating` shows the user's level of interest to a movie.\n",
    "        'user_rating': rating['user_rating'],\n",
    "        # `timestamp` will allow us to model the effect of time.\n",
    "        'timestamp': rating['timestamp'],\n",
    "        # Target Variable\n",
    "        'score': rating['user_rating']\n",
    "    }\n",
    ")"
   ]
  },
  {
   "cell_type": "markdown",
   "metadata": {},
   "source": [
    "### Dataset Splitting"
   ]
  },
  {
   "cell_type": "code",
   "execution_count": 5,
   "metadata": {},
   "outputs": [
    {
     "name": "stdout",
     "output_type": "stream",
     "text": [
      "trainset_size: 80000\n",
      "validset_size: 20000\n"
     ]
    }
   ],
   "source": [
    "# Shuffle the elements of the dataset randomly.\n",
    "ratings_dataset_shuffled = ratings_dataset.shuffle(\n",
    "    # The new dataset will be sampled from a buffer window of first `buffer_size`\n",
    "    # elements of the dataset\n",
    "    buffer_size = 100_000,\n",
    "    # The random seed used to create the distribution.\n",
    "    seed = RANDOM_STATE,\n",
    "    # `list(dataset.as_numpy_iterator()` yields different result for each call\n",
    "    # Because reshuffle_each_iteration defaults to True.\n",
    "    reshuffle_each_iteration = False\n",
    ")\n",
    "\n",
    "# Split dataset randomly (80% for training and 20% for validation)\n",
    "trainset_size: int  = 0.8 * ratings_dataset.__len__().numpy()\n",
    "\n",
    "ratings_trainset = ratings_dataset_shuffled.take(trainset_size)\n",
    "print(f\"trainset_size:\", ratings_trainset.__len__().numpy())\n",
    "\n",
    "ratings_validset = ratings_dataset_shuffled.skip(trainset_size)\n",
    "print(f\"validset_size:\", ratings_validset.__len__().numpy())"
   ]
  },
  {
   "cell_type": "code",
   "execution_count": 6,
   "metadata": {},
   "outputs": [],
   "source": [
    "# Create implicit ratings for Retieval\n",
    "retrieval_ratings_trainset = ratings_trainset.map(\n",
    "    lambda rating: {\n",
    "        'user_id': rating['user_id'],\n",
    "        'movie_id': rating['movie_id'],\n",
    "        'movie_title': rating['movie_title'],\n",
    "    }\n",
    ")"
   ]
  },
  {
   "cell_type": "code",
   "execution_count": 7,
   "metadata": {},
   "outputs": [],
   "source": [
    "from src.towers.query import QueryTower\n",
    "from src.towers.candidate import CandidateTower\n",
    "from src.rankings.pointwise import PointwiseRanking\n",
    "\n",
    "candidate_tower = CandidateTower(\n",
    "    dataset = ratings_trainset,\n",
    "    embedding_dim = 4\n",
    ")\n",
    "\n",
    "query_tower = QueryTower(\n",
    "    dataset = ratings_trainset,\n",
    "    embedding_dim = 4\n",
    ")"
   ]
  },
  {
   "cell_type": "code",
   "execution_count": 8,
   "metadata": {},
   "outputs": [],
   "source": [
    "# Ranking\n",
    "ranking_task = tfrs.tasks.Ranking(\n",
    "    loss = tf.keras.losses.MeanSquaredError(),\n",
    "    metrics = [\n",
    "        tf.keras.metrics.RootMeanSquaredError()\n",
    "    ]\n",
    ")\n",
    "ranking_model = PointwiseRanking(\n",
    "    query_tower = query_tower,\n",
    "    candidate_tower = candidate_tower,\n",
    "    task = ranking_task\n",
    ")"
   ]
  },
  {
   "cell_type": "code",
   "execution_count": 10,
   "metadata": {},
   "outputs": [
    {
     "name": "stdout",
     "output_type": "stream",
     "text": [
      "Epoch 1/100\n"
     ]
    },
    {
     "name": "stderr",
     "output_type": "stream",
     "text": [
      "WARNING: All log messages before absl::InitializeLog() is called are written to STDERR\n",
      "I0000 00:00:1724851192.739786  153788 service.cc:146] XLA service 0x7f8424010c80 initialized for platform CUDA (this does not guarantee that XLA will be used). Devices:\n",
      "I0000 00:00:1724851192.740042  153788 service.cc:154]   StreamExecutor device (0): NVIDIA GeForce RTX 3060 Laptop GPU, Compute Capability 8.6\n",
      "2024-08-28 16:49:52.747462: I tensorflow/compiler/mlir/tensorflow/utils/dump_mlir_util.cc:268] disabling MLIR crash reproducer, set env var `MLIR_CRASH_REPRODUCER_DIRECTORY` to enable.\n",
      "2024-08-28 16:49:52.775554: I external/local_xla/xla/stream_executor/cuda/cuda_dnn.cc:531] Loaded cuDNN version 8907\n",
      "I0000 00:00:1724851192.851123  153788 device_compiler.h:188] Compiled cluster using XLA!  This line is logged at most once for the lifetime of the process.\n"
     ]
    },
    {
     "name": "stdout",
     "output_type": "stream",
     "text": [
      "79/79 [==============================] - 20s 164ms/step - root_mean_squared_error: 0.0000e+00 - loss: 1.7223 - regularization_loss: 0.0000e+00 - total_loss: 1.7223 - val_root_mean_squared_error: 1.1399 - val_loss: 1.3265 - val_regularization_loss: 0.0000e+00 - val_total_loss: 1.3265\n",
      "Epoch 2/100\n",
      "79/79 [==============================] - 1s 17ms/step - root_mean_squared_error: 0.0000e+00 - loss: 1.0195 - regularization_loss: 0.0000e+00 - total_loss: 1.0195 - val_root_mean_squared_error: 0.9646 - val_loss: 0.9694 - val_regularization_loss: 0.0000e+00 - val_total_loss: 0.9694\n",
      "Epoch 3/100\n",
      "79/79 [==============================] - 1s 17ms/step - root_mean_squared_error: 0.0000e+00 - loss: 0.9065 - regularization_loss: 0.0000e+00 - total_loss: 0.9065 - val_root_mean_squared_error: 0.9574 - val_loss: 0.9685 - val_regularization_loss: 0.0000e+00 - val_total_loss: 0.9685\n",
      "Epoch 4/100\n",
      "79/79 [==============================] - 1s 18ms/step - root_mean_squared_error: 0.0000e+00 - loss: 0.8817 - regularization_loss: 0.0000e+00 - total_loss: 0.8817 - val_root_mean_squared_error: 0.9554 - val_loss: 0.9678 - val_regularization_loss: 0.0000e+00 - val_total_loss: 0.9678\n",
      "Epoch 5/100\n",
      "79/79 [==============================] - 1s 17ms/step - root_mean_squared_error: 0.0000e+00 - loss: 0.8702 - regularization_loss: 0.0000e+00 - total_loss: 0.8702 - val_root_mean_squared_error: 0.9523 - val_loss: 0.9632 - val_regularization_loss: 0.0000e+00 - val_total_loss: 0.9632\n",
      "Epoch 6/100\n",
      "79/79 [==============================] - 1s 18ms/step - root_mean_squared_error: 0.0000e+00 - loss: 0.8635 - regularization_loss: 0.0000e+00 - total_loss: 0.8635 - val_root_mean_squared_error: 0.9504 - val_loss: 0.9605 - val_regularization_loss: 0.0000e+00 - val_total_loss: 0.9605\n",
      "Epoch 7/100\n",
      "79/79 [==============================] - 1s 17ms/step - root_mean_squared_error: 0.0000e+00 - loss: 0.8588 - regularization_loss: 0.0000e+00 - total_loss: 0.8588 - val_root_mean_squared_error: 0.9492 - val_loss: 0.9585 - val_regularization_loss: 0.0000e+00 - val_total_loss: 0.9585\n",
      "Epoch 8/100\n",
      "79/79 [==============================] - 1s 16ms/step - root_mean_squared_error: 0.0000e+00 - loss: 0.8552 - regularization_loss: 0.0000e+00 - total_loss: 0.8552 - val_root_mean_squared_error: 0.9483 - val_loss: 0.9566 - val_regularization_loss: 0.0000e+00 - val_total_loss: 0.9566\n",
      "Epoch 9/100\n",
      "79/79 [==============================] - 1s 16ms/step - root_mean_squared_error: 0.0000e+00 - loss: 0.8521 - regularization_loss: 0.0000e+00 - total_loss: 0.8521 - val_root_mean_squared_error: 0.9474 - val_loss: 0.9544 - val_regularization_loss: 0.0000e+00 - val_total_loss: 0.9544\n",
      "Epoch 10/100\n",
      "79/79 [==============================] - 1s 16ms/step - root_mean_squared_error: 0.0000e+00 - loss: 0.8493 - regularization_loss: 0.0000e+00 - total_loss: 0.8493 - val_root_mean_squared_error: 0.9466 - val_loss: 0.9524 - val_regularization_loss: 0.0000e+00 - val_total_loss: 0.9524\n",
      "Epoch 11/100\n",
      "79/79 [==============================] - 1s 17ms/step - root_mean_squared_error: 0.0000e+00 - loss: 0.8465 - regularization_loss: 0.0000e+00 - total_loss: 0.8465 - val_root_mean_squared_error: 0.9459 - val_loss: 0.9509 - val_regularization_loss: 0.0000e+00 - val_total_loss: 0.9509\n",
      "Epoch 12/100\n",
      "79/79 [==============================] - 1s 17ms/step - root_mean_squared_error: 0.0000e+00 - loss: 0.8431 - regularization_loss: 0.0000e+00 - total_loss: 0.8431 - val_root_mean_squared_error: 0.9450 - val_loss: 0.9492 - val_regularization_loss: 0.0000e+00 - val_total_loss: 0.9492\n",
      "Epoch 13/100\n",
      "79/79 [==============================] - 1s 16ms/step - root_mean_squared_error: 0.0000e+00 - loss: 0.8389 - regularization_loss: 0.0000e+00 - total_loss: 0.8389 - val_root_mean_squared_error: 0.9440 - val_loss: 0.9473 - val_regularization_loss: 0.0000e+00 - val_total_loss: 0.9473\n",
      "Epoch 14/100\n",
      "79/79 [==============================] - 1s 18ms/step - root_mean_squared_error: 0.0000e+00 - loss: 0.8337 - regularization_loss: 0.0000e+00 - total_loss: 0.8337 - val_root_mean_squared_error: 0.9425 - val_loss: 0.9442 - val_regularization_loss: 0.0000e+00 - val_total_loss: 0.9442\n",
      "Epoch 15/100\n",
      "79/79 [==============================] - 1s 18ms/step - root_mean_squared_error: 0.0000e+00 - loss: 0.8282 - regularization_loss: 0.0000e+00 - total_loss: 0.8282 - val_root_mean_squared_error: 0.9410 - val_loss: 0.9412 - val_regularization_loss: 0.0000e+00 - val_total_loss: 0.9412\n",
      "Epoch 16/100\n",
      "79/79 [==============================] - 1s 17ms/step - root_mean_squared_error: 0.0000e+00 - loss: 0.8232 - regularization_loss: 0.0000e+00 - total_loss: 0.8232 - val_root_mean_squared_error: 0.9401 - val_loss: 0.9390 - val_regularization_loss: 0.0000e+00 - val_total_loss: 0.9390\n",
      "Epoch 17/100\n",
      "79/79 [==============================] - 1s 16ms/step - root_mean_squared_error: 0.0000e+00 - loss: 0.8193 - regularization_loss: 0.0000e+00 - total_loss: 0.8193 - val_root_mean_squared_error: 0.9390 - val_loss: 0.9363 - val_regularization_loss: 0.0000e+00 - val_total_loss: 0.9363\n",
      "Epoch 18/100\n",
      "79/79 [==============================] - 1s 17ms/step - root_mean_squared_error: 0.0000e+00 - loss: 0.8162 - regularization_loss: 0.0000e+00 - total_loss: 0.8162 - val_root_mean_squared_error: 0.9382 - val_loss: 0.9338 - val_regularization_loss: 0.0000e+00 - val_total_loss: 0.9338\n",
      "Epoch 19/100\n",
      "79/79 [==============================] - 1s 17ms/step - root_mean_squared_error: 0.0000e+00 - loss: 0.8136 - regularization_loss: 0.0000e+00 - total_loss: 0.8136 - val_root_mean_squared_error: 0.9375 - val_loss: 0.9321 - val_regularization_loss: 0.0000e+00 - val_total_loss: 0.9321\n",
      "Epoch 20/100\n",
      "79/79 [==============================] - 1s 16ms/step - root_mean_squared_error: 0.0000e+00 - loss: 0.8114 - regularization_loss: 0.0000e+00 - total_loss: 0.8114 - val_root_mean_squared_error: 0.9372 - val_loss: 0.9311 - val_regularization_loss: 0.0000e+00 - val_total_loss: 0.9311\n",
      "Epoch 21/100\n",
      "79/79 [==============================] - 1s 17ms/step - root_mean_squared_error: 0.0000e+00 - loss: 0.8095 - regularization_loss: 0.0000e+00 - total_loss: 0.8095 - val_root_mean_squared_error: 0.9372 - val_loss: 0.9313 - val_regularization_loss: 0.0000e+00 - val_total_loss: 0.9313\n",
      "Epoch 22/100\n",
      "79/79 [==============================] - 1s 18ms/step - root_mean_squared_error: 0.0000e+00 - loss: 0.8076 - regularization_loss: 0.0000e+00 - total_loss: 0.8076 - val_root_mean_squared_error: 0.9374 - val_loss: 0.9321 - val_regularization_loss: 0.0000e+00 - val_total_loss: 0.9321\n",
      "Epoch 23/100\n",
      "79/79 [==============================] - 1s 16ms/step - root_mean_squared_error: 0.0000e+00 - loss: 0.8058 - regularization_loss: 0.0000e+00 - total_loss: 0.8058 - val_root_mean_squared_error: 0.9371 - val_loss: 0.9319 - val_regularization_loss: 0.0000e+00 - val_total_loss: 0.9319\n"
     ]
    }
   ],
   "source": [
    "ranking_ratings_trainset = ratings_trainset.shuffle(100_000).batch(1024).cache()\n",
    "ranking_ratings_validset = ratings_validset.batch(1024).cache()\n",
    "\n",
    "early_stopping_callback = tf.keras.callbacks.EarlyStopping(\n",
    "    monitor = 'val_loss',\n",
    "    patience = 3\n",
    ")\n",
    "\n",
    "# Ranking\n",
    "optimizer = tf.keras.optimizers.Adagrad(learning_rate = 0.1)\n",
    "ranking_model.compile(optimizer = optimizer)\n",
    "history = ranking_model.fit(\n",
    "    ranking_ratings_trainset,\n",
    "    validation_data = ranking_ratings_validset,\n",
    "    validation_freq = 1,\n",
    "    epochs = 100,\n",
    "    callbacks = [\n",
    "        early_stopping_callback\n",
    "    ]\n",
    ")"
   ]
  },
  {
   "cell_type": "code",
   "execution_count": 11,
   "metadata": {},
   "outputs": [
    {
     "data": {
      "image/png": "[encoded data removed]",
      "text/plain": [
       "<Figure size 640x480 with 1 Axes>"
      ]
     },
     "metadata": {},
     "output_type": "display_data"
    }
   ],
   "source": [
    "# Plot loss\n",
    "plt.plot(history.history[\"loss\"])\n",
    "plt.plot(history.history[\"val_loss\"])\n",
    "plt.title(\"Model losses during training\")\n",
    "plt.xlabel(\"epoch\")\n",
    "plt.ylabel(\"loss\")\n",
    "plt.legend([\"train\", \"test\"], loc=\"upper right\")\n",
    "plt.show()"
   ]
  },
  {
   "cell_type": "code",
   "execution_count": 12,
   "metadata": {},
   "outputs": [
    {
     "name": "stdout",
     "output_type": "stream",
     "text": [
      "Prediction for movie_id 1681: [[3.8276494]]\n",
      "Prediction for movie_id 1457: [[3.8618286]]\n",
      "Prediction for movie_id 500: [[4.40378]]\n",
      "Prediction for movie_id 838: [[2.448929]]\n",
      "Prediction for movie_id xxx: [[3.2560005]]\n"
     ]
    }
   ],
   "source": [
    "movie_ids = ['1681', '1457', '500', '838', 'xxx']\n",
    "for movie_id in movie_ids:\n",
    "  pred = ranking_model({\n",
    "      \"user_id\": tf.convert_to_tensor([\"1\"]),\n",
    "      \"movie_id\": tf.convert_to_tensor([movie_id]),\n",
    "      \"movie_title\": tf.convert_to_tensor([\"God Father\"])\n",
    "  })\n",
    "  print(f\"Prediction for movie_id {movie_id}: {pred}\")"
   ]
  },
  {
   "cell_type": "code",
   "execution_count": null,
   "metadata": {},
   "outputs": [],
   "source": []
  }
 ],
 "metadata": {
  "kernelspec": {
   "display_name": ".venv",
   "language": "python",
   "name": "python3"
  },
  "language_info": {
   "codemirror_mode": {
    "name": "ipython",
    "version": 3
   },
   "file_extension": ".py",
   "mimetype": "text/x-python",
   "name": "python",
   "nbconvert_exporter": "python",
   "pygments_lexer": "ipython3",
   "version": "3.10.12"
  }
 },
 "nbformat": 4,
 "nbformat_minor": 2
}
