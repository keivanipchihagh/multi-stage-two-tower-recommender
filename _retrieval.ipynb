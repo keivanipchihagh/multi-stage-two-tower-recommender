{
 "cells": [
  {
   "cell_type": "code",
   "execution_count": 1,
   "metadata": {},
   "outputs": [],
   "source": [
    "# Use legacy Keras\n",
    "import os\n",
    "os.environ['TF_USE_LEGACY_KERAS'] = '1'"
   ]
  },
  {
   "cell_type": "code",
   "execution_count": 2,
   "metadata": {},
   "outputs": [
    {
     "name": "stderr",
     "output_type": "stream",
     "text": [
      "2024-08-28 17:25:18.011658: E external/local_xla/xla/stream_executor/cuda/cuda_fft.cc:485] Unable to register cuFFT factory: Attempting to register factory for plugin cuFFT when one has already been registered\n",
      "2024-08-28 17:25:18.027964: E external/local_xla/xla/stream_executor/cuda/cuda_dnn.cc:8454] Unable to register cuDNN factory: Attempting to register factory for plugin cuDNN when one has already been registered\n",
      "2024-08-28 17:25:18.032061: E external/local_xla/xla/stream_executor/cuda/cuda_blas.cc:1452] Unable to register cuBLAS factory: Attempting to register factory for plugin cuBLAS when one has already been registered\n",
      "2024-08-28 17:25:18.044552: I tensorflow/core/platform/cpu_feature_guard.cc:210] This TensorFlow binary is optimized to use available CPU instructions in performance-critical operations.\n",
      "To enable the following instructions: AVX2 FMA, in other operations, rebuild TensorFlow with the appropriate compiler flags.\n",
      "2024-08-28 17:25:19.059780: W tensorflow/compiler/tf2tensorrt/utils/py_utils.cc:38] TF-TRT Warning: Could not find TensorRT\n"
     ]
    }
   ],
   "source": [
    "from typing import Dict, Text\n",
    "\n",
    "import keras\n",
    "import numpy as np\n",
    "import tensorflow as tf\n",
    "from matplotlib import pyplot as plt\n",
    "\n",
    "import tensorflow_datasets as tfds\n",
    "import tensorflow_recommenders as tfrs\n",
    "\n",
    "RANDOM_STATE = 42\n",
    "\n",
    "tf.random.set_seed(RANDOM_STATE)"
   ]
  },
  {
   "cell_type": "markdown",
   "metadata": {},
   "source": [
    "## Preprocess"
   ]
  },
  {
   "cell_type": "markdown",
   "metadata": {},
   "source": [
    "### Download Datasets"
   ]
  },
  {
   "cell_type": "code",
   "execution_count": 3,
   "metadata": {},
   "outputs": [
    {
     "name": "stderr",
     "output_type": "stream",
     "text": [
      "WARNING: All log messages before absl::InitializeLog() is called are written to STDERR\n",
      "I0000 00:00:1724853320.942537  199471 cuda_executor.cc:1001] could not open file to read NUMA node: /sys/bus/pci/devices/0000:01:00.0/numa_node\n",
      "Your kernel may have been built without NUMA support.\n",
      "I0000 00:00:1724853320.974534  199471 cuda_executor.cc:1001] could not open file to read NUMA node: /sys/bus/pci/devices/0000:01:00.0/numa_node\n",
      "Your kernel may have been built without NUMA support.\n",
      "I0000 00:00:1724853320.974635  199471 cuda_executor.cc:1001] could not open file to read NUMA node: /sys/bus/pci/devices/0000:01:00.0/numa_node\n",
      "Your kernel may have been built without NUMA support.\n",
      "I0000 00:00:1724853320.978813  199471 cuda_executor.cc:1001] could not open file to read NUMA node: /sys/bus/pci/devices/0000:01:00.0/numa_node\n",
      "Your kernel may have been built without NUMA support.\n",
      "I0000 00:00:1724853320.978916  199471 cuda_executor.cc:1001] could not open file to read NUMA node: /sys/bus/pci/devices/0000:01:00.0/numa_node\n",
      "Your kernel may have been built without NUMA support.\n",
      "I0000 00:00:1724853320.978957  199471 cuda_executor.cc:1001] could not open file to read NUMA node: /sys/bus/pci/devices/0000:01:00.0/numa_node\n",
      "Your kernel may have been built without NUMA support.\n",
      "I0000 00:00:1724853321.127876  199471 cuda_executor.cc:1001] could not open file to read NUMA node: /sys/bus/pci/devices/0000:01:00.0/numa_node\n",
      "Your kernel may have been built without NUMA support.\n",
      "I0000 00:00:1724853321.127976  199471 cuda_executor.cc:1001] could not open file to read NUMA node: /sys/bus/pci/devices/0000:01:00.0/numa_node\n",
      "Your kernel may have been built without NUMA support.\n",
      "2024-08-28 17:25:21.127989: I tensorflow/core/common_runtime/gpu/gpu_device.cc:2112] Could not identify NUMA node of platform GPU id 0, defaulting to 0.  Your kernel may not have been built with NUMA support.\n",
      "I0000 00:00:1724853321.128054  199471 cuda_executor.cc:1001] could not open file to read NUMA node: /sys/bus/pci/devices/0000:01:00.0/numa_node\n",
      "Your kernel may have been built without NUMA support.\n",
      "2024-08-28 17:25:21.128077: I tensorflow/core/common_runtime/gpu/gpu_device.cc:2021] Created device /job:localhost/replica:0/task:0/device:GPU:0 with 3586 MB memory:  -> device: 0, name: NVIDIA GeForce RTX 3060 Laptop GPU, pci bus id: 0000:01:00.0, compute capability: 8.6\n"
     ]
    },
    {
     "name": "stdout",
     "output_type": "stream",
     "text": [
      "Ratings count: 100000\n",
      "Movies count: 1682\n"
     ]
    }
   ],
   "source": [
    "# Download the dataset and cache them as `tfrecord`\n",
    "\n",
    "ratings_dataset, ratings_dataset_info = tfds.load(\n",
    "    # Options: '25m-ratings', 'latest-small-ratings', '100k-ratings', '1m-ratings', '20m-ratings'\n",
    "    name = 'movielens/100k-ratings',\n",
    "    # MovieLense has only the `train` split.\n",
    "    split = 'train',\n",
    "    # Include metadata like version, description, homepage, citation, etc.\n",
    "    with_info = True\n",
    ")\n",
    "print(f\"Ratings count:\", ratings_dataset.__len__().numpy())\n",
    "\n",
    "movies_dataset, movies_dataset_info = tfds.load(\n",
    "    # Options: '25m-movies', 'latest-small-movies', '100k-movies', '1m-movies', '20m-movies'\n",
    "    name = 'movielens/100k-movies',\n",
    "    # MovieLense has only the `train` split.\n",
    "    split = 'train',\n",
    "    # Include metadata like version, description, homepage, citation, etc.\n",
    "    with_info = True\n",
    ")\n",
    "print(f\"Movies count:\", movies_dataset.__len__().numpy())"
   ]
  },
  {
   "cell_type": "markdown",
   "metadata": {},
   "source": [
    "### Feature Selection"
   ]
  },
  {
   "cell_type": "code",
   "execution_count": 4,
   "metadata": {},
   "outputs": [],
   "source": [
    "# Feature selection\n",
    "ratings_dataset = ratings_dataset.map(\n",
    "    lambda rating: {\n",
    "        # `user_id` is useful as a user identifier.\n",
    "        'user_id': rating['user_id'],\n",
    "        # `movie_id` is useful as a movie identifier.\n",
    "        'movie_id': rating['movie_id'],\n",
    "        # `movie_title` is useful as a textual information about the movie.\n",
    "        'movie_title': rating['movie_title'],\n",
    "        # `user_rating` shows the user's level of interest to a movie.\n",
    "        'user_rating': rating['user_rating'],\n",
    "        # `timestamp` will allow us to model the effect of time.\n",
    "        'timestamp': rating['timestamp']\n",
    "    }\n",
    ")"
   ]
  },
  {
   "cell_type": "markdown",
   "metadata": {},
   "source": [
    "### Dataset Splitting"
   ]
  },
  {
   "cell_type": "code",
   "execution_count": 5,
   "metadata": {},
   "outputs": [
    {
     "name": "stdout",
     "output_type": "stream",
     "text": [
      "trainset_size: 80000\n",
      "validset_size: 20000\n"
     ]
    }
   ],
   "source": [
    "# Shuffle the elements of the dataset randomly.\n",
    "ratings_dataset_shuffled = ratings_dataset.shuffle(\n",
    "    # The new dataset will be sampled from a buffer window of first `buffer_size`\n",
    "    # elements of the dataset\n",
    "    buffer_size = 100_000,\n",
    "    # The random seed used to create the distribution.\n",
    "    seed = RANDOM_STATE,\n",
    "    # `list(dataset.as_numpy_iterator()` yields different result for each call\n",
    "    # Because reshuffle_each_iteration defaults to True.\n",
    "    reshuffle_each_iteration = False\n",
    ")\n",
    "\n",
    "# Split dataset randomly (80% for training and 20% for validation)\n",
    "trainset_size: int  = 0.8 * ratings_dataset.__len__().numpy()\n",
    "\n",
    "ratings_trainset = ratings_dataset_shuffled.take(trainset_size)\n",
    "ratings_validset = ratings_dataset_shuffled.skip(trainset_size)\n",
    "\n",
    "print(f\"trainset_size:\", ratings_trainset.__len__().numpy())\n",
    "print(f\"validset_size:\", ratings_validset.__len__().numpy())"
   ]
  },
  {
   "cell_type": "code",
   "execution_count": 6,
   "metadata": {},
   "outputs": [],
   "source": [
    "# Create implicit ratings for Retieval\n",
    "retrieval_ratings_trainset = ratings_trainset.map(\n",
    "    lambda rating: {\n",
    "        'user_id': rating['user_id'],\n",
    "        'movie_id': rating['movie_id'],\n",
    "        'movie_title': rating['movie_title'],\n",
    "    }\n",
    ")"
   ]
  },
  {
   "cell_type": "code",
   "execution_count": 7,
   "metadata": {},
   "outputs": [
    {
     "name": "stdout",
     "output_type": "stream",
     "text": [
      "[INFO - 2024-08-28 17:28:00]\t`MovieEmbeddingModel.__create_id_embedding_layer()` executed in 157.8 seconds.\n",
      "[INFO - 2024-08-28 17:34:51]\t`MovieEmbeddingModel.__create_title_embedding_layer()` executed in 411.2 seconds.\n",
      "[INFO - 2024-08-28 17:37:51]\t`UserEmbeddingModel.__create_id_embedding_layer()` executed in 179.5 seconds.\n"
     ]
    }
   ],
   "source": [
    "from src.towers.query import QueryTower\n",
    "from src.towers.candidate import CandidateTower\n",
    "from src.retrieval import RetrievalModel\n",
    "\n",
    "candidate_tower = CandidateTower(\n",
    "    dataset = retrieval_ratings_trainset,\n",
    "    embedding_dim = 4\n",
    ")\n",
    "\n",
    "query_tower = QueryTower(\n",
    "    dataset = retrieval_ratings_trainset,\n",
    "    embedding_dim = 4\n",
    ")"
   ]
  },
  {
   "cell_type": "code",
   "execution_count": 8,
   "metadata": {},
   "outputs": [],
   "source": [
    "# We are using just `movie_id` feature for making the candidates representation\n",
    "candidates_corpus_dataset = movies_dataset.map(\n",
    "    lambda movie: {\n",
    "        'movie_id': movie['movie_id'],\n",
    "        'movie_title': movie['movie_title']\n",
    "    }\n",
    ")\n",
    "\n",
    "retrieval_ratings_validset = ratings_dataset.map(\n",
    "    lambda rating: {\n",
    "        'user_id': rating['user_id'],\n",
    "        'movie_id': rating['movie_id'],\n",
    "    }\n",
    ")\n",
    "\n",
    "factorized_top_k_metrics = tfrs.metrics.FactorizedTopK(\n",
    "    # dataset of candidate embeddings from which candidates should be retrieved\n",
    "    candidates = candidates_corpus_dataset.batch(128).map(\n",
    "        candidate_tower\n",
    "    )\n",
    ")"
   ]
  },
  {
   "cell_type": "code",
   "execution_count": 9,
   "metadata": {},
   "outputs": [],
   "source": [
    "# The task computes the metrics and return the in-batch softmax loss.\n",
    "# Because the metrics range over the entire candidate set, they are usually much\n",
    "# slower to compute. Consider setting `compute_metrics=False` in Retrieval\n",
    "# costructor during training to save the time in computing the metrics.\n",
    "retrieval_task_layer = tfrs.tasks.Retrieval(\n",
    "    metrics = factorized_top_k_metrics\n",
    ")\n",
    "retrieval_model = RetrievalModel(\n",
    "    query_tower = query_tower,\n",
    "    candidate_tower = candidate_tower,\n",
    "    task = retrieval_task_layer\n",
    ")"
   ]
  },
  {
   "cell_type": "code",
   "execution_count": 10,
   "metadata": {},
   "outputs": [],
   "source": [
    "optimizer = tf.keras.optimizers.Adagrad(learning_rate = 0.1)\n",
    "retrieval_model.compile(optimizer = optimizer)"
   ]
  },
  {
   "cell_type": "code",
   "execution_count": 12,
   "metadata": {},
   "outputs": [
    {
     "name": "stdout",
     "output_type": "stream",
     "text": [
      "Epoch 1/100\n"
     ]
    },
    {
     "name": "stdout",
     "output_type": "stream",
     "text": [
      "79/79 [==============================] - ETA: 0s - factorized_top_k/top_1_categorical_accuracy: 0.0000e+00 - factorized_top_k/top_5_categorical_accuracy: 0.0000e+00 - factorized_top_k/top_10_categorical_accuracy: 0.0000e+00 - factorized_top_k/top_50_categorical_accuracy: 0.0000e+00 - factorized_top_k/top_100_categorical_accuracy: 0.0000e+00 - loss: 6794.4842 - regularization_loss: 0.0000e+00 - total_loss: 6794.4842WARNING:tensorflow:Early stopping conditioned on metric `val_loss` which is not available. Available metrics are: factorized_top_k/top_1_categorical_accuracy,factorized_top_k/top_5_categorical_accuracy,factorized_top_k/top_10_categorical_accuracy,factorized_top_k/top_50_categorical_accuracy,factorized_top_k/top_100_categorical_accuracy,loss,regularization_loss,total_loss\n"
     ]
    },
    {
     "name": "stderr",
     "output_type": "stream",
     "text": [
      "WARNING:tensorflow:Early stopping conditioned on metric `val_loss` which is not available. Available metrics are: factorized_top_k/top_1_categorical_accuracy,factorized_top_k/top_5_categorical_accuracy,factorized_top_k/top_10_categorical_accuracy,factorized_top_k/top_50_categorical_accuracy,factorized_top_k/top_100_categorical_accuracy,loss,regularization_loss,total_loss\n"
     ]
    },
    {
     "name": "stdout",
     "output_type": "stream",
     "text": [
      "79/79 [==============================] - 11s 43ms/step - factorized_top_k/top_1_categorical_accuracy: 0.0000e+00 - factorized_top_k/top_5_categorical_accuracy: 0.0000e+00 - factorized_top_k/top_10_categorical_accuracy: 0.0000e+00 - factorized_top_k/top_50_categorical_accuracy: 0.0000e+00 - factorized_top_k/top_100_categorical_accuracy: 0.0000e+00 - loss: 6716.7607 - regularization_loss: 0.0000e+00 - total_loss: 6716.7607\n",
      "Epoch 2/100\n",
      "76/79 [===========================>..] - ETA: 0s - factorized_top_k/top_1_categorical_accuracy: 0.0000e+00 - factorized_top_k/top_5_categorical_accuracy: 0.0000e+00 - factorized_top_k/top_10_categorical_accuracy: 0.0000e+00 - factorized_top_k/top_50_categorical_accuracy: 0.0000e+00 - factorized_top_k/top_100_categorical_accuracy: 0.0000e+00 - loss: 6813.2402 - regularization_loss: 0.0000e+00 - total_loss: 6813.2402WARNING:tensorflow:Early stopping conditioned on metric `val_loss` which is not available. Available metrics are: factorized_top_k/top_1_categorical_accuracy,factorized_top_k/top_5_categorical_accuracy,factorized_top_k/top_10_categorical_accuracy,factorized_top_k/top_50_categorical_accuracy,factorized_top_k/top_100_categorical_accuracy,loss,regularization_loss,total_loss\n"
     ]
    },
    {
     "name": "stderr",
     "output_type": "stream",
     "text": [
      "WARNING:tensorflow:Early stopping conditioned on metric `val_loss` which is not available. Available metrics are: factorized_top_k/top_1_categorical_accuracy,factorized_top_k/top_5_categorical_accuracy,factorized_top_k/top_10_categorical_accuracy,factorized_top_k/top_50_categorical_accuracy,factorized_top_k/top_100_categorical_accuracy,loss,regularization_loss,total_loss\n"
     ]
    },
    {
     "name": "stdout",
     "output_type": "stream",
     "text": [
      "79/79 [==============================] - 1s 14ms/step - factorized_top_k/top_1_categorical_accuracy: 0.0000e+00 - factorized_top_k/top_5_categorical_accuracy: 0.0000e+00 - factorized_top_k/top_10_categorical_accuracy: 0.0000e+00 - factorized_top_k/top_50_categorical_accuracy: 0.0000e+00 - factorized_top_k/top_100_categorical_accuracy: 0.0000e+00 - loss: 6656.4671 - regularization_loss: 0.0000e+00 - total_loss: 6656.4671\n",
      "Epoch 3/100\n",
      "77/79 [============================>.] - ETA: 0s - factorized_top_k/top_1_categorical_accuracy: 0.0000e+00 - factorized_top_k/top_5_categorical_accuracy: 0.0000e+00 - factorized_top_k/top_10_categorical_accuracy: 0.0000e+00 - factorized_top_k/top_50_categorical_accuracy: 0.0000e+00 - factorized_top_k/top_100_categorical_accuracy: 0.0000e+00 - loss: 6772.4621 - regularization_loss: 0.0000e+00 - total_loss: 6772.4621WARNING:tensorflow:Early stopping conditioned on metric `val_loss` which is not available. Available metrics are: factorized_top_k/top_1_categorical_accuracy,factorized_top_k/top_5_categorical_accuracy,factorized_top_k/top_10_categorical_accuracy,factorized_top_k/top_50_categorical_accuracy,factorized_top_k/top_100_categorical_accuracy,loss,regularization_loss,total_loss\n"
     ]
    },
    {
     "name": "stderr",
     "output_type": "stream",
     "text": [
      "WARNING:tensorflow:Early stopping conditioned on metric `val_loss` which is not available. Available metrics are: factorized_top_k/top_1_categorical_accuracy,factorized_top_k/top_5_categorical_accuracy,factorized_top_k/top_10_categorical_accuracy,factorized_top_k/top_50_categorical_accuracy,factorized_top_k/top_100_categorical_accuracy,loss,regularization_loss,total_loss\n"
     ]
    },
    {
     "name": "stdout",
     "output_type": "stream",
     "text": [
      "79/79 [==============================] - 1s 14ms/step - factorized_top_k/top_1_categorical_accuracy: 0.0000e+00 - factorized_top_k/top_5_categorical_accuracy: 0.0000e+00 - factorized_top_k/top_10_categorical_accuracy: 0.0000e+00 - factorized_top_k/top_50_categorical_accuracy: 0.0000e+00 - factorized_top_k/top_100_categorical_accuracy: 0.0000e+00 - loss: 6617.0999 - regularization_loss: 0.0000e+00 - total_loss: 6617.0999\n",
      "Epoch 4/100\n",
      "78/79 [============================>.] - ETA: 0s - factorized_top_k/top_1_categorical_accuracy: 0.0000e+00 - factorized_top_k/top_5_categorical_accuracy: 0.0000e+00 - factorized_top_k/top_10_categorical_accuracy: 0.0000e+00 - factorized_top_k/top_50_categorical_accuracy: 0.0000e+00 - factorized_top_k/top_100_categorical_accuracy: 0.0000e+00 - loss: 6742.8916 - regularization_loss: 0.0000e+00 - total_loss: 6742.8916WARNING:tensorflow:Early stopping conditioned on metric `val_loss` which is not available. Available metrics are: factorized_top_k/top_1_categorical_accuracy,factorized_top_k/top_5_categorical_accuracy,factorized_top_k/top_10_categorical_accuracy,factorized_top_k/top_50_categorical_accuracy,factorized_top_k/top_100_categorical_accuracy,loss,regularization_loss,total_loss\n"
     ]
    },
    {
     "name": "stderr",
     "output_type": "stream",
     "text": [
      "WARNING:tensorflow:Early stopping conditioned on metric `val_loss` which is not available. Available metrics are: factorized_top_k/top_1_categorical_accuracy,factorized_top_k/top_5_categorical_accuracy,factorized_top_k/top_10_categorical_accuracy,factorized_top_k/top_50_categorical_accuracy,factorized_top_k/top_100_categorical_accuracy,loss,regularization_loss,total_loss\n"
     ]
    },
    {
     "name": "stdout",
     "output_type": "stream",
     "text": [
      "79/79 [==============================] - 1s 15ms/step - factorized_top_k/top_1_categorical_accuracy: 0.0000e+00 - factorized_top_k/top_5_categorical_accuracy: 0.0000e+00 - factorized_top_k/top_10_categorical_accuracy: 0.0000e+00 - factorized_top_k/top_50_categorical_accuracy: 0.0000e+00 - factorized_top_k/top_100_categorical_accuracy: 0.0000e+00 - loss: 6588.3112 - regularization_loss: 0.0000e+00 - total_loss: 6588.3112\n",
      "Epoch 5/100\n",
      "78/79 [============================>.] - ETA: 0s - factorized_top_k/top_1_categorical_accuracy: 0.0000e+00 - factorized_top_k/top_5_categorical_accuracy: 0.0000e+00 - factorized_top_k/top_10_categorical_accuracy: 0.0000e+00 - factorized_top_k/top_50_categorical_accuracy: 0.0000e+00 - factorized_top_k/top_100_categorical_accuracy: 0.0000e+00 - loss: 6719.5280 - regularization_loss: 0.0000e+00 - total_loss: 6719.5280WARNING:tensorflow:Early stopping conditioned on metric `val_loss` which is not available. Available metrics are: factorized_top_k/top_1_categorical_accuracy,factorized_top_k/top_5_categorical_accuracy,factorized_top_k/top_10_categorical_accuracy,factorized_top_k/top_50_categorical_accuracy,factorized_top_k/top_100_categorical_accuracy,loss,regularization_loss,total_loss\n"
     ]
    },
    {
     "name": "stderr",
     "output_type": "stream",
     "text": [
      "WARNING:tensorflow:Early stopping conditioned on metric `val_loss` which is not available. Available metrics are: factorized_top_k/top_1_categorical_accuracy,factorized_top_k/top_5_categorical_accuracy,factorized_top_k/top_10_categorical_accuracy,factorized_top_k/top_50_categorical_accuracy,factorized_top_k/top_100_categorical_accuracy,loss,regularization_loss,total_loss\n"
     ]
    },
    {
     "name": "stdout",
     "output_type": "stream",
     "text": [
      "79/79 [==============================] - 1s 16ms/step - factorized_top_k/top_1_categorical_accuracy: 0.0000e+00 - factorized_top_k/top_5_categorical_accuracy: 0.0000e+00 - factorized_top_k/top_10_categorical_accuracy: 0.0000e+00 - factorized_top_k/top_50_categorical_accuracy: 0.0000e+00 - factorized_top_k/top_100_categorical_accuracy: 0.0000e+00 - loss: 6565.4864 - regularization_loss: 0.0000e+00 - total_loss: 6565.4864\n",
      "Epoch 6/100\n",
      "76/79 [===========================>..] - ETA: 0s - factorized_top_k/top_1_categorical_accuracy: 0.0000e+00 - factorized_top_k/top_5_categorical_accuracy: 0.0000e+00 - factorized_top_k/top_10_categorical_accuracy: 0.0000e+00 - factorized_top_k/top_50_categorical_accuracy: 0.0000e+00 - factorized_top_k/top_100_categorical_accuracy: 0.0000e+00 - loss: 6705.6494 - regularization_loss: 0.0000e+00 - total_loss: 6705.6494WARNING:tensorflow:Early stopping conditioned on metric `val_loss` which is not available. Available metrics are: factorized_top_k/top_1_categorical_accuracy,factorized_top_k/top_5_categorical_accuracy,factorized_top_k/top_10_categorical_accuracy,factorized_top_k/top_50_categorical_accuracy,factorized_top_k/top_100_categorical_accuracy,loss,regularization_loss,total_loss\n"
     ]
    },
    {
     "name": "stderr",
     "output_type": "stream",
     "text": [
      "WARNING:tensorflow:Early stopping conditioned on metric `val_loss` which is not available. Available metrics are: factorized_top_k/top_1_categorical_accuracy,factorized_top_k/top_5_categorical_accuracy,factorized_top_k/top_10_categorical_accuracy,factorized_top_k/top_50_categorical_accuracy,factorized_top_k/top_100_categorical_accuracy,loss,regularization_loss,total_loss\n"
     ]
    },
    {
     "name": "stdout",
     "output_type": "stream",
     "text": [
      "79/79 [==============================] - 1s 19ms/step - factorized_top_k/top_1_categorical_accuracy: 0.0000e+00 - factorized_top_k/top_5_categorical_accuracy: 0.0000e+00 - factorized_top_k/top_10_categorical_accuracy: 0.0000e+00 - factorized_top_k/top_50_categorical_accuracy: 0.0000e+00 - factorized_top_k/top_100_categorical_accuracy: 0.0000e+00 - loss: 6551.4315 - regularization_loss: 0.0000e+00 - total_loss: 6551.4315\n",
      "Epoch 7/100\n",
      "76/79 [===========================>..] - ETA: 0s - factorized_top_k/top_1_categorical_accuracy: 0.0000e+00 - factorized_top_k/top_5_categorical_accuracy: 0.0000e+00 - factorized_top_k/top_10_categorical_accuracy: 0.0000e+00 - factorized_top_k/top_50_categorical_accuracy: 0.0000e+00 - factorized_top_k/top_100_categorical_accuracy: 0.0000e+00 - loss: 6696.0849 - regularization_loss: 0.0000e+00 - total_loss: 6696.0849WARNING:tensorflow:Early stopping conditioned on metric `val_loss` which is not available. Available metrics are: factorized_top_k/top_1_categorical_accuracy,factorized_top_k/top_5_categorical_accuracy,factorized_top_k/top_10_categorical_accuracy,factorized_top_k/top_50_categorical_accuracy,factorized_top_k/top_100_categorical_accuracy,loss,regularization_loss,total_loss\n"
     ]
    },
    {
     "name": "stderr",
     "output_type": "stream",
     "text": [
      "WARNING:tensorflow:Early stopping conditioned on metric `val_loss` which is not available. Available metrics are: factorized_top_k/top_1_categorical_accuracy,factorized_top_k/top_5_categorical_accuracy,factorized_top_k/top_10_categorical_accuracy,factorized_top_k/top_50_categorical_accuracy,factorized_top_k/top_100_categorical_accuracy,loss,regularization_loss,total_loss\n"
     ]
    },
    {
     "name": "stdout",
     "output_type": "stream",
     "text": [
      "79/79 [==============================] - 1s 17ms/step - factorized_top_k/top_1_categorical_accuracy: 0.0000e+00 - factorized_top_k/top_5_categorical_accuracy: 0.0000e+00 - factorized_top_k/top_10_categorical_accuracy: 0.0000e+00 - factorized_top_k/top_50_categorical_accuracy: 0.0000e+00 - factorized_top_k/top_100_categorical_accuracy: 0.0000e+00 - loss: 6542.1017 - regularization_loss: 0.0000e+00 - total_loss: 6542.1017\n",
      "Epoch 8/100\n",
      "76/79 [===========================>..] - ETA: 0s - factorized_top_k/top_1_categorical_accuracy: 0.0000e+00 - factorized_top_k/top_5_categorical_accuracy: 0.0000e+00 - factorized_top_k/top_10_categorical_accuracy: 0.0000e+00 - factorized_top_k/top_50_categorical_accuracy: 0.0000e+00 - factorized_top_k/top_100_categorical_accuracy: 0.0000e+00 - loss: 6689.1142 - regularization_loss: 0.0000e+00 - total_loss: 6689.1142WARNING:tensorflow:Early stopping conditioned on metric `val_loss` which is not available. Available metrics are: factorized_top_k/top_1_categorical_accuracy,factorized_top_k/top_5_categorical_accuracy,factorized_top_k/top_10_categorical_accuracy,factorized_top_k/top_50_categorical_accuracy,factorized_top_k/top_100_categorical_accuracy,loss,regularization_loss,total_loss\n"
     ]
    },
    {
     "name": "stderr",
     "output_type": "stream",
     "text": [
      "WARNING:tensorflow:Early stopping conditioned on metric `val_loss` which is not available. Available metrics are: factorized_top_k/top_1_categorical_accuracy,factorized_top_k/top_5_categorical_accuracy,factorized_top_k/top_10_categorical_accuracy,factorized_top_k/top_50_categorical_accuracy,factorized_top_k/top_100_categorical_accuracy,loss,regularization_loss,total_loss\n"
     ]
    },
    {
     "name": "stdout",
     "output_type": "stream",
     "text": [
      "79/79 [==============================] - 1s 18ms/step - factorized_top_k/top_1_categorical_accuracy: 0.0000e+00 - factorized_top_k/top_5_categorical_accuracy: 0.0000e+00 - factorized_top_k/top_10_categorical_accuracy: 0.0000e+00 - factorized_top_k/top_50_categorical_accuracy: 0.0000e+00 - factorized_top_k/top_100_categorical_accuracy: 0.0000e+00 - loss: 6535.2966 - regularization_loss: 0.0000e+00 - total_loss: 6535.2966\n",
      "Epoch 9/100\n",
      "78/79 [============================>.] - ETA: 0s - factorized_top_k/top_1_categorical_accuracy: 0.0000e+00 - factorized_top_k/top_5_categorical_accuracy: 0.0000e+00 - factorized_top_k/top_10_categorical_accuracy: 0.0000e+00 - factorized_top_k/top_50_categorical_accuracy: 0.0000e+00 - factorized_top_k/top_100_categorical_accuracy: 0.0000e+00 - loss: 6683.0711 - regularization_loss: 0.0000e+00 - total_loss: 6683.0711WARNING:tensorflow:Early stopping conditioned on metric `val_loss` which is not available. Available metrics are: factorized_top_k/top_1_categorical_accuracy,factorized_top_k/top_5_categorical_accuracy,factorized_top_k/top_10_categorical_accuracy,factorized_top_k/top_50_categorical_accuracy,factorized_top_k/top_100_categorical_accuracy,loss,regularization_loss,total_loss\n"
     ]
    },
    {
     "name": "stderr",
     "output_type": "stream",
     "text": [
      "WARNING:tensorflow:Early stopping conditioned on metric `val_loss` which is not available. Available metrics are: factorized_top_k/top_1_categorical_accuracy,factorized_top_k/top_5_categorical_accuracy,factorized_top_k/top_10_categorical_accuracy,factorized_top_k/top_50_categorical_accuracy,factorized_top_k/top_100_categorical_accuracy,loss,regularization_loss,total_loss\n"
     ]
    },
    {
     "name": "stdout",
     "output_type": "stream",
     "text": [
      "79/79 [==============================] - 1s 17ms/step - factorized_top_k/top_1_categorical_accuracy: 0.0000e+00 - factorized_top_k/top_5_categorical_accuracy: 0.0000e+00 - factorized_top_k/top_10_categorical_accuracy: 0.0000e+00 - factorized_top_k/top_50_categorical_accuracy: 0.0000e+00 - factorized_top_k/top_100_categorical_accuracy: 0.0000e+00 - loss: 6529.8806 - regularization_loss: 0.0000e+00 - total_loss: 6529.8806\n",
      "Epoch 10/100\n",
      "78/79 [============================>.] - ETA: 0s - factorized_top_k/top_1_categorical_accuracy: 0.0000e+00 - factorized_top_k/top_5_categorical_accuracy: 0.0000e+00 - factorized_top_k/top_10_categorical_accuracy: 0.0000e+00 - factorized_top_k/top_50_categorical_accuracy: 0.0000e+00 - factorized_top_k/top_100_categorical_accuracy: 0.0000e+00 - loss: 6678.2127 - regularization_loss: 0.0000e+00 - total_loss: 6678.2127WARNING:tensorflow:Early stopping conditioned on metric `val_loss` which is not available. Available metrics are: factorized_top_k/top_1_categorical_accuracy,factorized_top_k/top_5_categorical_accuracy,factorized_top_k/top_10_categorical_accuracy,factorized_top_k/top_50_categorical_accuracy,factorized_top_k/top_100_categorical_accuracy,loss,regularization_loss,total_loss\n"
     ]
    },
    {
     "name": "stderr",
     "output_type": "stream",
     "text": [
      "WARNING:tensorflow:Early stopping conditioned on metric `val_loss` which is not available. Available metrics are: factorized_top_k/top_1_categorical_accuracy,factorized_top_k/top_5_categorical_accuracy,factorized_top_k/top_10_categorical_accuracy,factorized_top_k/top_50_categorical_accuracy,factorized_top_k/top_100_categorical_accuracy,loss,regularization_loss,total_loss\n"
     ]
    },
    {
     "name": "stdout",
     "output_type": "stream",
     "text": [
      "79/79 [==============================] - 1s 17ms/step - factorized_top_k/top_1_categorical_accuracy: 0.0000e+00 - factorized_top_k/top_5_categorical_accuracy: 0.0000e+00 - factorized_top_k/top_10_categorical_accuracy: 0.0000e+00 - factorized_top_k/top_50_categorical_accuracy: 0.0000e+00 - factorized_top_k/top_100_categorical_accuracy: 0.0000e+00 - loss: 6525.1347 - regularization_loss: 0.0000e+00 - total_loss: 6525.1347\n",
      "Epoch 11/100\n",
      "78/79 [============================>.] - ETA: 0s - factorized_top_k/top_1_categorical_accuracy: 0.0000e+00 - factorized_top_k/top_5_categorical_accuracy: 0.0000e+00 - factorized_top_k/top_10_categorical_accuracy: 0.0000e+00 - factorized_top_k/top_50_categorical_accuracy: 0.0000e+00 - factorized_top_k/top_100_categorical_accuracy: 0.0000e+00 - loss: 6673.3636 - regularization_loss: 0.0000e+00 - total_loss: 6673.3636WARNING:tensorflow:Early stopping conditioned on metric `val_loss` which is not available. Available metrics are: factorized_top_k/top_1_categorical_accuracy,factorized_top_k/top_5_categorical_accuracy,factorized_top_k/top_10_categorical_accuracy,factorized_top_k/top_50_categorical_accuracy,factorized_top_k/top_100_categorical_accuracy,loss,regularization_loss,total_loss\n"
     ]
    },
    {
     "name": "stderr",
     "output_type": "stream",
     "text": [
      "WARNING:tensorflow:Early stopping conditioned on metric `val_loss` which is not available. Available metrics are: factorized_top_k/top_1_categorical_accuracy,factorized_top_k/top_5_categorical_accuracy,factorized_top_k/top_10_categorical_accuracy,factorized_top_k/top_50_categorical_accuracy,factorized_top_k/top_100_categorical_accuracy,loss,regularization_loss,total_loss\n"
     ]
    },
    {
     "name": "stdout",
     "output_type": "stream",
     "text": [
      "79/79 [==============================] - 1s 17ms/step - factorized_top_k/top_1_categorical_accuracy: 0.0000e+00 - factorized_top_k/top_5_categorical_accuracy: 0.0000e+00 - factorized_top_k/top_10_categorical_accuracy: 0.0000e+00 - factorized_top_k/top_50_categorical_accuracy: 0.0000e+00 - factorized_top_k/top_100_categorical_accuracy: 0.0000e+00 - loss: 6520.3970 - regularization_loss: 0.0000e+00 - total_loss: 6520.3970\n",
      "Epoch 12/100\n",
      "77/79 [============================>.] - ETA: 0s - factorized_top_k/top_1_categorical_accuracy: 0.0000e+00 - factorized_top_k/top_5_categorical_accuracy: 0.0000e+00 - factorized_top_k/top_10_categorical_accuracy: 0.0000e+00 - factorized_top_k/top_50_categorical_accuracy: 0.0000e+00 - factorized_top_k/top_100_categorical_accuracy: 0.0000e+00 - loss: 6667.8033 - regularization_loss: 0.0000e+00 - total_loss: 6667.8033WARNING:tensorflow:Early stopping conditioned on metric `val_loss` which is not available. Available metrics are: factorized_top_k/top_1_categorical_accuracy,factorized_top_k/top_5_categorical_accuracy,factorized_top_k/top_10_categorical_accuracy,factorized_top_k/top_50_categorical_accuracy,factorized_top_k/top_100_categorical_accuracy,loss,regularization_loss,total_loss\n"
     ]
    },
    {
     "name": "stderr",
     "output_type": "stream",
     "text": [
      "WARNING:tensorflow:Early stopping conditioned on metric `val_loss` which is not available. Available metrics are: factorized_top_k/top_1_categorical_accuracy,factorized_top_k/top_5_categorical_accuracy,factorized_top_k/top_10_categorical_accuracy,factorized_top_k/top_50_categorical_accuracy,factorized_top_k/top_100_categorical_accuracy,loss,regularization_loss,total_loss\n"
     ]
    },
    {
     "name": "stdout",
     "output_type": "stream",
     "text": [
      "79/79 [==============================] - 1s 17ms/step - factorized_top_k/top_1_categorical_accuracy: 0.0000e+00 - factorized_top_k/top_5_categorical_accuracy: 0.0000e+00 - factorized_top_k/top_10_categorical_accuracy: 0.0000e+00 - factorized_top_k/top_50_categorical_accuracy: 0.0000e+00 - factorized_top_k/top_100_categorical_accuracy: 0.0000e+00 - loss: 6514.7321 - regularization_loss: 0.0000e+00 - total_loss: 6514.7321\n",
      "Epoch 13/100\n",
      "79/79 [==============================] - ETA: 0s - factorized_top_k/top_1_categorical_accuracy: 0.0000e+00 - factorized_top_k/top_5_categorical_accuracy: 0.0000e+00 - factorized_top_k/top_10_categorical_accuracy: 0.0000e+00 - factorized_top_k/top_50_categorical_accuracy: 0.0000e+00 - factorized_top_k/top_100_categorical_accuracy: 0.0000e+00 - loss: 6582.0047 - regularization_loss: 0.0000e+00 - total_loss: 6582.0047WARNING:tensorflow:Early stopping conditioned on metric `val_loss` which is not available. Available metrics are: factorized_top_k/top_1_categorical_accuracy,factorized_top_k/top_5_categorical_accuracy,factorized_top_k/top_10_categorical_accuracy,factorized_top_k/top_50_categorical_accuracy,factorized_top_k/top_100_categorical_accuracy,loss,regularization_loss,total_loss\n"
     ]
    },
    {
     "name": "stderr",
     "output_type": "stream",
     "text": [
      "WARNING:tensorflow:Early stopping conditioned on metric `val_loss` which is not available. Available metrics are: factorized_top_k/top_1_categorical_accuracy,factorized_top_k/top_5_categorical_accuracy,factorized_top_k/top_10_categorical_accuracy,factorized_top_k/top_50_categorical_accuracy,factorized_top_k/top_100_categorical_accuracy,loss,regularization_loss,total_loss\n"
     ]
    },
    {
     "name": "stdout",
     "output_type": "stream",
     "text": [
      "79/79 [==============================] - 1s 17ms/step - factorized_top_k/top_1_categorical_accuracy: 0.0000e+00 - factorized_top_k/top_5_categorical_accuracy: 0.0000e+00 - factorized_top_k/top_10_categorical_accuracy: 0.0000e+00 - factorized_top_k/top_50_categorical_accuracy: 0.0000e+00 - factorized_top_k/top_100_categorical_accuracy: 0.0000e+00 - loss: 6506.6463 - regularization_loss: 0.0000e+00 - total_loss: 6506.6463\n",
      "Epoch 14/100\n",
      "76/79 [===========================>..] - ETA: 0s - factorized_top_k/top_1_categorical_accuracy: 0.0000e+00 - factorized_top_k/top_5_categorical_accuracy: 0.0000e+00 - factorized_top_k/top_10_categorical_accuracy: 0.0000e+00 - factorized_top_k/top_50_categorical_accuracy: 0.0000e+00 - factorized_top_k/top_100_categorical_accuracy: 0.0000e+00 - loss: 6648.5112 - regularization_loss: 0.0000e+00 - total_loss: 6648.5112WARNING:tensorflow:Early stopping conditioned on metric `val_loss` which is not available. Available metrics are: factorized_top_k/top_1_categorical_accuracy,factorized_top_k/top_5_categorical_accuracy,factorized_top_k/top_10_categorical_accuracy,factorized_top_k/top_50_categorical_accuracy,factorized_top_k/top_100_categorical_accuracy,loss,regularization_loss,total_loss\n"
     ]
    },
    {
     "name": "stderr",
     "output_type": "stream",
     "text": [
      "WARNING:tensorflow:Early stopping conditioned on metric `val_loss` which is not available. Available metrics are: factorized_top_k/top_1_categorical_accuracy,factorized_top_k/top_5_categorical_accuracy,factorized_top_k/top_10_categorical_accuracy,factorized_top_k/top_50_categorical_accuracy,factorized_top_k/top_100_categorical_accuracy,loss,regularization_loss,total_loss\n"
     ]
    },
    {
     "name": "stdout",
     "output_type": "stream",
     "text": [
      "79/79 [==============================] - 1s 17ms/step - factorized_top_k/top_1_categorical_accuracy: 0.0000e+00 - factorized_top_k/top_5_categorical_accuracy: 0.0000e+00 - factorized_top_k/top_10_categorical_accuracy: 0.0000e+00 - factorized_top_k/top_50_categorical_accuracy: 0.0000e+00 - factorized_top_k/top_100_categorical_accuracy: 0.0000e+00 - loss: 6495.4147 - regularization_loss: 0.0000e+00 - total_loss: 6495.4147\n",
      "Epoch 15/100\n",
      "78/79 [============================>.] - ETA: 0s - factorized_top_k/top_1_categorical_accuracy: 0.0000e+00 - factorized_top_k/top_5_categorical_accuracy: 0.0000e+00 - factorized_top_k/top_10_categorical_accuracy: 0.0000e+00 - factorized_top_k/top_50_categorical_accuracy: 0.0000e+00 - factorized_top_k/top_100_categorical_accuracy: 0.0000e+00 - loss: 6636.1225 - regularization_loss: 0.0000e+00 - total_loss: 6636.1225WARNING:tensorflow:Early stopping conditioned on metric `val_loss` which is not available. Available metrics are: factorized_top_k/top_1_categorical_accuracy,factorized_top_k/top_5_categorical_accuracy,factorized_top_k/top_10_categorical_accuracy,factorized_top_k/top_50_categorical_accuracy,factorized_top_k/top_100_categorical_accuracy,loss,regularization_loss,total_loss\n"
     ]
    },
    {
     "name": "stderr",
     "output_type": "stream",
     "text": [
      "WARNING:tensorflow:Early stopping conditioned on metric `val_loss` which is not available. Available metrics are: factorized_top_k/top_1_categorical_accuracy,factorized_top_k/top_5_categorical_accuracy,factorized_top_k/top_10_categorical_accuracy,factorized_top_k/top_50_categorical_accuracy,factorized_top_k/top_100_categorical_accuracy,loss,regularization_loss,total_loss\n"
     ]
    },
    {
     "name": "stdout",
     "output_type": "stream",
     "text": [
      "79/79 [==============================] - 1s 17ms/step - factorized_top_k/top_1_categorical_accuracy: 0.0000e+00 - factorized_top_k/top_5_categorical_accuracy: 0.0000e+00 - factorized_top_k/top_10_categorical_accuracy: 0.0000e+00 - factorized_top_k/top_50_categorical_accuracy: 0.0000e+00 - factorized_top_k/top_100_categorical_accuracy: 0.0000e+00 - loss: 6484.0180 - regularization_loss: 0.0000e+00 - total_loss: 6484.0180\n",
      "Epoch 16/100\n",
      "77/79 [============================>.] - ETA: 0s - factorized_top_k/top_1_categorical_accuracy: 0.0000e+00 - factorized_top_k/top_5_categorical_accuracy: 0.0000e+00 - factorized_top_k/top_10_categorical_accuracy: 0.0000e+00 - factorized_top_k/top_50_categorical_accuracy: 0.0000e+00 - factorized_top_k/top_100_categorical_accuracy: 0.0000e+00 - loss: 6626.8949 - regularization_loss: 0.0000e+00 - total_loss: 6626.8949WARNING:tensorflow:Early stopping conditioned on metric `val_loss` which is not available. Available metrics are: factorized_top_k/top_1_categorical_accuracy,factorized_top_k/top_5_categorical_accuracy,factorized_top_k/top_10_categorical_accuracy,factorized_top_k/top_50_categorical_accuracy,factorized_top_k/top_100_categorical_accuracy,loss,regularization_loss,total_loss\n"
     ]
    },
    {
     "name": "stderr",
     "output_type": "stream",
     "text": [
      "WARNING:tensorflow:Early stopping conditioned on metric `val_loss` which is not available. Available metrics are: factorized_top_k/top_1_categorical_accuracy,factorized_top_k/top_5_categorical_accuracy,factorized_top_k/top_10_categorical_accuracy,factorized_top_k/top_50_categorical_accuracy,factorized_top_k/top_100_categorical_accuracy,loss,regularization_loss,total_loss\n"
     ]
    },
    {
     "name": "stdout",
     "output_type": "stream",
     "text": [
      "79/79 [==============================] - 1s 17ms/step - factorized_top_k/top_1_categorical_accuracy: 0.0000e+00 - factorized_top_k/top_5_categorical_accuracy: 0.0000e+00 - factorized_top_k/top_10_categorical_accuracy: 0.0000e+00 - factorized_top_k/top_50_categorical_accuracy: 0.0000e+00 - factorized_top_k/top_100_categorical_accuracy: 0.0000e+00 - loss: 6474.8277 - regularization_loss: 0.0000e+00 - total_loss: 6474.8277\n",
      "Epoch 17/100\n",
      "76/79 [===========================>..] - ETA: 0s - factorized_top_k/top_1_categorical_accuracy: 0.0000e+00 - factorized_top_k/top_5_categorical_accuracy: 0.0000e+00 - factorized_top_k/top_10_categorical_accuracy: 0.0000e+00 - factorized_top_k/top_50_categorical_accuracy: 0.0000e+00 - factorized_top_k/top_100_categorical_accuracy: 0.0000e+00 - loss: 6620.1491 - regularization_loss: 0.0000e+00 - total_loss: 6620.1491WARNING:tensorflow:Early stopping conditioned on metric `val_loss` which is not available. Available metrics are: factorized_top_k/top_1_categorical_accuracy,factorized_top_k/top_5_categorical_accuracy,factorized_top_k/top_10_categorical_accuracy,factorized_top_k/top_50_categorical_accuracy,factorized_top_k/top_100_categorical_accuracy,loss,regularization_loss,total_loss\n"
     ]
    },
    {
     "name": "stderr",
     "output_type": "stream",
     "text": [
      "WARNING:tensorflow:Early stopping conditioned on metric `val_loss` which is not available. Available metrics are: factorized_top_k/top_1_categorical_accuracy,factorized_top_k/top_5_categorical_accuracy,factorized_top_k/top_10_categorical_accuracy,factorized_top_k/top_50_categorical_accuracy,factorized_top_k/top_100_categorical_accuracy,loss,regularization_loss,total_loss\n"
     ]
    },
    {
     "name": "stdout",
     "output_type": "stream",
     "text": [
      "79/79 [==============================] - 1s 17ms/step - factorized_top_k/top_1_categorical_accuracy: 0.0000e+00 - factorized_top_k/top_5_categorical_accuracy: 0.0000e+00 - factorized_top_k/top_10_categorical_accuracy: 0.0000e+00 - factorized_top_k/top_50_categorical_accuracy: 0.0000e+00 - factorized_top_k/top_100_categorical_accuracy: 0.0000e+00 - loss: 6467.7810 - regularization_loss: 0.0000e+00 - total_loss: 6467.7810\n",
      "Epoch 18/100\n",
      "77/79 [============================>.] - ETA: 0s - factorized_top_k/top_1_categorical_accuracy: 0.0000e+00 - factorized_top_k/top_5_categorical_accuracy: 0.0000e+00 - factorized_top_k/top_10_categorical_accuracy: 0.0000e+00 - factorized_top_k/top_50_categorical_accuracy: 0.0000e+00 - factorized_top_k/top_100_categorical_accuracy: 0.0000e+00 - loss: 6614.1675 - regularization_loss: 0.0000e+00 - total_loss: 6614.1675WARNING:tensorflow:Early stopping conditioned on metric `val_loss` which is not available. Available metrics are: factorized_top_k/top_1_categorical_accuracy,factorized_top_k/top_5_categorical_accuracy,factorized_top_k/top_10_categorical_accuracy,factorized_top_k/top_50_categorical_accuracy,factorized_top_k/top_100_categorical_accuracy,loss,regularization_loss,total_loss\n"
     ]
    },
    {
     "name": "stderr",
     "output_type": "stream",
     "text": [
      "WARNING:tensorflow:Early stopping conditioned on metric `val_loss` which is not available. Available metrics are: factorized_top_k/top_1_categorical_accuracy,factorized_top_k/top_5_categorical_accuracy,factorized_top_k/top_10_categorical_accuracy,factorized_top_k/top_50_categorical_accuracy,factorized_top_k/top_100_categorical_accuracy,loss,regularization_loss,total_loss\n"
     ]
    },
    {
     "name": "stdout",
     "output_type": "stream",
     "text": [
      "79/79 [==============================] - 1s 18ms/step - factorized_top_k/top_1_categorical_accuracy: 0.0000e+00 - factorized_top_k/top_5_categorical_accuracy: 0.0000e+00 - factorized_top_k/top_10_categorical_accuracy: 0.0000e+00 - factorized_top_k/top_50_categorical_accuracy: 0.0000e+00 - factorized_top_k/top_100_categorical_accuracy: 0.0000e+00 - loss: 6462.4224 - regularization_loss: 0.0000e+00 - total_loss: 6462.4224\n",
      "Epoch 19/100\n",
      "77/79 [============================>.] - ETA: 0s - factorized_top_k/top_1_categorical_accuracy: 0.0000e+00 - factorized_top_k/top_5_categorical_accuracy: 0.0000e+00 - factorized_top_k/top_10_categorical_accuracy: 0.0000e+00 - factorized_top_k/top_50_categorical_accuracy: 0.0000e+00 - factorized_top_k/top_100_categorical_accuracy: 0.0000e+00 - loss: 6609.9424 - regularization_loss: 0.0000e+00 - total_loss: 6609.9424WARNING:tensorflow:Early stopping conditioned on metric `val_loss` which is not available. Available metrics are: factorized_top_k/top_1_categorical_accuracy,factorized_top_k/top_5_categorical_accuracy,factorized_top_k/top_10_categorical_accuracy,factorized_top_k/top_50_categorical_accuracy,factorized_top_k/top_100_categorical_accuracy,loss,regularization_loss,total_loss\n"
     ]
    },
    {
     "name": "stderr",
     "output_type": "stream",
     "text": [
      "WARNING:tensorflow:Early stopping conditioned on metric `val_loss` which is not available. Available metrics are: factorized_top_k/top_1_categorical_accuracy,factorized_top_k/top_5_categorical_accuracy,factorized_top_k/top_10_categorical_accuracy,factorized_top_k/top_50_categorical_accuracy,factorized_top_k/top_100_categorical_accuracy,loss,regularization_loss,total_loss\n"
     ]
    },
    {
     "name": "stdout",
     "output_type": "stream",
     "text": [
      "79/79 [==============================] - 1s 16ms/step - factorized_top_k/top_1_categorical_accuracy: 0.0000e+00 - factorized_top_k/top_5_categorical_accuracy: 0.0000e+00 - factorized_top_k/top_10_categorical_accuracy: 0.0000e+00 - factorized_top_k/top_50_categorical_accuracy: 0.0000e+00 - factorized_top_k/top_100_categorical_accuracy: 0.0000e+00 - loss: 6458.2992 - regularization_loss: 0.0000e+00 - total_loss: 6458.2992\n",
      "Epoch 20/100\n",
      "76/79 [===========================>..] - ETA: 0s - factorized_top_k/top_1_categorical_accuracy: 0.0000e+00 - factorized_top_k/top_5_categorical_accuracy: 0.0000e+00 - factorized_top_k/top_10_categorical_accuracy: 0.0000e+00 - factorized_top_k/top_50_categorical_accuracy: 0.0000e+00 - factorized_top_k/top_100_categorical_accuracy: 0.0000e+00 - loss: 6607.0791 - regularization_loss: 0.0000e+00 - total_loss: 6607.0791WARNING:tensorflow:Early stopping conditioned on metric `val_loss` which is not available. Available metrics are: factorized_top_k/top_1_categorical_accuracy,factorized_top_k/top_5_categorical_accuracy,factorized_top_k/top_10_categorical_accuracy,factorized_top_k/top_50_categorical_accuracy,factorized_top_k/top_100_categorical_accuracy,loss,regularization_loss,total_loss\n"
     ]
    },
    {
     "name": "stderr",
     "output_type": "stream",
     "text": [
      "WARNING:tensorflow:Early stopping conditioned on metric `val_loss` which is not available. Available metrics are: factorized_top_k/top_1_categorical_accuracy,factorized_top_k/top_5_categorical_accuracy,factorized_top_k/top_10_categorical_accuracy,factorized_top_k/top_50_categorical_accuracy,factorized_top_k/top_100_categorical_accuracy,loss,regularization_loss,total_loss\n"
     ]
    },
    {
     "name": "stdout",
     "output_type": "stream",
     "text": [
      "79/79 [==============================] - 1s 17ms/step - factorized_top_k/top_1_categorical_accuracy: 0.0000e+00 - factorized_top_k/top_5_categorical_accuracy: 0.0000e+00 - factorized_top_k/top_10_categorical_accuracy: 0.0000e+00 - factorized_top_k/top_50_categorical_accuracy: 0.0000e+00 - factorized_top_k/top_100_categorical_accuracy: 0.0000e+00 - loss: 6455.0552 - regularization_loss: 0.0000e+00 - total_loss: 6455.0552\n",
      "Epoch 21/100\n",
      "77/79 [============================>.] - ETA: 0s - factorized_top_k/top_1_categorical_accuracy: 0.0000e+00 - factorized_top_k/top_5_categorical_accuracy: 0.0000e+00 - factorized_top_k/top_10_categorical_accuracy: 0.0000e+00 - factorized_top_k/top_50_categorical_accuracy: 0.0000e+00 - factorized_top_k/top_100_categorical_accuracy: 0.0000e+00 - loss: 6603.9406 - regularization_loss: 0.0000e+00 - total_loss: 6603.9406WARNING:tensorflow:Early stopping conditioned on metric `val_loss` which is not available. Available metrics are: factorized_top_k/top_1_categorical_accuracy,factorized_top_k/top_5_categorical_accuracy,factorized_top_k/top_10_categorical_accuracy,factorized_top_k/top_50_categorical_accuracy,factorized_top_k/top_100_categorical_accuracy,loss,regularization_loss,total_loss\n"
     ]
    },
    {
     "name": "stderr",
     "output_type": "stream",
     "text": [
      "WARNING:tensorflow:Early stopping conditioned on metric `val_loss` which is not available. Available metrics are: factorized_top_k/top_1_categorical_accuracy,factorized_top_k/top_5_categorical_accuracy,factorized_top_k/top_10_categorical_accuracy,factorized_top_k/top_50_categorical_accuracy,factorized_top_k/top_100_categorical_accuracy,loss,regularization_loss,total_loss\n"
     ]
    },
    {
     "name": "stdout",
     "output_type": "stream",
     "text": [
      "79/79 [==============================] - 1s 17ms/step - factorized_top_k/top_1_categorical_accuracy: 0.0000e+00 - factorized_top_k/top_5_categorical_accuracy: 0.0000e+00 - factorized_top_k/top_10_categorical_accuracy: 0.0000e+00 - factorized_top_k/top_50_categorical_accuracy: 0.0000e+00 - factorized_top_k/top_100_categorical_accuracy: 0.0000e+00 - loss: 6452.4386 - regularization_loss: 0.0000e+00 - total_loss: 6452.4386\n",
      "Epoch 22/100\n",
      "78/79 [============================>.] - ETA: 0s - factorized_top_k/top_1_categorical_accuracy: 0.0000e+00 - factorized_top_k/top_5_categorical_accuracy: 0.0000e+00 - factorized_top_k/top_10_categorical_accuracy: 0.0000e+00 - factorized_top_k/top_50_categorical_accuracy: 0.0000e+00 - factorized_top_k/top_100_categorical_accuracy: 0.0000e+00 - loss: 6601.6111 - regularization_loss: 0.0000e+00 - total_loss: 6601.6111WARNING:tensorflow:Early stopping conditioned on metric `val_loss` which is not available. Available metrics are: factorized_top_k/top_1_categorical_accuracy,factorized_top_k/top_5_categorical_accuracy,factorized_top_k/top_10_categorical_accuracy,factorized_top_k/top_50_categorical_accuracy,factorized_top_k/top_100_categorical_accuracy,loss,regularization_loss,total_loss\n"
     ]
    },
    {
     "name": "stderr",
     "output_type": "stream",
     "text": [
      "WARNING:tensorflow:Early stopping conditioned on metric `val_loss` which is not available. Available metrics are: factorized_top_k/top_1_categorical_accuracy,factorized_top_k/top_5_categorical_accuracy,factorized_top_k/top_10_categorical_accuracy,factorized_top_k/top_50_categorical_accuracy,factorized_top_k/top_100_categorical_accuracy,loss,regularization_loss,total_loss\n"
     ]
    },
    {
     "name": "stdout",
     "output_type": "stream",
     "text": [
      "79/79 [==============================] - 1s 18ms/step - factorized_top_k/top_1_categorical_accuracy: 0.0000e+00 - factorized_top_k/top_5_categorical_accuracy: 0.0000e+00 - factorized_top_k/top_10_categorical_accuracy: 0.0000e+00 - factorized_top_k/top_50_categorical_accuracy: 0.0000e+00 - factorized_top_k/top_100_categorical_accuracy: 0.0000e+00 - loss: 6450.2777 - regularization_loss: 0.0000e+00 - total_loss: 6450.2777\n",
      "Epoch 23/100\n",
      "79/79 [==============================] - ETA: 0s - factorized_top_k/top_1_categorical_accuracy: 0.0000e+00 - factorized_top_k/top_5_categorical_accuracy: 0.0000e+00 - factorized_top_k/top_10_categorical_accuracy: 0.0000e+00 - factorized_top_k/top_50_categorical_accuracy: 0.0000e+00 - factorized_top_k/top_100_categorical_accuracy: 0.0000e+00 - loss: 6523.1445 - regularization_loss: 0.0000e+00 - total_loss: 6523.1445WARNING:tensorflow:Early stopping conditioned on metric `val_loss` which is not available. Available metrics are: factorized_top_k/top_1_categorical_accuracy,factorized_top_k/top_5_categorical_accuracy,factorized_top_k/top_10_categorical_accuracy,factorized_top_k/top_50_categorical_accuracy,factorized_top_k/top_100_categorical_accuracy,loss,regularization_loss,total_loss\n"
     ]
    },
    {
     "name": "stderr",
     "output_type": "stream",
     "text": [
      "WARNING:tensorflow:Early stopping conditioned on metric `val_loss` which is not available. Available metrics are: factorized_top_k/top_1_categorical_accuracy,factorized_top_k/top_5_categorical_accuracy,factorized_top_k/top_10_categorical_accuracy,factorized_top_k/top_50_categorical_accuracy,factorized_top_k/top_100_categorical_accuracy,loss,regularization_loss,total_loss\n"
     ]
    },
    {
     "name": "stdout",
     "output_type": "stream",
     "text": [
      "79/79 [==============================] - 1s 17ms/step - factorized_top_k/top_1_categorical_accuracy: 0.0000e+00 - factorized_top_k/top_5_categorical_accuracy: 0.0000e+00 - factorized_top_k/top_10_categorical_accuracy: 0.0000e+00 - factorized_top_k/top_50_categorical_accuracy: 0.0000e+00 - factorized_top_k/top_100_categorical_accuracy: 0.0000e+00 - loss: 6448.4547 - regularization_loss: 0.0000e+00 - total_loss: 6448.4547\n",
      "Epoch 24/100\n",
      "79/79 [==============================] - ETA: 0s - factorized_top_k/top_1_categorical_accuracy: 0.0000e+00 - factorized_top_k/top_5_categorical_accuracy: 0.0000e+00 - factorized_top_k/top_10_categorical_accuracy: 0.0000e+00 - factorized_top_k/top_50_categorical_accuracy: 0.0000e+00 - factorized_top_k/top_100_categorical_accuracy: 0.0000e+00 - loss: 6521.5615 - regularization_loss: 0.0000e+00 - total_loss: 6521.5615WARNING:tensorflow:Early stopping conditioned on metric `val_loss` which is not available. Available metrics are: factorized_top_k/top_1_categorical_accuracy,factorized_top_k/top_5_categorical_accuracy,factorized_top_k/top_10_categorical_accuracy,factorized_top_k/top_50_categorical_accuracy,factorized_top_k/top_100_categorical_accuracy,loss,regularization_loss,total_loss\n"
     ]
    },
    {
     "name": "stderr",
     "output_type": "stream",
     "text": [
      "WARNING:tensorflow:Early stopping conditioned on metric `val_loss` which is not available. Available metrics are: factorized_top_k/top_1_categorical_accuracy,factorized_top_k/top_5_categorical_accuracy,factorized_top_k/top_10_categorical_accuracy,factorized_top_k/top_50_categorical_accuracy,factorized_top_k/top_100_categorical_accuracy,loss,regularization_loss,total_loss\n"
     ]
    },
    {
     "name": "stdout",
     "output_type": "stream",
     "text": [
      "79/79 [==============================] - 1s 17ms/step - factorized_top_k/top_1_categorical_accuracy: 0.0000e+00 - factorized_top_k/top_5_categorical_accuracy: 0.0000e+00 - factorized_top_k/top_10_categorical_accuracy: 0.0000e+00 - factorized_top_k/top_50_categorical_accuracy: 0.0000e+00 - factorized_top_k/top_100_categorical_accuracy: 0.0000e+00 - loss: 6446.8882 - regularization_loss: 0.0000e+00 - total_loss: 6446.8882\n",
      "Epoch 25/100\n",
      "78/79 [============================>.] - ETA: 0s - factorized_top_k/top_1_categorical_accuracy: 0.0000e+00 - factorized_top_k/top_5_categorical_accuracy: 0.0000e+00 - factorized_top_k/top_10_categorical_accuracy: 0.0000e+00 - factorized_top_k/top_50_categorical_accuracy: 0.0000e+00 - factorized_top_k/top_100_categorical_accuracy: 0.0000e+00 - loss: 6596.7530 - regularization_loss: 0.0000e+00 - total_loss: 6596.7530WARNING:tensorflow:Early stopping conditioned on metric `val_loss` which is not available. Available metrics are: factorized_top_k/top_1_categorical_accuracy,factorized_top_k/top_5_categorical_accuracy,factorized_top_k/top_10_categorical_accuracy,factorized_top_k/top_50_categorical_accuracy,factorized_top_k/top_100_categorical_accuracy,loss,regularization_loss,total_loss\n"
     ]
    },
    {
     "name": "stderr",
     "output_type": "stream",
     "text": [
      "WARNING:tensorflow:Early stopping conditioned on metric `val_loss` which is not available. Available metrics are: factorized_top_k/top_1_categorical_accuracy,factorized_top_k/top_5_categorical_accuracy,factorized_top_k/top_10_categorical_accuracy,factorized_top_k/top_50_categorical_accuracy,factorized_top_k/top_100_categorical_accuracy,loss,regularization_loss,total_loss\n"
     ]
    },
    {
     "name": "stdout",
     "output_type": "stream",
     "text": [
      "79/79 [==============================] - 1s 18ms/step - factorized_top_k/top_1_categorical_accuracy: 0.0000e+00 - factorized_top_k/top_5_categorical_accuracy: 0.0000e+00 - factorized_top_k/top_10_categorical_accuracy: 0.0000e+00 - factorized_top_k/top_50_categorical_accuracy: 0.0000e+00 - factorized_top_k/top_100_categorical_accuracy: 0.0000e+00 - loss: 6445.5208 - regularization_loss: 0.0000e+00 - total_loss: 6445.5208\n",
      "Epoch 26/100\n",
      "77/79 [============================>.] - ETA: 0s - factorized_top_k/top_1_categorical_accuracy: 0.0000e+00 - factorized_top_k/top_5_categorical_accuracy: 0.0000e+00 - factorized_top_k/top_10_categorical_accuracy: 0.0000e+00 - factorized_top_k/top_50_categorical_accuracy: 0.0000e+00 - factorized_top_k/top_100_categorical_accuracy: 0.0000e+00 - loss: 6595.6182 - regularization_loss: 0.0000e+00 - total_loss: 6595.6182WARNING:tensorflow:Early stopping conditioned on metric `val_loss` which is not available. Available metrics are: factorized_top_k/top_1_categorical_accuracy,factorized_top_k/top_5_categorical_accuracy,factorized_top_k/top_10_categorical_accuracy,factorized_top_k/top_50_categorical_accuracy,factorized_top_k/top_100_categorical_accuracy,loss,regularization_loss,total_loss\n"
     ]
    },
    {
     "name": "stderr",
     "output_type": "stream",
     "text": [
      "WARNING:tensorflow:Early stopping conditioned on metric `val_loss` which is not available. Available metrics are: factorized_top_k/top_1_categorical_accuracy,factorized_top_k/top_5_categorical_accuracy,factorized_top_k/top_10_categorical_accuracy,factorized_top_k/top_50_categorical_accuracy,factorized_top_k/top_100_categorical_accuracy,loss,regularization_loss,total_loss\n"
     ]
    },
    {
     "name": "stdout",
     "output_type": "stream",
     "text": [
      "79/79 [==============================] - 1s 17ms/step - factorized_top_k/top_1_categorical_accuracy: 0.0000e+00 - factorized_top_k/top_5_categorical_accuracy: 0.0000e+00 - factorized_top_k/top_10_categorical_accuracy: 0.0000e+00 - factorized_top_k/top_50_categorical_accuracy: 0.0000e+00 - factorized_top_k/top_100_categorical_accuracy: 0.0000e+00 - loss: 6444.3114 - regularization_loss: 0.0000e+00 - total_loss: 6444.3114\n",
      "Epoch 27/100\n",
      "78/79 [============================>.] - ETA: 0s - factorized_top_k/top_1_categorical_accuracy: 0.0000e+00 - factorized_top_k/top_5_categorical_accuracy: 0.0000e+00 - factorized_top_k/top_10_categorical_accuracy: 0.0000e+00 - factorized_top_k/top_50_categorical_accuracy: 0.0000e+00 - factorized_top_k/top_100_categorical_accuracy: 0.0000e+00 - loss: 6594.4126 - regularization_loss: 0.0000e+00 - total_loss: 6594.4126WARNING:tensorflow:Early stopping conditioned on metric `val_loss` which is not available. Available metrics are: factorized_top_k/top_1_categorical_accuracy,factorized_top_k/top_5_categorical_accuracy,factorized_top_k/top_10_categorical_accuracy,factorized_top_k/top_50_categorical_accuracy,factorized_top_k/top_100_categorical_accuracy,loss,regularization_loss,total_loss\n"
     ]
    },
    {
     "name": "stderr",
     "output_type": "stream",
     "text": [
      "WARNING:tensorflow:Early stopping conditioned on metric `val_loss` which is not available. Available metrics are: factorized_top_k/top_1_categorical_accuracy,factorized_top_k/top_5_categorical_accuracy,factorized_top_k/top_10_categorical_accuracy,factorized_top_k/top_50_categorical_accuracy,factorized_top_k/top_100_categorical_accuracy,loss,regularization_loss,total_loss\n"
     ]
    },
    {
     "name": "stdout",
     "output_type": "stream",
     "text": [
      "79/79 [==============================] - 1s 15ms/step - factorized_top_k/top_1_categorical_accuracy: 0.0000e+00 - factorized_top_k/top_5_categorical_accuracy: 0.0000e+00 - factorized_top_k/top_10_categorical_accuracy: 0.0000e+00 - factorized_top_k/top_50_categorical_accuracy: 0.0000e+00 - factorized_top_k/top_100_categorical_accuracy: 0.0000e+00 - loss: 6443.2293 - regularization_loss: 0.0000e+00 - total_loss: 6443.2293\n",
      "Epoch 28/100\n",
      "78/79 [============================>.] - ETA: 0s - factorized_top_k/top_1_categorical_accuracy: 0.0000e+00 - factorized_top_k/top_5_categorical_accuracy: 0.0000e+00 - factorized_top_k/top_10_categorical_accuracy: 0.0000e+00 - factorized_top_k/top_50_categorical_accuracy: 0.0000e+00 - factorized_top_k/top_100_categorical_accuracy: 0.0000e+00 - loss: 6593.4140 - regularization_loss: 0.0000e+00 - total_loss: 6593.4140WARNING:tensorflow:Early stopping conditioned on metric `val_loss` which is not available. Available metrics are: factorized_top_k/top_1_categorical_accuracy,factorized_top_k/top_5_categorical_accuracy,factorized_top_k/top_10_categorical_accuracy,factorized_top_k/top_50_categorical_accuracy,factorized_top_k/top_100_categorical_accuracy,loss,regularization_loss,total_loss\n"
     ]
    },
    {
     "name": "stderr",
     "output_type": "stream",
     "text": [
      "WARNING:tensorflow:Early stopping conditioned on metric `val_loss` which is not available. Available metrics are: factorized_top_k/top_1_categorical_accuracy,factorized_top_k/top_5_categorical_accuracy,factorized_top_k/top_10_categorical_accuracy,factorized_top_k/top_50_categorical_accuracy,factorized_top_k/top_100_categorical_accuracy,loss,regularization_loss,total_loss\n"
     ]
    },
    {
     "name": "stdout",
     "output_type": "stream",
     "text": [
      "79/79 [==============================] - 1s 16ms/step - factorized_top_k/top_1_categorical_accuracy: 0.0000e+00 - factorized_top_k/top_5_categorical_accuracy: 0.0000e+00 - factorized_top_k/top_10_categorical_accuracy: 0.0000e+00 - factorized_top_k/top_50_categorical_accuracy: 0.0000e+00 - factorized_top_k/top_100_categorical_accuracy: 0.0000e+00 - loss: 6442.2517 - regularization_loss: 0.0000e+00 - total_loss: 6442.2517\n",
      "Epoch 29/100\n",
      "77/79 [============================>.] - ETA: 0s - factorized_top_k/top_1_categorical_accuracy: 0.0000e+00 - factorized_top_k/top_5_categorical_accuracy: 0.0000e+00 - factorized_top_k/top_10_categorical_accuracy: 0.0000e+00 - factorized_top_k/top_50_categorical_accuracy: 0.0000e+00 - factorized_top_k/top_100_categorical_accuracy: 0.0000e+00 - loss: 6592.5950 - regularization_loss: 0.0000e+00 - total_loss: 6592.5950WARNING:tensorflow:Early stopping conditioned on metric `val_loss` which is not available. Available metrics are: factorized_top_k/top_1_categorical_accuracy,factorized_top_k/top_5_categorical_accuracy,factorized_top_k/top_10_categorical_accuracy,factorized_top_k/top_50_categorical_accuracy,factorized_top_k/top_100_categorical_accuracy,loss,regularization_loss,total_loss\n"
     ]
    },
    {
     "name": "stderr",
     "output_type": "stream",
     "text": [
      "WARNING:tensorflow:Early stopping conditioned on metric `val_loss` which is not available. Available metrics are: factorized_top_k/top_1_categorical_accuracy,factorized_top_k/top_5_categorical_accuracy,factorized_top_k/top_10_categorical_accuracy,factorized_top_k/top_50_categorical_accuracy,factorized_top_k/top_100_categorical_accuracy,loss,regularization_loss,total_loss\n"
     ]
    },
    {
     "name": "stdout",
     "output_type": "stream",
     "text": [
      "79/79 [==============================] - 1s 18ms/step - factorized_top_k/top_1_categorical_accuracy: 0.0000e+00 - factorized_top_k/top_5_categorical_accuracy: 0.0000e+00 - factorized_top_k/top_10_categorical_accuracy: 0.0000e+00 - factorized_top_k/top_50_categorical_accuracy: 0.0000e+00 - factorized_top_k/top_100_categorical_accuracy: 0.0000e+00 - loss: 6441.3611 - regularization_loss: 0.0000e+00 - total_loss: 6441.3611\n",
      "Epoch 30/100\n",
      "77/79 [============================>.] - ETA: 0s - factorized_top_k/top_1_categorical_accuracy: 0.0000e+00 - factorized_top_k/top_5_categorical_accuracy: 0.0000e+00 - factorized_top_k/top_10_categorical_accuracy: 0.0000e+00 - factorized_top_k/top_50_categorical_accuracy: 0.0000e+00 - factorized_top_k/top_100_categorical_accuracy: 0.0000e+00 - loss: 6591.7573 - regularization_loss: 0.0000e+00 - total_loss: 6591.7573WARNING:tensorflow:Early stopping conditioned on metric `val_loss` which is not available. Available metrics are: factorized_top_k/top_1_categorical_accuracy,factorized_top_k/top_5_categorical_accuracy,factorized_top_k/top_10_categorical_accuracy,factorized_top_k/top_50_categorical_accuracy,factorized_top_k/top_100_categorical_accuracy,loss,regularization_loss,total_loss\n"
     ]
    },
    {
     "name": "stderr",
     "output_type": "stream",
     "text": [
      "WARNING:tensorflow:Early stopping conditioned on metric `val_loss` which is not available. Available metrics are: factorized_top_k/top_1_categorical_accuracy,factorized_top_k/top_5_categorical_accuracy,factorized_top_k/top_10_categorical_accuracy,factorized_top_k/top_50_categorical_accuracy,factorized_top_k/top_100_categorical_accuracy,loss,regularization_loss,total_loss\n"
     ]
    },
    {
     "name": "stdout",
     "output_type": "stream",
     "text": [
      "79/79 [==============================] - 1s 17ms/step - factorized_top_k/top_1_categorical_accuracy: 0.0000e+00 - factorized_top_k/top_5_categorical_accuracy: 0.0000e+00 - factorized_top_k/top_10_categorical_accuracy: 0.0000e+00 - factorized_top_k/top_50_categorical_accuracy: 0.0000e+00 - factorized_top_k/top_100_categorical_accuracy: 0.0000e+00 - loss: 6440.5440 - regularization_loss: 0.0000e+00 - total_loss: 6440.5440\n",
      "Epoch 31/100\n",
      "79/79 [==============================] - ETA: 0s - factorized_top_k/top_1_categorical_accuracy: 0.0000e+00 - factorized_top_k/top_5_categorical_accuracy: 0.0000e+00 - factorized_top_k/top_10_categorical_accuracy: 0.0000e+00 - factorized_top_k/top_50_categorical_accuracy: 0.0000e+00 - factorized_top_k/top_100_categorical_accuracy: 0.0000e+00 - loss: 6514.3878 - regularization_loss: 0.0000e+00 - total_loss: 6514.3878WARNING:tensorflow:Early stopping conditioned on metric `val_loss` which is not available. Available metrics are: factorized_top_k/top_1_categorical_accuracy,factorized_top_k/top_5_categorical_accuracy,factorized_top_k/top_10_categorical_accuracy,factorized_top_k/top_50_categorical_accuracy,factorized_top_k/top_100_categorical_accuracy,loss,regularization_loss,total_loss\n"
     ]
    },
    {
     "name": "stderr",
     "output_type": "stream",
     "text": [
      "WARNING:tensorflow:Early stopping conditioned on metric `val_loss` which is not available. Available metrics are: factorized_top_k/top_1_categorical_accuracy,factorized_top_k/top_5_categorical_accuracy,factorized_top_k/top_10_categorical_accuracy,factorized_top_k/top_50_categorical_accuracy,factorized_top_k/top_100_categorical_accuracy,loss,regularization_loss,total_loss\n"
     ]
    },
    {
     "name": "stdout",
     "output_type": "stream",
     "text": [
      "79/79 [==============================] - 1s 17ms/step - factorized_top_k/top_1_categorical_accuracy: 0.0000e+00 - factorized_top_k/top_5_categorical_accuracy: 0.0000e+00 - factorized_top_k/top_10_categorical_accuracy: 0.0000e+00 - factorized_top_k/top_50_categorical_accuracy: 0.0000e+00 - factorized_top_k/top_100_categorical_accuracy: 0.0000e+00 - loss: 6439.7898 - regularization_loss: 0.0000e+00 - total_loss: 6439.7898\n",
      "Epoch 32/100\n",
      "76/79 [===========================>..] - ETA: 0s - factorized_top_k/top_1_categorical_accuracy: 0.0000e+00 - factorized_top_k/top_5_categorical_accuracy: 0.0000e+00 - factorized_top_k/top_10_categorical_accuracy: 0.0000e+00 - factorized_top_k/top_50_categorical_accuracy: 0.0000e+00 - factorized_top_k/top_100_categorical_accuracy: 0.0000e+00 - loss: 6590.7038 - regularization_loss: 0.0000e+00 - total_loss: 6590.7038WARNING:tensorflow:Early stopping conditioned on metric `val_loss` which is not available. Available metrics are: factorized_top_k/top_1_categorical_accuracy,factorized_top_k/top_5_categorical_accuracy,factorized_top_k/top_10_categorical_accuracy,factorized_top_k/top_50_categorical_accuracy,factorized_top_k/top_100_categorical_accuracy,loss,regularization_loss,total_loss\n"
     ]
    },
    {
     "name": "stderr",
     "output_type": "stream",
     "text": [
      "WARNING:tensorflow:Early stopping conditioned on metric `val_loss` which is not available. Available metrics are: factorized_top_k/top_1_categorical_accuracy,factorized_top_k/top_5_categorical_accuracy,factorized_top_k/top_10_categorical_accuracy,factorized_top_k/top_50_categorical_accuracy,factorized_top_k/top_100_categorical_accuracy,loss,regularization_loss,total_loss\n"
     ]
    },
    {
     "name": "stdout",
     "output_type": "stream",
     "text": [
      "79/79 [==============================] - 1s 14ms/step - factorized_top_k/top_1_categorical_accuracy: 0.0000e+00 - factorized_top_k/top_5_categorical_accuracy: 0.0000e+00 - factorized_top_k/top_10_categorical_accuracy: 0.0000e+00 - factorized_top_k/top_50_categorical_accuracy: 0.0000e+00 - factorized_top_k/top_100_categorical_accuracy: 0.0000e+00 - loss: 6439.0896 - regularization_loss: 0.0000e+00 - total_loss: 6439.0896\n",
      "Epoch 33/100\n",
      "78/79 [============================>.] - ETA: 0s - factorized_top_k/top_1_categorical_accuracy: 0.0000e+00 - factorized_top_k/top_5_categorical_accuracy: 0.0000e+00 - factorized_top_k/top_10_categorical_accuracy: 0.0000e+00 - factorized_top_k/top_50_categorical_accuracy: 0.0000e+00 - factorized_top_k/top_100_categorical_accuracy: 0.0000e+00 - loss: 6589.5157 - regularization_loss: 0.0000e+00 - total_loss: 6589.5157WARNING:tensorflow:Early stopping conditioned on metric `val_loss` which is not available. Available metrics are: factorized_top_k/top_1_categorical_accuracy,factorized_top_k/top_5_categorical_accuracy,factorized_top_k/top_10_categorical_accuracy,factorized_top_k/top_50_categorical_accuracy,factorized_top_k/top_100_categorical_accuracy,loss,regularization_loss,total_loss\n"
     ]
    },
    {
     "name": "stderr",
     "output_type": "stream",
     "text": [
      "WARNING:tensorflow:Early stopping conditioned on metric `val_loss` which is not available. Available metrics are: factorized_top_k/top_1_categorical_accuracy,factorized_top_k/top_5_categorical_accuracy,factorized_top_k/top_10_categorical_accuracy,factorized_top_k/top_50_categorical_accuracy,factorized_top_k/top_100_categorical_accuracy,loss,regularization_loss,total_loss\n"
     ]
    },
    {
     "name": "stdout",
     "output_type": "stream",
     "text": [
      "79/79 [==============================] - 1s 15ms/step - factorized_top_k/top_1_categorical_accuracy: 0.0000e+00 - factorized_top_k/top_5_categorical_accuracy: 0.0000e+00 - factorized_top_k/top_10_categorical_accuracy: 0.0000e+00 - factorized_top_k/top_50_categorical_accuracy: 0.0000e+00 - factorized_top_k/top_100_categorical_accuracy: 0.0000e+00 - loss: 6438.4366 - regularization_loss: 0.0000e+00 - total_loss: 6438.4366\n",
      "Epoch 34/100\n",
      "76/79 [===========================>..] - ETA: 0s - factorized_top_k/top_1_categorical_accuracy: 0.0000e+00 - factorized_top_k/top_5_categorical_accuracy: 0.0000e+00 - factorized_top_k/top_10_categorical_accuracy: 0.0000e+00 - factorized_top_k/top_50_categorical_accuracy: 0.0000e+00 - factorized_top_k/top_100_categorical_accuracy: 0.0000e+00 - loss: 6589.4046 - regularization_loss: 0.0000e+00 - total_loss: 6589.4046WARNING:tensorflow:Early stopping conditioned on metric `val_loss` which is not available. Available metrics are: factorized_top_k/top_1_categorical_accuracy,factorized_top_k/top_5_categorical_accuracy,factorized_top_k/top_10_categorical_accuracy,factorized_top_k/top_50_categorical_accuracy,factorized_top_k/top_100_categorical_accuracy,loss,regularization_loss,total_loss\n"
     ]
    },
    {
     "name": "stderr",
     "output_type": "stream",
     "text": [
      "WARNING:tensorflow:Early stopping conditioned on metric `val_loss` which is not available. Available metrics are: factorized_top_k/top_1_categorical_accuracy,factorized_top_k/top_5_categorical_accuracy,factorized_top_k/top_10_categorical_accuracy,factorized_top_k/top_50_categorical_accuracy,factorized_top_k/top_100_categorical_accuracy,loss,regularization_loss,total_loss\n"
     ]
    },
    {
     "name": "stdout",
     "output_type": "stream",
     "text": [
      "79/79 [==============================] - 1s 17ms/step - factorized_top_k/top_1_categorical_accuracy: 0.0000e+00 - factorized_top_k/top_5_categorical_accuracy: 0.0000e+00 - factorized_top_k/top_10_categorical_accuracy: 0.0000e+00 - factorized_top_k/top_50_categorical_accuracy: 0.0000e+00 - factorized_top_k/top_100_categorical_accuracy: 0.0000e+00 - loss: 6437.8251 - regularization_loss: 0.0000e+00 - total_loss: 6437.8251\n",
      "Epoch 35/100\n",
      "77/79 [============================>.] - ETA: 0s - factorized_top_k/top_1_categorical_accuracy: 0.0000e+00 - factorized_top_k/top_5_categorical_accuracy: 0.0000e+00 - factorized_top_k/top_10_categorical_accuracy: 0.0000e+00 - factorized_top_k/top_50_categorical_accuracy: 0.0000e+00 - factorized_top_k/top_100_categorical_accuracy: 0.0000e+00 - loss: 6588.3780 - regularization_loss: 0.0000e+00 - total_loss: 6588.3780WARNING:tensorflow:Early stopping conditioned on metric `val_loss` which is not available. Available metrics are: factorized_top_k/top_1_categorical_accuracy,factorized_top_k/top_5_categorical_accuracy,factorized_top_k/top_10_categorical_accuracy,factorized_top_k/top_50_categorical_accuracy,factorized_top_k/top_100_categorical_accuracy,loss,regularization_loss,total_loss\n"
     ]
    },
    {
     "name": "stderr",
     "output_type": "stream",
     "text": [
      "WARNING:tensorflow:Early stopping conditioned on metric `val_loss` which is not available. Available metrics are: factorized_top_k/top_1_categorical_accuracy,factorized_top_k/top_5_categorical_accuracy,factorized_top_k/top_10_categorical_accuracy,factorized_top_k/top_50_categorical_accuracy,factorized_top_k/top_100_categorical_accuracy,loss,regularization_loss,total_loss\n"
     ]
    },
    {
     "name": "stdout",
     "output_type": "stream",
     "text": [
      "79/79 [==============================] - 1s 15ms/step - factorized_top_k/top_1_categorical_accuracy: 0.0000e+00 - factorized_top_k/top_5_categorical_accuracy: 0.0000e+00 - factorized_top_k/top_10_categorical_accuracy: 0.0000e+00 - factorized_top_k/top_50_categorical_accuracy: 0.0000e+00 - factorized_top_k/top_100_categorical_accuracy: 0.0000e+00 - loss: 6437.2502 - regularization_loss: 0.0000e+00 - total_loss: 6437.2502\n",
      "Epoch 36/100\n",
      "78/79 [============================>.] - ETA: 0s - factorized_top_k/top_1_categorical_accuracy: 0.0000e+00 - factorized_top_k/top_5_categorical_accuracy: 0.0000e+00 - factorized_top_k/top_10_categorical_accuracy: 0.0000e+00 - factorized_top_k/top_50_categorical_accuracy: 0.0000e+00 - factorized_top_k/top_100_categorical_accuracy: 0.0000e+00 - loss: 6587.7483 - regularization_loss: 0.0000e+00 - total_loss: 6587.7483WARNING:tensorflow:Early stopping conditioned on metric `val_loss` which is not available. Available metrics are: factorized_top_k/top_1_categorical_accuracy,factorized_top_k/top_5_categorical_accuracy,factorized_top_k/top_10_categorical_accuracy,factorized_top_k/top_50_categorical_accuracy,factorized_top_k/top_100_categorical_accuracy,loss,regularization_loss,total_loss\n"
     ]
    },
    {
     "name": "stderr",
     "output_type": "stream",
     "text": [
      "WARNING:tensorflow:Early stopping conditioned on metric `val_loss` which is not available. Available metrics are: factorized_top_k/top_1_categorical_accuracy,factorized_top_k/top_5_categorical_accuracy,factorized_top_k/top_10_categorical_accuracy,factorized_top_k/top_50_categorical_accuracy,factorized_top_k/top_100_categorical_accuracy,loss,regularization_loss,total_loss\n"
     ]
    },
    {
     "name": "stdout",
     "output_type": "stream",
     "text": [
      "79/79 [==============================] - 1s 16ms/step - factorized_top_k/top_1_categorical_accuracy: 0.0000e+00 - factorized_top_k/top_5_categorical_accuracy: 0.0000e+00 - factorized_top_k/top_10_categorical_accuracy: 0.0000e+00 - factorized_top_k/top_50_categorical_accuracy: 0.0000e+00 - factorized_top_k/top_100_categorical_accuracy: 0.0000e+00 - loss: 6436.7078 - regularization_loss: 0.0000e+00 - total_loss: 6436.7078\n",
      "Epoch 37/100\n",
      "79/79 [==============================] - ETA: 0s - factorized_top_k/top_1_categorical_accuracy: 0.0000e+00 - factorized_top_k/top_5_categorical_accuracy: 0.0000e+00 - factorized_top_k/top_10_categorical_accuracy: 0.0000e+00 - factorized_top_k/top_50_categorical_accuracy: 0.0000e+00 - factorized_top_k/top_100_categorical_accuracy: 0.0000e+00 - loss: 6510.7533 - regularization_loss: 0.0000e+00 - total_loss: 6510.7533WARNING:tensorflow:Early stopping conditioned on metric `val_loss` which is not available. Available metrics are: factorized_top_k/top_1_categorical_accuracy,factorized_top_k/top_5_categorical_accuracy,factorized_top_k/top_10_categorical_accuracy,factorized_top_k/top_50_categorical_accuracy,factorized_top_k/top_100_categorical_accuracy,loss,regularization_loss,total_loss\n"
     ]
    },
    {
     "name": "stderr",
     "output_type": "stream",
     "text": [
      "WARNING:tensorflow:Early stopping conditioned on metric `val_loss` which is not available. Available metrics are: factorized_top_k/top_1_categorical_accuracy,factorized_top_k/top_5_categorical_accuracy,factorized_top_k/top_10_categorical_accuracy,factorized_top_k/top_50_categorical_accuracy,factorized_top_k/top_100_categorical_accuracy,loss,regularization_loss,total_loss\n"
     ]
    },
    {
     "name": "stdout",
     "output_type": "stream",
     "text": [
      "79/79 [==============================] - 1s 16ms/step - factorized_top_k/top_1_categorical_accuracy: 0.0000e+00 - factorized_top_k/top_5_categorical_accuracy: 0.0000e+00 - factorized_top_k/top_10_categorical_accuracy: 0.0000e+00 - factorized_top_k/top_50_categorical_accuracy: 0.0000e+00 - factorized_top_k/top_100_categorical_accuracy: 0.0000e+00 - loss: 6436.1948 - regularization_loss: 0.0000e+00 - total_loss: 6436.1948\n",
      "Epoch 38/100\n",
      "78/79 [============================>.] - ETA: 0s - factorized_top_k/top_1_categorical_accuracy: 0.0000e+00 - factorized_top_k/top_5_categorical_accuracy: 0.0000e+00 - factorized_top_k/top_10_categorical_accuracy: 0.0000e+00 - factorized_top_k/top_50_categorical_accuracy: 0.0000e+00 - factorized_top_k/top_100_categorical_accuracy: 0.0000e+00 - loss: 6586.7258 - regularization_loss: 0.0000e+00 - total_loss: 6586.7258WARNING:tensorflow:Early stopping conditioned on metric `val_loss` which is not available. Available metrics are: factorized_top_k/top_1_categorical_accuracy,factorized_top_k/top_5_categorical_accuracy,factorized_top_k/top_10_categorical_accuracy,factorized_top_k/top_50_categorical_accuracy,factorized_top_k/top_100_categorical_accuracy,loss,regularization_loss,total_loss\n"
     ]
    },
    {
     "name": "stderr",
     "output_type": "stream",
     "text": [
      "WARNING:tensorflow:Early stopping conditioned on metric `val_loss` which is not available. Available metrics are: factorized_top_k/top_1_categorical_accuracy,factorized_top_k/top_5_categorical_accuracy,factorized_top_k/top_10_categorical_accuracy,factorized_top_k/top_50_categorical_accuracy,factorized_top_k/top_100_categorical_accuracy,loss,regularization_loss,total_loss\n"
     ]
    },
    {
     "name": "stdout",
     "output_type": "stream",
     "text": [
      "79/79 [==============================] - 1s 16ms/step - factorized_top_k/top_1_categorical_accuracy: 0.0000e+00 - factorized_top_k/top_5_categorical_accuracy: 0.0000e+00 - factorized_top_k/top_10_categorical_accuracy: 0.0000e+00 - factorized_top_k/top_50_categorical_accuracy: 0.0000e+00 - factorized_top_k/top_100_categorical_accuracy: 0.0000e+00 - loss: 6435.7080 - regularization_loss: 0.0000e+00 - total_loss: 6435.7080\n",
      "Epoch 39/100\n",
      "78/79 [============================>.] - ETA: 0s - factorized_top_k/top_1_categorical_accuracy: 0.0000e+00 - factorized_top_k/top_5_categorical_accuracy: 0.0000e+00 - factorized_top_k/top_10_categorical_accuracy: 0.0000e+00 - factorized_top_k/top_50_categorical_accuracy: 0.0000e+00 - factorized_top_k/top_100_categorical_accuracy: 0.0000e+00 - loss: 6586.2525 - regularization_loss: 0.0000e+00 - total_loss: 6586.2525WARNING:tensorflow:Early stopping conditioned on metric `val_loss` which is not available. Available metrics are: factorized_top_k/top_1_categorical_accuracy,factorized_top_k/top_5_categorical_accuracy,factorized_top_k/top_10_categorical_accuracy,factorized_top_k/top_50_categorical_accuracy,factorized_top_k/top_100_categorical_accuracy,loss,regularization_loss,total_loss\n"
     ]
    },
    {
     "name": "stderr",
     "output_type": "stream",
     "text": [
      "WARNING:tensorflow:Early stopping conditioned on metric `val_loss` which is not available. Available metrics are: factorized_top_k/top_1_categorical_accuracy,factorized_top_k/top_5_categorical_accuracy,factorized_top_k/top_10_categorical_accuracy,factorized_top_k/top_50_categorical_accuracy,factorized_top_k/top_100_categorical_accuracy,loss,regularization_loss,total_loss\n"
     ]
    },
    {
     "name": "stdout",
     "output_type": "stream",
     "text": [
      "79/79 [==============================] - 1s 17ms/step - factorized_top_k/top_1_categorical_accuracy: 0.0000e+00 - factorized_top_k/top_5_categorical_accuracy: 0.0000e+00 - factorized_top_k/top_10_categorical_accuracy: 0.0000e+00 - factorized_top_k/top_50_categorical_accuracy: 0.0000e+00 - factorized_top_k/top_100_categorical_accuracy: 0.0000e+00 - loss: 6435.2453 - regularization_loss: 0.0000e+00 - total_loss: 6435.2453\n",
      "Epoch 40/100\n",
      "76/79 [===========================>..] - ETA: 0s - factorized_top_k/top_1_categorical_accuracy: 0.0000e+00 - factorized_top_k/top_5_categorical_accuracy: 0.0000e+00 - factorized_top_k/top_10_categorical_accuracy: 0.0000e+00 - factorized_top_k/top_50_categorical_accuracy: 0.0000e+00 - factorized_top_k/top_100_categorical_accuracy: 0.0000e+00 - loss: 6586.2963 - regularization_loss: 0.0000e+00 - total_loss: 6586.2963WARNING:tensorflow:Early stopping conditioned on metric `val_loss` which is not available. Available metrics are: factorized_top_k/top_1_categorical_accuracy,factorized_top_k/top_5_categorical_accuracy,factorized_top_k/top_10_categorical_accuracy,factorized_top_k/top_50_categorical_accuracy,factorized_top_k/top_100_categorical_accuracy,loss,regularization_loss,total_loss\n"
     ]
    },
    {
     "name": "stderr",
     "output_type": "stream",
     "text": [
      "WARNING:tensorflow:Early stopping conditioned on metric `val_loss` which is not available. Available metrics are: factorized_top_k/top_1_categorical_accuracy,factorized_top_k/top_5_categorical_accuracy,factorized_top_k/top_10_categorical_accuracy,factorized_top_k/top_50_categorical_accuracy,factorized_top_k/top_100_categorical_accuracy,loss,regularization_loss,total_loss\n"
     ]
    },
    {
     "name": "stdout",
     "output_type": "stream",
     "text": [
      "79/79 [==============================] - 1s 14ms/step - factorized_top_k/top_1_categorical_accuracy: 0.0000e+00 - factorized_top_k/top_5_categorical_accuracy: 0.0000e+00 - factorized_top_k/top_10_categorical_accuracy: 0.0000e+00 - factorized_top_k/top_50_categorical_accuracy: 0.0000e+00 - factorized_top_k/top_100_categorical_accuracy: 0.0000e+00 - loss: 6434.8040 - regularization_loss: 0.0000e+00 - total_loss: 6434.8040\n",
      "Epoch 41/100\n",
      "79/79 [==============================] - ETA: 0s - factorized_top_k/top_1_categorical_accuracy: 0.0000e+00 - factorized_top_k/top_5_categorical_accuracy: 0.0000e+00 - factorized_top_k/top_10_categorical_accuracy: 0.0000e+00 - factorized_top_k/top_50_categorical_accuracy: 0.0000e+00 - factorized_top_k/top_100_categorical_accuracy: 0.0000e+00 - loss: 6508.9205 - regularization_loss: 0.0000e+00 - total_loss: 6508.9205WARNING:tensorflow:Early stopping conditioned on metric `val_loss` which is not available. Available metrics are: factorized_top_k/top_1_categorical_accuracy,factorized_top_k/top_5_categorical_accuracy,factorized_top_k/top_10_categorical_accuracy,factorized_top_k/top_50_categorical_accuracy,factorized_top_k/top_100_categorical_accuracy,loss,regularization_loss,total_loss\n"
     ]
    },
    {
     "name": "stderr",
     "output_type": "stream",
     "text": [
      "WARNING:tensorflow:Early stopping conditioned on metric `val_loss` which is not available. Available metrics are: factorized_top_k/top_1_categorical_accuracy,factorized_top_k/top_5_categorical_accuracy,factorized_top_k/top_10_categorical_accuracy,factorized_top_k/top_50_categorical_accuracy,factorized_top_k/top_100_categorical_accuracy,loss,regularization_loss,total_loss\n"
     ]
    },
    {
     "name": "stdout",
     "output_type": "stream",
     "text": [
      "79/79 [==============================] - 1s 16ms/step - factorized_top_k/top_1_categorical_accuracy: 0.0000e+00 - factorized_top_k/top_5_categorical_accuracy: 0.0000e+00 - factorized_top_k/top_10_categorical_accuracy: 0.0000e+00 - factorized_top_k/top_50_categorical_accuracy: 0.0000e+00 - factorized_top_k/top_100_categorical_accuracy: 0.0000e+00 - loss: 6434.3824 - regularization_loss: 0.0000e+00 - total_loss: 6434.3824\n",
      "Epoch 42/100\n",
      "79/79 [==============================] - ETA: 0s - factorized_top_k/top_1_categorical_accuracy: 0.0000e+00 - factorized_top_k/top_5_categorical_accuracy: 0.0000e+00 - factorized_top_k/top_10_categorical_accuracy: 0.0000e+00 - factorized_top_k/top_50_categorical_accuracy: 0.0000e+00 - factorized_top_k/top_100_categorical_accuracy: 0.0000e+00 - loss: 6508.5128 - regularization_loss: 0.0000e+00 - total_loss: 6508.5128WARNING:tensorflow:Early stopping conditioned on metric `val_loss` which is not available. Available metrics are: factorized_top_k/top_1_categorical_accuracy,factorized_top_k/top_5_categorical_accuracy,factorized_top_k/top_10_categorical_accuracy,factorized_top_k/top_50_categorical_accuracy,factorized_top_k/top_100_categorical_accuracy,loss,regularization_loss,total_loss\n"
     ]
    },
    {
     "name": "stderr",
     "output_type": "stream",
     "text": [
      "WARNING:tensorflow:Early stopping conditioned on metric `val_loss` which is not available. Available metrics are: factorized_top_k/top_1_categorical_accuracy,factorized_top_k/top_5_categorical_accuracy,factorized_top_k/top_10_categorical_accuracy,factorized_top_k/top_50_categorical_accuracy,factorized_top_k/top_100_categorical_accuracy,loss,regularization_loss,total_loss\n"
     ]
    },
    {
     "name": "stdout",
     "output_type": "stream",
     "text": [
      "79/79 [==============================] - 1s 17ms/step - factorized_top_k/top_1_categorical_accuracy: 0.0000e+00 - factorized_top_k/top_5_categorical_accuracy: 0.0000e+00 - factorized_top_k/top_10_categorical_accuracy: 0.0000e+00 - factorized_top_k/top_50_categorical_accuracy: 0.0000e+00 - factorized_top_k/top_100_categorical_accuracy: 0.0000e+00 - loss: 6433.9794 - regularization_loss: 0.0000e+00 - total_loss: 6433.9794\n",
      "Epoch 43/100\n",
      "77/79 [============================>.] - ETA: 0s - factorized_top_k/top_1_categorical_accuracy: 0.0000e+00 - factorized_top_k/top_5_categorical_accuracy: 0.0000e+00 - factorized_top_k/top_10_categorical_accuracy: 0.0000e+00 - factorized_top_k/top_50_categorical_accuracy: 0.0000e+00 - factorized_top_k/top_100_categorical_accuracy: 0.0000e+00 - loss: 6584.6205 - regularization_loss: 0.0000e+00 - total_loss: 6584.6205WARNING:tensorflow:Early stopping conditioned on metric `val_loss` which is not available. Available metrics are: factorized_top_k/top_1_categorical_accuracy,factorized_top_k/top_5_categorical_accuracy,factorized_top_k/top_10_categorical_accuracy,factorized_top_k/top_50_categorical_accuracy,factorized_top_k/top_100_categorical_accuracy,loss,regularization_loss,total_loss\n"
     ]
    },
    {
     "name": "stderr",
     "output_type": "stream",
     "text": [
      "WARNING:tensorflow:Early stopping conditioned on metric `val_loss` which is not available. Available metrics are: factorized_top_k/top_1_categorical_accuracy,factorized_top_k/top_5_categorical_accuracy,factorized_top_k/top_10_categorical_accuracy,factorized_top_k/top_50_categorical_accuracy,factorized_top_k/top_100_categorical_accuracy,loss,regularization_loss,total_loss\n"
     ]
    },
    {
     "name": "stdout",
     "output_type": "stream",
     "text": [
      "79/79 [==============================] - 1s 17ms/step - factorized_top_k/top_1_categorical_accuracy: 0.0000e+00 - factorized_top_k/top_5_categorical_accuracy: 0.0000e+00 - factorized_top_k/top_10_categorical_accuracy: 0.0000e+00 - factorized_top_k/top_50_categorical_accuracy: 0.0000e+00 - factorized_top_k/top_100_categorical_accuracy: 0.0000e+00 - loss: 6433.5928 - regularization_loss: 0.0000e+00 - total_loss: 6433.5928\n",
      "Epoch 44/100\n",
      "76/79 [===========================>..] - ETA: 0s - factorized_top_k/top_1_categorical_accuracy: 0.0000e+00 - factorized_top_k/top_5_categorical_accuracy: 0.0000e+00 - factorized_top_k/top_10_categorical_accuracy: 0.0000e+00 - factorized_top_k/top_50_categorical_accuracy: 0.0000e+00 - factorized_top_k/top_100_categorical_accuracy: 0.0000e+00 - loss: 6584.6653 - regularization_loss: 0.0000e+00 - total_loss: 6584.6653WARNING:tensorflow:Early stopping conditioned on metric `val_loss` which is not available. Available metrics are: factorized_top_k/top_1_categorical_accuracy,factorized_top_k/top_5_categorical_accuracy,factorized_top_k/top_10_categorical_accuracy,factorized_top_k/top_50_categorical_accuracy,factorized_top_k/top_100_categorical_accuracy,loss,regularization_loss,total_loss\n"
     ]
    },
    {
     "name": "stderr",
     "output_type": "stream",
     "text": [
      "WARNING:tensorflow:Early stopping conditioned on metric `val_loss` which is not available. Available metrics are: factorized_top_k/top_1_categorical_accuracy,factorized_top_k/top_5_categorical_accuracy,factorized_top_k/top_10_categorical_accuracy,factorized_top_k/top_50_categorical_accuracy,factorized_top_k/top_100_categorical_accuracy,loss,regularization_loss,total_loss\n"
     ]
    },
    {
     "name": "stdout",
     "output_type": "stream",
     "text": [
      "79/79 [==============================] - 1s 17ms/step - factorized_top_k/top_1_categorical_accuracy: 0.0000e+00 - factorized_top_k/top_5_categorical_accuracy: 0.0000e+00 - factorized_top_k/top_10_categorical_accuracy: 0.0000e+00 - factorized_top_k/top_50_categorical_accuracy: 0.0000e+00 - factorized_top_k/top_100_categorical_accuracy: 0.0000e+00 - loss: 6433.2216 - regularization_loss: 0.0000e+00 - total_loss: 6433.2216\n",
      "Epoch 45/100\n",
      "76/79 [===========================>..] - ETA: 0s - factorized_top_k/top_1_categorical_accuracy: 0.0000e+00 - factorized_top_k/top_5_categorical_accuracy: 0.0000e+00 - factorized_top_k/top_10_categorical_accuracy: 0.0000e+00 - factorized_top_k/top_50_categorical_accuracy: 0.0000e+00 - factorized_top_k/top_100_categorical_accuracy: 0.0000e+00 - loss: 6584.2971 - regularization_loss: 0.0000e+00 - total_loss: 6584.2971WARNING:tensorflow:Early stopping conditioned on metric `val_loss` which is not available. Available metrics are: factorized_top_k/top_1_categorical_accuracy,factorized_top_k/top_5_categorical_accuracy,factorized_top_k/top_10_categorical_accuracy,factorized_top_k/top_50_categorical_accuracy,factorized_top_k/top_100_categorical_accuracy,loss,regularization_loss,total_loss\n"
     ]
    },
    {
     "name": "stderr",
     "output_type": "stream",
     "text": [
      "WARNING:tensorflow:Early stopping conditioned on metric `val_loss` which is not available. Available metrics are: factorized_top_k/top_1_categorical_accuracy,factorized_top_k/top_5_categorical_accuracy,factorized_top_k/top_10_categorical_accuracy,factorized_top_k/top_50_categorical_accuracy,factorized_top_k/top_100_categorical_accuracy,loss,regularization_loss,total_loss\n"
     ]
    },
    {
     "name": "stdout",
     "output_type": "stream",
     "text": [
      "79/79 [==============================] - 1s 17ms/step - factorized_top_k/top_1_categorical_accuracy: 0.0000e+00 - factorized_top_k/top_5_categorical_accuracy: 0.0000e+00 - factorized_top_k/top_10_categorical_accuracy: 0.0000e+00 - factorized_top_k/top_50_categorical_accuracy: 0.0000e+00 - factorized_top_k/top_100_categorical_accuracy: 0.0000e+00 - loss: 6432.8647 - regularization_loss: 0.0000e+00 - total_loss: 6432.8647\n",
      "Epoch 46/100\n",
      "76/79 [===========================>..] - ETA: 0s - factorized_top_k/top_1_categorical_accuracy: 0.0000e+00 - factorized_top_k/top_5_categorical_accuracy: 0.0000e+00 - factorized_top_k/top_10_categorical_accuracy: 0.0000e+00 - factorized_top_k/top_50_categorical_accuracy: 0.0000e+00 - factorized_top_k/top_100_categorical_accuracy: 0.0000e+00 - loss: 6583.9423 - regularization_loss: 0.0000e+00 - total_loss: 6583.9423WARNING:tensorflow:Early stopping conditioned on metric `val_loss` which is not available. Available metrics are: factorized_top_k/top_1_categorical_accuracy,factorized_top_k/top_5_categorical_accuracy,factorized_top_k/top_10_categorical_accuracy,factorized_top_k/top_50_categorical_accuracy,factorized_top_k/top_100_categorical_accuracy,loss,regularization_loss,total_loss\n"
     ]
    },
    {
     "name": "stderr",
     "output_type": "stream",
     "text": [
      "WARNING:tensorflow:Early stopping conditioned on metric `val_loss` which is not available. Available metrics are: factorized_top_k/top_1_categorical_accuracy,factorized_top_k/top_5_categorical_accuracy,factorized_top_k/top_10_categorical_accuracy,factorized_top_k/top_50_categorical_accuracy,factorized_top_k/top_100_categorical_accuracy,loss,regularization_loss,total_loss\n"
     ]
    },
    {
     "name": "stdout",
     "output_type": "stream",
     "text": [
      "79/79 [==============================] - 1s 18ms/step - factorized_top_k/top_1_categorical_accuracy: 0.0000e+00 - factorized_top_k/top_5_categorical_accuracy: 0.0000e+00 - factorized_top_k/top_10_categorical_accuracy: 0.0000e+00 - factorized_top_k/top_50_categorical_accuracy: 0.0000e+00 - factorized_top_k/top_100_categorical_accuracy: 0.0000e+00 - loss: 6432.5209 - regularization_loss: 0.0000e+00 - total_loss: 6432.5209\n",
      "Epoch 47/100\n",
      "79/79 [==============================] - ETA: 0s - factorized_top_k/top_1_categorical_accuracy: 0.0000e+00 - factorized_top_k/top_5_categorical_accuracy: 0.0000e+00 - factorized_top_k/top_10_categorical_accuracy: 0.0000e+00 - factorized_top_k/top_50_categorical_accuracy: 0.0000e+00 - factorized_top_k/top_100_categorical_accuracy: 0.0000e+00 - loss: 6506.7021 - regularization_loss: 0.0000e+00 - total_loss: 6506.7021WARNING:tensorflow:Early stopping conditioned on metric `val_loss` which is not available. Available metrics are: factorized_top_k/top_1_categorical_accuracy,factorized_top_k/top_5_categorical_accuracy,factorized_top_k/top_10_categorical_accuracy,factorized_top_k/top_50_categorical_accuracy,factorized_top_k/top_100_categorical_accuracy,loss,regularization_loss,total_loss\n"
     ]
    },
    {
     "name": "stderr",
     "output_type": "stream",
     "text": [
      "WARNING:tensorflow:Early stopping conditioned on metric `val_loss` which is not available. Available metrics are: factorized_top_k/top_1_categorical_accuracy,factorized_top_k/top_5_categorical_accuracy,factorized_top_k/top_10_categorical_accuracy,factorized_top_k/top_50_categorical_accuracy,factorized_top_k/top_100_categorical_accuracy,loss,regularization_loss,total_loss\n"
     ]
    },
    {
     "name": "stdout",
     "output_type": "stream",
     "text": [
      "79/79 [==============================] - 1s 17ms/step - factorized_top_k/top_1_categorical_accuracy: 0.0000e+00 - factorized_top_k/top_5_categorical_accuracy: 0.0000e+00 - factorized_top_k/top_10_categorical_accuracy: 0.0000e+00 - factorized_top_k/top_50_categorical_accuracy: 0.0000e+00 - factorized_top_k/top_100_categorical_accuracy: 0.0000e+00 - loss: 6432.1896 - regularization_loss: 0.0000e+00 - total_loss: 6432.1896\n",
      "Epoch 48/100\n",
      "78/79 [============================>.] - ETA: 0s - factorized_top_k/top_1_categorical_accuracy: 0.0000e+00 - factorized_top_k/top_5_categorical_accuracy: 0.0000e+00 - factorized_top_k/top_10_categorical_accuracy: 0.0000e+00 - factorized_top_k/top_50_categorical_accuracy: 0.0000e+00 - factorized_top_k/top_100_categorical_accuracy: 0.0000e+00 - loss: 6582.7979 - regularization_loss: 0.0000e+00 - total_loss: 6582.7979WARNING:tensorflow:Early stopping conditioned on metric `val_loss` which is not available. Available metrics are: factorized_top_k/top_1_categorical_accuracy,factorized_top_k/top_5_categorical_accuracy,factorized_top_k/top_10_categorical_accuracy,factorized_top_k/top_50_categorical_accuracy,factorized_top_k/top_100_categorical_accuracy,loss,regularization_loss,total_loss\n"
     ]
    },
    {
     "name": "stderr",
     "output_type": "stream",
     "text": [
      "WARNING:tensorflow:Early stopping conditioned on metric `val_loss` which is not available. Available metrics are: factorized_top_k/top_1_categorical_accuracy,factorized_top_k/top_5_categorical_accuracy,factorized_top_k/top_10_categorical_accuracy,factorized_top_k/top_50_categorical_accuracy,factorized_top_k/top_100_categorical_accuracy,loss,regularization_loss,total_loss\n"
     ]
    },
    {
     "name": "stdout",
     "output_type": "stream",
     "text": [
      "79/79 [==============================] - 1s 18ms/step - factorized_top_k/top_1_categorical_accuracy: 0.0000e+00 - factorized_top_k/top_5_categorical_accuracy: 0.0000e+00 - factorized_top_k/top_10_categorical_accuracy: 0.0000e+00 - factorized_top_k/top_50_categorical_accuracy: 0.0000e+00 - factorized_top_k/top_100_categorical_accuracy: 0.0000e+00 - loss: 6431.8698 - regularization_loss: 0.0000e+00 - total_loss: 6431.8698\n",
      "Epoch 49/100\n",
      "79/79 [==============================] - ETA: 0s - factorized_top_k/top_1_categorical_accuracy: 0.0000e+00 - factorized_top_k/top_5_categorical_accuracy: 0.0000e+00 - factorized_top_k/top_10_categorical_accuracy: 0.0000e+00 - factorized_top_k/top_50_categorical_accuracy: 0.0000e+00 - factorized_top_k/top_100_categorical_accuracy: 0.0000e+00 - loss: 6506.0658 - regularization_loss: 0.0000e+00 - total_loss: 6506.0658WARNING:tensorflow:Early stopping conditioned on metric `val_loss` which is not available. Available metrics are: factorized_top_k/top_1_categorical_accuracy,factorized_top_k/top_5_categorical_accuracy,factorized_top_k/top_10_categorical_accuracy,factorized_top_k/top_50_categorical_accuracy,factorized_top_k/top_100_categorical_accuracy,loss,regularization_loss,total_loss\n"
     ]
    },
    {
     "name": "stderr",
     "output_type": "stream",
     "text": [
      "WARNING:tensorflow:Early stopping conditioned on metric `val_loss` which is not available. Available metrics are: factorized_top_k/top_1_categorical_accuracy,factorized_top_k/top_5_categorical_accuracy,factorized_top_k/top_10_categorical_accuracy,factorized_top_k/top_50_categorical_accuracy,factorized_top_k/top_100_categorical_accuracy,loss,regularization_loss,total_loss\n"
     ]
    },
    {
     "name": "stdout",
     "output_type": "stream",
     "text": [
      "79/79 [==============================] - 1s 17ms/step - factorized_top_k/top_1_categorical_accuracy: 0.0000e+00 - factorized_top_k/top_5_categorical_accuracy: 0.0000e+00 - factorized_top_k/top_10_categorical_accuracy: 0.0000e+00 - factorized_top_k/top_50_categorical_accuracy: 0.0000e+00 - factorized_top_k/top_100_categorical_accuracy: 0.0000e+00 - loss: 6431.5607 - regularization_loss: 0.0000e+00 - total_loss: 6431.5607\n",
      "Epoch 50/100\n",
      "78/79 [============================>.] - ETA: 0s - factorized_top_k/top_1_categorical_accuracy: 0.0000e+00 - factorized_top_k/top_5_categorical_accuracy: 0.0000e+00 - factorized_top_k/top_10_categorical_accuracy: 0.0000e+00 - factorized_top_k/top_50_categorical_accuracy: 0.0000e+00 - factorized_top_k/top_100_categorical_accuracy: 0.0000e+00 - loss: 6582.1751 - regularization_loss: 0.0000e+00 - total_loss: 6582.1751WARNING:tensorflow:Early stopping conditioned on metric `val_loss` which is not available. Available metrics are: factorized_top_k/top_1_categorical_accuracy,factorized_top_k/top_5_categorical_accuracy,factorized_top_k/top_10_categorical_accuracy,factorized_top_k/top_50_categorical_accuracy,factorized_top_k/top_100_categorical_accuracy,loss,regularization_loss,total_loss\n"
     ]
    },
    {
     "name": "stderr",
     "output_type": "stream",
     "text": [
      "WARNING:tensorflow:Early stopping conditioned on metric `val_loss` which is not available. Available metrics are: factorized_top_k/top_1_categorical_accuracy,factorized_top_k/top_5_categorical_accuracy,factorized_top_k/top_10_categorical_accuracy,factorized_top_k/top_50_categorical_accuracy,factorized_top_k/top_100_categorical_accuracy,loss,regularization_loss,total_loss\n"
     ]
    },
    {
     "name": "stdout",
     "output_type": "stream",
     "text": [
      "79/79 [==============================] - 1s 18ms/step - factorized_top_k/top_1_categorical_accuracy: 0.0000e+00 - factorized_top_k/top_5_categorical_accuracy: 0.0000e+00 - factorized_top_k/top_10_categorical_accuracy: 0.0000e+00 - factorized_top_k/top_50_categorical_accuracy: 0.0000e+00 - factorized_top_k/top_100_categorical_accuracy: 0.0000e+00 - loss: 6431.2617 - regularization_loss: 0.0000e+00 - total_loss: 6431.2617\n",
      "Epoch 51/100\n",
      "79/79 [==============================] - ETA: 0s - factorized_top_k/top_1_categorical_accuracy: 0.0000e+00 - factorized_top_k/top_5_categorical_accuracy: 0.0000e+00 - factorized_top_k/top_10_categorical_accuracy: 0.0000e+00 - factorized_top_k/top_50_categorical_accuracy: 0.0000e+00 - factorized_top_k/top_100_categorical_accuracy: 0.0000e+00 - loss: 6505.4702 - regularization_loss: 0.0000e+00 - total_loss: 6505.4702WARNING:tensorflow:Early stopping conditioned on metric `val_loss` which is not available. Available metrics are: factorized_top_k/top_1_categorical_accuracy,factorized_top_k/top_5_categorical_accuracy,factorized_top_k/top_10_categorical_accuracy,factorized_top_k/top_50_categorical_accuracy,factorized_top_k/top_100_categorical_accuracy,loss,regularization_loss,total_loss\n"
     ]
    },
    {
     "name": "stderr",
     "output_type": "stream",
     "text": [
      "WARNING:tensorflow:Early stopping conditioned on metric `val_loss` which is not available. Available metrics are: factorized_top_k/top_1_categorical_accuracy,factorized_top_k/top_5_categorical_accuracy,factorized_top_k/top_10_categorical_accuracy,factorized_top_k/top_50_categorical_accuracy,factorized_top_k/top_100_categorical_accuracy,loss,regularization_loss,total_loss\n"
     ]
    },
    {
     "name": "stdout",
     "output_type": "stream",
     "text": [
      "79/79 [==============================] - 1s 17ms/step - factorized_top_k/top_1_categorical_accuracy: 0.0000e+00 - factorized_top_k/top_5_categorical_accuracy: 0.0000e+00 - factorized_top_k/top_10_categorical_accuracy: 0.0000e+00 - factorized_top_k/top_50_categorical_accuracy: 0.0000e+00 - factorized_top_k/top_100_categorical_accuracy: 0.0000e+00 - loss: 6430.9721 - regularization_loss: 0.0000e+00 - total_loss: 6430.9721\n",
      "Epoch 52/100\n",
      "77/79 [============================>.] - ETA: 0s - factorized_top_k/top_1_categorical_accuracy: 0.0000e+00 - factorized_top_k/top_5_categorical_accuracy: 0.0000e+00 - factorized_top_k/top_10_categorical_accuracy: 0.0000e+00 - factorized_top_k/top_50_categorical_accuracy: 0.0000e+00 - factorized_top_k/top_100_categorical_accuracy: 0.0000e+00 - loss: 6581.6349 - regularization_loss: 0.0000e+00 - total_loss: 6581.6349WARNING:tensorflow:Early stopping conditioned on metric `val_loss` which is not available. Available metrics are: factorized_top_k/top_1_categorical_accuracy,factorized_top_k/top_5_categorical_accuracy,factorized_top_k/top_10_categorical_accuracy,factorized_top_k/top_50_categorical_accuracy,factorized_top_k/top_100_categorical_accuracy,loss,regularization_loss,total_loss\n"
     ]
    },
    {
     "name": "stderr",
     "output_type": "stream",
     "text": [
      "WARNING:tensorflow:Early stopping conditioned on metric `val_loss` which is not available. Available metrics are: factorized_top_k/top_1_categorical_accuracy,factorized_top_k/top_5_categorical_accuracy,factorized_top_k/top_10_categorical_accuracy,factorized_top_k/top_50_categorical_accuracy,factorized_top_k/top_100_categorical_accuracy,loss,regularization_loss,total_loss\n"
     ]
    },
    {
     "name": "stdout",
     "output_type": "stream",
     "text": [
      "79/79 [==============================] - 1s 18ms/step - factorized_top_k/top_1_categorical_accuracy: 0.0000e+00 - factorized_top_k/top_5_categorical_accuracy: 0.0000e+00 - factorized_top_k/top_10_categorical_accuracy: 0.0000e+00 - factorized_top_k/top_50_categorical_accuracy: 0.0000e+00 - factorized_top_k/top_100_categorical_accuracy: 0.0000e+00 - loss: 6430.6915 - regularization_loss: 0.0000e+00 - total_loss: 6430.6915\n",
      "Epoch 53/100\n",
      "77/79 [============================>.] - ETA: 0s - factorized_top_k/top_1_categorical_accuracy: 0.0000e+00 - factorized_top_k/top_5_categorical_accuracy: 0.0000e+00 - factorized_top_k/top_10_categorical_accuracy: 0.0000e+00 - factorized_top_k/top_50_categorical_accuracy: 0.0000e+00 - factorized_top_k/top_100_categorical_accuracy: 0.0000e+00 - loss: 6581.3536 - regularization_loss: 0.0000e+00 - total_loss: 6581.3536WARNING:tensorflow:Early stopping conditioned on metric `val_loss` which is not available. Available metrics are: factorized_top_k/top_1_categorical_accuracy,factorized_top_k/top_5_categorical_accuracy,factorized_top_k/top_10_categorical_accuracy,factorized_top_k/top_50_categorical_accuracy,factorized_top_k/top_100_categorical_accuracy,loss,regularization_loss,total_loss\n"
     ]
    },
    {
     "name": "stderr",
     "output_type": "stream",
     "text": [
      "WARNING:tensorflow:Early stopping conditioned on metric `val_loss` which is not available. Available metrics are: factorized_top_k/top_1_categorical_accuracy,factorized_top_k/top_5_categorical_accuracy,factorized_top_k/top_10_categorical_accuracy,factorized_top_k/top_50_categorical_accuracy,factorized_top_k/top_100_categorical_accuracy,loss,regularization_loss,total_loss\n"
     ]
    },
    {
     "name": "stdout",
     "output_type": "stream",
     "text": [
      "79/79 [==============================] - 1s 17ms/step - factorized_top_k/top_1_categorical_accuracy: 0.0000e+00 - factorized_top_k/top_5_categorical_accuracy: 0.0000e+00 - factorized_top_k/top_10_categorical_accuracy: 0.0000e+00 - factorized_top_k/top_50_categorical_accuracy: 0.0000e+00 - factorized_top_k/top_100_categorical_accuracy: 0.0000e+00 - loss: 6430.4185 - regularization_loss: 0.0000e+00 - total_loss: 6430.4185\n",
      "Epoch 54/100\n",
      "76/79 [===========================>..] - ETA: 0s - factorized_top_k/top_1_categorical_accuracy: 0.0000e+00 - factorized_top_k/top_5_categorical_accuracy: 0.0000e+00 - factorized_top_k/top_10_categorical_accuracy: 0.0000e+00 - factorized_top_k/top_50_categorical_accuracy: 0.0000e+00 - factorized_top_k/top_100_categorical_accuracy: 0.0000e+00 - loss: 6581.4969 - regularization_loss: 0.0000e+00 - total_loss: 6581.4969WARNING:tensorflow:Early stopping conditioned on metric `val_loss` which is not available. Available metrics are: factorized_top_k/top_1_categorical_accuracy,factorized_top_k/top_5_categorical_accuracy,factorized_top_k/top_10_categorical_accuracy,factorized_top_k/top_50_categorical_accuracy,factorized_top_k/top_100_categorical_accuracy,loss,regularization_loss,total_loss\n"
     ]
    },
    {
     "name": "stderr",
     "output_type": "stream",
     "text": [
      "WARNING:tensorflow:Early stopping conditioned on metric `val_loss` which is not available. Available metrics are: factorized_top_k/top_1_categorical_accuracy,factorized_top_k/top_5_categorical_accuracy,factorized_top_k/top_10_categorical_accuracy,factorized_top_k/top_50_categorical_accuracy,factorized_top_k/top_100_categorical_accuracy,loss,regularization_loss,total_loss\n"
     ]
    },
    {
     "name": "stdout",
     "output_type": "stream",
     "text": [
      "79/79 [==============================] - 1s 17ms/step - factorized_top_k/top_1_categorical_accuracy: 0.0000e+00 - factorized_top_k/top_5_categorical_accuracy: 0.0000e+00 - factorized_top_k/top_10_categorical_accuracy: 0.0000e+00 - factorized_top_k/top_50_categorical_accuracy: 0.0000e+00 - factorized_top_k/top_100_categorical_accuracy: 0.0000e+00 - loss: 6430.1540 - regularization_loss: 0.0000e+00 - total_loss: 6430.1540\n",
      "Epoch 55/100\n",
      "77/79 [============================>.] - ETA: 0s - factorized_top_k/top_1_categorical_accuracy: 0.0000e+00 - factorized_top_k/top_5_categorical_accuracy: 0.0000e+00 - factorized_top_k/top_10_categorical_accuracy: 0.0000e+00 - factorized_top_k/top_50_categorical_accuracy: 0.0000e+00 - factorized_top_k/top_100_categorical_accuracy: 0.0000e+00 - loss: 6580.8156 - regularization_loss: 0.0000e+00 - total_loss: 6580.8156WARNING:tensorflow:Early stopping conditioned on metric `val_loss` which is not available. Available metrics are: factorized_top_k/top_1_categorical_accuracy,factorized_top_k/top_5_categorical_accuracy,factorized_top_k/top_10_categorical_accuracy,factorized_top_k/top_50_categorical_accuracy,factorized_top_k/top_100_categorical_accuracy,loss,regularization_loss,total_loss\n"
     ]
    },
    {
     "name": "stderr",
     "output_type": "stream",
     "text": [
      "WARNING:tensorflow:Early stopping conditioned on metric `val_loss` which is not available. Available metrics are: factorized_top_k/top_1_categorical_accuracy,factorized_top_k/top_5_categorical_accuracy,factorized_top_k/top_10_categorical_accuracy,factorized_top_k/top_50_categorical_accuracy,factorized_top_k/top_100_categorical_accuracy,loss,regularization_loss,total_loss\n"
     ]
    },
    {
     "name": "stdout",
     "output_type": "stream",
     "text": [
      "79/79 [==============================] - 1s 15ms/step - factorized_top_k/top_1_categorical_accuracy: 0.0000e+00 - factorized_top_k/top_5_categorical_accuracy: 0.0000e+00 - factorized_top_k/top_10_categorical_accuracy: 0.0000e+00 - factorized_top_k/top_50_categorical_accuracy: 0.0000e+00 - factorized_top_k/top_100_categorical_accuracy: 0.0000e+00 - loss: 6429.8962 - regularization_loss: 0.0000e+00 - total_loss: 6429.8962\n",
      "Epoch 56/100\n",
      "78/79 [============================>.] - ETA: 0s - factorized_top_k/top_1_categorical_accuracy: 0.0000e+00 - factorized_top_k/top_5_categorical_accuracy: 0.0000e+00 - factorized_top_k/top_10_categorical_accuracy: 0.0000e+00 - factorized_top_k/top_50_categorical_accuracy: 0.0000e+00 - factorized_top_k/top_100_categorical_accuracy: 0.0000e+00 - loss: 6580.5199 - regularization_loss: 0.0000e+00 - total_loss: 6580.5199WARNING:tensorflow:Early stopping conditioned on metric `val_loss` which is not available. Available metrics are: factorized_top_k/top_1_categorical_accuracy,factorized_top_k/top_5_categorical_accuracy,factorized_top_k/top_10_categorical_accuracy,factorized_top_k/top_50_categorical_accuracy,factorized_top_k/top_100_categorical_accuracy,loss,regularization_loss,total_loss\n"
     ]
    },
    {
     "name": "stderr",
     "output_type": "stream",
     "text": [
      "WARNING:tensorflow:Early stopping conditioned on metric `val_loss` which is not available. Available metrics are: factorized_top_k/top_1_categorical_accuracy,factorized_top_k/top_5_categorical_accuracy,factorized_top_k/top_10_categorical_accuracy,factorized_top_k/top_50_categorical_accuracy,factorized_top_k/top_100_categorical_accuracy,loss,regularization_loss,total_loss\n"
     ]
    },
    {
     "name": "stdout",
     "output_type": "stream",
     "text": [
      "79/79 [==============================] - 1s 17ms/step - factorized_top_k/top_1_categorical_accuracy: 0.0000e+00 - factorized_top_k/top_5_categorical_accuracy: 0.0000e+00 - factorized_top_k/top_10_categorical_accuracy: 0.0000e+00 - factorized_top_k/top_50_categorical_accuracy: 0.0000e+00 - factorized_top_k/top_100_categorical_accuracy: 0.0000e+00 - loss: 6429.6460 - regularization_loss: 0.0000e+00 - total_loss: 6429.6460\n",
      "Epoch 57/100\n",
      "79/79 [==============================] - ETA: 0s - factorized_top_k/top_1_categorical_accuracy: 0.0000e+00 - factorized_top_k/top_5_categorical_accuracy: 0.0000e+00 - factorized_top_k/top_10_categorical_accuracy: 0.0000e+00 - factorized_top_k/top_50_categorical_accuracy: 0.0000e+00 - factorized_top_k/top_100_categorical_accuracy: 0.0000e+00 - loss: 6503.8815 - regularization_loss: 0.0000e+00 - total_loss: 6503.8815WARNING:tensorflow:Early stopping conditioned on metric `val_loss` which is not available. Available metrics are: factorized_top_k/top_1_categorical_accuracy,factorized_top_k/top_5_categorical_accuracy,factorized_top_k/top_10_categorical_accuracy,factorized_top_k/top_50_categorical_accuracy,factorized_top_k/top_100_categorical_accuracy,loss,regularization_loss,total_loss\n"
     ]
    },
    {
     "name": "stderr",
     "output_type": "stream",
     "text": [
      "WARNING:tensorflow:Early stopping conditioned on metric `val_loss` which is not available. Available metrics are: factorized_top_k/top_1_categorical_accuracy,factorized_top_k/top_5_categorical_accuracy,factorized_top_k/top_10_categorical_accuracy,factorized_top_k/top_50_categorical_accuracy,factorized_top_k/top_100_categorical_accuracy,loss,regularization_loss,total_loss\n"
     ]
    },
    {
     "name": "stdout",
     "output_type": "stream",
     "text": [
      "79/79 [==============================] - 1s 15ms/step - factorized_top_k/top_1_categorical_accuracy: 0.0000e+00 - factorized_top_k/top_5_categorical_accuracy: 0.0000e+00 - factorized_top_k/top_10_categorical_accuracy: 0.0000e+00 - factorized_top_k/top_50_categorical_accuracy: 0.0000e+00 - factorized_top_k/top_100_categorical_accuracy: 0.0000e+00 - loss: 6429.4025 - regularization_loss: 0.0000e+00 - total_loss: 6429.4025\n",
      "Epoch 58/100\n",
      "79/79 [==============================] - ETA: 0s - factorized_top_k/top_1_categorical_accuracy: 0.0000e+00 - factorized_top_k/top_5_categorical_accuracy: 0.0000e+00 - factorized_top_k/top_10_categorical_accuracy: 0.0000e+00 - factorized_top_k/top_50_categorical_accuracy: 0.0000e+00 - factorized_top_k/top_100_categorical_accuracy: 0.0000e+00 - loss: 6503.6412 - regularization_loss: 0.0000e+00 - total_loss: 6503.6412WARNING:tensorflow:Early stopping conditioned on metric `val_loss` which is not available. Available metrics are: factorized_top_k/top_1_categorical_accuracy,factorized_top_k/top_5_categorical_accuracy,factorized_top_k/top_10_categorical_accuracy,factorized_top_k/top_50_categorical_accuracy,factorized_top_k/top_100_categorical_accuracy,loss,regularization_loss,total_loss\n"
     ]
    },
    {
     "name": "stderr",
     "output_type": "stream",
     "text": [
      "WARNING:tensorflow:Early stopping conditioned on metric `val_loss` which is not available. Available metrics are: factorized_top_k/top_1_categorical_accuracy,factorized_top_k/top_5_categorical_accuracy,factorized_top_k/top_10_categorical_accuracy,factorized_top_k/top_50_categorical_accuracy,factorized_top_k/top_100_categorical_accuracy,loss,regularization_loss,total_loss\n"
     ]
    },
    {
     "name": "stdout",
     "output_type": "stream",
     "text": [
      "79/79 [==============================] - 1s 16ms/step - factorized_top_k/top_1_categorical_accuracy: 0.0000e+00 - factorized_top_k/top_5_categorical_accuracy: 0.0000e+00 - factorized_top_k/top_10_categorical_accuracy: 0.0000e+00 - factorized_top_k/top_50_categorical_accuracy: 0.0000e+00 - factorized_top_k/top_100_categorical_accuracy: 0.0000e+00 - loss: 6429.1651 - regularization_loss: 0.0000e+00 - total_loss: 6429.1651\n",
      "Epoch 59/100\n",
      "78/79 [============================>.] - ETA: 0s - factorized_top_k/top_1_categorical_accuracy: 0.0000e+00 - factorized_top_k/top_5_categorical_accuracy: 0.0000e+00 - factorized_top_k/top_10_categorical_accuracy: 0.0000e+00 - factorized_top_k/top_50_categorical_accuracy: 0.0000e+00 - factorized_top_k/top_100_categorical_accuracy: 0.0000e+00 - loss: 6579.7901 - regularization_loss: 0.0000e+00 - total_loss: 6579.7901WARNING:tensorflow:Early stopping conditioned on metric `val_loss` which is not available. Available metrics are: factorized_top_k/top_1_categorical_accuracy,factorized_top_k/top_5_categorical_accuracy,factorized_top_k/top_10_categorical_accuracy,factorized_top_k/top_50_categorical_accuracy,factorized_top_k/top_100_categorical_accuracy,loss,regularization_loss,total_loss\n"
     ]
    },
    {
     "name": "stderr",
     "output_type": "stream",
     "text": [
      "WARNING:tensorflow:Early stopping conditioned on metric `val_loss` which is not available. Available metrics are: factorized_top_k/top_1_categorical_accuracy,factorized_top_k/top_5_categorical_accuracy,factorized_top_k/top_10_categorical_accuracy,factorized_top_k/top_50_categorical_accuracy,factorized_top_k/top_100_categorical_accuracy,loss,regularization_loss,total_loss\n"
     ]
    },
    {
     "name": "stdout",
     "output_type": "stream",
     "text": [
      "79/79 [==============================] - 1s 16ms/step - factorized_top_k/top_1_categorical_accuracy: 0.0000e+00 - factorized_top_k/top_5_categorical_accuracy: 0.0000e+00 - factorized_top_k/top_10_categorical_accuracy: 0.0000e+00 - factorized_top_k/top_50_categorical_accuracy: 0.0000e+00 - factorized_top_k/top_100_categorical_accuracy: 0.0000e+00 - loss: 6428.9340 - regularization_loss: 0.0000e+00 - total_loss: 6428.9340\n",
      "Epoch 60/100\n",
      "76/79 [===========================>..] - ETA: 0s - factorized_top_k/top_1_categorical_accuracy: 0.0000e+00 - factorized_top_k/top_5_categorical_accuracy: 0.0000e+00 - factorized_top_k/top_10_categorical_accuracy: 0.0000e+00 - factorized_top_k/top_50_categorical_accuracy: 0.0000e+00 - factorized_top_k/top_100_categorical_accuracy: 0.0000e+00 - loss: 6580.0005 - regularization_loss: 0.0000e+00 - total_loss: 6580.0005WARNING:tensorflow:Early stopping conditioned on metric `val_loss` which is not available. Available metrics are: factorized_top_k/top_1_categorical_accuracy,factorized_top_k/top_5_categorical_accuracy,factorized_top_k/top_10_categorical_accuracy,factorized_top_k/top_50_categorical_accuracy,factorized_top_k/top_100_categorical_accuracy,loss,regularization_loss,total_loss\n"
     ]
    },
    {
     "name": "stderr",
     "output_type": "stream",
     "text": [
      "WARNING:tensorflow:Early stopping conditioned on metric `val_loss` which is not available. Available metrics are: factorized_top_k/top_1_categorical_accuracy,factorized_top_k/top_5_categorical_accuracy,factorized_top_k/top_10_categorical_accuracy,factorized_top_k/top_50_categorical_accuracy,factorized_top_k/top_100_categorical_accuracy,loss,regularization_loss,total_loss\n"
     ]
    },
    {
     "name": "stdout",
     "output_type": "stream",
     "text": [
      "79/79 [==============================] - 1s 15ms/step - factorized_top_k/top_1_categorical_accuracy: 0.0000e+00 - factorized_top_k/top_5_categorical_accuracy: 0.0000e+00 - factorized_top_k/top_10_categorical_accuracy: 0.0000e+00 - factorized_top_k/top_50_categorical_accuracy: 0.0000e+00 - factorized_top_k/top_100_categorical_accuracy: 0.0000e+00 - loss: 6428.7084 - regularization_loss: 0.0000e+00 - total_loss: 6428.7084\n",
      "Epoch 61/100\n",
      "77/79 [============================>.] - ETA: 0s - factorized_top_k/top_1_categorical_accuracy: 0.0000e+00 - factorized_top_k/top_5_categorical_accuracy: 0.0000e+00 - factorized_top_k/top_10_categorical_accuracy: 0.0000e+00 - factorized_top_k/top_50_categorical_accuracy: 0.0000e+00 - factorized_top_k/top_100_categorical_accuracy: 0.0000e+00 - loss: 6579.3641 - regularization_loss: 0.0000e+00 - total_loss: 6579.3641WARNING:tensorflow:Early stopping conditioned on metric `val_loss` which is not available. Available metrics are: factorized_top_k/top_1_categorical_accuracy,factorized_top_k/top_5_categorical_accuracy,factorized_top_k/top_10_categorical_accuracy,factorized_top_k/top_50_categorical_accuracy,factorized_top_k/top_100_categorical_accuracy,loss,regularization_loss,total_loss\n"
     ]
    },
    {
     "name": "stderr",
     "output_type": "stream",
     "text": [
      "WARNING:tensorflow:Early stopping conditioned on metric `val_loss` which is not available. Available metrics are: factorized_top_k/top_1_categorical_accuracy,factorized_top_k/top_5_categorical_accuracy,factorized_top_k/top_10_categorical_accuracy,factorized_top_k/top_50_categorical_accuracy,factorized_top_k/top_100_categorical_accuracy,loss,regularization_loss,total_loss\n"
     ]
    },
    {
     "name": "stdout",
     "output_type": "stream",
     "text": [
      "79/79 [==============================] - 1s 16ms/step - factorized_top_k/top_1_categorical_accuracy: 0.0000e+00 - factorized_top_k/top_5_categorical_accuracy: 0.0000e+00 - factorized_top_k/top_10_categorical_accuracy: 0.0000e+00 - factorized_top_k/top_50_categorical_accuracy: 0.0000e+00 - factorized_top_k/top_100_categorical_accuracy: 0.0000e+00 - loss: 6428.4883 - regularization_loss: 0.0000e+00 - total_loss: 6428.4883\n",
      "Epoch 62/100\n",
      "76/79 [===========================>..] - ETA: 0s - factorized_top_k/top_1_categorical_accuracy: 0.0000e+00 - factorized_top_k/top_5_categorical_accuracy: 0.0000e+00 - factorized_top_k/top_10_categorical_accuracy: 0.0000e+00 - factorized_top_k/top_50_categorical_accuracy: 0.0000e+00 - factorized_top_k/top_100_categorical_accuracy: 0.0000e+00 - loss: 6579.5498 - regularization_loss: 0.0000e+00 - total_loss: 6579.5498WARNING:tensorflow:Early stopping conditioned on metric `val_loss` which is not available. Available metrics are: factorized_top_k/top_1_categorical_accuracy,factorized_top_k/top_5_categorical_accuracy,factorized_top_k/top_10_categorical_accuracy,factorized_top_k/top_50_categorical_accuracy,factorized_top_k/top_100_categorical_accuracy,loss,regularization_loss,total_loss\n"
     ]
    },
    {
     "name": "stderr",
     "output_type": "stream",
     "text": [
      "WARNING:tensorflow:Early stopping conditioned on metric `val_loss` which is not available. Available metrics are: factorized_top_k/top_1_categorical_accuracy,factorized_top_k/top_5_categorical_accuracy,factorized_top_k/top_10_categorical_accuracy,factorized_top_k/top_50_categorical_accuracy,factorized_top_k/top_100_categorical_accuracy,loss,regularization_loss,total_loss\n"
     ]
    },
    {
     "name": "stdout",
     "output_type": "stream",
     "text": [
      "79/79 [==============================] - 1s 15ms/step - factorized_top_k/top_1_categorical_accuracy: 0.0000e+00 - factorized_top_k/top_5_categorical_accuracy: 0.0000e+00 - factorized_top_k/top_10_categorical_accuracy: 0.0000e+00 - factorized_top_k/top_50_categorical_accuracy: 0.0000e+00 - factorized_top_k/top_100_categorical_accuracy: 0.0000e+00 - loss: 6428.2734 - regularization_loss: 0.0000e+00 - total_loss: 6428.2734\n",
      "Epoch 63/100\n",
      "78/79 [============================>.] - ETA: 0s - factorized_top_k/top_1_categorical_accuracy: 0.0000e+00 - factorized_top_k/top_5_categorical_accuracy: 0.0000e+00 - factorized_top_k/top_10_categorical_accuracy: 0.0000e+00 - factorized_top_k/top_50_categorical_accuracy: 0.0000e+00 - factorized_top_k/top_100_categorical_accuracy: 0.0000e+00 - loss: 6578.8977 - regularization_loss: 0.0000e+00 - total_loss: 6578.8977WARNING:tensorflow:Early stopping conditioned on metric `val_loss` which is not available. Available metrics are: factorized_top_k/top_1_categorical_accuracy,factorized_top_k/top_5_categorical_accuracy,factorized_top_k/top_10_categorical_accuracy,factorized_top_k/top_50_categorical_accuracy,factorized_top_k/top_100_categorical_accuracy,loss,regularization_loss,total_loss\n"
     ]
    },
    {
     "name": "stderr",
     "output_type": "stream",
     "text": [
      "WARNING:tensorflow:Early stopping conditioned on metric `val_loss` which is not available. Available metrics are: factorized_top_k/top_1_categorical_accuracy,factorized_top_k/top_5_categorical_accuracy,factorized_top_k/top_10_categorical_accuracy,factorized_top_k/top_50_categorical_accuracy,factorized_top_k/top_100_categorical_accuracy,loss,regularization_loss,total_loss\n"
     ]
    },
    {
     "name": "stdout",
     "output_type": "stream",
     "text": [
      "79/79 [==============================] - 1s 15ms/step - factorized_top_k/top_1_categorical_accuracy: 0.0000e+00 - factorized_top_k/top_5_categorical_accuracy: 0.0000e+00 - factorized_top_k/top_10_categorical_accuracy: 0.0000e+00 - factorized_top_k/top_50_categorical_accuracy: 0.0000e+00 - factorized_top_k/top_100_categorical_accuracy: 0.0000e+00 - loss: 6428.0636 - regularization_loss: 0.0000e+00 - total_loss: 6428.0636\n",
      "Epoch 64/100\n",
      "78/79 [============================>.] - ETA: 0s - factorized_top_k/top_1_categorical_accuracy: 0.0000e+00 - factorized_top_k/top_5_categorical_accuracy: 0.0000e+00 - factorized_top_k/top_10_categorical_accuracy: 0.0000e+00 - factorized_top_k/top_50_categorical_accuracy: 0.0000e+00 - factorized_top_k/top_100_categorical_accuracy: 0.0000e+00 - loss: 6578.6871 - regularization_loss: 0.0000e+00 - total_loss: 6578.6871WARNING:tensorflow:Early stopping conditioned on metric `val_loss` which is not available. Available metrics are: factorized_top_k/top_1_categorical_accuracy,factorized_top_k/top_5_categorical_accuracy,factorized_top_k/top_10_categorical_accuracy,factorized_top_k/top_50_categorical_accuracy,factorized_top_k/top_100_categorical_accuracy,loss,regularization_loss,total_loss\n"
     ]
    },
    {
     "name": "stderr",
     "output_type": "stream",
     "text": [
      "WARNING:tensorflow:Early stopping conditioned on metric `val_loss` which is not available. Available metrics are: factorized_top_k/top_1_categorical_accuracy,factorized_top_k/top_5_categorical_accuracy,factorized_top_k/top_10_categorical_accuracy,factorized_top_k/top_50_categorical_accuracy,factorized_top_k/top_100_categorical_accuracy,loss,regularization_loss,total_loss\n"
     ]
    },
    {
     "name": "stdout",
     "output_type": "stream",
     "text": [
      "79/79 [==============================] - 1s 16ms/step - factorized_top_k/top_1_categorical_accuracy: 0.0000e+00 - factorized_top_k/top_5_categorical_accuracy: 0.0000e+00 - factorized_top_k/top_10_categorical_accuracy: 0.0000e+00 - factorized_top_k/top_50_categorical_accuracy: 0.0000e+00 - factorized_top_k/top_100_categorical_accuracy: 0.0000e+00 - loss: 6427.8583 - regularization_loss: 0.0000e+00 - total_loss: 6427.8583\n",
      "Epoch 65/100\n",
      "77/79 [============================>.] - ETA: 0s - factorized_top_k/top_1_categorical_accuracy: 0.0000e+00 - factorized_top_k/top_5_categorical_accuracy: 0.0000e+00 - factorized_top_k/top_10_categorical_accuracy: 0.0000e+00 - factorized_top_k/top_50_categorical_accuracy: 0.0000e+00 - factorized_top_k/top_100_categorical_accuracy: 0.0000e+00 - loss: 6578.5073 - regularization_loss: 0.0000e+00 - total_loss: 6578.5073WARNING:tensorflow:Early stopping conditioned on metric `val_loss` which is not available. Available metrics are: factorized_top_k/top_1_categorical_accuracy,factorized_top_k/top_5_categorical_accuracy,factorized_top_k/top_10_categorical_accuracy,factorized_top_k/top_50_categorical_accuracy,factorized_top_k/top_100_categorical_accuracy,loss,regularization_loss,total_loss\n"
     ]
    },
    {
     "name": "stderr",
     "output_type": "stream",
     "text": [
      "WARNING:tensorflow:Early stopping conditioned on metric `val_loss` which is not available. Available metrics are: factorized_top_k/top_1_categorical_accuracy,factorized_top_k/top_5_categorical_accuracy,factorized_top_k/top_10_categorical_accuracy,factorized_top_k/top_50_categorical_accuracy,factorized_top_k/top_100_categorical_accuracy,loss,regularization_loss,total_loss\n"
     ]
    },
    {
     "name": "stdout",
     "output_type": "stream",
     "text": [
      "79/79 [==============================] - 1s 17ms/step - factorized_top_k/top_1_categorical_accuracy: 0.0000e+00 - factorized_top_k/top_5_categorical_accuracy: 0.0000e+00 - factorized_top_k/top_10_categorical_accuracy: 0.0000e+00 - factorized_top_k/top_50_categorical_accuracy: 0.0000e+00 - factorized_top_k/top_100_categorical_accuracy: 0.0000e+00 - loss: 6427.6578 - regularization_loss: 0.0000e+00 - total_loss: 6427.6578\n",
      "Epoch 66/100\n",
      "79/79 [==============================] - ETA: 0s - factorized_top_k/top_1_categorical_accuracy: 0.0000e+00 - factorized_top_k/top_5_categorical_accuracy: 0.0000e+00 - factorized_top_k/top_10_categorical_accuracy: 0.0000e+00 - factorized_top_k/top_50_categorical_accuracy: 0.0000e+00 - factorized_top_k/top_100_categorical_accuracy: 0.0000e+00 - loss: 6501.9161 - regularization_loss: 0.0000e+00 - total_loss: 6501.9161WARNING:tensorflow:Early stopping conditioned on metric `val_loss` which is not available. Available metrics are: factorized_top_k/top_1_categorical_accuracy,factorized_top_k/top_5_categorical_accuracy,factorized_top_k/top_10_categorical_accuracy,factorized_top_k/top_50_categorical_accuracy,factorized_top_k/top_100_categorical_accuracy,loss,regularization_loss,total_loss\n"
     ]
    },
    {
     "name": "stderr",
     "output_type": "stream",
     "text": [
      "WARNING:tensorflow:Early stopping conditioned on metric `val_loss` which is not available. Available metrics are: factorized_top_k/top_1_categorical_accuracy,factorized_top_k/top_5_categorical_accuracy,factorized_top_k/top_10_categorical_accuracy,factorized_top_k/top_50_categorical_accuracy,factorized_top_k/top_100_categorical_accuracy,loss,regularization_loss,total_loss\n"
     ]
    },
    {
     "name": "stdout",
     "output_type": "stream",
     "text": [
      "79/79 [==============================] - 1s 17ms/step - factorized_top_k/top_1_categorical_accuracy: 0.0000e+00 - factorized_top_k/top_5_categorical_accuracy: 0.0000e+00 - factorized_top_k/top_10_categorical_accuracy: 0.0000e+00 - factorized_top_k/top_50_categorical_accuracy: 0.0000e+00 - factorized_top_k/top_100_categorical_accuracy: 0.0000e+00 - loss: 6427.4613 - regularization_loss: 0.0000e+00 - total_loss: 6427.4613\n",
      "Epoch 67/100\n",
      "76/79 [===========================>..] - ETA: 0s - factorized_top_k/top_1_categorical_accuracy: 0.0000e+00 - factorized_top_k/top_5_categorical_accuracy: 0.0000e+00 - factorized_top_k/top_10_categorical_accuracy: 0.0000e+00 - factorized_top_k/top_50_categorical_accuracy: 0.0000e+00 - factorized_top_k/top_100_categorical_accuracy: 0.0000e+00 - loss: 6578.5085 - regularization_loss: 0.0000e+00 - total_loss: 6578.5085WARNING:tensorflow:Early stopping conditioned on metric `val_loss` which is not available. Available metrics are: factorized_top_k/top_1_categorical_accuracy,factorized_top_k/top_5_categorical_accuracy,factorized_top_k/top_10_categorical_accuracy,factorized_top_k/top_50_categorical_accuracy,factorized_top_k/top_100_categorical_accuracy,loss,regularization_loss,total_loss\n"
     ]
    },
    {
     "name": "stderr",
     "output_type": "stream",
     "text": [
      "WARNING:tensorflow:Early stopping conditioned on metric `val_loss` which is not available. Available metrics are: factorized_top_k/top_1_categorical_accuracy,factorized_top_k/top_5_categorical_accuracy,factorized_top_k/top_10_categorical_accuracy,factorized_top_k/top_50_categorical_accuracy,factorized_top_k/top_100_categorical_accuracy,loss,regularization_loss,total_loss\n"
     ]
    },
    {
     "name": "stdout",
     "output_type": "stream",
     "text": [
      "79/79 [==============================] - 1s 17ms/step - factorized_top_k/top_1_categorical_accuracy: 0.0000e+00 - factorized_top_k/top_5_categorical_accuracy: 0.0000e+00 - factorized_top_k/top_10_categorical_accuracy: 0.0000e+00 - factorized_top_k/top_50_categorical_accuracy: 0.0000e+00 - factorized_top_k/top_100_categorical_accuracy: 0.0000e+00 - loss: 6427.2694 - regularization_loss: 0.0000e+00 - total_loss: 6427.2694\n",
      "Epoch 68/100\n",
      "79/79 [==============================] - ETA: 0s - factorized_top_k/top_1_categorical_accuracy: 0.0000e+00 - factorized_top_k/top_5_categorical_accuracy: 0.0000e+00 - factorized_top_k/top_10_categorical_accuracy: 0.0000e+00 - factorized_top_k/top_50_categorical_accuracy: 0.0000e+00 - factorized_top_k/top_100_categorical_accuracy: 0.0000e+00 - loss: 6501.5310 - regularization_loss: 0.0000e+00 - total_loss: 6501.5310WARNING:tensorflow:Early stopping conditioned on metric `val_loss` which is not available. Available metrics are: factorized_top_k/top_1_categorical_accuracy,factorized_top_k/top_5_categorical_accuracy,factorized_top_k/top_10_categorical_accuracy,factorized_top_k/top_50_categorical_accuracy,factorized_top_k/top_100_categorical_accuracy,loss,regularization_loss,total_loss\n"
     ]
    },
    {
     "name": "stderr",
     "output_type": "stream",
     "text": [
      "WARNING:tensorflow:Early stopping conditioned on metric `val_loss` which is not available. Available metrics are: factorized_top_k/top_1_categorical_accuracy,factorized_top_k/top_5_categorical_accuracy,factorized_top_k/top_10_categorical_accuracy,factorized_top_k/top_50_categorical_accuracy,factorized_top_k/top_100_categorical_accuracy,loss,regularization_loss,total_loss\n"
     ]
    },
    {
     "name": "stdout",
     "output_type": "stream",
     "text": [
      "79/79 [==============================] - 1s 18ms/step - factorized_top_k/top_1_categorical_accuracy: 0.0000e+00 - factorized_top_k/top_5_categorical_accuracy: 0.0000e+00 - factorized_top_k/top_10_categorical_accuracy: 0.0000e+00 - factorized_top_k/top_50_categorical_accuracy: 0.0000e+00 - factorized_top_k/top_100_categorical_accuracy: 0.0000e+00 - loss: 6427.0811 - regularization_loss: 0.0000e+00 - total_loss: 6427.0811\n",
      "Epoch 69/100\n",
      "78/79 [============================>.] - ETA: 0s - factorized_top_k/top_1_categorical_accuracy: 0.0000e+00 - factorized_top_k/top_5_categorical_accuracy: 0.0000e+00 - factorized_top_k/top_10_categorical_accuracy: 0.0000e+00 - factorized_top_k/top_50_categorical_accuracy: 0.0000e+00 - factorized_top_k/top_100_categorical_accuracy: 0.0000e+00 - loss: 6577.7008 - regularization_loss: 0.0000e+00 - total_loss: 6577.7008WARNING:tensorflow:Early stopping conditioned on metric `val_loss` which is not available. Available metrics are: factorized_top_k/top_1_categorical_accuracy,factorized_top_k/top_5_categorical_accuracy,factorized_top_k/top_10_categorical_accuracy,factorized_top_k/top_50_categorical_accuracy,factorized_top_k/top_100_categorical_accuracy,loss,regularization_loss,total_loss\n"
     ]
    },
    {
     "name": "stderr",
     "output_type": "stream",
     "text": [
      "WARNING:tensorflow:Early stopping conditioned on metric `val_loss` which is not available. Available metrics are: factorized_top_k/top_1_categorical_accuracy,factorized_top_k/top_5_categorical_accuracy,factorized_top_k/top_10_categorical_accuracy,factorized_top_k/top_50_categorical_accuracy,factorized_top_k/top_100_categorical_accuracy,loss,regularization_loss,total_loss\n"
     ]
    },
    {
     "name": "stdout",
     "output_type": "stream",
     "text": [
      "79/79 [==============================] - 1s 17ms/step - factorized_top_k/top_1_categorical_accuracy: 0.0000e+00 - factorized_top_k/top_5_categorical_accuracy: 0.0000e+00 - factorized_top_k/top_10_categorical_accuracy: 0.0000e+00 - factorized_top_k/top_50_categorical_accuracy: 0.0000e+00 - factorized_top_k/top_100_categorical_accuracy: 0.0000e+00 - loss: 6426.8968 - regularization_loss: 0.0000e+00 - total_loss: 6426.8968\n",
      "Epoch 70/100\n",
      "78/79 [============================>.] - ETA: 0s - factorized_top_k/top_1_categorical_accuracy: 0.0000e+00 - factorized_top_k/top_5_categorical_accuracy: 0.0000e+00 - factorized_top_k/top_10_categorical_accuracy: 0.0000e+00 - factorized_top_k/top_50_categorical_accuracy: 0.0000e+00 - factorized_top_k/top_100_categorical_accuracy: 0.0000e+00 - loss: 6577.5154 - regularization_loss: 0.0000e+00 - total_loss: 6577.5154WARNING:tensorflow:Early stopping conditioned on metric `val_loss` which is not available. Available metrics are: factorized_top_k/top_1_categorical_accuracy,factorized_top_k/top_5_categorical_accuracy,factorized_top_k/top_10_categorical_accuracy,factorized_top_k/top_50_categorical_accuracy,factorized_top_k/top_100_categorical_accuracy,loss,regularization_loss,total_loss\n"
     ]
    },
    {
     "name": "stderr",
     "output_type": "stream",
     "text": [
      "WARNING:tensorflow:Early stopping conditioned on metric `val_loss` which is not available. Available metrics are: factorized_top_k/top_1_categorical_accuracy,factorized_top_k/top_5_categorical_accuracy,factorized_top_k/top_10_categorical_accuracy,factorized_top_k/top_50_categorical_accuracy,factorized_top_k/top_100_categorical_accuracy,loss,regularization_loss,total_loss\n"
     ]
    },
    {
     "name": "stdout",
     "output_type": "stream",
     "text": [
      "79/79 [==============================] - 1s 18ms/step - factorized_top_k/top_1_categorical_accuracy: 0.0000e+00 - factorized_top_k/top_5_categorical_accuracy: 0.0000e+00 - factorized_top_k/top_10_categorical_accuracy: 0.0000e+00 - factorized_top_k/top_50_categorical_accuracy: 0.0000e+00 - factorized_top_k/top_100_categorical_accuracy: 0.0000e+00 - loss: 6426.7161 - regularization_loss: 0.0000e+00 - total_loss: 6426.7161\n",
      "Epoch 71/100\n",
      "76/79 [===========================>..] - ETA: 0s - factorized_top_k/top_1_categorical_accuracy: 0.0000e+00 - factorized_top_k/top_5_categorical_accuracy: 0.0000e+00 - factorized_top_k/top_10_categorical_accuracy: 0.0000e+00 - factorized_top_k/top_50_categorical_accuracy: 0.0000e+00 - factorized_top_k/top_100_categorical_accuracy: 0.0000e+00 - loss: 6577.7502 - regularization_loss: 0.0000e+00 - total_loss: 6577.7502WARNING:tensorflow:Early stopping conditioned on metric `val_loss` which is not available. Available metrics are: factorized_top_k/top_1_categorical_accuracy,factorized_top_k/top_5_categorical_accuracy,factorized_top_k/top_10_categorical_accuracy,factorized_top_k/top_50_categorical_accuracy,factorized_top_k/top_100_categorical_accuracy,loss,regularization_loss,total_loss\n"
     ]
    },
    {
     "name": "stderr",
     "output_type": "stream",
     "text": [
      "WARNING:tensorflow:Early stopping conditioned on metric `val_loss` which is not available. Available metrics are: factorized_top_k/top_1_categorical_accuracy,factorized_top_k/top_5_categorical_accuracy,factorized_top_k/top_10_categorical_accuracy,factorized_top_k/top_50_categorical_accuracy,factorized_top_k/top_100_categorical_accuracy,loss,regularization_loss,total_loss\n"
     ]
    },
    {
     "name": "stdout",
     "output_type": "stream",
     "text": [
      "79/79 [==============================] - 1s 15ms/step - factorized_top_k/top_1_categorical_accuracy: 0.0000e+00 - factorized_top_k/top_5_categorical_accuracy: 0.0000e+00 - factorized_top_k/top_10_categorical_accuracy: 0.0000e+00 - factorized_top_k/top_50_categorical_accuracy: 0.0000e+00 - factorized_top_k/top_100_categorical_accuracy: 0.0000e+00 - loss: 6426.5390 - regularization_loss: 0.0000e+00 - total_loss: 6426.5390\n",
      "Epoch 72/100\n",
      "77/79 [============================>.] - ETA: 0s - factorized_top_k/top_1_categorical_accuracy: 0.0000e+00 - factorized_top_k/top_5_categorical_accuracy: 0.0000e+00 - factorized_top_k/top_10_categorical_accuracy: 0.0000e+00 - factorized_top_k/top_50_categorical_accuracy: 0.0000e+00 - factorized_top_k/top_100_categorical_accuracy: 0.0000e+00 - loss: 6577.1727 - regularization_loss: 0.0000e+00 - total_loss: 6577.1727WARNING:tensorflow:Early stopping conditioned on metric `val_loss` which is not available. Available metrics are: factorized_top_k/top_1_categorical_accuracy,factorized_top_k/top_5_categorical_accuracy,factorized_top_k/top_10_categorical_accuracy,factorized_top_k/top_50_categorical_accuracy,factorized_top_k/top_100_categorical_accuracy,loss,regularization_loss,total_loss\n"
     ]
    },
    {
     "name": "stderr",
     "output_type": "stream",
     "text": [
      "WARNING:tensorflow:Early stopping conditioned on metric `val_loss` which is not available. Available metrics are: factorized_top_k/top_1_categorical_accuracy,factorized_top_k/top_5_categorical_accuracy,factorized_top_k/top_10_categorical_accuracy,factorized_top_k/top_50_categorical_accuracy,factorized_top_k/top_100_categorical_accuracy,loss,regularization_loss,total_loss\n"
     ]
    },
    {
     "name": "stdout",
     "output_type": "stream",
     "text": [
      "79/79 [==============================] - 1s 14ms/step - factorized_top_k/top_1_categorical_accuracy: 0.0000e+00 - factorized_top_k/top_5_categorical_accuracy: 0.0000e+00 - factorized_top_k/top_10_categorical_accuracy: 0.0000e+00 - factorized_top_k/top_50_categorical_accuracy: 0.0000e+00 - factorized_top_k/top_100_categorical_accuracy: 0.0000e+00 - loss: 6426.3652 - regularization_loss: 0.0000e+00 - total_loss: 6426.3652\n",
      "Epoch 73/100\n",
      "78/79 [============================>.] - ETA: 0s - factorized_top_k/top_1_categorical_accuracy: 0.0000e+00 - factorized_top_k/top_5_categorical_accuracy: 0.0000e+00 - factorized_top_k/top_10_categorical_accuracy: 0.0000e+00 - factorized_top_k/top_50_categorical_accuracy: 0.0000e+00 - factorized_top_k/top_100_categorical_accuracy: 0.0000e+00 - loss: 6576.9805 - regularization_loss: 0.0000e+00 - total_loss: 6576.9805WARNING:tensorflow:Early stopping conditioned on metric `val_loss` which is not available. Available metrics are: factorized_top_k/top_1_categorical_accuracy,factorized_top_k/top_5_categorical_accuracy,factorized_top_k/top_10_categorical_accuracy,factorized_top_k/top_50_categorical_accuracy,factorized_top_k/top_100_categorical_accuracy,loss,regularization_loss,total_loss\n"
     ]
    },
    {
     "name": "stderr",
     "output_type": "stream",
     "text": [
      "WARNING:tensorflow:Early stopping conditioned on metric `val_loss` which is not available. Available metrics are: factorized_top_k/top_1_categorical_accuracy,factorized_top_k/top_5_categorical_accuracy,factorized_top_k/top_10_categorical_accuracy,factorized_top_k/top_50_categorical_accuracy,factorized_top_k/top_100_categorical_accuracy,loss,regularization_loss,total_loss\n"
     ]
    },
    {
     "name": "stdout",
     "output_type": "stream",
     "text": [
      "79/79 [==============================] - 1s 16ms/step - factorized_top_k/top_1_categorical_accuracy: 0.0000e+00 - factorized_top_k/top_5_categorical_accuracy: 0.0000e+00 - factorized_top_k/top_10_categorical_accuracy: 0.0000e+00 - factorized_top_k/top_50_categorical_accuracy: 0.0000e+00 - factorized_top_k/top_100_categorical_accuracy: 0.0000e+00 - loss: 6426.1949 - regularization_loss: 0.0000e+00 - total_loss: 6426.1949\n",
      "Epoch 74/100\n",
      "79/79 [==============================] - ETA: 0s - factorized_top_k/top_1_categorical_accuracy: 0.0000e+00 - factorized_top_k/top_5_categorical_accuracy: 0.0000e+00 - factorized_top_k/top_10_categorical_accuracy: 0.0000e+00 - factorized_top_k/top_50_categorical_accuracy: 0.0000e+00 - factorized_top_k/top_100_categorical_accuracy: 0.0000e+00 - loss: 6500.4638 - regularization_loss: 0.0000e+00 - total_loss: 6500.4638WARNING:tensorflow:Early stopping conditioned on metric `val_loss` which is not available. Available metrics are: factorized_top_k/top_1_categorical_accuracy,factorized_top_k/top_5_categorical_accuracy,factorized_top_k/top_10_categorical_accuracy,factorized_top_k/top_50_categorical_accuracy,factorized_top_k/top_100_categorical_accuracy,loss,regularization_loss,total_loss\n"
     ]
    },
    {
     "name": "stderr",
     "output_type": "stream",
     "text": [
      "WARNING:tensorflow:Early stopping conditioned on metric `val_loss` which is not available. Available metrics are: factorized_top_k/top_1_categorical_accuracy,factorized_top_k/top_5_categorical_accuracy,factorized_top_k/top_10_categorical_accuracy,factorized_top_k/top_50_categorical_accuracy,factorized_top_k/top_100_categorical_accuracy,loss,regularization_loss,total_loss\n"
     ]
    },
    {
     "name": "stdout",
     "output_type": "stream",
     "text": [
      "79/79 [==============================] - 1s 16ms/step - factorized_top_k/top_1_categorical_accuracy: 0.0000e+00 - factorized_top_k/top_5_categorical_accuracy: 0.0000e+00 - factorized_top_k/top_10_categorical_accuracy: 0.0000e+00 - factorized_top_k/top_50_categorical_accuracy: 0.0000e+00 - factorized_top_k/top_100_categorical_accuracy: 0.0000e+00 - loss: 6426.0275 - regularization_loss: 0.0000e+00 - total_loss: 6426.0275\n",
      "Epoch 75/100\n",
      "77/79 [============================>.] - ETA: 0s - factorized_top_k/top_1_categorical_accuracy: 0.0000e+00 - factorized_top_k/top_5_categorical_accuracy: 0.0000e+00 - factorized_top_k/top_10_categorical_accuracy: 0.0000e+00 - factorized_top_k/top_50_categorical_accuracy: 0.0000e+00 - factorized_top_k/top_100_categorical_accuracy: 0.0000e+00 - loss: 6576.6539 - regularization_loss: 0.0000e+00 - total_loss: 6576.6539WARNING:tensorflow:Early stopping conditioned on metric `val_loss` which is not available. Available metrics are: factorized_top_k/top_1_categorical_accuracy,factorized_top_k/top_5_categorical_accuracy,factorized_top_k/top_10_categorical_accuracy,factorized_top_k/top_50_categorical_accuracy,factorized_top_k/top_100_categorical_accuracy,loss,regularization_loss,total_loss\n"
     ]
    },
    {
     "name": "stderr",
     "output_type": "stream",
     "text": [
      "WARNING:tensorflow:Early stopping conditioned on metric `val_loss` which is not available. Available metrics are: factorized_top_k/top_1_categorical_accuracy,factorized_top_k/top_5_categorical_accuracy,factorized_top_k/top_10_categorical_accuracy,factorized_top_k/top_50_categorical_accuracy,factorized_top_k/top_100_categorical_accuracy,loss,regularization_loss,total_loss\n"
     ]
    },
    {
     "name": "stdout",
     "output_type": "stream",
     "text": [
      "79/79 [==============================] - 1s 15ms/step - factorized_top_k/top_1_categorical_accuracy: 0.0000e+00 - factorized_top_k/top_5_categorical_accuracy: 0.0000e+00 - factorized_top_k/top_10_categorical_accuracy: 0.0000e+00 - factorized_top_k/top_50_categorical_accuracy: 0.0000e+00 - factorized_top_k/top_100_categorical_accuracy: 0.0000e+00 - loss: 6425.8632 - regularization_loss: 0.0000e+00 - total_loss: 6425.8632\n",
      "Epoch 76/100\n",
      "77/79 [============================>.] - ETA: 0s - factorized_top_k/top_1_categorical_accuracy: 0.0000e+00 - factorized_top_k/top_5_categorical_accuracy: 0.0000e+00 - factorized_top_k/top_10_categorical_accuracy: 0.0000e+00 - factorized_top_k/top_50_categorical_accuracy: 0.0000e+00 - factorized_top_k/top_100_categorical_accuracy: 0.0000e+00 - loss: 6576.4870 - regularization_loss: 0.0000e+00 - total_loss: 6576.4870WARNING:tensorflow:Early stopping conditioned on metric `val_loss` which is not available. Available metrics are: factorized_top_k/top_1_categorical_accuracy,factorized_top_k/top_5_categorical_accuracy,factorized_top_k/top_10_categorical_accuracy,factorized_top_k/top_50_categorical_accuracy,factorized_top_k/top_100_categorical_accuracy,loss,regularization_loss,total_loss\n"
     ]
    },
    {
     "name": "stderr",
     "output_type": "stream",
     "text": [
      "WARNING:tensorflow:Early stopping conditioned on metric `val_loss` which is not available. Available metrics are: factorized_top_k/top_1_categorical_accuracy,factorized_top_k/top_5_categorical_accuracy,factorized_top_k/top_10_categorical_accuracy,factorized_top_k/top_50_categorical_accuracy,factorized_top_k/top_100_categorical_accuracy,loss,regularization_loss,total_loss\n"
     ]
    },
    {
     "name": "stdout",
     "output_type": "stream",
     "text": [
      "79/79 [==============================] - 1s 14ms/step - factorized_top_k/top_1_categorical_accuracy: 0.0000e+00 - factorized_top_k/top_5_categorical_accuracy: 0.0000e+00 - factorized_top_k/top_10_categorical_accuracy: 0.0000e+00 - factorized_top_k/top_50_categorical_accuracy: 0.0000e+00 - factorized_top_k/top_100_categorical_accuracy: 0.0000e+00 - loss: 6425.7016 - regularization_loss: 0.0000e+00 - total_loss: 6425.7016\n",
      "Epoch 77/100\n",
      "77/79 [============================>.] - ETA: 0s - factorized_top_k/top_1_categorical_accuracy: 0.0000e+00 - factorized_top_k/top_5_categorical_accuracy: 0.0000e+00 - factorized_top_k/top_10_categorical_accuracy: 0.0000e+00 - factorized_top_k/top_50_categorical_accuracy: 0.0000e+00 - factorized_top_k/top_100_categorical_accuracy: 0.0000e+00 - loss: 6576.3232 - regularization_loss: 0.0000e+00 - total_loss: 6576.3232WARNING:tensorflow:Early stopping conditioned on metric `val_loss` which is not available. Available metrics are: factorized_top_k/top_1_categorical_accuracy,factorized_top_k/top_5_categorical_accuracy,factorized_top_k/top_10_categorical_accuracy,factorized_top_k/top_50_categorical_accuracy,factorized_top_k/top_100_categorical_accuracy,loss,regularization_loss,total_loss\n"
     ]
    },
    {
     "name": "stderr",
     "output_type": "stream",
     "text": [
      "WARNING:tensorflow:Early stopping conditioned on metric `val_loss` which is not available. Available metrics are: factorized_top_k/top_1_categorical_accuracy,factorized_top_k/top_5_categorical_accuracy,factorized_top_k/top_10_categorical_accuracy,factorized_top_k/top_50_categorical_accuracy,factorized_top_k/top_100_categorical_accuracy,loss,regularization_loss,total_loss\n"
     ]
    },
    {
     "name": "stdout",
     "output_type": "stream",
     "text": [
      "79/79 [==============================] - 1s 14ms/step - factorized_top_k/top_1_categorical_accuracy: 0.0000e+00 - factorized_top_k/top_5_categorical_accuracy: 0.0000e+00 - factorized_top_k/top_10_categorical_accuracy: 0.0000e+00 - factorized_top_k/top_50_categorical_accuracy: 0.0000e+00 - factorized_top_k/top_100_categorical_accuracy: 0.0000e+00 - loss: 6425.5432 - regularization_loss: 0.0000e+00 - total_loss: 6425.5432\n",
      "Epoch 78/100\n",
      "77/79 [============================>.] - ETA: 0s - factorized_top_k/top_1_categorical_accuracy: 0.0000e+00 - factorized_top_k/top_5_categorical_accuracy: 0.0000e+00 - factorized_top_k/top_10_categorical_accuracy: 0.0000e+00 - factorized_top_k/top_50_categorical_accuracy: 0.0000e+00 - factorized_top_k/top_100_categorical_accuracy: 0.0000e+00 - loss: 6576.1620 - regularization_loss: 0.0000e+00 - total_loss: 6576.1620WARNING:tensorflow:Early stopping conditioned on metric `val_loss` which is not available. Available metrics are: factorized_top_k/top_1_categorical_accuracy,factorized_top_k/top_5_categorical_accuracy,factorized_top_k/top_10_categorical_accuracy,factorized_top_k/top_50_categorical_accuracy,factorized_top_k/top_100_categorical_accuracy,loss,regularization_loss,total_loss\n"
     ]
    },
    {
     "name": "stderr",
     "output_type": "stream",
     "text": [
      "WARNING:tensorflow:Early stopping conditioned on metric `val_loss` which is not available. Available metrics are: factorized_top_k/top_1_categorical_accuracy,factorized_top_k/top_5_categorical_accuracy,factorized_top_k/top_10_categorical_accuracy,factorized_top_k/top_50_categorical_accuracy,factorized_top_k/top_100_categorical_accuracy,loss,regularization_loss,total_loss\n"
     ]
    },
    {
     "name": "stdout",
     "output_type": "stream",
     "text": [
      "79/79 [==============================] - 1s 15ms/step - factorized_top_k/top_1_categorical_accuracy: 0.0000e+00 - factorized_top_k/top_5_categorical_accuracy: 0.0000e+00 - factorized_top_k/top_10_categorical_accuracy: 0.0000e+00 - factorized_top_k/top_50_categorical_accuracy: 0.0000e+00 - factorized_top_k/top_100_categorical_accuracy: 0.0000e+00 - loss: 6425.3873 - regularization_loss: 0.0000e+00 - total_loss: 6425.3873\n",
      "Epoch 79/100\n",
      "77/79 [============================>.] - ETA: 0s - factorized_top_k/top_1_categorical_accuracy: 0.0000e+00 - factorized_top_k/top_5_categorical_accuracy: 0.0000e+00 - factorized_top_k/top_10_categorical_accuracy: 0.0000e+00 - factorized_top_k/top_50_categorical_accuracy: 0.0000e+00 - factorized_top_k/top_100_categorical_accuracy: 0.0000e+00 - loss: 6576.0037 - regularization_loss: 0.0000e+00 - total_loss: 6576.0037WARNING:tensorflow:Early stopping conditioned on metric `val_loss` which is not available. Available metrics are: factorized_top_k/top_1_categorical_accuracy,factorized_top_k/top_5_categorical_accuracy,factorized_top_k/top_10_categorical_accuracy,factorized_top_k/top_50_categorical_accuracy,factorized_top_k/top_100_categorical_accuracy,loss,regularization_loss,total_loss\n"
     ]
    },
    {
     "name": "stderr",
     "output_type": "stream",
     "text": [
      "WARNING:tensorflow:Early stopping conditioned on metric `val_loss` which is not available. Available metrics are: factorized_top_k/top_1_categorical_accuracy,factorized_top_k/top_5_categorical_accuracy,factorized_top_k/top_10_categorical_accuracy,factorized_top_k/top_50_categorical_accuracy,factorized_top_k/top_100_categorical_accuracy,loss,regularization_loss,total_loss\n"
     ]
    },
    {
     "name": "stdout",
     "output_type": "stream",
     "text": [
      "79/79 [==============================] - 1s 16ms/step - factorized_top_k/top_1_categorical_accuracy: 0.0000e+00 - factorized_top_k/top_5_categorical_accuracy: 0.0000e+00 - factorized_top_k/top_10_categorical_accuracy: 0.0000e+00 - factorized_top_k/top_50_categorical_accuracy: 0.0000e+00 - factorized_top_k/top_100_categorical_accuracy: 0.0000e+00 - loss: 6425.2341 - regularization_loss: 0.0000e+00 - total_loss: 6425.2341\n",
      "Epoch 80/100\n",
      "77/79 [============================>.] - ETA: 0s - factorized_top_k/top_1_categorical_accuracy: 0.0000e+00 - factorized_top_k/top_5_categorical_accuracy: 0.0000e+00 - factorized_top_k/top_10_categorical_accuracy: 0.0000e+00 - factorized_top_k/top_50_categorical_accuracy: 0.0000e+00 - factorized_top_k/top_100_categorical_accuracy: 0.0000e+00 - loss: 6575.8479 - regularization_loss: 0.0000e+00 - total_loss: 6575.8479WARNING:tensorflow:Early stopping conditioned on metric `val_loss` which is not available. Available metrics are: factorized_top_k/top_1_categorical_accuracy,factorized_top_k/top_5_categorical_accuracy,factorized_top_k/top_10_categorical_accuracy,factorized_top_k/top_50_categorical_accuracy,factorized_top_k/top_100_categorical_accuracy,loss,regularization_loss,total_loss\n"
     ]
    },
    {
     "name": "stderr",
     "output_type": "stream",
     "text": [
      "WARNING:tensorflow:Early stopping conditioned on metric `val_loss` which is not available. Available metrics are: factorized_top_k/top_1_categorical_accuracy,factorized_top_k/top_5_categorical_accuracy,factorized_top_k/top_10_categorical_accuracy,factorized_top_k/top_50_categorical_accuracy,factorized_top_k/top_100_categorical_accuracy,loss,regularization_loss,total_loss\n"
     ]
    },
    {
     "name": "stdout",
     "output_type": "stream",
     "text": [
      "79/79 [==============================] - 1s 18ms/step - factorized_top_k/top_1_categorical_accuracy: 0.0000e+00 - factorized_top_k/top_5_categorical_accuracy: 0.0000e+00 - factorized_top_k/top_10_categorical_accuracy: 0.0000e+00 - factorized_top_k/top_50_categorical_accuracy: 0.0000e+00 - factorized_top_k/top_100_categorical_accuracy: 0.0000e+00 - loss: 6425.0835 - regularization_loss: 0.0000e+00 - total_loss: 6425.0835\n",
      "Epoch 81/100\n",
      "77/79 [============================>.] - ETA: 0s - factorized_top_k/top_1_categorical_accuracy: 0.0000e+00 - factorized_top_k/top_5_categorical_accuracy: 0.0000e+00 - factorized_top_k/top_10_categorical_accuracy: 0.0000e+00 - factorized_top_k/top_50_categorical_accuracy: 0.0000e+00 - factorized_top_k/top_100_categorical_accuracy: 0.0000e+00 - loss: 6575.6948 - regularization_loss: 0.0000e+00 - total_loss: 6575.6948WARNING:tensorflow:Early stopping conditioned on metric `val_loss` which is not available. Available metrics are: factorized_top_k/top_1_categorical_accuracy,factorized_top_k/top_5_categorical_accuracy,factorized_top_k/top_10_categorical_accuracy,factorized_top_k/top_50_categorical_accuracy,factorized_top_k/top_100_categorical_accuracy,loss,regularization_loss,total_loss\n"
     ]
    },
    {
     "name": "stderr",
     "output_type": "stream",
     "text": [
      "WARNING:tensorflow:Early stopping conditioned on metric `val_loss` which is not available. Available metrics are: factorized_top_k/top_1_categorical_accuracy,factorized_top_k/top_5_categorical_accuracy,factorized_top_k/top_10_categorical_accuracy,factorized_top_k/top_50_categorical_accuracy,factorized_top_k/top_100_categorical_accuracy,loss,regularization_loss,total_loss\n"
     ]
    },
    {
     "name": "stdout",
     "output_type": "stream",
     "text": [
      "79/79 [==============================] - 1s 17ms/step - factorized_top_k/top_1_categorical_accuracy: 0.0000e+00 - factorized_top_k/top_5_categorical_accuracy: 0.0000e+00 - factorized_top_k/top_10_categorical_accuracy: 0.0000e+00 - factorized_top_k/top_50_categorical_accuracy: 0.0000e+00 - factorized_top_k/top_100_categorical_accuracy: 0.0000e+00 - loss: 6424.9354 - regularization_loss: 0.0000e+00 - total_loss: 6424.9354\n",
      "Epoch 82/100\n",
      "78/79 [============================>.] - ETA: 0s - factorized_top_k/top_1_categorical_accuracy: 0.0000e+00 - factorized_top_k/top_5_categorical_accuracy: 0.0000e+00 - factorized_top_k/top_10_categorical_accuracy: 0.0000e+00 - factorized_top_k/top_50_categorical_accuracy: 0.0000e+00 - factorized_top_k/top_100_categorical_accuracy: 0.0000e+00 - loss: 6575.5378 - regularization_loss: 0.0000e+00 - total_loss: 6575.5378WARNING:tensorflow:Early stopping conditioned on metric `val_loss` which is not available. Available metrics are: factorized_top_k/top_1_categorical_accuracy,factorized_top_k/top_5_categorical_accuracy,factorized_top_k/top_10_categorical_accuracy,factorized_top_k/top_50_categorical_accuracy,factorized_top_k/top_100_categorical_accuracy,loss,regularization_loss,total_loss\n"
     ]
    },
    {
     "name": "stderr",
     "output_type": "stream",
     "text": [
      "WARNING:tensorflow:Early stopping conditioned on metric `val_loss` which is not available. Available metrics are: factorized_top_k/top_1_categorical_accuracy,factorized_top_k/top_5_categorical_accuracy,factorized_top_k/top_10_categorical_accuracy,factorized_top_k/top_50_categorical_accuracy,factorized_top_k/top_100_categorical_accuracy,loss,regularization_loss,total_loss\n"
     ]
    },
    {
     "name": "stdout",
     "output_type": "stream",
     "text": [
      "79/79 [==============================] - 1s 18ms/step - factorized_top_k/top_1_categorical_accuracy: 0.0000e+00 - factorized_top_k/top_5_categorical_accuracy: 0.0000e+00 - factorized_top_k/top_10_categorical_accuracy: 0.0000e+00 - factorized_top_k/top_50_categorical_accuracy: 0.0000e+00 - factorized_top_k/top_100_categorical_accuracy: 0.0000e+00 - loss: 6424.7897 - regularization_loss: 0.0000e+00 - total_loss: 6424.7897\n",
      "Epoch 83/100\n",
      "77/79 [============================>.] - ETA: 0s - factorized_top_k/top_1_categorical_accuracy: 0.0000e+00 - factorized_top_k/top_5_categorical_accuracy: 0.0000e+00 - factorized_top_k/top_10_categorical_accuracy: 0.0000e+00 - factorized_top_k/top_50_categorical_accuracy: 0.0000e+00 - factorized_top_k/top_100_categorical_accuracy: 0.0000e+00 - loss: 6575.3960 - regularization_loss: 0.0000e+00 - total_loss: 6575.3960WARNING:tensorflow:Early stopping conditioned on metric `val_loss` which is not available. Available metrics are: factorized_top_k/top_1_categorical_accuracy,factorized_top_k/top_5_categorical_accuracy,factorized_top_k/top_10_categorical_accuracy,factorized_top_k/top_50_categorical_accuracy,factorized_top_k/top_100_categorical_accuracy,loss,regularization_loss,total_loss\n"
     ]
    },
    {
     "name": "stderr",
     "output_type": "stream",
     "text": [
      "WARNING:tensorflow:Early stopping conditioned on metric `val_loss` which is not available. Available metrics are: factorized_top_k/top_1_categorical_accuracy,factorized_top_k/top_5_categorical_accuracy,factorized_top_k/top_10_categorical_accuracy,factorized_top_k/top_50_categorical_accuracy,factorized_top_k/top_100_categorical_accuracy,loss,regularization_loss,total_loss\n"
     ]
    },
    {
     "name": "stdout",
     "output_type": "stream",
     "text": [
      "79/79 [==============================] - 1s 17ms/step - factorized_top_k/top_1_categorical_accuracy: 0.0000e+00 - factorized_top_k/top_5_categorical_accuracy: 0.0000e+00 - factorized_top_k/top_10_categorical_accuracy: 0.0000e+00 - factorized_top_k/top_50_categorical_accuracy: 0.0000e+00 - factorized_top_k/top_100_categorical_accuracy: 0.0000e+00 - loss: 6424.6465 - regularization_loss: 0.0000e+00 - total_loss: 6424.6465\n",
      "Epoch 84/100\n",
      "76/79 [===========================>..] - ETA: 0s - factorized_top_k/top_1_categorical_accuracy: 0.0000e+00 - factorized_top_k/top_5_categorical_accuracy: 0.0000e+00 - factorized_top_k/top_10_categorical_accuracy: 0.0000e+00 - factorized_top_k/top_50_categorical_accuracy: 0.0000e+00 - factorized_top_k/top_100_categorical_accuracy: 0.0000e+00 - loss: 6575.6350 - regularization_loss: 0.0000e+00 - total_loss: 6575.6350WARNING:tensorflow:Early stopping conditioned on metric `val_loss` which is not available. Available metrics are: factorized_top_k/top_1_categorical_accuracy,factorized_top_k/top_5_categorical_accuracy,factorized_top_k/top_10_categorical_accuracy,factorized_top_k/top_50_categorical_accuracy,factorized_top_k/top_100_categorical_accuracy,loss,regularization_loss,total_loss\n"
     ]
    },
    {
     "name": "stderr",
     "output_type": "stream",
     "text": [
      "WARNING:tensorflow:Early stopping conditioned on metric `val_loss` which is not available. Available metrics are: factorized_top_k/top_1_categorical_accuracy,factorized_top_k/top_5_categorical_accuracy,factorized_top_k/top_10_categorical_accuracy,factorized_top_k/top_50_categorical_accuracy,factorized_top_k/top_100_categorical_accuracy,loss,regularization_loss,total_loss\n"
     ]
    },
    {
     "name": "stdout",
     "output_type": "stream",
     "text": [
      "79/79 [==============================] - 1s 18ms/step - factorized_top_k/top_1_categorical_accuracy: 0.0000e+00 - factorized_top_k/top_5_categorical_accuracy: 0.0000e+00 - factorized_top_k/top_10_categorical_accuracy: 0.0000e+00 - factorized_top_k/top_50_categorical_accuracy: 0.0000e+00 - factorized_top_k/top_100_categorical_accuracy: 0.0000e+00 - loss: 6424.5053 - regularization_loss: 0.0000e+00 - total_loss: 6424.5053\n",
      "Epoch 85/100\n",
      "77/79 [============================>.] - ETA: 0s - factorized_top_k/top_1_categorical_accuracy: 0.0000e+00 - factorized_top_k/top_5_categorical_accuracy: 0.0000e+00 - factorized_top_k/top_10_categorical_accuracy: 0.0000e+00 - factorized_top_k/top_50_categorical_accuracy: 0.0000e+00 - factorized_top_k/top_100_categorical_accuracy: 0.0000e+00 - loss: 6575.1063 - regularization_loss: 0.0000e+00 - total_loss: 6575.1063WARNING:tensorflow:Early stopping conditioned on metric `val_loss` which is not available. Available metrics are: factorized_top_k/top_1_categorical_accuracy,factorized_top_k/top_5_categorical_accuracy,factorized_top_k/top_10_categorical_accuracy,factorized_top_k/top_50_categorical_accuracy,factorized_top_k/top_100_categorical_accuracy,loss,regularization_loss,total_loss\n"
     ]
    },
    {
     "name": "stderr",
     "output_type": "stream",
     "text": [
      "WARNING:tensorflow:Early stopping conditioned on metric `val_loss` which is not available. Available metrics are: factorized_top_k/top_1_categorical_accuracy,factorized_top_k/top_5_categorical_accuracy,factorized_top_k/top_10_categorical_accuracy,factorized_top_k/top_50_categorical_accuracy,factorized_top_k/top_100_categorical_accuracy,loss,regularization_loss,total_loss\n"
     ]
    },
    {
     "name": "stdout",
     "output_type": "stream",
     "text": [
      "79/79 [==============================] - 1s 17ms/step - factorized_top_k/top_1_categorical_accuracy: 0.0000e+00 - factorized_top_k/top_5_categorical_accuracy: 0.0000e+00 - factorized_top_k/top_10_categorical_accuracy: 0.0000e+00 - factorized_top_k/top_50_categorical_accuracy: 0.0000e+00 - factorized_top_k/top_100_categorical_accuracy: 0.0000e+00 - loss: 6424.3665 - regularization_loss: 0.0000e+00 - total_loss: 6424.3665\n",
      "Epoch 86/100\n",
      "78/79 [============================>.] - ETA: 0s - factorized_top_k/top_1_categorical_accuracy: 0.0000e+00 - factorized_top_k/top_5_categorical_accuracy: 0.0000e+00 - factorized_top_k/top_10_categorical_accuracy: 0.0000e+00 - factorized_top_k/top_50_categorical_accuracy: 0.0000e+00 - factorized_top_k/top_100_categorical_accuracy: 0.0000e+00 - loss: 6574.9627 - regularization_loss: 0.0000e+00 - total_loss: 6574.9627WARNING:tensorflow:Early stopping conditioned on metric `val_loss` which is not available. Available metrics are: factorized_top_k/top_1_categorical_accuracy,factorized_top_k/top_5_categorical_accuracy,factorized_top_k/top_10_categorical_accuracy,factorized_top_k/top_50_categorical_accuracy,factorized_top_k/top_100_categorical_accuracy,loss,regularization_loss,total_loss\n"
     ]
    },
    {
     "name": "stderr",
     "output_type": "stream",
     "text": [
      "WARNING:tensorflow:Early stopping conditioned on metric `val_loss` which is not available. Available metrics are: factorized_top_k/top_1_categorical_accuracy,factorized_top_k/top_5_categorical_accuracy,factorized_top_k/top_10_categorical_accuracy,factorized_top_k/top_50_categorical_accuracy,factorized_top_k/top_100_categorical_accuracy,loss,regularization_loss,total_loss\n"
     ]
    },
    {
     "name": "stdout",
     "output_type": "stream",
     "text": [
      "79/79 [==============================] - 1s 17ms/step - factorized_top_k/top_1_categorical_accuracy: 0.0000e+00 - factorized_top_k/top_5_categorical_accuracy: 0.0000e+00 - factorized_top_k/top_10_categorical_accuracy: 0.0000e+00 - factorized_top_k/top_50_categorical_accuracy: 0.0000e+00 - factorized_top_k/top_100_categorical_accuracy: 0.0000e+00 - loss: 6424.2299 - regularization_loss: 0.0000e+00 - total_loss: 6424.2299\n",
      "Epoch 87/100\n",
      "79/79 [==============================] - ETA: 0s - factorized_top_k/top_1_categorical_accuracy: 0.0000e+00 - factorized_top_k/top_5_categorical_accuracy: 0.0000e+00 - factorized_top_k/top_10_categorical_accuracy: 0.0000e+00 - factorized_top_k/top_50_categorical_accuracy: 0.0000e+00 - factorized_top_k/top_100_categorical_accuracy: 0.0000e+00 - loss: 6498.5058 - regularization_loss: 0.0000e+00 - total_loss: 6498.5058WARNING:tensorflow:Early stopping conditioned on metric `val_loss` which is not available. Available metrics are: factorized_top_k/top_1_categorical_accuracy,factorized_top_k/top_5_categorical_accuracy,factorized_top_k/top_10_categorical_accuracy,factorized_top_k/top_50_categorical_accuracy,factorized_top_k/top_100_categorical_accuracy,loss,regularization_loss,total_loss\n"
     ]
    },
    {
     "name": "stderr",
     "output_type": "stream",
     "text": [
      "WARNING:tensorflow:Early stopping conditioned on metric `val_loss` which is not available. Available metrics are: factorized_top_k/top_1_categorical_accuracy,factorized_top_k/top_5_categorical_accuracy,factorized_top_k/top_10_categorical_accuracy,factorized_top_k/top_50_categorical_accuracy,factorized_top_k/top_100_categorical_accuracy,loss,regularization_loss,total_loss\n"
     ]
    },
    {
     "name": "stdout",
     "output_type": "stream",
     "text": [
      "79/79 [==============================] - 1s 18ms/step - factorized_top_k/top_1_categorical_accuracy: 0.0000e+00 - factorized_top_k/top_5_categorical_accuracy: 0.0000e+00 - factorized_top_k/top_10_categorical_accuracy: 0.0000e+00 - factorized_top_k/top_50_categorical_accuracy: 0.0000e+00 - factorized_top_k/top_100_categorical_accuracy: 0.0000e+00 - loss: 6424.0952 - regularization_loss: 0.0000e+00 - total_loss: 6424.0952\n",
      "Epoch 88/100\n",
      "78/79 [============================>.] - ETA: 0s - factorized_top_k/top_1_categorical_accuracy: 0.0000e+00 - factorized_top_k/top_5_categorical_accuracy: 0.0000e+00 - factorized_top_k/top_10_categorical_accuracy: 0.0000e+00 - factorized_top_k/top_50_categorical_accuracy: 0.0000e+00 - factorized_top_k/top_100_categorical_accuracy: 0.0000e+00 - loss: 6574.6881 - regularization_loss: 0.0000e+00 - total_loss: 6574.6881WARNING:tensorflow:Early stopping conditioned on metric `val_loss` which is not available. Available metrics are: factorized_top_k/top_1_categorical_accuracy,factorized_top_k/top_5_categorical_accuracy,factorized_top_k/top_10_categorical_accuracy,factorized_top_k/top_50_categorical_accuracy,factorized_top_k/top_100_categorical_accuracy,loss,regularization_loss,total_loss\n"
     ]
    },
    {
     "name": "stderr",
     "output_type": "stream",
     "text": [
      "WARNING:tensorflow:Early stopping conditioned on metric `val_loss` which is not available. Available metrics are: factorized_top_k/top_1_categorical_accuracy,factorized_top_k/top_5_categorical_accuracy,factorized_top_k/top_10_categorical_accuracy,factorized_top_k/top_50_categorical_accuracy,factorized_top_k/top_100_categorical_accuracy,loss,regularization_loss,total_loss\n"
     ]
    },
    {
     "name": "stdout",
     "output_type": "stream",
     "text": [
      "79/79 [==============================] - 1s 17ms/step - factorized_top_k/top_1_categorical_accuracy: 0.0000e+00 - factorized_top_k/top_5_categorical_accuracy: 0.0000e+00 - factorized_top_k/top_10_categorical_accuracy: 0.0000e+00 - factorized_top_k/top_50_categorical_accuracy: 0.0000e+00 - factorized_top_k/top_100_categorical_accuracy: 0.0000e+00 - loss: 6423.9626 - regularization_loss: 0.0000e+00 - total_loss: 6423.9626\n",
      "Epoch 89/100\n",
      "78/79 [============================>.] - ETA: 0s - factorized_top_k/top_1_categorical_accuracy: 0.0000e+00 - factorized_top_k/top_5_categorical_accuracy: 0.0000e+00 - factorized_top_k/top_10_categorical_accuracy: 0.0000e+00 - factorized_top_k/top_50_categorical_accuracy: 0.0000e+00 - factorized_top_k/top_100_categorical_accuracy: 0.0000e+00 - loss: 6574.5539 - regularization_loss: 0.0000e+00 - total_loss: 6574.5539WARNING:tensorflow:Early stopping conditioned on metric `val_loss` which is not available. Available metrics are: factorized_top_k/top_1_categorical_accuracy,factorized_top_k/top_5_categorical_accuracy,factorized_top_k/top_10_categorical_accuracy,factorized_top_k/top_50_categorical_accuracy,factorized_top_k/top_100_categorical_accuracy,loss,regularization_loss,total_loss\n"
     ]
    },
    {
     "name": "stderr",
     "output_type": "stream",
     "text": [
      "WARNING:tensorflow:Early stopping conditioned on metric `val_loss` which is not available. Available metrics are: factorized_top_k/top_1_categorical_accuracy,factorized_top_k/top_5_categorical_accuracy,factorized_top_k/top_10_categorical_accuracy,factorized_top_k/top_50_categorical_accuracy,factorized_top_k/top_100_categorical_accuracy,loss,regularization_loss,total_loss\n"
     ]
    },
    {
     "name": "stdout",
     "output_type": "stream",
     "text": [
      "79/79 [==============================] - 1s 17ms/step - factorized_top_k/top_1_categorical_accuracy: 0.0000e+00 - factorized_top_k/top_5_categorical_accuracy: 0.0000e+00 - factorized_top_k/top_10_categorical_accuracy: 0.0000e+00 - factorized_top_k/top_50_categorical_accuracy: 0.0000e+00 - factorized_top_k/top_100_categorical_accuracy: 0.0000e+00 - loss: 6423.8320 - regularization_loss: 0.0000e+00 - total_loss: 6423.8320\n",
      "Epoch 90/100\n",
      "76/79 [===========================>..] - ETA: 0s - factorized_top_k/top_1_categorical_accuracy: 0.0000e+00 - factorized_top_k/top_5_categorical_accuracy: 0.0000e+00 - factorized_top_k/top_10_categorical_accuracy: 0.0000e+00 - factorized_top_k/top_50_categorical_accuracy: 0.0000e+00 - factorized_top_k/top_100_categorical_accuracy: 0.0000e+00 - loss: 6574.7991 - regularization_loss: 0.0000e+00 - total_loss: 6574.7991WARNING:tensorflow:Early stopping conditioned on metric `val_loss` which is not available. Available metrics are: factorized_top_k/top_1_categorical_accuracy,factorized_top_k/top_5_categorical_accuracy,factorized_top_k/top_10_categorical_accuracy,factorized_top_k/top_50_categorical_accuracy,factorized_top_k/top_100_categorical_accuracy,loss,regularization_loss,total_loss\n"
     ]
    },
    {
     "name": "stderr",
     "output_type": "stream",
     "text": [
      "WARNING:tensorflow:Early stopping conditioned on metric `val_loss` which is not available. Available metrics are: factorized_top_k/top_1_categorical_accuracy,factorized_top_k/top_5_categorical_accuracy,factorized_top_k/top_10_categorical_accuracy,factorized_top_k/top_50_categorical_accuracy,factorized_top_k/top_100_categorical_accuracy,loss,regularization_loss,total_loss\n"
     ]
    },
    {
     "name": "stdout",
     "output_type": "stream",
     "text": [
      "79/79 [==============================] - 1s 16ms/step - factorized_top_k/top_1_categorical_accuracy: 0.0000e+00 - factorized_top_k/top_5_categorical_accuracy: 0.0000e+00 - factorized_top_k/top_10_categorical_accuracy: 0.0000e+00 - factorized_top_k/top_50_categorical_accuracy: 0.0000e+00 - factorized_top_k/top_100_categorical_accuracy: 0.0000e+00 - loss: 6423.7033 - regularization_loss: 0.0000e+00 - total_loss: 6423.7033\n",
      "Epoch 91/100\n",
      "77/79 [============================>.] - ETA: 0s - factorized_top_k/top_1_categorical_accuracy: 0.0000e+00 - factorized_top_k/top_5_categorical_accuracy: 0.0000e+00 - factorized_top_k/top_10_categorical_accuracy: 0.0000e+00 - factorized_top_k/top_50_categorical_accuracy: 0.0000e+00 - factorized_top_k/top_100_categorical_accuracy: 0.0000e+00 - loss: 6574.2885 - regularization_loss: 0.0000e+00 - total_loss: 6574.2885WARNING:tensorflow:Early stopping conditioned on metric `val_loss` which is not available. Available metrics are: factorized_top_k/top_1_categorical_accuracy,factorized_top_k/top_5_categorical_accuracy,factorized_top_k/top_10_categorical_accuracy,factorized_top_k/top_50_categorical_accuracy,factorized_top_k/top_100_categorical_accuracy,loss,regularization_loss,total_loss\n"
     ]
    },
    {
     "name": "stderr",
     "output_type": "stream",
     "text": [
      "WARNING:tensorflow:Early stopping conditioned on metric `val_loss` which is not available. Available metrics are: factorized_top_k/top_1_categorical_accuracy,factorized_top_k/top_5_categorical_accuracy,factorized_top_k/top_10_categorical_accuracy,factorized_top_k/top_50_categorical_accuracy,factorized_top_k/top_100_categorical_accuracy,loss,regularization_loss,total_loss\n"
     ]
    },
    {
     "name": "stdout",
     "output_type": "stream",
     "text": [
      "79/79 [==============================] - 1s 18ms/step - factorized_top_k/top_1_categorical_accuracy: 0.0000e+00 - factorized_top_k/top_5_categorical_accuracy: 0.0000e+00 - factorized_top_k/top_10_categorical_accuracy: 0.0000e+00 - factorized_top_k/top_50_categorical_accuracy: 0.0000e+00 - factorized_top_k/top_100_categorical_accuracy: 0.0000e+00 - loss: 6423.5764 - regularization_loss: 0.0000e+00 - total_loss: 6423.5764\n",
      "Epoch 92/100\n",
      "78/79 [============================>.] - ETA: 0s - factorized_top_k/top_1_categorical_accuracy: 0.0000e+00 - factorized_top_k/top_5_categorical_accuracy: 0.0000e+00 - factorized_top_k/top_10_categorical_accuracy: 0.0000e+00 - factorized_top_k/top_50_categorical_accuracy: 0.0000e+00 - factorized_top_k/top_100_categorical_accuracy: 0.0000e+00 - loss: 6574.1628 - regularization_loss: 0.0000e+00 - total_loss: 6574.1628WARNING:tensorflow:Early stopping conditioned on metric `val_loss` which is not available. Available metrics are: factorized_top_k/top_1_categorical_accuracy,factorized_top_k/top_5_categorical_accuracy,factorized_top_k/top_10_categorical_accuracy,factorized_top_k/top_50_categorical_accuracy,factorized_top_k/top_100_categorical_accuracy,loss,regularization_loss,total_loss\n"
     ]
    },
    {
     "name": "stderr",
     "output_type": "stream",
     "text": [
      "WARNING:tensorflow:Early stopping conditioned on metric `val_loss` which is not available. Available metrics are: factorized_top_k/top_1_categorical_accuracy,factorized_top_k/top_5_categorical_accuracy,factorized_top_k/top_10_categorical_accuracy,factorized_top_k/top_50_categorical_accuracy,factorized_top_k/top_100_categorical_accuracy,loss,regularization_loss,total_loss\n"
     ]
    },
    {
     "name": "stdout",
     "output_type": "stream",
     "text": [
      "79/79 [==============================] - 1s 17ms/step - factorized_top_k/top_1_categorical_accuracy: 0.0000e+00 - factorized_top_k/top_5_categorical_accuracy: 0.0000e+00 - factorized_top_k/top_10_categorical_accuracy: 0.0000e+00 - factorized_top_k/top_50_categorical_accuracy: 0.0000e+00 - factorized_top_k/top_100_categorical_accuracy: 0.0000e+00 - loss: 6423.4514 - regularization_loss: 0.0000e+00 - total_loss: 6423.4514\n",
      "Epoch 93/100\n",
      "77/79 [============================>.] - ETA: 0s - factorized_top_k/top_1_categorical_accuracy: 0.0000e+00 - factorized_top_k/top_5_categorical_accuracy: 0.0000e+00 - factorized_top_k/top_10_categorical_accuracy: 0.0000e+00 - factorized_top_k/top_50_categorical_accuracy: 0.0000e+00 - factorized_top_k/top_100_categorical_accuracy: 0.0000e+00 - loss: 6574.0315 - regularization_loss: 0.0000e+00 - total_loss: 6574.0315WARNING:tensorflow:Early stopping conditioned on metric `val_loss` which is not available. Available metrics are: factorized_top_k/top_1_categorical_accuracy,factorized_top_k/top_5_categorical_accuracy,factorized_top_k/top_10_categorical_accuracy,factorized_top_k/top_50_categorical_accuracy,factorized_top_k/top_100_categorical_accuracy,loss,regularization_loss,total_loss\n"
     ]
    },
    {
     "name": "stderr",
     "output_type": "stream",
     "text": [
      "WARNING:tensorflow:Early stopping conditioned on metric `val_loss` which is not available. Available metrics are: factorized_top_k/top_1_categorical_accuracy,factorized_top_k/top_5_categorical_accuracy,factorized_top_k/top_10_categorical_accuracy,factorized_top_k/top_50_categorical_accuracy,factorized_top_k/top_100_categorical_accuracy,loss,regularization_loss,total_loss\n"
     ]
    },
    {
     "name": "stdout",
     "output_type": "stream",
     "text": [
      "79/79 [==============================] - 1s 17ms/step - factorized_top_k/top_1_categorical_accuracy: 0.0000e+00 - factorized_top_k/top_5_categorical_accuracy: 0.0000e+00 - factorized_top_k/top_10_categorical_accuracy: 0.0000e+00 - factorized_top_k/top_50_categorical_accuracy: 0.0000e+00 - factorized_top_k/top_100_categorical_accuracy: 0.0000e+00 - loss: 6423.3282 - regularization_loss: 0.0000e+00 - total_loss: 6423.3282\n",
      "Epoch 94/100\n",
      "78/79 [============================>.] - ETA: 0s - factorized_top_k/top_1_categorical_accuracy: 0.0000e+00 - factorized_top_k/top_5_categorical_accuracy: 0.0000e+00 - factorized_top_k/top_10_categorical_accuracy: 0.0000e+00 - factorized_top_k/top_50_categorical_accuracy: 0.0000e+00 - factorized_top_k/top_100_categorical_accuracy: 0.0000e+00 - loss: 6573.9113 - regularization_loss: 0.0000e+00 - total_loss: 6573.9113WARNING:tensorflow:Early stopping conditioned on metric `val_loss` which is not available. Available metrics are: factorized_top_k/top_1_categorical_accuracy,factorized_top_k/top_5_categorical_accuracy,factorized_top_k/top_10_categorical_accuracy,factorized_top_k/top_50_categorical_accuracy,factorized_top_k/top_100_categorical_accuracy,loss,regularization_loss,total_loss\n"
     ]
    },
    {
     "name": "stderr",
     "output_type": "stream",
     "text": [
      "WARNING:tensorflow:Early stopping conditioned on metric `val_loss` which is not available. Available metrics are: factorized_top_k/top_1_categorical_accuracy,factorized_top_k/top_5_categorical_accuracy,factorized_top_k/top_10_categorical_accuracy,factorized_top_k/top_50_categorical_accuracy,factorized_top_k/top_100_categorical_accuracy,loss,regularization_loss,total_loss\n"
     ]
    },
    {
     "name": "stdout",
     "output_type": "stream",
     "text": [
      "79/79 [==============================] - 1s 17ms/step - factorized_top_k/top_1_categorical_accuracy: 0.0000e+00 - factorized_top_k/top_5_categorical_accuracy: 0.0000e+00 - factorized_top_k/top_10_categorical_accuracy: 0.0000e+00 - factorized_top_k/top_50_categorical_accuracy: 0.0000e+00 - factorized_top_k/top_100_categorical_accuracy: 0.0000e+00 - loss: 6423.2068 - regularization_loss: 0.0000e+00 - total_loss: 6423.2068\n",
      "Epoch 95/100\n",
      "76/79 [===========================>..] - ETA: 0s - factorized_top_k/top_1_categorical_accuracy: 0.0000e+00 - factorized_top_k/top_5_categorical_accuracy: 0.0000e+00 - factorized_top_k/top_10_categorical_accuracy: 0.0000e+00 - factorized_top_k/top_50_categorical_accuracy: 0.0000e+00 - factorized_top_k/top_100_categorical_accuracy: 0.0000e+00 - loss: 6574.1561 - regularization_loss: 0.0000e+00 - total_loss: 6574.1561WARNING:tensorflow:Early stopping conditioned on metric `val_loss` which is not available. Available metrics are: factorized_top_k/top_1_categorical_accuracy,factorized_top_k/top_5_categorical_accuracy,factorized_top_k/top_10_categorical_accuracy,factorized_top_k/top_50_categorical_accuracy,factorized_top_k/top_100_categorical_accuracy,loss,regularization_loss,total_loss\n"
     ]
    },
    {
     "name": "stderr",
     "output_type": "stream",
     "text": [
      "WARNING:tensorflow:Early stopping conditioned on metric `val_loss` which is not available. Available metrics are: factorized_top_k/top_1_categorical_accuracy,factorized_top_k/top_5_categorical_accuracy,factorized_top_k/top_10_categorical_accuracy,factorized_top_k/top_50_categorical_accuracy,factorized_top_k/top_100_categorical_accuracy,loss,regularization_loss,total_loss\n"
     ]
    },
    {
     "name": "stdout",
     "output_type": "stream",
     "text": [
      "79/79 [==============================] - 1s 17ms/step - factorized_top_k/top_1_categorical_accuracy: 0.0000e+00 - factorized_top_k/top_5_categorical_accuracy: 0.0000e+00 - factorized_top_k/top_10_categorical_accuracy: 0.0000e+00 - factorized_top_k/top_50_categorical_accuracy: 0.0000e+00 - factorized_top_k/top_100_categorical_accuracy: 0.0000e+00 - loss: 6423.0870 - regularization_loss: 0.0000e+00 - total_loss: 6423.0870\n",
      "Epoch 96/100\n",
      "78/79 [============================>.] - ETA: 0s - factorized_top_k/top_1_categorical_accuracy: 0.0000e+00 - factorized_top_k/top_5_categorical_accuracy: 0.0000e+00 - factorized_top_k/top_10_categorical_accuracy: 0.0000e+00 - factorized_top_k/top_50_categorical_accuracy: 0.0000e+00 - factorized_top_k/top_100_categorical_accuracy: 0.0000e+00 - loss: 6573.6666 - regularization_loss: 0.0000e+00 - total_loss: 6573.6666WARNING:tensorflow:Early stopping conditioned on metric `val_loss` which is not available. Available metrics are: factorized_top_k/top_1_categorical_accuracy,factorized_top_k/top_5_categorical_accuracy,factorized_top_k/top_10_categorical_accuracy,factorized_top_k/top_50_categorical_accuracy,factorized_top_k/top_100_categorical_accuracy,loss,regularization_loss,total_loss\n"
     ]
    },
    {
     "name": "stderr",
     "output_type": "stream",
     "text": [
      "WARNING:tensorflow:Early stopping conditioned on metric `val_loss` which is not available. Available metrics are: factorized_top_k/top_1_categorical_accuracy,factorized_top_k/top_5_categorical_accuracy,factorized_top_k/top_10_categorical_accuracy,factorized_top_k/top_50_categorical_accuracy,factorized_top_k/top_100_categorical_accuracy,loss,regularization_loss,total_loss\n"
     ]
    },
    {
     "name": "stdout",
     "output_type": "stream",
     "text": [
      "79/79 [==============================] - 1s 17ms/step - factorized_top_k/top_1_categorical_accuracy: 0.0000e+00 - factorized_top_k/top_5_categorical_accuracy: 0.0000e+00 - factorized_top_k/top_10_categorical_accuracy: 0.0000e+00 - factorized_top_k/top_50_categorical_accuracy: 0.0000e+00 - factorized_top_k/top_100_categorical_accuracy: 0.0000e+00 - loss: 6422.9687 - regularization_loss: 0.0000e+00 - total_loss: 6422.9687\n",
      "Epoch 97/100\n",
      "79/79 [==============================] - ETA: 0s - factorized_top_k/top_1_categorical_accuracy: 0.0000e+00 - factorized_top_k/top_5_categorical_accuracy: 0.0000e+00 - factorized_top_k/top_10_categorical_accuracy: 0.0000e+00 - factorized_top_k/top_50_categorical_accuracy: 0.0000e+00 - factorized_top_k/top_100_categorical_accuracy: 0.0000e+00 - loss: 6497.2456 - regularization_loss: 0.0000e+00 - total_loss: 6497.2456WARNING:tensorflow:Early stopping conditioned on metric `val_loss` which is not available. Available metrics are: factorized_top_k/top_1_categorical_accuracy,factorized_top_k/top_5_categorical_accuracy,factorized_top_k/top_10_categorical_accuracy,factorized_top_k/top_50_categorical_accuracy,factorized_top_k/top_100_categorical_accuracy,loss,regularization_loss,total_loss\n"
     ]
    },
    {
     "name": "stderr",
     "output_type": "stream",
     "text": [
      "WARNING:tensorflow:Early stopping conditioned on metric `val_loss` which is not available. Available metrics are: factorized_top_k/top_1_categorical_accuracy,factorized_top_k/top_5_categorical_accuracy,factorized_top_k/top_10_categorical_accuracy,factorized_top_k/top_50_categorical_accuracy,factorized_top_k/top_100_categorical_accuracy,loss,regularization_loss,total_loss\n"
     ]
    },
    {
     "name": "stdout",
     "output_type": "stream",
     "text": [
      "79/79 [==============================] - 1s 16ms/step - factorized_top_k/top_1_categorical_accuracy: 0.0000e+00 - factorized_top_k/top_5_categorical_accuracy: 0.0000e+00 - factorized_top_k/top_10_categorical_accuracy: 0.0000e+00 - factorized_top_k/top_50_categorical_accuracy: 0.0000e+00 - factorized_top_k/top_100_categorical_accuracy: 0.0000e+00 - loss: 6422.8521 - regularization_loss: 0.0000e+00 - total_loss: 6422.8521\n",
      "Epoch 98/100\n",
      "77/79 [============================>.] - ETA: 0s - factorized_top_k/top_1_categorical_accuracy: 0.0000e+00 - factorized_top_k/top_5_categorical_accuracy: 0.0000e+00 - factorized_top_k/top_10_categorical_accuracy: 0.0000e+00 - factorized_top_k/top_50_categorical_accuracy: 0.0000e+00 - factorized_top_k/top_100_categorical_accuracy: 0.0000e+00 - loss: 6573.4193 - regularization_loss: 0.0000e+00 - total_loss: 6573.4193WARNING:tensorflow:Early stopping conditioned on metric `val_loss` which is not available. Available metrics are: factorized_top_k/top_1_categorical_accuracy,factorized_top_k/top_5_categorical_accuracy,factorized_top_k/top_10_categorical_accuracy,factorized_top_k/top_50_categorical_accuracy,factorized_top_k/top_100_categorical_accuracy,loss,regularization_loss,total_loss\n"
     ]
    },
    {
     "name": "stderr",
     "output_type": "stream",
     "text": [
      "WARNING:tensorflow:Early stopping conditioned on metric `val_loss` which is not available. Available metrics are: factorized_top_k/top_1_categorical_accuracy,factorized_top_k/top_5_categorical_accuracy,factorized_top_k/top_10_categorical_accuracy,factorized_top_k/top_50_categorical_accuracy,factorized_top_k/top_100_categorical_accuracy,loss,regularization_loss,total_loss\n"
     ]
    },
    {
     "name": "stdout",
     "output_type": "stream",
     "text": [
      "79/79 [==============================] - 1s 18ms/step - factorized_top_k/top_1_categorical_accuracy: 0.0000e+00 - factorized_top_k/top_5_categorical_accuracy: 0.0000e+00 - factorized_top_k/top_10_categorical_accuracy: 0.0000e+00 - factorized_top_k/top_50_categorical_accuracy: 0.0000e+00 - factorized_top_k/top_100_categorical_accuracy: 0.0000e+00 - loss: 6422.7371 - regularization_loss: 0.0000e+00 - total_loss: 6422.7371\n",
      "Epoch 99/100\n",
      "76/79 [===========================>..] - ETA: 0s - factorized_top_k/top_1_categorical_accuracy: 0.0000e+00 - factorized_top_k/top_5_categorical_accuracy: 0.0000e+00 - factorized_top_k/top_10_categorical_accuracy: 0.0000e+00 - factorized_top_k/top_50_categorical_accuracy: 0.0000e+00 - factorized_top_k/top_100_categorical_accuracy: 0.0000e+00 - loss: 6573.6724 - regularization_loss: 0.0000e+00 - total_loss: 6573.6724WARNING:tensorflow:Early stopping conditioned on metric `val_loss` which is not available. Available metrics are: factorized_top_k/top_1_categorical_accuracy,factorized_top_k/top_5_categorical_accuracy,factorized_top_k/top_10_categorical_accuracy,factorized_top_k/top_50_categorical_accuracy,factorized_top_k/top_100_categorical_accuracy,loss,regularization_loss,total_loss\n"
     ]
    },
    {
     "name": "stderr",
     "output_type": "stream",
     "text": [
      "WARNING:tensorflow:Early stopping conditioned on metric `val_loss` which is not available. Available metrics are: factorized_top_k/top_1_categorical_accuracy,factorized_top_k/top_5_categorical_accuracy,factorized_top_k/top_10_categorical_accuracy,factorized_top_k/top_50_categorical_accuracy,factorized_top_k/top_100_categorical_accuracy,loss,regularization_loss,total_loss\n"
     ]
    },
    {
     "name": "stdout",
     "output_type": "stream",
     "text": [
      "79/79 [==============================] - 1s 15ms/step - factorized_top_k/top_1_categorical_accuracy: 0.0000e+00 - factorized_top_k/top_5_categorical_accuracy: 0.0000e+00 - factorized_top_k/top_10_categorical_accuracy: 0.0000e+00 - factorized_top_k/top_50_categorical_accuracy: 0.0000e+00 - factorized_top_k/top_100_categorical_accuracy: 0.0000e+00 - loss: 6422.6236 - regularization_loss: 0.0000e+00 - total_loss: 6422.6236\n",
      "Epoch 100/100\n",
      "77/79 [============================>.] - ETA: 0s - factorized_top_k/top_1_categorical_accuracy: 0.0000e+00 - factorized_top_k/top_5_categorical_accuracy: 0.0000e+00 - factorized_top_k/top_10_categorical_accuracy: 0.0000e+00 - factorized_top_k/top_50_categorical_accuracy: 0.0000e+00 - factorized_top_k/top_100_categorical_accuracy: 0.0000e+00 - loss: 6573.1858 - regularization_loss: 0.0000e+00 - total_loss: 6573.1858WARNING:tensorflow:Early stopping conditioned on metric `val_loss` which is not available. Available metrics are: factorized_top_k/top_1_categorical_accuracy,factorized_top_k/top_5_categorical_accuracy,factorized_top_k/top_10_categorical_accuracy,factorized_top_k/top_50_categorical_accuracy,factorized_top_k/top_100_categorical_accuracy,loss,regularization_loss,total_loss\n"
     ]
    },
    {
     "name": "stderr",
     "output_type": "stream",
     "text": [
      "WARNING:tensorflow:Early stopping conditioned on metric `val_loss` which is not available. Available metrics are: factorized_top_k/top_1_categorical_accuracy,factorized_top_k/top_5_categorical_accuracy,factorized_top_k/top_10_categorical_accuracy,factorized_top_k/top_50_categorical_accuracy,factorized_top_k/top_100_categorical_accuracy,loss,regularization_loss,total_loss\n"
     ]
    },
    {
     "name": "stdout",
     "output_type": "stream",
     "text": [
      "79/79 [==============================] - 1s 14ms/step - factorized_top_k/top_1_categorical_accuracy: 0.0000e+00 - factorized_top_k/top_5_categorical_accuracy: 0.0000e+00 - factorized_top_k/top_10_categorical_accuracy: 0.0000e+00 - factorized_top_k/top_50_categorical_accuracy: 0.0000e+00 - factorized_top_k/top_100_categorical_accuracy: 0.0000e+00 - loss: 6422.5117 - regularization_loss: 0.0000e+00 - total_loss: 6422.5117\n"
     ]
    }
   ],
   "source": [
    "# Shuffle the training data for each epoch.\n",
    "# Batch and cache both the training and evaluation data.\n",
    "# `cache()` method caches the elements in the dataset in memory. To caches data\n",
    "# in a file pass the `filename` argument to the method: cache(filename='')\n",
    "# The first time the dataset is iterated over, its elements will be cached\n",
    "# either in the specified file or in memory. Subsequent iterations will use the\n",
    "# cached data.\n",
    "retrieval_cached_ratings_trainset = retrieval_ratings_trainset.shuffle(100_000).batch(1024).cache()\n",
    "retrieval_cached_ratings_validset = retrieval_ratings_validset.batch(1024).cache()\n",
    "\n",
    "early_stopping_callback = tf.keras.callbacks.EarlyStopping(\n",
    "    monitor = 'val_loss',\n",
    "    patience = 3\n",
    ")\n",
    "\n",
    "history = retrieval_model.fit(\n",
    "    retrieval_cached_ratings_trainset,\n",
    "    # validation_data = retrieval_cached_ratings_validset,\n",
    "    # validation_freq = 1,\n",
    "    epochs = 100,\n",
    "    callbacks = [\n",
    "        early_stopping_callback\n",
    "    ]\n",
    ")"
   ]
  },
  {
   "cell_type": "code",
   "execution_count": 13,
   "metadata": {},
   "outputs": [
    {
     "ename": "KeyError",
     "evalue": "'val_loss'",
     "output_type": "error",
     "traceback": [
      "\u001b[0;31m---------------------------------------------------------------------------\u001b[0m",
      "\u001b[0;31mKeyError\u001b[0m                                  Traceback (most recent call last)",
      "Cell \u001b[0;32mIn[13], line 3\u001b[0m\n\u001b[1;32m      1\u001b[0m \u001b[38;5;66;03m# Plot loss\u001b[39;00m\n\u001b[1;32m      2\u001b[0m plt\u001b[38;5;241m.\u001b[39mplot(history\u001b[38;5;241m.\u001b[39mhistory[\u001b[38;5;124m\"\u001b[39m\u001b[38;5;124mloss\u001b[39m\u001b[38;5;124m\"\u001b[39m])\n\u001b[0;32m----> 3\u001b[0m plt\u001b[38;5;241m.\u001b[39mplot(\u001b[43mhistory\u001b[49m\u001b[38;5;241;43m.\u001b[39;49m\u001b[43mhistory\u001b[49m\u001b[43m[\u001b[49m\u001b[38;5;124;43m\"\u001b[39;49m\u001b[38;5;124;43mval_loss\u001b[39;49m\u001b[38;5;124;43m\"\u001b[39;49m\u001b[43m]\u001b[49m)\n\u001b[1;32m      4\u001b[0m plt\u001b[38;5;241m.\u001b[39mtitle(\u001b[38;5;124m\"\u001b[39m\u001b[38;5;124mModel losses during training\u001b[39m\u001b[38;5;124m\"\u001b[39m)\n\u001b[1;32m      5\u001b[0m plt\u001b[38;5;241m.\u001b[39mxlabel(\u001b[38;5;124m\"\u001b[39m\u001b[38;5;124mepoch\u001b[39m\u001b[38;5;124m\"\u001b[39m)\n",
      "\u001b[0;31mKeyError\u001b[0m: 'val_loss'"
     ]
    },
    {
     "data": {
      "image/png": "[encoded data removed]",
      "text/plain": [
       "<Figure size 640x480 with 1 Axes>"
      ]
     },
     "metadata": {},
     "output_type": "display_data"
    }
   ],
   "source": [
    "# Plot loss\n",
    "plt.plot(history.history[\"loss\"])\n",
    "plt.plot(history.history[\"val_loss\"])\n",
    "plt.title(\"Model losses during training\")\n",
    "plt.xlabel(\"epoch\")\n",
    "plt.ylabel(\"loss\")\n",
    "plt.legend([\"train\", \"test\"], loc=\"upper right\")\n",
    "plt.show()"
   ]
  },
  {
   "cell_type": "code",
   "execution_count": null,
   "metadata": {},
   "outputs": [],
   "source": [
    "scann_layer = tfrs.layers.factorized_top_k.ScaNN(\n",
    "    retrieval_model.query_tower,\n",
    "    k = 10,\n",
    ")\n",
    "\n",
    "scann_layer.index_from_dataset(\n",
    "  tf.data.Dataset.zip(\n",
    "      (\n",
    "          movies_dataset.map(lambda movie: movie['movie_id']).batch(100),\n",
    "          candidates_corpus_dataset.batch(100).map(retrieval_model.candidate_tower)\n",
    "      )\n",
    "  )\n",
    ")\n",
    "\n",
    "user_id = '41'\n",
    "afinity_scores, movie_ids = scann_layer(\n",
    "    {\n",
    "        'user_id': tf.convert_to_tensor([user_id])\n",
    "    }\n",
    ")\n",
    "\n",
    "print(f\"Recommendations for user {user_id} using ScaNN: {movie_ids[0, :5]} (Confidences: {afinity_scores[0, :5]})\")"
   ]
  }
 ],
 "metadata": {
  "kernelspec": {
   "display_name": ".venv",
   "language": "python",
   "name": "python3"
  },
  "language_info": {
   "codemirror_mode": {
    "name": "ipython",
    "version": 3
   },
   "file_extension": ".py",
   "mimetype": "text/x-python",
   "name": "python",
   "nbconvert_exporter": "python",
   "pygments_lexer": "ipython3",
   "version": "3.10.12"
  }
 },
 "nbformat": 4,
 "nbformat_minor": 2
}
