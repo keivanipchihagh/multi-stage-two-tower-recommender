{
 "cells": [
  {
   "cell_type": "code",
   "execution_count": 45,
   "metadata": {},
   "outputs": [],
   "source": [
    "# !pip install tf_keras tensorflow tensorflow-recommenders tensorflow-datasets scann"
   ]
  },
  {
   "cell_type": "code",
   "execution_count": 46,
   "metadata": {},
   "outputs": [],
   "source": [
    "# Use legacy Keras\n",
    "import os\n",
    "os.environ['TF_USE_LEGACY_KERAS'] = '1'"
   ]
  },
  {
   "cell_type": "code",
   "execution_count": 47,
   "metadata": {},
   "outputs": [],
   "source": [
    "from typing import Dict, Text\n",
    "\n",
    "import keras\n",
    "import numpy as np\n",
    "import tensorflow as tf\n",
    "from matplotlib import pyplot as plt\n",
    "\n",
    "import tensorflow_datasets as tfds\n",
    "import tensorflow_recommenders as tfrs\n",
    "\n",
    "RANDOM_STATE = 42\n",
    "\n",
    "tf.random.set_seed(RANDOM_STATE)"
   ]
  },
  {
   "cell_type": "markdown",
   "metadata": {},
   "source": [
    "## Preprocess"
   ]
  },
  {
   "cell_type": "markdown",
   "metadata": {},
   "source": [
    "### Download Datasets"
   ]
  },
  {
   "cell_type": "code",
   "execution_count": 48,
   "metadata": {},
   "outputs": [
    {
     "name": "stdout",
     "output_type": "stream",
     "text": [
      "Ratings count: 100000\n",
      "Movies count: 1682\n"
     ]
    }
   ],
   "source": [
    "# Download the dataset and cache them as `tfrecord`\n",
    "\n",
    "ratings_dataset, ratings_dataset_info = tfds.load(\n",
    "    # Options: '25m-ratings', 'latest-small-ratings', '100k-ratings', '1m-ratings', '20m-ratings'\n",
    "    name = 'movielens/100k-ratings',\n",
    "    # MovieLense has only the `train` split.\n",
    "    split = 'train',\n",
    "    # Include metadata like version, description, homepage, citation, etc.\n",
    "    with_info = True\n",
    ")\n",
    "print(f\"Ratings count:\", ratings_dataset.__len__().numpy())\n",
    "\n",
    "movies_dataset, movies_dataset_info = tfds.load(\n",
    "    # Options: '25m-movies', 'latest-small-movies', '100k-movies', '1m-movies', '20m-movies'\n",
    "    name = 'movielens/100k-movies',\n",
    "    # MovieLense has only the `train` split.\n",
    "    split = 'train',\n",
    "    # Include metadata like version, description, homepage, citation, etc.\n",
    "    with_info = True\n",
    ")\n",
    "print(f\"Movies count:\", movies_dataset.__len__().numpy())"
   ]
  },
  {
   "cell_type": "markdown",
   "metadata": {},
   "source": [
    "### Feature Selection"
   ]
  },
  {
   "cell_type": "code",
   "execution_count": 49,
   "metadata": {},
   "outputs": [],
   "source": [
    "# Feature selection\n",
    "ratings_dataset = ratings_dataset.map(\n",
    "    lambda rating: {\n",
    "        # `user_id` is useful as a user identifier.\n",
    "        'user_id': rating['user_id'],\n",
    "        # `movie_id` is useful as a movie identifier.\n",
    "        'movie_id': rating['movie_id'],\n",
    "        # `movie_title` is useful as a textual information about the movie.\n",
    "        'movie_title': rating['movie_title'],\n",
    "        # `user_rating` shows the user's level of interest to a movie.\n",
    "        'user_rating': rating['user_rating'],\n",
    "        # `timestamp` will allow us to model the effect of time.\n",
    "        'timestamp': rating['timestamp']\n",
    "    }\n",
    ")"
   ]
  },
  {
   "cell_type": "markdown",
   "metadata": {},
   "source": [
    "### Dataset Splitting"
   ]
  },
  {
   "cell_type": "code",
   "execution_count": 50,
   "metadata": {},
   "outputs": [
    {
     "name": "stdout",
     "output_type": "stream",
     "text": [
      "trainset_size: 50000\n",
      "validset_size: 50000\n"
     ]
    }
   ],
   "source": [
    "# Shuffle the elements of the dataset randomly.\n",
    "ratings_dataset_shuffled = ratings_dataset.shuffle(\n",
    "    # The new dataset will be sampled from a buffer window of first `buffer_size`\n",
    "    # elements of the dataset\n",
    "    buffer_size = 100_000,\n",
    "    # The random seed used to create the distribution.\n",
    "    seed = RANDOM_STATE,\n",
    "    # `list(dataset.as_numpy_iterator()` yields different result for each call\n",
    "    # Because reshuffle_each_iteration defaults to True.\n",
    "    reshuffle_each_iteration = False\n",
    ")\n",
    "\n",
    "# Split dataset randomly (80% for training and 20% for validation)\n",
    "trainset_size: int  = 0.5 * ratings_dataset.__len__().numpy()\n",
    "\n",
    "ratings_trainset = ratings_dataset_shuffled.take(trainset_size)\n",
    "ratings_validset = ratings_dataset_shuffled.skip(trainset_size)\n",
    "\n",
    "print(f\"trainset_size:\", ratings_trainset.__len__().numpy())\n",
    "print(f\"validset_size:\", ratings_validset.__len__().numpy())"
   ]
  },
  {
   "cell_type": "markdown",
   "metadata": {},
   "source": [
    "### Categorical Features to Embeddings"
   ]
  },
  {
   "cell_type": "code",
   "execution_count": 51,
   "metadata": {},
   "outputs": [
    {
     "name": "stdout",
     "output_type": "stream",
     "text": [
      "Lookups for user_ids ['1', '124', 'xxx'] -> [79, 899, 0]\n",
      "Embeddings for user_ids ['1', '124', 'xxx'] -> [[-0.00617684 -0.01510661  0.04721252 -0.02996333 -0.00517017 -0.02561041\n",
      "   0.02575946 -0.04325232  0.00133885  0.01746913  0.04594481  0.02650649\n",
      "   0.03635137 -0.02954218 -0.01224468  0.0388358   0.00093381  0.03646778\n",
      "  -0.03840183  0.00594395  0.02301914 -0.04406687 -0.02819129 -0.00071276\n",
      "  -0.03348086  0.04923535  0.00855726  0.04194597  0.01321353  0.0084868\n",
      "   0.00964457 -0.03240247]\n",
      " [ 0.04857698 -0.02358506  0.02875826  0.04348486 -0.02120069  0.01740364\n",
      "   0.04345603  0.00394396  0.01659608  0.02870503 -0.01449173 -0.04752832\n",
      "  -0.02785654  0.00367572 -0.00492766  0.03212    -0.00223903  0.01579173\n",
      "   0.00788007  0.0316014   0.01982938 -0.015465    0.04690541  0.02970685\n",
      "  -0.01070715  0.02551334 -0.04896654 -0.01340976 -0.01845834  0.01990242\n",
      "   0.04099922 -0.04518945]\n",
      " [-0.0038403   0.04254628 -0.02950495 -0.0125524  -0.04475538  0.04743365\n",
      "  -0.00986848 -0.01488544  0.02220147  0.01238141 -0.02827451 -0.02937188\n",
      "   0.01145651  0.00880037 -0.04617776 -0.02588967  0.00357304  0.04270572\n",
      "   0.03873518  0.01261974  0.01838845  0.02441892 -0.03447659  0.0304282\n",
      "  -0.0132951  -0.01029553  0.0032763   0.02314145 -0.00770196  0.03965538\n",
      "  -0.00684873 -0.00427415]]\n"
     ]
    }
   ],
   "source": [
    "USER_ID_EMBEDDING_DIM = 32\n",
    "\n",
    "# Make a Keras StringLookup layer as the mapping (lookup)\n",
    "user_id_lookup_layer = tf.keras.layers.StringLookup(\n",
    "    mask_token = None,\n",
    "    # Include the OOV token so the layer can handle categorical values \n",
    "    # that are not in the vocabulary and the model can continue to learn \n",
    "    # and make recommendations even using features it has not been seen \n",
    "    # during vocabulary construction.\n",
    "    oov_token = \"[UNK]\",\n",
    ")\n",
    "\n",
    "# StringLookup layer is a non-trainable layer and its state (the vocabulary)\n",
    "# must be constructed and set before training in a step called \"adaptation\".\n",
    "user_id_lookup_layer.adapt(\n",
    "    ratings_trainset.map(\n",
    "        lambda x: x['user_id']\n",
    "    )\n",
    ")\n",
    "\n",
    "user_ids            = ['1', '124', 'xxx']\n",
    "user_ids_mappings   = list(user_id_lookup_layer(user_ids).numpy())\n",
    "print(f\"Lookups for user_ids {user_ids} -> {user_ids_mappings}\")\n",
    "\n",
    "\n",
    "user_id_embedding_layer = tf.keras.layers.Embedding(\n",
    "    # Size of the vocabulary\n",
    "    input_dim = user_id_lookup_layer.vocabulary_size(),\n",
    "    # Dimension of the dense embedding\n",
    "    output_dim = USER_ID_EMBEDDING_DIM\n",
    ")\n",
    "\n",
    "# A model that takes raw string feature values (user_id) in and yields embeddings\n",
    "user_id_model = tf.keras.Sequential(\n",
    "    [\n",
    "        user_id_lookup_layer,\n",
    "        user_id_embedding_layer\n",
    "    ]\n",
    ")\n",
    "\n",
    "user_ids_embeddings = user_id_model(tf.convert_to_tensor(user_ids))\n",
    "print(f\"Embeddings for user_ids {user_ids} -> {user_ids_embeddings}\")"
   ]
  },
  {
   "cell_type": "code",
   "execution_count": 52,
   "metadata": {},
   "outputs": [
    {
     "name": "stdout",
     "output_type": "stream",
     "text": [
      "Lookups for movie_ids ['1', '124', 'xxx'] -> [4, 53, 2, 0]\n",
      "Embeddings for movie_ids ['1', '124', 'xxx'] -> [[ 0.03222071 -0.00941772 -0.04141575 -0.01875787 -0.00621741 -0.0333785\n",
      "   0.01643541 -0.02580888  0.04659477 -0.02093517 -0.0455995  -0.03799476\n",
      "   0.03796772  0.03765987  0.04267207  0.00485197  0.04444661 -0.00146191\n",
      "   0.0390312   0.00631963 -0.00984343 -0.02262664  0.01378013  0.0241977\n",
      "  -0.03123667 -0.00853509 -0.03163533  0.0092294  -0.00633585 -0.01272366\n",
      "   0.03751322 -0.0346372 ]\n",
      " [ 0.01962464 -0.02454803  0.04552439  0.03938374 -0.00075004  0.00046391\n",
      "  -0.03530071 -0.04081204  0.03592969 -0.01878206 -0.01711718 -0.04557779\n",
      "   0.04113627  0.03067937 -0.00672307  0.02493395 -0.01443177 -0.04056663\n",
      "   0.02646613  0.02233458 -0.02333272  0.04314451 -0.02919654 -0.01174495\n",
      "   0.04440526 -0.00398811  0.00081426  0.02263928  0.02510283  0.04865429\n",
      "  -0.01949321  0.01967803]\n",
      " [ 0.00613561  0.01393538 -0.00508081 -0.01125779 -0.03077326 -0.04986966\n",
      "   0.04077008  0.04510694 -0.03871766  0.0088225   0.02690679 -0.03266744\n",
      "  -0.0478196   0.01481039  0.02522876 -0.0143135   0.03111073 -0.03554454\n",
      "   0.02574984  0.02608651 -0.04203796 -0.02122103  0.03665764 -0.03188034\n",
      "  -0.0331164   0.04034724 -0.02906513 -0.04289662 -0.02570258  0.00290011\n",
      "  -0.01020365 -0.02703041]]\n"
     ]
    }
   ],
   "source": [
    "MOVIE_ID_EMBEDDING_DIM = 32\n",
    "\n",
    "# Make a Keras StringLookup layer as the mapping (lookup)\n",
    "movie_id_lookup_layer = tf.keras.layers.StringLookup(\n",
    "    mask_token = None,\n",
    "    # Include the OOV token so the layer can handle categorical values \n",
    "    # that are not in the vocabulary and the model can continue to learn \n",
    "    # and make recommendations even using features it has not been seen \n",
    "    # during vocabulary construction.\n",
    "    oov_token = \"[UNK]\",\n",
    ")\n",
    "\n",
    "# StringLookup layer is a non-trainable layer and its state (the vocabulary)\n",
    "# must be constructed and set before training in a step called \"adaptation\".\n",
    "movie_id_lookup_layer.adapt(\n",
    "    ratings_trainset.map(\n",
    "        lambda x: x['movie_id']\n",
    "    )\n",
    ")\n",
    "\n",
    "movie_ids            = ['1', '124', 'xxx']\n",
    "movie_ids_mappings   = list(movie_id_lookup_layer(['1', '12', '100', 'xxx']).numpy())\n",
    "print(f\"Lookups for movie_ids {movie_ids} -> {movie_ids_mappings}\")\n",
    "\n",
    "\n",
    "movie_id_embedding_layer = tf.keras.layers.Embedding(\n",
    "    # Size of the vocabulary\n",
    "    input_dim = movie_id_lookup_layer.vocabulary_size(),\n",
    "    # Dimension of the dense embedding\n",
    "    output_dim = MOVIE_ID_EMBEDDING_DIM\n",
    ")\n",
    "\n",
    "# A model that takes raw string feature values (movie_id) in and yields embeddings\n",
    "movie_id_model = tf.keras.Sequential(\n",
    "    [\n",
    "        movie_id_lookup_layer,\n",
    "        movie_id_embedding_layer\n",
    "    ]\n",
    ")\n",
    "\n",
    "movie_ids_embeddings = movie_id_model(tf.convert_to_tensor(movie_ids))\n",
    "print(f\"Embeddings for movie_ids {movie_ids} -> {movie_ids_embeddings}\")"
   ]
  },
  {
   "cell_type": "markdown",
   "metadata": {},
   "source": [
    "### Textual Features to Embeddings"
   ]
  },
  {
   "cell_type": "code",
   "execution_count": 53,
   "metadata": {},
   "outputs": [
    {
     "name": "stdout",
     "output_type": "stream",
     "text": [
      "Vocabulary -> ['', '[UNK]', 'the', '1996', '1997', '1995', '1994', 'of', '1993', 'and']\n",
      "Vectorized 'Postman, The (1997)' -? [1140    2    4]\n"
     ]
    }
   ],
   "source": [
    "MOVIE_TITLE_EMBEDDING_DIM = 32\n",
    "\n",
    "# Keras TextVectorization layer transforms the raw texts into `word pieces` and\n",
    "# map these pieces into tokens.\n",
    "movie_title_vectorization_layer = tf.keras.layers.TextVectorization()\n",
    "\n",
    "movie_title_vectorization_layer.adapt(\n",
    "    ratings_trainset.map(\n",
    "        lambda rating: rating['movie_title']\n",
    "    )\n",
    ")\n",
    "\n",
    "# Verify that the tokenization is done correctly\n",
    "vocabulary = movie_title_vectorization_layer.get_vocabulary()\n",
    "print(f\"Vocabulary -> {vocabulary[:10]}\")\n",
    "print(f\"Vectorized 'Postman, The (1997)' -? {movie_title_vectorization_layer('Postman, The (1997)')}\")\n",
    "\n",
    "movie_title_embedding_layer = tf.keras.layers.Embedding(\n",
    "    input_dim = len(vocabulary),\n",
    "    output_dim = MOVIE_TITLE_EMBEDDING_DIM,\n",
    "    # Whether or not the input value 0 is a MASK token.\n",
    "    # Keras TextVectorization layer builds the vocabulary with MASK token.\n",
    "    mask_zero = True\n",
    ")\n",
    "\n",
    "movie_title_model = tf.keras.Sequential(\n",
    "    [\n",
    "       movie_title_vectorization_layer,\n",
    "       movie_title_embedding_layer,\n",
    "       # Each title contains multiple words, so we will get multiple embeddings\n",
    "       # for each title that should be compressed into a single embedding for\n",
    "       # the text. Models like RNNs, Transformers or Attentions are useful here.\n",
    "       # However, averaging all the words' embeddings together is also a good\n",
    "       # starting point.\n",
    "       tf.keras.layers.GlobalAveragePooling1D()\n",
    "    ]\n",
    ")"
   ]
  },
  {
   "cell_type": "markdown",
   "metadata": {},
   "source": [
    "### Build the Retrieval (Candidate Generation Phase)"
   ]
  },
  {
   "cell_type": "code",
   "execution_count": 54,
   "metadata": {},
   "outputs": [],
   "source": [
    "# Query tower\n",
    "query_model = user_id_model\n",
    " \n",
    "# Candidate tower\n",
    "candidate_model = movie_id_model\n",
    " \n",
    " \n",
    "# Here we only used query and candidate identifiers to buid the towers. This\n",
    "# corresponds exactly to a classic matrix factorization approach.\n",
    "# https://ieeexplore.ieee.org/abstract/document/4781121\n",
    "# However, we can extend `tf.keras.Model` class to an arbitrarily complex model\n",
    "# including other features and return the final embedding vector at the end.\n",
    "# For example, by using movie metadata in the candidate tower, we can alleviate\n",
    "# cold-start problem.\n",
    "# return tf.concat([\n",
    "#         self.user_embedding(inputs[\"user_id\"]),\n",
    "#         self.timestamp_embedding(inputs[\"timestamp\"]),\n",
    "#         self.normalized_timestamp(inputs[\"timestamp\"])\n",
    "#     ], axis=1)"
   ]
  },
  {
   "cell_type": "code",
   "execution_count": 55,
   "metadata": {},
   "outputs": [],
   "source": [
    "# Create implicit ratings for Retieval\n",
    "retrieval_ratings_trainset = ratings_trainset.map(\n",
    "    lambda rating: {\n",
    "        'user_id': rating['user_id'],\n",
    "        'movie_id': rating['movie_id'],\n",
    "    }\n",
    ")\n",
    " \n",
    "retrieval_ratings_validset = ratings_validset.map(\n",
    "    lambda rating: {\n",
    "        'user_id': rating['user_id'],\n",
    "        'movie_id': rating['movie_id'],\n",
    "    }\n",
    ")"
   ]
  },
  {
   "cell_type": "code",
   "execution_count": 56,
   "metadata": {},
   "outputs": [],
   "source": [
    "# We are using just `movie_id` feature for making the candidates representation\n",
    "candidates_corpus_dataset = movies_dataset.map(\n",
    "    lambda movie: movie['movie_id']\n",
    ")\n",
    "\n",
    "factorized_top_k_metrics = tfrs.metrics.FactorizedTopK(\n",
    "    # dataset of candidate embeddings from which candidates should be retrieved\n",
    "    candidates = candidates_corpus_dataset.batch(128).map(\n",
    "        candidate_model\n",
    "    )\n",
    ")"
   ]
  },
  {
   "cell_type": "code",
   "execution_count": 57,
   "metadata": {},
   "outputs": [],
   "source": [
    "# The task computes the metrics and return the in-batch softmax loss.\n",
    "# Because the metrics range over the entire candidate set, they are usually much\n",
    "# slower to compute. Consider setting `compute_metrics=False` in Retrieval\n",
    "# costructor during training to save the time in computing the metrics.\n",
    "retrieval_task_layer = tfrs.tasks.Retrieval(\n",
    "    metrics = factorized_top_k_metrics\n",
    ")"
   ]
  },
  {
   "cell_type": "code",
   "execution_count": 58,
   "metadata": {},
   "outputs": [],
   "source": [
    "class RetrievalModel(tfrs.models.Model):\n",
    "    \"\"\"\n",
    "        MovieLens candidate generation model\n",
    "    \"\"\"\n",
    " \n",
    "    def __init__(\n",
    "        self,\n",
    "        query_model: tf.keras.Model,\n",
    "        candidate_model: tf.keras.Model,\n",
    "        retrieval_task_layer: tf.keras.layers.Layer,\n",
    "    ) -> 'RetrievalModel':\n",
    "        super().__init__()\n",
    "        self.query_model          = query_model\n",
    "        self.candidate_model      = candidate_model\n",
    "        self.retrieval_task_layer = retrieval_task_layer\n",
    "\n",
    "\n",
    "    def compute_loss(\n",
    "        self,\n",
    "        features: Dict[Text, tf.Tensor],\n",
    "        training: bool = False\n",
    "    ) -> tf.Tensor:\n",
    "        user_id  = features[\"user_id\"]\n",
    "        movie_id = features[\"movie_id\"]\n",
    "\n",
    "        query_embeddings              = self.query_model(user_id)\n",
    "        positive_candidate_embeddings = self.candidate_model(movie_id)\n",
    "\n",
    "        loss = self.retrieval_task_layer(\n",
    "            query_embeddings,\n",
    "            positive_candidate_embeddings,\n",
    "            compute_metrics = not training  # Speed up training\n",
    "        )\n",
    "        return loss"
   ]
  },
  {
   "cell_type": "code",
   "execution_count": 59,
   "metadata": {},
   "outputs": [],
   "source": [
    "OPTIMIZER_STEP_SIZE = 0.1\n",
    "\n",
    "retrieval_model = RetrievalModel(\n",
    "    query_model,\n",
    "    candidate_model,\n",
    "    retrieval_task_layer\n",
    ")\n",
    "\n",
    "optimizer = tf.keras.optimizers.Adagrad(learning_rate = OPTIMIZER_STEP_SIZE)\n",
    "retrieval_model.compile(optimizer = optimizer)"
   ]
  },
  {
   "cell_type": "code",
   "execution_count": 60,
   "metadata": {},
   "outputs": [
    {
     "name": "stdout",
     "output_type": "stream",
     "text": [
      "Epoch 1/10\n",
      "49/49 [==============================] - 24s 351ms/step - factorized_top_k/top_1_categorical_accuracy: 0.0000e+00 - factorized_top_k/top_5_categorical_accuracy: 0.0000e+00 - factorized_top_k/top_10_categorical_accuracy: 0.0000e+00 - factorized_top_k/top_50_categorical_accuracy: 0.0000e+00 - factorized_top_k/top_100_categorical_accuracy: 0.0000e+00 - loss: 6978.0915 - regularization_loss: 0.0000e+00 - total_loss: 6978.0915 - val_factorized_top_k/top_1_categorical_accuracy: 0.0018 - val_factorized_top_k/top_5_categorical_accuracy: 0.0135 - val_factorized_top_k/top_10_categorical_accuracy: 0.0290 - val_factorized_top_k/top_50_categorical_accuracy: 0.1422 - val_factorized_top_k/top_100_categorical_accuracy: 0.2569 - val_loss: 5549.0918 - val_regularization_loss: 0.0000e+00 - val_total_loss: 5549.0918\n",
      "Epoch 2/10\n",
      "49/49 [==============================] - 8s 176ms/step - factorized_top_k/top_1_categorical_accuracy: 0.0000e+00 - factorized_top_k/top_5_categorical_accuracy: 0.0000e+00 - factorized_top_k/top_10_categorical_accuracy: 0.0000e+00 - factorized_top_k/top_50_categorical_accuracy: 0.0000e+00 - factorized_top_k/top_100_categorical_accuracy: 0.0000e+00 - loss: 6671.5953 - regularization_loss: 0.0000e+00 - total_loss: 6671.5953 - val_factorized_top_k/top_1_categorical_accuracy: 0.0014 - val_factorized_top_k/top_5_categorical_accuracy: 0.0091 - val_factorized_top_k/top_10_categorical_accuracy: 0.0215 - val_factorized_top_k/top_50_categorical_accuracy: 0.1252 - val_factorized_top_k/top_100_categorical_accuracy: 0.2414 - val_loss: 5454.3286 - val_regularization_loss: 0.0000e+00 - val_total_loss: 5454.3286\n",
      "Epoch 3/10\n",
      "49/49 [==============================] - 9s 182ms/step - factorized_top_k/top_1_categorical_accuracy: 0.0000e+00 - factorized_top_k/top_5_categorical_accuracy: 0.0000e+00 - factorized_top_k/top_10_categorical_accuracy: 0.0000e+00 - factorized_top_k/top_50_categorical_accuracy: 0.0000e+00 - factorized_top_k/top_100_categorical_accuracy: 0.0000e+00 - loss: 6476.1279 - regularization_loss: 0.0000e+00 - total_loss: 6476.1279 - val_factorized_top_k/top_1_categorical_accuracy: 8.4000e-04 - val_factorized_top_k/top_5_categorical_accuracy: 0.0067 - val_factorized_top_k/top_10_categorical_accuracy: 0.0167 - val_factorized_top_k/top_50_categorical_accuracy: 0.1103 - val_factorized_top_k/top_100_categorical_accuracy: 0.2190 - val_loss: 5460.6479 - val_regularization_loss: 0.0000e+00 - val_total_loss: 5460.6479\n",
      "Epoch 4/10\n",
      "49/49 [==============================] - 8s 175ms/step - factorized_top_k/top_1_categorical_accuracy: 0.0000e+00 - factorized_top_k/top_5_categorical_accuracy: 0.0000e+00 - factorized_top_k/top_10_categorical_accuracy: 0.0000e+00 - factorized_top_k/top_50_categorical_accuracy: 0.0000e+00 - factorized_top_k/top_100_categorical_accuracy: 0.0000e+00 - loss: 6342.2493 - regularization_loss: 0.0000e+00 - total_loss: 6342.2493 - val_factorized_top_k/top_1_categorical_accuracy: 3.4000e-04 - val_factorized_top_k/top_5_categorical_accuracy: 0.0050 - val_factorized_top_k/top_10_categorical_accuracy: 0.0139 - val_factorized_top_k/top_50_categorical_accuracy: 0.0992 - val_factorized_top_k/top_100_categorical_accuracy: 0.2009 - val_loss: 5493.4639 - val_regularization_loss: 0.0000e+00 - val_total_loss: 5493.4639\n",
      "Epoch 5/10\n",
      "49/49 [==============================] - 9s 183ms/step - factorized_top_k/top_1_categorical_accuracy: 0.0000e+00 - factorized_top_k/top_5_categorical_accuracy: 0.0000e+00 - factorized_top_k/top_10_categorical_accuracy: 0.0000e+00 - factorized_top_k/top_50_categorical_accuracy: 0.0000e+00 - factorized_top_k/top_100_categorical_accuracy: 0.0000e+00 - loss: 6240.3227 - regularization_loss: 0.0000e+00 - total_loss: 6240.3227 - val_factorized_top_k/top_1_categorical_accuracy: 3.2000e-04 - val_factorized_top_k/top_5_categorical_accuracy: 0.0040 - val_factorized_top_k/top_10_categorical_accuracy: 0.0116 - val_factorized_top_k/top_50_categorical_accuracy: 0.0891 - val_factorized_top_k/top_100_categorical_accuracy: 0.1882 - val_loss: 5536.1821 - val_regularization_loss: 0.0000e+00 - val_total_loss: 5536.1821\n",
      "Epoch 6/10\n",
      "49/49 [==============================] - 9s 177ms/step - factorized_top_k/top_1_categorical_accuracy: 0.0000e+00 - factorized_top_k/top_5_categorical_accuracy: 0.0000e+00 - factorized_top_k/top_10_categorical_accuracy: 0.0000e+00 - factorized_top_k/top_50_categorical_accuracy: 0.0000e+00 - factorized_top_k/top_100_categorical_accuracy: 0.0000e+00 - loss: 6161.4102 - regularization_loss: 0.0000e+00 - total_loss: 6161.4102 - val_factorized_top_k/top_1_categorical_accuracy: 3.0000e-04 - val_factorized_top_k/top_5_categorical_accuracy: 0.0032 - val_factorized_top_k/top_10_categorical_accuracy: 0.0098 - val_factorized_top_k/top_50_categorical_accuracy: 0.0819 - val_factorized_top_k/top_100_categorical_accuracy: 0.1788 - val_loss: 5581.2090 - val_regularization_loss: 0.0000e+00 - val_total_loss: 5581.2090\n",
      "Epoch 7/10\n",
      "49/49 [==============================] - 8s 177ms/step - factorized_top_k/top_1_categorical_accuracy: 0.0000e+00 - factorized_top_k/top_5_categorical_accuracy: 0.0000e+00 - factorized_top_k/top_10_categorical_accuracy: 0.0000e+00 - factorized_top_k/top_50_categorical_accuracy: 0.0000e+00 - factorized_top_k/top_100_categorical_accuracy: 0.0000e+00 - loss: 6099.5497 - regularization_loss: 0.0000e+00 - total_loss: 6099.5497 - val_factorized_top_k/top_1_categorical_accuracy: 2.2000e-04 - val_factorized_top_k/top_5_categorical_accuracy: 0.0026 - val_factorized_top_k/top_10_categorical_accuracy: 0.0090 - val_factorized_top_k/top_50_categorical_accuracy: 0.0769 - val_factorized_top_k/top_100_categorical_accuracy: 0.1702 - val_loss: 5624.9312 - val_regularization_loss: 0.0000e+00 - val_total_loss: 5624.9312\n",
      "Epoch 8/10\n",
      "49/49 [==============================] - 8s 173ms/step - factorized_top_k/top_1_categorical_accuracy: 0.0000e+00 - factorized_top_k/top_5_categorical_accuracy: 0.0000e+00 - factorized_top_k/top_10_categorical_accuracy: 0.0000e+00 - factorized_top_k/top_50_categorical_accuracy: 0.0000e+00 - factorized_top_k/top_100_categorical_accuracy: 0.0000e+00 - loss: 6050.2587 - regularization_loss: 0.0000e+00 - total_loss: 6050.2587 - val_factorized_top_k/top_1_categorical_accuracy: 1.4000e-04 - val_factorized_top_k/top_5_categorical_accuracy: 0.0026 - val_factorized_top_k/top_10_categorical_accuracy: 0.0079 - val_factorized_top_k/top_50_categorical_accuracy: 0.0730 - val_factorized_top_k/top_100_categorical_accuracy: 0.1648 - val_loss: 5665.7285 - val_regularization_loss: 0.0000e+00 - val_total_loss: 5665.7285\n",
      "Epoch 9/10\n",
      "49/49 [==============================] - 11s 224ms/step - factorized_top_k/top_1_categorical_accuracy: 0.0000e+00 - factorized_top_k/top_5_categorical_accuracy: 0.0000e+00 - factorized_top_k/top_10_categorical_accuracy: 0.0000e+00 - factorized_top_k/top_50_categorical_accuracy: 0.0000e+00 - factorized_top_k/top_100_categorical_accuracy: 0.0000e+00 - loss: 6010.2623 - regularization_loss: 0.0000e+00 - total_loss: 6010.2623 - val_factorized_top_k/top_1_categorical_accuracy: 1.4000e-04 - val_factorized_top_k/top_5_categorical_accuracy: 0.0023 - val_factorized_top_k/top_10_categorical_accuracy: 0.0073 - val_factorized_top_k/top_50_categorical_accuracy: 0.0702 - val_factorized_top_k/top_100_categorical_accuracy: 0.1597 - val_loss: 5703.0327 - val_regularization_loss: 0.0000e+00 - val_total_loss: 5703.0327\n",
      "Epoch 10/10\n",
      "49/49 [==============================] - 9s 186ms/step - factorized_top_k/top_1_categorical_accuracy: 0.0000e+00 - factorized_top_k/top_5_categorical_accuracy: 0.0000e+00 - factorized_top_k/top_10_categorical_accuracy: 0.0000e+00 - factorized_top_k/top_50_categorical_accuracy: 0.0000e+00 - factorized_top_k/top_100_categorical_accuracy: 0.0000e+00 - loss: 5977.2333 - regularization_loss: 0.0000e+00 - total_loss: 5977.2333 - val_factorized_top_k/top_1_categorical_accuracy: 1.6000e-04 - val_factorized_top_k/top_5_categorical_accuracy: 0.0023 - val_factorized_top_k/top_10_categorical_accuracy: 0.0066 - val_factorized_top_k/top_50_categorical_accuracy: 0.0674 - val_factorized_top_k/top_100_categorical_accuracy: 0.1557 - val_loss: 5736.9795 - val_regularization_loss: 0.0000e+00 - val_total_loss: 5736.9795\n"
     ]
    }
   ],
   "source": [
    "EPOCHS = 10\n",
    "\n",
    "# Shuffle the training data for each epoch.\n",
    "# Batch and cache both the training and evaluation data.\n",
    "# `cache()` method caches the elements in the dataset in memory. To caches data\n",
    "# in a file pass the `filename` argument to the method: cache(filename='')\n",
    "# The first time the dataset is iterated over, its elements will be cached\n",
    "# either in the specified file or in memory. Subsequent iterations will use the\n",
    "# cached data.\n",
    "retrieval_cached_ratings_trainset = retrieval_ratings_trainset.shuffle(100_000).batch(1024).cache()\n",
    "retrieval_cached_ratings_testset = retrieval_ratings_validset.batch(1024).cache()\n",
    "\n",
    "history = retrieval_model.fit(\n",
    "    retrieval_cached_ratings_trainset,\n",
    "    validation_data = retrieval_cached_ratings_testset,\n",
    "    validation_freq = 1,\n",
    "    epochs = EPOCHS\n",
    ")"
   ]
  },
  {
   "cell_type": "code",
   "execution_count": 61,
   "metadata": {},
   "outputs": [
    {
     "data": {
      "image/png": "[encoded data removed]",
      "text/plain": [
       "<Figure size 640x480 with 1 Axes>"
      ]
     },
     "metadata": {},
     "output_type": "display_data"
    }
   ],
   "source": [
    "# Plot loss\n",
    "plt.plot(history.history[\"loss\"])\n",
    "plt.plot(history.history[\"val_loss\"])\n",
    "plt.title(\"Model losses during training\")\n",
    "plt.xlabel(\"epoch\")\n",
    "plt.ylabel(\"loss\")\n",
    "plt.legend([\"train\", \"test\"], loc=\"upper right\")\n",
    "plt.show()"
   ]
  },
  {
   "cell_type": "code",
   "execution_count": 62,
   "metadata": {},
   "outputs": [
    {
     "name": "stderr",
     "output_type": "stream",
     "text": [
      "2024-08-27 17:15:46.519273: I scann/partitioning/partitioner_factory_base.cc:59] Size of sampled dataset for training partition: 1682\n",
      "2024-08-27 17:15:46.523157: I ./scann/partitioning/kmeans_tree_partitioner_utils.h:89] PartitionerFactory ran in 3.817704ms.\n"
     ]
    },
    {
     "name": "stdout",
     "output_type": "stream",
     "text": [
      "WARNING:tensorflow:6 out of the last 6 calls to <function ScannState.recreate_handle at 0x7f3dcc21fb50> triggered tf.function retracing. Tracing is expensive and the excessive number of tracings could be due to (1) creating @tf.function repeatedly in a loop, (2) passing tensors with different shapes, (3) passing Python objects instead of tensors. For (1), please define your @tf.function outside of the loop. For (2), @tf.function has reduce_retracing=True option that can avoid unnecessary retracing. For (3), please refer to https://www.tensorflow.org/guide/function#controlling_retracing and https://www.tensorflow.org/api_docs/python/tf/function for  more details.\n"
     ]
    },
    {
     "name": "stderr",
     "output_type": "stream",
     "text": [
      "WARNING:tensorflow:6 out of the last 6 calls to <function ScannState.recreate_handle at 0x7f3dcc21fb50> triggered tf.function retracing. Tracing is expensive and the excessive number of tracings could be due to (1) creating @tf.function repeatedly in a loop, (2) passing tensors with different shapes, (3) passing Python objects instead of tensors. For (1), please define your @tf.function outside of the loop. For (2), @tf.function has reduce_retracing=True option that can avoid unnecessary retracing. For (3), please refer to https://www.tensorflow.org/guide/function#controlling_retracing and https://www.tensorflow.org/api_docs/python/tf/function for  more details.\n"
     ]
    },
    {
     "name": "stdout",
     "output_type": "stream",
     "text": [
      "Recommendations for user 41 using ScaNN: [b'196' b'969' b'211' b'215' b'174'] (Confidences: [3.8742657 3.7174191 3.6267076 3.6018486 3.5713873])\n",
      "(1, 5)\n"
     ]
    }
   ],
   "source": [
    "scann_layer = tfrs.layers.factorized_top_k.ScaNN(\n",
    "    retrieval_model.query_model,\n",
    "    k = 10,\n",
    ")\n",
    "\n",
    "scann_layer.index_from_dataset(\n",
    "  tf.data.Dataset.zip(\n",
    "      (\n",
    "          candidates_corpus_dataset.batch(100),\n",
    "          candidates_corpus_dataset.batch(100).map(retrieval_model.candidate_model)\n",
    "      )\n",
    "  )\n",
    ")\n",
    "\n",
    "user_id = '41'\n",
    "afinity_scores, movie_ids = scann_layer(\n",
    "    tf.constant([user_id])\n",
    ")\n",
    "\n",
    "print(f\"Recommendations for user {user_id} using ScaNN: {movie_ids[0, :5]} (Confidences: {afinity_scores[0, :5]})\")\n",
    "print(movie_ids.shape)"
   ]
  }
 ],
 "metadata": {
  "kernelspec": {
   "display_name": ".venv",
   "language": "python",
   "name": "python3"
  },
  "language_info": {
   "codemirror_mode": {
    "name": "ipython",
    "version": 3
   },
   "file_extension": ".py",
   "mimetype": "text/x-python",
   "name": "python",
   "nbconvert_exporter": "python",
   "pygments_lexer": "ipython3",
   "version": "3.10.12"
  }
 },
 "nbformat": 4,
 "nbformat_minor": 2
}
