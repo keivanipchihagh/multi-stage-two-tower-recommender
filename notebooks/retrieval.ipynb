{
 "cells": [
  {
   "cell_type": "code",
   "execution_count": 1,
   "metadata": {},
   "outputs": [],
   "source": [
    "# !pip install tf_keras tensorflow tensorflow-recommenders tensorflow-datasets scann"
   ]
  },
  {
   "cell_type": "code",
   "execution_count": 2,
   "metadata": {},
   "outputs": [],
   "source": [
    "# Use legacy Keras\n",
    "import os\n",
    "os.environ['TF_USE_LEGACY_KERAS'] = '1'"
   ]
  },
  {
   "cell_type": "code",
   "execution_count": 3,
   "metadata": {},
   "outputs": [
    {
     "name": "stderr",
     "output_type": "stream",
     "text": [
      "2024-08-25 20:11:46.969082: E external/local_xla/xla/stream_executor/cuda/cuda_fft.cc:485] Unable to register cuFFT factory: Attempting to register factory for plugin cuFFT when one has already been registered\n",
      "2024-08-25 20:11:46.986596: E external/local_xla/xla/stream_executor/cuda/cuda_dnn.cc:8454] Unable to register cuDNN factory: Attempting to register factory for plugin cuDNN when one has already been registered\n",
      "2024-08-25 20:11:46.991504: E external/local_xla/xla/stream_executor/cuda/cuda_blas.cc:1452] Unable to register cuBLAS factory: Attempting to register factory for plugin cuBLAS when one has already been registered\n",
      "2024-08-25 20:11:47.006942: I tensorflow/core/platform/cpu_feature_guard.cc:210] This TensorFlow binary is optimized to use available CPU instructions in performance-critical operations.\n",
      "To enable the following instructions: AVX2 FMA, in other operations, rebuild TensorFlow with the appropriate compiler flags.\n",
      "2024-08-25 20:11:48.128971: W tensorflow/compiler/tf2tensorrt/utils/py_utils.cc:38] TF-TRT Warning: Could not find TensorRT\n"
     ]
    }
   ],
   "source": [
    "from typing import Dict, Text\n",
    "\n",
    "import keras\n",
    "import numpy as np\n",
    "import tensorflow as tf\n",
    "from matplotlib import pyplot as plt\n",
    "\n",
    "import tensorflow_datasets as tfds\n",
    "import tensorflow_recommenders as tfrs\n",
    "\n",
    "RANDOM_STATE = 42\n",
    "\n",
    "tf.random.set_seed(RANDOM_STATE)"
   ]
  },
  {
   "cell_type": "markdown",
   "metadata": {},
   "source": [
    "## Preprocess"
   ]
  },
  {
   "cell_type": "markdown",
   "metadata": {},
   "source": [
    "### Download Datasets"
   ]
  },
  {
   "cell_type": "code",
   "execution_count": 4,
   "metadata": {},
   "outputs": [
    {
     "name": "stderr",
     "output_type": "stream",
     "text": [
      "WARNING: All log messages before absl::InitializeLog() is called are written to STDERR\n",
      "I0000 00:00:1724604109.916386  348353 cuda_executor.cc:1001] could not open file to read NUMA node: /sys/bus/pci/devices/0000:01:00.0/numa_node\n",
      "Your kernel may have been built without NUMA support.\n",
      "I0000 00:00:1724604109.949535  348353 cuda_executor.cc:1001] could not open file to read NUMA node: /sys/bus/pci/devices/0000:01:00.0/numa_node\n",
      "Your kernel may have been built without NUMA support.\n",
      "I0000 00:00:1724604109.949651  348353 cuda_executor.cc:1001] could not open file to read NUMA node: /sys/bus/pci/devices/0000:01:00.0/numa_node\n",
      "Your kernel may have been built without NUMA support.\n",
      "I0000 00:00:1724604109.953145  348353 cuda_executor.cc:1001] could not open file to read NUMA node: /sys/bus/pci/devices/0000:01:00.0/numa_node\n",
      "Your kernel may have been built without NUMA support.\n",
      "I0000 00:00:1724604109.953243  348353 cuda_executor.cc:1001] could not open file to read NUMA node: /sys/bus/pci/devices/0000:01:00.0/numa_node\n",
      "Your kernel may have been built without NUMA support.\n",
      "I0000 00:00:1724604109.953288  348353 cuda_executor.cc:1001] could not open file to read NUMA node: /sys/bus/pci/devices/0000:01:00.0/numa_node\n",
      "Your kernel may have been built without NUMA support.\n",
      "I0000 00:00:1724604110.084423  348353 cuda_executor.cc:1001] could not open file to read NUMA node: /sys/bus/pci/devices/0000:01:00.0/numa_node\n",
      "Your kernel may have been built without NUMA support.\n",
      "I0000 00:00:1724604110.084549  348353 cuda_executor.cc:1001] could not open file to read NUMA node: /sys/bus/pci/devices/0000:01:00.0/numa_node\n",
      "Your kernel may have been built without NUMA support.\n",
      "2024-08-25 20:11:50.084563: I tensorflow/core/common_runtime/gpu/gpu_device.cc:2112] Could not identify NUMA node of platform GPU id 0, defaulting to 0.  Your kernel may not have been built with NUMA support.\n",
      "I0000 00:00:1724604110.084638  348353 cuda_executor.cc:1001] could not open file to read NUMA node: /sys/bus/pci/devices/0000:01:00.0/numa_node\n",
      "Your kernel may have been built without NUMA support.\n",
      "2024-08-25 20:11:50.084665: I tensorflow/core/common_runtime/gpu/gpu_device.cc:2021] Created device /job:localhost/replica:0/task:0/device:GPU:0 with 3586 MB memory:  -> device: 0, name: NVIDIA GeForce RTX 3060 Laptop GPU, pci bus id: 0000:01:00.0, compute capability: 8.6\n"
     ]
    },
    {
     "name": "stdout",
     "output_type": "stream",
     "text": [
      "Ratings count: 100000\n",
      "Movies count: 1682\n"
     ]
    }
   ],
   "source": [
    "# Download the dataset and cache them as `tfrecord`\n",
    "\n",
    "ratings_dataset, ratings_dataset_info = tfds.load(\n",
    "    # Options: '25m-ratings', 'latest-small-ratings', '100k-ratings', '1m-ratings', '20m-ratings'\n",
    "    name = 'movielens/100k-ratings',\n",
    "    # MovieLense has only the `train` split.\n",
    "    split = 'train',\n",
    "    # Include metadata like version, description, homepage, citation, etc.\n",
    "    with_info = True\n",
    ")\n",
    "print(f\"Ratings count:\", ratings_dataset.__len__().numpy())\n",
    "\n",
    "movies_dataset, movies_dataset_info = tfds.load(\n",
    "    # Options: '25m-movies', 'latest-small-movies', '100k-movies', '1m-movies', '20m-movies'\n",
    "    name = 'movielens/100k-movies',\n",
    "    # MovieLense has only the `train` split.\n",
    "    split = 'train',\n",
    "    # Include metadata like version, description, homepage, citation, etc.\n",
    "    with_info = True\n",
    ")\n",
    "print(f\"Movies count:\", movies_dataset.__len__().numpy())"
   ]
  },
  {
   "cell_type": "markdown",
   "metadata": {},
   "source": [
    "### Feature Selection"
   ]
  },
  {
   "cell_type": "code",
   "execution_count": 5,
   "metadata": {},
   "outputs": [],
   "source": [
    "# Feature selection\n",
    "ratings_dataset = ratings_dataset.map(\n",
    "    lambda rating: {\n",
    "        # `user_id` is useful as a user identifier.\n",
    "        'user_id': rating['user_id'],\n",
    "        # `movie_id` is useful as a movie identifier.\n",
    "        'movie_id': rating['movie_id'],\n",
    "        # `movie_title` is useful as a textual information about the movie.\n",
    "        'movie_title': rating['movie_title'],\n",
    "        # `user_rating` shows the user's level of interest to a movie.\n",
    "        'user_rating': rating['user_rating'],\n",
    "        # `timestamp` will allow us to model the effect of time.\n",
    "        'timestamp': rating['timestamp']\n",
    "    }\n",
    ")"
   ]
  },
  {
   "cell_type": "markdown",
   "metadata": {},
   "source": [
    "### Dataset Splitting"
   ]
  },
  {
   "cell_type": "code",
   "execution_count": 6,
   "metadata": {},
   "outputs": [
    {
     "name": "stdout",
     "output_type": "stream",
     "text": [
      "trainset_size: 1000\n",
      "validset_size: 99000\n"
     ]
    }
   ],
   "source": [
    "# Shuffle the elements of the dataset randomly.\n",
    "ratings_dataset_shuffled = ratings_dataset.shuffle(\n",
    "    # The new dataset will be sampled from a buffer window of first `buffer_size`\n",
    "    # elements of the dataset\n",
    "    buffer_size = 100_000,\n",
    "    # The random seed used to create the distribution.\n",
    "    seed = RANDOM_STATE,\n",
    "    # `list(dataset.as_numpy_iterator()` yields different result for each call\n",
    "    # Because reshuffle_each_iteration defaults to True.\n",
    "    reshuffle_each_iteration = False\n",
    ")\n",
    "\n",
    "# Split dataset randomly (80% for training and 20% for validation)\n",
    "trainset_size: int  = 0.01 * ratings_dataset.__len__().numpy()\n",
    "\n",
    "ratings_trainset = ratings_dataset_shuffled.take(trainset_size)\n",
    "ratings_validset = ratings_dataset_shuffled.skip(trainset_size)\n",
    "\n",
    "print(f\"trainset_size:\", ratings_trainset.__len__().numpy())\n",
    "print(f\"validset_size:\", ratings_validset.__len__().numpy())"
   ]
  },
  {
   "cell_type": "markdown",
   "metadata": {},
   "source": [
    "### Categorical Features to Embeddings"
   ]
  },
  {
   "cell_type": "code",
   "execution_count": 7,
   "metadata": {},
   "outputs": [
    {
     "name": "stdout",
     "output_type": "stream",
     "text": [
      "Lookups for user_ids ['1', '124', 'xxx'] -> [129, 0, 0]\n",
      "Embeddings for user_ids ['1', '124', 'xxx'] -> [[ 0.02157599  0.03845355  0.02531253 -0.00665054  0.01891593  0.0359735\n",
      "  -0.04568642 -0.00346562 -0.0250244   0.02799756 -0.04900973 -0.01800008\n",
      "   0.04019803  0.047699    0.02813366  0.01631031  0.03325794  0.02740519\n",
      "   0.04228738 -0.0264335  -0.01430427 -0.01527144  0.00829244  0.01741935\n",
      "   0.00429133  0.00947125 -0.00800788  0.00694861  0.01812929  0.03652394\n",
      "   0.01736038  0.01561096]\n",
      " [-0.00376282  0.03021562 -0.00813886  0.03519571 -0.03867735  0.00975079\n",
      "   0.03689036 -0.01518493 -0.01735563 -0.00047152 -0.02052903  0.006575\n",
      "   0.02475509  0.04920254  0.01788057  0.029363    0.0348642  -0.04382583\n",
      "   0.04426566  0.02311984 -0.02241751 -0.02705942 -0.0272841  -0.01236873\n",
      "  -0.03810675  0.00399597 -0.02729565 -0.01296519 -0.02174505 -0.02007623\n",
      "  -0.04867278  0.01843028]\n",
      " [-0.00376282  0.03021562 -0.00813886  0.03519571 -0.03867735  0.00975079\n",
      "   0.03689036 -0.01518493 -0.01735563 -0.00047152 -0.02052903  0.006575\n",
      "   0.02475509  0.04920254  0.01788057  0.029363    0.0348642  -0.04382583\n",
      "   0.04426566  0.02311984 -0.02241751 -0.02705942 -0.0272841  -0.01236873\n",
      "  -0.03810675  0.00399597 -0.02729565 -0.01296519 -0.02174505 -0.02007623\n",
      "  -0.04867278  0.01843028]]\n"
     ]
    }
   ],
   "source": [
    "USER_ID_EMBEDDING_DIM = 32\n",
    "\n",
    "# Make a Keras StringLookup layer as the mapping (lookup)\n",
    "user_id_lookup_layer = tf.keras.layers.StringLookup(\n",
    "    mask_token = None,\n",
    "    # Include the OOV token so the layer can handle categorical values \n",
    "    # that are not in the vocabulary and the model can continue to learn \n",
    "    # and make recommendations even using features it has not been seen \n",
    "    # during vocabulary construction.\n",
    "    oov_token = \"[UNK]\",\n",
    ")\n",
    "\n",
    "# StringLookup layer is a non-trainable layer and its state (the vocabulary)\n",
    "# must be constructed and set before training in a step called \"adaptation\".\n",
    "user_id_lookup_layer.adapt(\n",
    "    ratings_trainset.map(\n",
    "        lambda x: x['user_id']\n",
    "    )\n",
    ")\n",
    "\n",
    "user_ids            = ['1', '124', 'xxx']\n",
    "user_ids_mappings   = list(user_id_lookup_layer(user_ids).numpy())\n",
    "print(f\"Lookups for user_ids {user_ids} -> {user_ids_mappings}\")\n",
    "\n",
    "\n",
    "user_id_embedding_layer = tf.keras.layers.Embedding(\n",
    "    # Size of the vocabulary\n",
    "    input_dim = user_id_lookup_layer.vocabulary_size(),\n",
    "    # Dimension of the dense embedding\n",
    "    output_dim = USER_ID_EMBEDDING_DIM\n",
    ")\n",
    "\n",
    "# A model that takes raw string feature values (user_id) in and yields embeddings\n",
    "user_id_model = tf.keras.Sequential(\n",
    "    [\n",
    "        user_id_lookup_layer,\n",
    "        user_id_embedding_layer\n",
    "    ]\n",
    ")\n",
    "\n",
    "user_ids_embeddings = user_id_model(tf.convert_to_tensor(user_ids))\n",
    "print(f\"Embeddings for user_ids {user_ids} -> {user_ids_embeddings}\")"
   ]
  },
  {
   "cell_type": "code",
   "execution_count": 8,
   "metadata": {},
   "outputs": [
    {
     "name": "stdout",
     "output_type": "stream",
     "text": [
      "Lookups for movie_ids ['1', '124', 'xxx'] -> [22, 0, 7, 0]\n",
      "Embeddings for movie_ids ['1', '124', 'xxx'] -> [[-0.00585949 -0.0117756  -0.02662273 -0.02278975 -0.03739022  0.03718842\n",
      "   0.01714453  0.00128814 -0.02946158  0.04312271 -0.03143165  0.02789155\n",
      "  -0.00559963 -0.01929173  0.00221521 -0.00275413  0.03885351  0.01895661\n",
      "   0.02871262 -0.04235848  0.03329677 -0.03617498 -0.01388995  0.02754984\n",
      "  -0.01230433  0.00433166  0.01579719  0.01488382 -0.04688708 -0.03174156\n",
      "   0.03927864 -0.00581876]\n",
      " [ 0.01205153 -0.02122881 -0.02217537  0.01941327 -0.01518258  0.0087167\n",
      "  -0.00233378 -0.0023625   0.03385086  0.04795879  0.04245624  0.03905186\n",
      "  -0.0414447  -0.00450816 -0.01689785 -0.0400521  -0.01154269  0.0047242\n",
      "  -0.01355481 -0.02615735 -0.03308912  0.03214501 -0.0073279  -0.04142224\n",
      "   0.02586646 -0.00685925 -0.04787062  0.02421179  0.04438681 -0.04528838\n",
      "  -0.0192107   0.04806776]\n",
      " [ 0.04554001 -0.02300996 -0.0071522  -0.00283195  0.00277688 -0.01722585\n",
      "   0.04270072  0.02820679  0.02194517 -0.01436676 -0.00072268 -0.00594121\n",
      "   0.02254727  0.02142579  0.01541713  0.01051832 -0.03459639  0.02936086\n",
      "   0.03797816  0.02359802  0.00739671  0.00403772 -0.04715876 -0.04728518\n",
      "   0.0126884   0.0481046   0.0006985  -0.04406128 -0.01955179  0.04572277\n",
      "  -0.00947488 -0.00589014]]\n"
     ]
    }
   ],
   "source": [
    "MOVIE_ID_EMBEDDING_DIM = 32\n",
    "\n",
    "# Make a Keras StringLookup layer as the mapping (lookup)\n",
    "movie_id_lookup_layer = tf.keras.layers.StringLookup(\n",
    "    mask_token = None,\n",
    "    # Include the OOV token so the layer can handle categorical values \n",
    "    # that are not in the vocabulary and the model can continue to learn \n",
    "    # and make recommendations even using features it has not been seen \n",
    "    # during vocabulary construction.\n",
    "    oov_token = \"[UNK]\",\n",
    ")\n",
    "\n",
    "# StringLookup layer is a non-trainable layer and its state (the vocabulary)\n",
    "# must be constructed and set before training in a step called \"adaptation\".\n",
    "movie_id_lookup_layer.adapt(\n",
    "    ratings_trainset.map(\n",
    "        lambda x: x['movie_id']\n",
    "    )\n",
    ")\n",
    "\n",
    "movie_ids            = ['1', '124', 'xxx']\n",
    "movie_ids_mappings   = list(movie_id_lookup_layer(['1', '12', '100', 'xxx']).numpy())\n",
    "print(f\"Lookups for movie_ids {movie_ids} -> {movie_ids_mappings}\")\n",
    "\n",
    "\n",
    "movie_id_embedding_layer = tf.keras.layers.Embedding(\n",
    "    # Size of the vocabulary\n",
    "    input_dim = movie_id_lookup_layer.vocabulary_size(),\n",
    "    # Dimension of the dense embedding\n",
    "    output_dim = MOVIE_ID_EMBEDDING_DIM\n",
    ")\n",
    "\n",
    "# A model that takes raw string feature values (movie_id) in and yields embeddings\n",
    "movie_id_model = tf.keras.Sequential(\n",
    "    [\n",
    "        movie_id_lookup_layer,\n",
    "        movie_id_embedding_layer\n",
    "    ]\n",
    ")\n",
    "\n",
    "movie_ids_embeddings = movie_id_model(tf.convert_to_tensor(movie_ids))\n",
    "print(f\"Embeddings for movie_ids {movie_ids} -> {movie_ids_embeddings}\")"
   ]
  },
  {
   "cell_type": "markdown",
   "metadata": {},
   "source": [
    "### Textual Features to Embeddings"
   ]
  },
  {
   "cell_type": "code",
   "execution_count": 9,
   "metadata": {},
   "outputs": [
    {
     "name": "stdout",
     "output_type": "stream",
     "text": [
      "Vocabulary -> ['', '[UNK]', 'the', '1996', '1997', '1995', '1994', '1993', 'of', 'and']\n",
      "Vectorized 'Postman, The (1997)' -? [705   2   4]\n"
     ]
    }
   ],
   "source": [
    "MOVIE_TITLE_EMBEDDING_DIM = 32\n",
    "\n",
    "# Keras TextVectorization layer transforms the raw texts into `word pieces` and\n",
    "# map these pieces into tokens.\n",
    "movie_title_vectorization_layer = tf.keras.layers.TextVectorization()\n",
    "\n",
    "movie_title_vectorization_layer.adapt(\n",
    "    ratings_trainset.map(\n",
    "        lambda rating: rating['movie_title']\n",
    "    )\n",
    ")\n",
    "\n",
    "# Verify that the tokenization is done correctly\n",
    "vocabulary = movie_title_vectorization_layer.get_vocabulary()\n",
    "print(f\"Vocabulary -> {vocabulary[:10]}\")\n",
    "print(f\"Vectorized 'Postman, The (1997)' -? {movie_title_vectorization_layer('Postman, The (1997)')}\")\n",
    "\n",
    "movie_title_embedding_layer = tf.keras.layers.Embedding(\n",
    "    input_dim = len(vocabulary),\n",
    "    output_dim = MOVIE_TITLE_EMBEDDING_DIM,\n",
    "    # Whether or not the input value 0 is a MASK token.\n",
    "    # Keras TextVectorization layer builds the vocabulary with MASK token.\n",
    "    mask_zero = True\n",
    ")\n",
    "\n",
    "movie_title_model = tf.keras.Sequential(\n",
    "    [\n",
    "       movie_title_vectorization_layer,\n",
    "       movie_title_embedding_layer,\n",
    "       # Each title contains multiple words, so we will get multiple embeddings\n",
    "       # for each title that should be compressed into a single embedding for\n",
    "       # the text. Models like RNNs, Transformers or Attentions are useful here.\n",
    "       # However, averaging all the words' embeddings together is also a good\n",
    "       # starting point.\n",
    "       tf.keras.layers.GlobalAveragePooling1D()\n",
    "    ]\n",
    ")"
   ]
  },
  {
   "cell_type": "markdown",
   "metadata": {},
   "source": [
    "### Build the Retrieval (Candidate Generation Phase)"
   ]
  },
  {
   "cell_type": "code",
   "execution_count": 10,
   "metadata": {},
   "outputs": [],
   "source": [
    "# Query tower\n",
    "query_model = user_id_model\n",
    " \n",
    "# Candidate tower\n",
    "candidate_model = movie_id_model\n",
    " \n",
    " \n",
    "# Here we only used query and candidate identifiers to buid the towers. This\n",
    "# corresponds exactly to a classic matrix factorization approach.\n",
    "# https://ieeexplore.ieee.org/abstract/document/4781121\n",
    "# However, we can extend `tf.keras.Model` class to an arbitrarily complex model\n",
    "# including other features and return the final embedding vector at the end.\n",
    "# For example, by using movie metadata in the candidate tower, we can alleviate\n",
    "# cold-start problem.\n",
    "# return tf.concat([\n",
    "#         self.user_embedding(inputs[\"user_id\"]),\n",
    "#         self.timestamp_embedding(inputs[\"timestamp\"]),\n",
    "#         self.normalized_timestamp(inputs[\"timestamp\"])\n",
    "#     ], axis=1)"
   ]
  },
  {
   "cell_type": "code",
   "execution_count": 11,
   "metadata": {},
   "outputs": [],
   "source": [
    "# Create implicit ratings for Retieval\n",
    "retrieval_ratings_trainset = ratings_trainset.map(\n",
    "    lambda rating: {\n",
    "        'user_id': rating['user_id'],\n",
    "        'movie_id': rating['movie_id'],\n",
    "    }\n",
    ")\n",
    " \n",
    "retrieval_ratings_validset = ratings_validset.map(\n",
    "    lambda rating: {\n",
    "        'user_id': rating['user_id'],\n",
    "        'movie_id': rating['movie_id'],\n",
    "    }\n",
    ")"
   ]
  },
  {
   "cell_type": "code",
   "execution_count": 12,
   "metadata": {},
   "outputs": [],
   "source": [
    "# We are using just `movie_id` feature for making the candidates representation\n",
    "candidates_corpus_dataset = movies_dataset.map(\n",
    "    lambda movie: movie['movie_id']\n",
    ")\n",
    "\n",
    "factorized_top_k_metrics = tfrs.metrics.FactorizedTopK(\n",
    "    # dataset of candidate embeddings from which candidates should be retrieved\n",
    "    candidates = candidates_corpus_dataset.batch(128).map(\n",
    "        candidate_model\n",
    "    )\n",
    ")"
   ]
  },
  {
   "cell_type": "code",
   "execution_count": 13,
   "metadata": {},
   "outputs": [],
   "source": [
    "# The task computes the metrics and return the in-batch softmax loss.\n",
    "# Because the metrics range over the entire candidate set, they are usually much\n",
    "# slower to compute. Consider setting `compute_metrics=False` in Retrieval\n",
    "# costructor during training to save the time in computing the metrics.\n",
    "retrieval_task_layer = tfrs.tasks.Retrieval(\n",
    "    metrics = factorized_top_k_metrics\n",
    ")"
   ]
  },
  {
   "cell_type": "code",
   "execution_count": 14,
   "metadata": {},
   "outputs": [],
   "source": [
    "class RetrievalModel(tfrs.models.Model):\n",
    "    \"\"\"\n",
    "        MovieLens candidate generation model\n",
    "    \"\"\"\n",
    " \n",
    "    def __init__(\n",
    "        self,\n",
    "        query_model: tf.keras.Model,\n",
    "        candidate_model: tf.keras.Model,\n",
    "        retrieval_task_layer: tf.keras.layers.Layer,\n",
    "    ) -> 'RetrievalModel':\n",
    "        super().__init__()\n",
    "        self.query_model          = query_model\n",
    "        self.candidate_model      = candidate_model\n",
    "        self.retrieval_task_layer = retrieval_task_layer\n",
    "\n",
    "\n",
    "    def compute_loss(\n",
    "        self,\n",
    "        features: Dict[Text, tf.Tensor],\n",
    "        training: bool = False\n",
    "    ) -> tf.Tensor:\n",
    "        user_id  = features[\"user_id\"]\n",
    "        movie_id = features[\"movie_id\"]\n",
    "\n",
    "        query_embeddings = self.query_model(user_id)\n",
    "        positive_candidate_embeddings = self.candidate_model(movie_id)\n",
    "\n",
    "        loss = self.retrieval_task_layer(\n",
    "            query_embeddings,\n",
    "            positive_candidate_embeddings,\n",
    "            compute_metrics = not training  # Speed up training\n",
    "        )\n",
    "        return loss"
   ]
  },
  {
   "cell_type": "code",
   "execution_count": 15,
   "metadata": {},
   "outputs": [],
   "source": [
    "OPTIMIZER_STEP_SIZE = 0.1\n",
    "\n",
    "retrieval_model = RetrievalModel(\n",
    "    query_model,\n",
    "    candidate_model,\n",
    "    retrieval_task_layer\n",
    ")\n",
    "\n",
    "optimizer = tf.keras.optimizers.Adagrad(learning_rate = OPTIMIZER_STEP_SIZE)\n",
    "retrieval_model.compile(optimizer = optimizer)"
   ]
  },
  {
   "cell_type": "code",
   "execution_count": 16,
   "metadata": {},
   "outputs": [
    {
     "name": "stdout",
     "output_type": "stream",
     "text": [
      "Epoch 1/10\n"
     ]
    },
    {
     "name": "stderr",
     "output_type": "stream",
     "text": [
      "WARNING: All log messages before absl::InitializeLog() is called are written to STDERR\n",
      "I0000 00:00:1724604140.708031  348469 service.cc:146] XLA service 0x7f112c5b53e0 initialized for platform CUDA (this does not guarantee that XLA will be used). Devices:\n",
      "I0000 00:00:1724604140.708253  348469 service.cc:154]   StreamExecutor device (0): NVIDIA GeForce RTX 3060 Laptop GPU, Compute Capability 8.6\n",
      "2024-08-25 20:12:20.724656: I tensorflow/compiler/mlir/tensorflow/utils/dump_mlir_util.cc:268] disabling MLIR crash reproducer, set env var `MLIR_CRASH_REPRODUCER_DIRECTORY` to enable.\n",
      "2024-08-25 20:12:20.747244: I external/local_xla/xla/stream_executor/cuda/cuda_dnn.cc:531] Loaded cuDNN version 8907\n",
      "I0000 00:00:1724604140.856295  348469 device_compiler.h:188] Compiled cluster using XLA!  This line is logged at most once for the lifetime of the process.\n"
     ]
    },
    {
     "name": "stdout",
     "output_type": "stream",
     "text": [
      "1/1 [==============================] - 26s 26s/step - factorized_top_k/top_1_categorical_accuracy: 0.0000e+00 - factorized_top_k/top_5_categorical_accuracy: 0.0000e+00 - factorized_top_k/top_10_categorical_accuracy: 0.0000e+00 - factorized_top_k/top_50_categorical_accuracy: 0.0000e+00 - factorized_top_k/top_100_categorical_accuracy: 0.0000e+00 - loss: 6907.7744 - regularization_loss: 0.0000e+00 - total_loss: 6907.7744 - val_factorized_top_k/top_1_categorical_accuracy: 1.8182e-04 - val_factorized_top_k/top_5_categorical_accuracy: 0.0050 - val_factorized_top_k/top_10_categorical_accuracy: 0.0124 - val_factorized_top_k/top_50_categorical_accuracy: 0.0691 - val_factorized_top_k/top_100_categorical_accuracy: 0.1396 - val_loss: 4555.5273 - val_regularization_loss: 0.0000e+00 - val_total_loss: 4555.5273\n",
      "Epoch 2/10\n",
      "1/1 [==============================] - 14s 14s/step - factorized_top_k/top_1_categorical_accuracy: 0.0000e+00 - factorized_top_k/top_5_categorical_accuracy: 0.0000e+00 - factorized_top_k/top_10_categorical_accuracy: 0.0000e+00 - factorized_top_k/top_50_categorical_accuracy: 0.0000e+00 - factorized_top_k/top_100_categorical_accuracy: 0.0000e+00 - loss: 6891.5454 - regularization_loss: 0.0000e+00 - total_loss: 6891.5454 - val_factorized_top_k/top_1_categorical_accuracy: 3.5354e-04 - val_factorized_top_k/top_5_categorical_accuracy: 0.0067 - val_factorized_top_k/top_10_categorical_accuracy: 0.0142 - val_factorized_top_k/top_50_categorical_accuracy: 0.0726 - val_factorized_top_k/top_100_categorical_accuracy: 0.1407 - val_loss: 4555.4502 - val_regularization_loss: 0.0000e+00 - val_total_loss: 4555.4502\n",
      "Epoch 3/10\n",
      "1/1 [==============================] - 14s 14s/step - factorized_top_k/top_1_categorical_accuracy: 0.0000e+00 - factorized_top_k/top_5_categorical_accuracy: 0.0000e+00 - factorized_top_k/top_10_categorical_accuracy: 0.0000e+00 - factorized_top_k/top_50_categorical_accuracy: 0.0000e+00 - factorized_top_k/top_100_categorical_accuracy: 0.0000e+00 - loss: 6862.7886 - regularization_loss: 0.0000e+00 - total_loss: 6862.7886 - val_factorized_top_k/top_1_categorical_accuracy: 3.1313e-04 - val_factorized_top_k/top_5_categorical_accuracy: 0.0066 - val_factorized_top_k/top_10_categorical_accuracy: 0.0163 - val_factorized_top_k/top_50_categorical_accuracy: 0.0749 - val_factorized_top_k/top_100_categorical_accuracy: 0.1445 - val_loss: 4555.3774 - val_regularization_loss: 0.0000e+00 - val_total_loss: 4555.3774\n",
      "Epoch 4/10\n",
      "1/1 [==============================] - 15s 15s/step - factorized_top_k/top_1_categorical_accuracy: 0.0000e+00 - factorized_top_k/top_5_categorical_accuracy: 0.0000e+00 - factorized_top_k/top_10_categorical_accuracy: 0.0000e+00 - factorized_top_k/top_50_categorical_accuracy: 0.0000e+00 - factorized_top_k/top_100_categorical_accuracy: 0.0000e+00 - loss: 6794.3379 - regularization_loss: 0.0000e+00 - total_loss: 6794.3379 - val_factorized_top_k/top_1_categorical_accuracy: 1.0101e-04 - val_factorized_top_k/top_5_categorical_accuracy: 0.0064 - val_factorized_top_k/top_10_categorical_accuracy: 0.0163 - val_factorized_top_k/top_50_categorical_accuracy: 0.0756 - val_factorized_top_k/top_100_categorical_accuracy: 0.1402 - val_loss: 4555.5522 - val_regularization_loss: 0.0000e+00 - val_total_loss: 4555.5522\n",
      "Epoch 5/10\n",
      "1/1 [==============================] - 14s 14s/step - factorized_top_k/top_1_categorical_accuracy: 0.0000e+00 - factorized_top_k/top_5_categorical_accuracy: 0.0000e+00 - factorized_top_k/top_10_categorical_accuracy: 0.0000e+00 - factorized_top_k/top_50_categorical_accuracy: 0.0000e+00 - factorized_top_k/top_100_categorical_accuracy: 0.0000e+00 - loss: 6647.4355 - regularization_loss: 0.0000e+00 - total_loss: 6647.4355 - val_factorized_top_k/top_1_categorical_accuracy: 0.0017 - val_factorized_top_k/top_5_categorical_accuracy: 0.0071 - val_factorized_top_k/top_10_categorical_accuracy: 0.0154 - val_factorized_top_k/top_50_categorical_accuracy: 0.0759 - val_factorized_top_k/top_100_categorical_accuracy: 0.1387 - val_loss: 4556.8994 - val_regularization_loss: 0.0000e+00 - val_total_loss: 4556.8994\n",
      "Epoch 6/10\n",
      "1/1 [==============================] - 14s 14s/step - factorized_top_k/top_1_categorical_accuracy: 0.0000e+00 - factorized_top_k/top_5_categorical_accuracy: 0.0000e+00 - factorized_top_k/top_10_categorical_accuracy: 0.0000e+00 - factorized_top_k/top_50_categorical_accuracy: 0.0000e+00 - factorized_top_k/top_100_categorical_accuracy: 0.0000e+00 - loss: 6381.5449 - regularization_loss: 0.0000e+00 - total_loss: 6381.5449 - val_factorized_top_k/top_1_categorical_accuracy: 0.0017 - val_factorized_top_k/top_5_categorical_accuracy: 0.0070 - val_factorized_top_k/top_10_categorical_accuracy: 0.0152 - val_factorized_top_k/top_50_categorical_accuracy: 0.0751 - val_factorized_top_k/top_100_categorical_accuracy: 0.1389 - val_loss: 4561.8350 - val_regularization_loss: 0.0000e+00 - val_total_loss: 4561.8350\n",
      "Epoch 7/10\n",
      "1/1 [==============================] - 15s 15s/step - factorized_top_k/top_1_categorical_accuracy: 0.0000e+00 - factorized_top_k/top_5_categorical_accuracy: 0.0000e+00 - factorized_top_k/top_10_categorical_accuracy: 0.0000e+00 - factorized_top_k/top_50_categorical_accuracy: 0.0000e+00 - factorized_top_k/top_100_categorical_accuracy: 0.0000e+00 - loss: 5974.8296 - regularization_loss: 0.0000e+00 - total_loss: 5974.8296 - val_factorized_top_k/top_1_categorical_accuracy: 3.0303e-05 - val_factorized_top_k/top_5_categorical_accuracy: 0.0061 - val_factorized_top_k/top_10_categorical_accuracy: 0.0148 - val_factorized_top_k/top_50_categorical_accuracy: 0.0739 - val_factorized_top_k/top_100_categorical_accuracy: 0.1379 - val_loss: 4575.3340 - val_regularization_loss: 0.0000e+00 - val_total_loss: 4575.3340\n",
      "Epoch 8/10\n",
      "1/1 [==============================] - 15s 15s/step - factorized_top_k/top_1_categorical_accuracy: 0.0000e+00 - factorized_top_k/top_5_categorical_accuracy: 0.0000e+00 - factorized_top_k/top_10_categorical_accuracy: 0.0000e+00 - factorized_top_k/top_50_categorical_accuracy: 0.0000e+00 - factorized_top_k/top_100_categorical_accuracy: 0.0000e+00 - loss: 5439.1455 - regularization_loss: 0.0000e+00 - total_loss: 5439.1455 - val_factorized_top_k/top_1_categorical_accuracy: 3.0303e-04 - val_factorized_top_k/top_5_categorical_accuracy: 0.0060 - val_factorized_top_k/top_10_categorical_accuracy: 0.0144 - val_factorized_top_k/top_50_categorical_accuracy: 0.0745 - val_factorized_top_k/top_100_categorical_accuracy: 0.1378 - val_loss: 4605.7793 - val_regularization_loss: 0.0000e+00 - val_total_loss: 4605.7793\n",
      "Epoch 9/10\n",
      "1/1 [==============================] - 15s 15s/step - factorized_top_k/top_1_categorical_accuracy: 0.0000e+00 - factorized_top_k/top_5_categorical_accuracy: 0.0000e+00 - factorized_top_k/top_10_categorical_accuracy: 0.0000e+00 - factorized_top_k/top_50_categorical_accuracy: 0.0000e+00 - factorized_top_k/top_100_categorical_accuracy: 0.0000e+00 - loss: 4822.9492 - regularization_loss: 0.0000e+00 - total_loss: 4822.9492 - val_factorized_top_k/top_1_categorical_accuracy: 2.7273e-04 - val_factorized_top_k/top_5_categorical_accuracy: 0.0058 - val_factorized_top_k/top_10_categorical_accuracy: 0.0139 - val_factorized_top_k/top_50_categorical_accuracy: 0.0733 - val_factorized_top_k/top_100_categorical_accuracy: 0.1363 - val_loss: 4663.0493 - val_regularization_loss: 0.0000e+00 - val_total_loss: 4663.0493\n",
      "Epoch 10/10\n",
      "1/1 [==============================] - 15s 15s/step - factorized_top_k/top_1_categorical_accuracy: 0.0000e+00 - factorized_top_k/top_5_categorical_accuracy: 0.0000e+00 - factorized_top_k/top_10_categorical_accuracy: 0.0000e+00 - factorized_top_k/top_50_categorical_accuracy: 0.0000e+00 - factorized_top_k/top_100_categorical_accuracy: 0.0000e+00 - loss: 4196.5562 - regularization_loss: 0.0000e+00 - total_loss: 4196.5562 - val_factorized_top_k/top_1_categorical_accuracy: 1.0101e-05 - val_factorized_top_k/top_5_categorical_accuracy: 0.0047 - val_factorized_top_k/top_10_categorical_accuracy: 0.0134 - val_factorized_top_k/top_50_categorical_accuracy: 0.0708 - val_factorized_top_k/top_100_categorical_accuracy: 0.1348 - val_loss: 4753.0059 - val_regularization_loss: 0.0000e+00 - val_total_loss: 4753.0059\n"
     ]
    }
   ],
   "source": [
    "EPOCHS = 10\n",
    "\n",
    "# Shuffle the training data for each epoch.\n",
    "# Batch and cache both the training and evaluation data.\n",
    "# `cache()` method caches the elements in the dataset in memory. To caches data\n",
    "# in a file pass the `filename` argument to the method: cache(filename='')\n",
    "# The first time the dataset is iterated over, its elements will be cached\n",
    "# either in the specified file or in memory. Subsequent iterations will use the\n",
    "# cached data.\n",
    "retrieval_cached_ratings_trainset = retrieval_ratings_trainset.shuffle(100_000).batch(1024).cache()\n",
    "retrieval_cached_ratings_testset = retrieval_ratings_validset.batch(1024).cache()\n",
    "\n",
    "history = retrieval_model.fit(\n",
    "    retrieval_cached_ratings_trainset,\n",
    "    validation_data = retrieval_cached_ratings_testset,\n",
    "    validation_freq = 1,\n",
    "    epochs = EPOCHS\n",
    ")"
   ]
  },
  {
   "cell_type": "code",
   "execution_count": 17,
   "metadata": {},
   "outputs": [
    {
     "data": {
      "image/png": "[encoded data removed]",
      "text/plain": [
       "<Figure size 640x480 with 1 Axes>"
      ]
     },
     "metadata": {},
     "output_type": "display_data"
    }
   ],
   "source": [
    "# Plot loss\n",
    "plt.plot(history.history[\"loss\"])\n",
    "plt.plot(history.history[\"val_loss\"])\n",
    "plt.title(\"Model losses during training\")\n",
    "plt.xlabel(\"epoch\")\n",
    "plt.ylabel(\"loss\")\n",
    "plt.legend([\"train\", \"test\"], loc=\"upper right\")\n",
    "plt.show()"
   ]
  },
  {
   "cell_type": "code",
   "execution_count": 18,
   "metadata": {},
   "outputs": [
    {
     "name": "stderr",
     "output_type": "stream",
     "text": [
      "2024-08-25 20:14:58.094162: I tensorflow/core/framework/local_rendezvous.cc:404] Local rendezvous is aborting with status: OUT_OF_RANGE: End of sequence\n",
      "2024-08-25 20:14:58.109528: I scann/partitioning/partitioner_factory_base.cc:59] Size of sampled dataset for training partition: 1682\n",
      "2024-08-25 20:14:58.111189: W scann/utils/gmm_utils.cc:920] Could not normalize centroid due to zero norm or empty or zero-weight partition.\n",
      "2024-08-25 20:14:58.113960: I ./scann/partitioning/kmeans_tree_partitioner_utils.h:89] PartitionerFactory ran in 4.36972ms.\n"
     ]
    },
    {
     "name": "stdout",
     "output_type": "stream",
     "text": [
      "Recommendations for user 42 using ScaNN: [b'210' b'740' b'1001' b'124' b'307']\n"
     ]
    }
   ],
   "source": [
    "scann_layer = tfrs.layers.factorized_top_k.ScaNN(\n",
    "    retrieval_model.query_model\n",
    ")\n",
    "\n",
    "scann_layer.index_from_dataset(\n",
    "  tf.data.Dataset.zip(\n",
    "      (\n",
    "          candidates_corpus_dataset.batch(100),\n",
    "          candidates_corpus_dataset.batch(100).map(\n",
    "              retrieval_model.candidate_model\n",
    "          )\n",
    "      )\n",
    "  )\n",
    ")\n",
    "\n",
    "user_id = '42'\n",
    "afinity_scores, movie_ids = scann_layer(\n",
    "    tf.constant([user_id])\n",
    ")\n",
    "\n",
    "print(f\"Recommendations for user {user_id} using ScaNN: {movie_ids[0, :5]}\")"
   ]
  }
 ],
 "metadata": {
  "kernelspec": {
   "display_name": ".venv",
   "language": "python",
   "name": "python3"
  },
  "language_info": {
   "codemirror_mode": {
    "name": "ipython",
    "version": 3
   },
   "file_extension": ".py",
   "mimetype": "text/x-python",
   "name": "python",
   "nbconvert_exporter": "python",
   "pygments_lexer": "ipython3",
   "version": "3.10.12"
  }
 },
 "nbformat": 4,
 "nbformat_minor": 2
}
