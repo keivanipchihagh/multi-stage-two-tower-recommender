{
 "cells": [
  {
   "cell_type": "code",
   "execution_count": 1,
   "metadata": {},
   "outputs": [],
   "source": [
    "# !pip install tf_keras tensorflow tensorflow-recommenders tensorflow-datasets scann"
   ]
  },
  {
   "cell_type": "code",
   "execution_count": 2,
   "metadata": {},
   "outputs": [],
   "source": [
    "# Use legacy Keras\n",
    "import os\n",
    "os.environ['TF_USE_LEGACY_KERAS'] = '1'"
   ]
  },
  {
   "cell_type": "code",
   "execution_count": 3,
   "metadata": {},
   "outputs": [
    {
     "name": "stderr",
     "output_type": "stream",
     "text": [
      "2024-08-27 16:23:12.743776: E external/local_xla/xla/stream_executor/cuda/cuda_fft.cc:485] Unable to register cuFFT factory: Attempting to register factory for plugin cuFFT when one has already been registered\n",
      "2024-08-27 16:23:12.768161: E external/local_xla/xla/stream_executor/cuda/cuda_dnn.cc:8454] Unable to register cuDNN factory: Attempting to register factory for plugin cuDNN when one has already been registered\n",
      "2024-08-27 16:23:12.774584: E external/local_xla/xla/stream_executor/cuda/cuda_blas.cc:1452] Unable to register cuBLAS factory: Attempting to register factory for plugin cuBLAS when one has already been registered\n",
      "2024-08-27 16:23:12.794288: I tensorflow/core/platform/cpu_feature_guard.cc:210] This TensorFlow binary is optimized to use available CPU instructions in performance-critical operations.\n",
      "To enable the following instructions: AVX2 FMA, in other operations, rebuild TensorFlow with the appropriate compiler flags.\n",
      "2024-08-27 16:23:13.977303: W tensorflow/compiler/tf2tensorrt/utils/py_utils.cc:38] TF-TRT Warning: Could not find TensorRT\n"
     ]
    }
   ],
   "source": [
    "from typing import Dict, Text\n",
    "\n",
    "import keras\n",
    "import numpy as np\n",
    "import tensorflow as tf\n",
    "from matplotlib import pyplot as plt\n",
    "\n",
    "import tensorflow_datasets as tfds\n",
    "import tensorflow_recommenders as tfrs\n",
    "\n",
    "RANDOM_STATE = 42\n",
    "\n",
    "tf.random.set_seed(RANDOM_STATE)"
   ]
  },
  {
   "cell_type": "markdown",
   "metadata": {},
   "source": [
    "## Preprocess"
   ]
  },
  {
   "cell_type": "markdown",
   "metadata": {},
   "source": [
    "### Download Datasets"
   ]
  },
  {
   "cell_type": "code",
   "execution_count": 4,
   "metadata": {},
   "outputs": [
    {
     "name": "stderr",
     "output_type": "stream",
     "text": [
      "WARNING: All log messages before absl::InitializeLog() is called are written to STDERR\n",
      "I0000 00:00:1724763196.220627   85702 cuda_executor.cc:1001] could not open file to read NUMA node: /sys/bus/pci/devices/0000:01:00.0/numa_node\n",
      "Your kernel may have been built without NUMA support.\n",
      "I0000 00:00:1724763196.304123   85702 cuda_executor.cc:1001] could not open file to read NUMA node: /sys/bus/pci/devices/0000:01:00.0/numa_node\n",
      "Your kernel may have been built without NUMA support.\n",
      "I0000 00:00:1724763196.304308   85702 cuda_executor.cc:1001] could not open file to read NUMA node: /sys/bus/pci/devices/0000:01:00.0/numa_node\n",
      "Your kernel may have been built without NUMA support.\n",
      "I0000 00:00:1724763196.310941   85702 cuda_executor.cc:1001] could not open file to read NUMA node: /sys/bus/pci/devices/0000:01:00.0/numa_node\n",
      "Your kernel may have been built without NUMA support.\n",
      "I0000 00:00:1724763196.311172   85702 cuda_executor.cc:1001] could not open file to read NUMA node: /sys/bus/pci/devices/0000:01:00.0/numa_node\n",
      "Your kernel may have been built without NUMA support.\n",
      "I0000 00:00:1724763196.311309   85702 cuda_executor.cc:1001] could not open file to read NUMA node: /sys/bus/pci/devices/0000:01:00.0/numa_node\n",
      "Your kernel may have been built without NUMA support.\n",
      "I0000 00:00:1724763196.522528   85702 cuda_executor.cc:1001] could not open file to read NUMA node: /sys/bus/pci/devices/0000:01:00.0/numa_node\n",
      "Your kernel may have been built without NUMA support.\n",
      "I0000 00:00:1724763196.522770   85702 cuda_executor.cc:1001] could not open file to read NUMA node: /sys/bus/pci/devices/0000:01:00.0/numa_node\n",
      "Your kernel may have been built without NUMA support.\n",
      "2024-08-27 16:23:16.522792: I tensorflow/core/common_runtime/gpu/gpu_device.cc:2112] Could not identify NUMA node of platform GPU id 0, defaulting to 0.  Your kernel may not have been built with NUMA support.\n",
      "I0000 00:00:1724763196.522981   85702 cuda_executor.cc:1001] could not open file to read NUMA node: /sys/bus/pci/devices/0000:01:00.0/numa_node\n",
      "Your kernel may have been built without NUMA support.\n",
      "2024-08-27 16:23:16.523089: I tensorflow/core/common_runtime/gpu/gpu_device.cc:2021] Created device /job:localhost/replica:0/task:0/device:GPU:0 with 3586 MB memory:  -> device: 0, name: NVIDIA GeForce RTX 3060 Laptop GPU, pci bus id: 0000:01:00.0, compute capability: 8.6\n"
     ]
    }
   ],
   "source": [
    "# Download the dataset and cache them as `tfrecord`\n",
    "\n",
    "ratings_dataset, ratings_dataset_info = tfds.load(\n",
    "    # Options: '25m-ratings', 'latest-small-ratings', '100k-ratings', '1m-ratings', '20m-ratings'\n",
    "    name = 'movielens/100k-ratings',\n",
    "    # MovieLense has only the `train` split.\n",
    "    split = 'train',\n",
    "    # Include metadata like version, description, homepage, citation, etc.\n",
    "    with_info = True\n",
    ")\n",
    "\n",
    "movies_dataset, movies_dataset_info = tfds.load(\n",
    "    # Options: '25m-movies', 'latest-small-movies', '100k-movies', '1m-movies', '20m-movies'\n",
    "    name = 'movielens/100k-movies',\n",
    "    # MovieLense has only the `train` split.\n",
    "    split = 'train',\n",
    "    # Include metadata like version, description, homepage, citation, etc.\n",
    "    with_info = True\n",
    ")"
   ]
  },
  {
   "cell_type": "markdown",
   "metadata": {},
   "source": [
    "### Feature Selection"
   ]
  },
  {
   "cell_type": "code",
   "execution_count": 5,
   "metadata": {},
   "outputs": [],
   "source": [
    "# Feature selection\n",
    "ratings_dataset = ratings_dataset.map(\n",
    "    lambda rating: {\n",
    "        # `user_id` is useful as a user identifier.\n",
    "        'user_id': rating['user_id'],\n",
    "        # `movie_id` is useful as a movie identifier.\n",
    "        'movie_id': rating['movie_id'],\n",
    "        # `movie_title` is useful as a textual information about the movie.\n",
    "        'movie_title': rating['movie_title'],\n",
    "        # `user_rating` shows the user's level of interest to a movie.\n",
    "        'user_rating': rating['user_rating'],\n",
    "        # `timestamp` will allow us to model the effect of time.\n",
    "        'timestamp': rating['timestamp']\n",
    "    }\n",
    ")"
   ]
  },
  {
   "cell_type": "markdown",
   "metadata": {},
   "source": [
    "### Dataset Splitting"
   ]
  },
  {
   "cell_type": "code",
   "execution_count": 6,
   "metadata": {},
   "outputs": [
    {
     "name": "stdout",
     "output_type": "stream",
     "text": [
      "trainset_size: 20000\n",
      "validset_size: 80000\n"
     ]
    }
   ],
   "source": [
    "# Shuffle the elements of the dataset randomly.\n",
    "ratings_dataset_shuffled = ratings_dataset.shuffle(\n",
    "    # The new dataset will be sampled from a buffer window of first `buffer_size`\n",
    "    # elements of the dataset\n",
    "    buffer_size = 100_000,\n",
    "    # The random seed used to create the distribution.\n",
    "    seed = RANDOM_STATE,\n",
    "    # `list(dataset.as_numpy_iterator()` yields different result for each call\n",
    "    # Because reshuffle_each_iteration defaults to True.\n",
    "    reshuffle_each_iteration = False\n",
    ")\n",
    "\n",
    "# Split dataset randomly (80% for training and 20% for validation)\n",
    "trainset_size: int  = 0.2 * ratings_dataset.__len__().numpy()\n",
    "\n",
    "ratings_trainset = ratings_dataset_shuffled.take(trainset_size)\n",
    "print(f\"trainset_size:\", ratings_trainset.__len__().numpy())\n",
    "\n",
    "ratings_validset = ratings_dataset_shuffled.skip(trainset_size)\n",
    "print(f\"validset_size:\", ratings_validset.__len__().numpy())"
   ]
  },
  {
   "cell_type": "markdown",
   "metadata": {},
   "source": [
    "### Categorical Features to Embeddings"
   ]
  },
  {
   "cell_type": "code",
   "execution_count": 7,
   "metadata": {},
   "outputs": [
    {
     "name": "stdout",
     "output_type": "stream",
     "text": [
      "Lookups for user_ids ['1', '124', 'xxx'] -> [65, 555, 408, 0]\n",
      "Embeddings for user_ids ['1', '124', 'xxx'] -> [[-0.02444352 -0.01522372 -0.02658457  0.02106227 -0.00209454  0.0101514\n",
      "   0.01054169  0.02724786  0.04612948  0.04093715 -0.04140062 -0.01141364\n",
      "   0.040016   -0.00546493 -0.00183631 -0.01695003  0.01730149  0.02019521\n",
      "  -0.00603181  0.0417619  -0.03045115  0.04539082 -0.02178631  0.01496513\n",
      "  -0.03336133  0.03876824 -0.00398767  0.03948392  0.03030792  0.04763569\n",
      "   0.00172392  0.00495978]\n",
      " [-0.01337718  0.04346332  0.02053157  0.03452185  0.0184502   0.02267851\n",
      "   0.01671746 -0.03029671  0.04360614  0.0171832   0.01525844 -0.04723973\n",
      "  -0.04878997 -0.02320035 -0.02728713 -0.02945635 -0.022567    0.02735175\n",
      "   0.03612727 -0.02465955 -0.01952989  0.02532411  0.04576098 -0.03128093\n",
      "   0.03481228 -0.01040011 -0.04028119  0.02142007  0.03327909  0.03624245\n",
      "  -0.00291157 -0.03002496]\n",
      " [-0.0346511  -0.03602793  0.01656438 -0.04988941  0.01388674 -0.01395945\n",
      "   0.04579165 -0.04494441 -0.04743944 -0.03144509 -0.00441629  0.04700335\n",
      "  -0.00622184  0.03672991  0.0356249  -0.04262074  0.02062545  0.03164542\n",
      "   0.03255086  0.03698877 -0.01394451 -0.00727633 -0.00246032 -0.01907535\n",
      "  -0.02338548 -0.04426031 -0.03563021 -0.00859054 -0.01335871  0.02440541\n",
      "   0.01552708  0.03206929]]\n"
     ]
    }
   ],
   "source": [
    "USER_ID_EMBEDDING_DIM = 32\n",
    "\n",
    "# Make a Keras StringLookup layer as the mapping (lookup)\n",
    "user_id_lookup_layer = tf.keras.layers.StringLookup(\n",
    "    mask_token = None,\n",
    "    # Include the OOV token so the layer can handle categorical values \n",
    "    # that are not in the vocabulary and the model can continue to learn \n",
    "    # and make recommendations even using features it has not been seen \n",
    "    # during vocabulary construction.\n",
    "    oov_token = \"[UNK]\",\n",
    ")\n",
    "\n",
    "# StringLookup layer is a non-trainable layer and its state (the vocabulary)\n",
    "# must be constructed and set before training in a step called \"adaptation\".\n",
    "user_id_lookup_layer.adapt(\n",
    "    ratings_trainset.map(\n",
    "        lambda x: x['user_id']\n",
    "    )\n",
    ")\n",
    "\n",
    "user_ids            = ['1', '124', 'xxx']\n",
    "user_ids_mappings   = list(user_id_lookup_layer(['1', '12', '100', 'xxx']).numpy())\n",
    "print(f\"Lookups for user_ids {user_ids} -> {user_ids_mappings}\")\n",
    "\n",
    "\n",
    "user_id_embedding_layer = tf.keras.layers.Embedding(\n",
    "    # Size of the vocabulary\n",
    "    input_dim = user_id_lookup_layer.vocabulary_size(),\n",
    "    # Dimension of the dense embedding\n",
    "    output_dim = USER_ID_EMBEDDING_DIM\n",
    ")\n",
    "\n",
    "# A model that takes raw string feature values (user_id) in and yields embeddings\n",
    "user_id_model = tf.keras.Sequential(\n",
    "    [\n",
    "        user_id_lookup_layer,\n",
    "        user_id_embedding_layer\n",
    "    ]\n",
    ")\n",
    "\n",
    "user_ids_embeddings = user_id_model(tf.convert_to_tensor(user_ids))\n",
    "print(f\"Embeddings for user_ids {user_ids} -> {user_ids_embeddings}\")"
   ]
  },
  {
   "cell_type": "code",
   "execution_count": 8,
   "metadata": {},
   "outputs": [
    {
     "name": "stdout",
     "output_type": "stream",
     "text": [
      "Lookups for movie_ids ['1', '124', 'xxx'] -> [7, 68, 2, 0]\n",
      "Embeddings for movie_ids ['1', '124', 'xxx'] -> [[ 0.02499278 -0.0075755   0.03727026  0.02350385 -0.00512888 -0.04058757\n",
      "   0.04667601 -0.01069721 -0.01078044 -0.01639662  0.02250612  0.00286772\n",
      "  -0.03359101 -0.02691928 -0.02521392  0.04737494  0.00495977 -0.00015247\n",
      "   0.00781534  0.00649118  0.04434234 -0.01234592 -0.00346189 -0.0455594\n",
      "   0.02749285 -0.00205052 -0.02099392 -0.00729664  0.01415185 -0.04521347\n",
      "   0.04972588  0.00570594]\n",
      " [-0.03489434 -0.0340657   0.04635643 -0.03061332  0.0080786   0.02385304\n",
      "  -0.02522249  0.00117419 -0.02065805 -0.04638242 -0.04824363 -0.01041272\n",
      "  -0.01305239  0.00103188 -0.04502707  0.0029132  -0.04663938  0.03873544\n",
      "  -0.03738195  0.00657142 -0.02146122 -0.03044183 -0.00891093 -0.001697\n",
      "   0.04433342  0.00137776  0.01745017 -0.03536882 -0.00131751  0.03842412\n",
      "   0.01530283  0.00428189]\n",
      " [ 0.03526858  0.02427057  0.02198491 -0.04976726  0.03924519  0.04497445\n",
      "   0.03821972  0.027957   -0.02548193  0.01909772 -0.0273605   0.04972652\n",
      "   0.00200138  0.0161745   0.01980658 -0.00703373  0.04680471 -0.02669536\n",
      "  -0.0086563  -0.02181268  0.0052036   0.02565617  0.00573517 -0.03314848\n",
      "   0.01737959 -0.01966825 -0.01272473  0.01762545 -0.009564    0.03272304\n",
      "   0.00767329  0.04515474]]\n"
     ]
    }
   ],
   "source": [
    "MOVIE_ID_EMBEDDING_DIM = 32\n",
    "\n",
    "# Make a Keras StringLookup layer as the mapping (lookup)\n",
    "movie_id_lookup_layer = tf.keras.layers.StringLookup(\n",
    "    mask_token = None,\n",
    "    # Include the OOV token so the layer can handle categorical values \n",
    "    # that are not in the vocabulary and the model can continue to learn \n",
    "    # and make recommendations even using features it has not been seen \n",
    "    # during vocabulary construction.\n",
    "    oov_token = \"[UNK]\",\n",
    ")\n",
    "\n",
    "# StringLookup layer is a non-trainable layer and its state (the vocabulary)\n",
    "# must be constructed and set before training in a step called \"adaptation\".\n",
    "movie_id_lookup_layer.adapt(\n",
    "    ratings_trainset.map(\n",
    "        lambda x: x['movie_id']\n",
    "    )\n",
    ")\n",
    "\n",
    "movie_ids            = ['1', '124', 'xxx']\n",
    "movie_ids_mappings   = list(movie_id_lookup_layer(['1', '12', '100', 'xxx']).numpy())\n",
    "print(f\"Lookups for movie_ids {movie_ids} -> {movie_ids_mappings}\")\n",
    "\n",
    "\n",
    "movie_id_embedding_layer = tf.keras.layers.Embedding(\n",
    "    # Size of the vocabulary\n",
    "    input_dim = movie_id_lookup_layer.vocabulary_size(),\n",
    "    # Dimension of the dense embedding\n",
    "    output_dim = MOVIE_ID_EMBEDDING_DIM\n",
    ")\n",
    "\n",
    "# A model that takes raw string feature values (movie_id) in and yields embeddings\n",
    "movie_id_model = tf.keras.Sequential(\n",
    "    [\n",
    "        movie_id_lookup_layer,\n",
    "        movie_id_embedding_layer\n",
    "    ]\n",
    ")\n",
    "\n",
    "movie_ids_embeddings = movie_id_model(tf.convert_to_tensor(movie_ids))\n",
    "print(f\"Embeddings for movie_ids {movie_ids} -> {movie_ids_embeddings}\")"
   ]
  },
  {
   "cell_type": "markdown",
   "metadata": {},
   "source": [
    "### Textual Features to Embeddings"
   ]
  },
  {
   "cell_type": "code",
   "execution_count": 9,
   "metadata": {},
   "outputs": [
    {
     "name": "stdout",
     "output_type": "stream",
     "text": [
      "Vocabulary -> ['lost', '1998', 'my', 'monty', '1971', 'on', 'love', 'die', 'seven', 'men']\n",
      "Vectorized 'Postman, The (1997)' -? [1095    2    4]\n"
     ]
    }
   ],
   "source": [
    "MOVIE_TITLE_EMBEDDING_DIM = 32\n",
    "\n",
    "# Keras TextVectorization layer transforms the raw texts into `word pieces` and\n",
    "# map these pieces into tokens.\n",
    "movie_title_vectorization_layer = tf.keras.layers.TextVectorization()\n",
    "\n",
    "movie_title_vectorization_layer.adapt(\n",
    "    ratings_trainset.map(\n",
    "        lambda rating: rating['movie_title']\n",
    "    )\n",
    ")\n",
    "\n",
    "# Verify that the tokenization is done correctly\n",
    "vocabulary = movie_title_vectorization_layer.get_vocabulary()\n",
    "print(f\"Vocabulary -> {vocabulary[40:50]}\")\n",
    "print(f\"Vectorized 'Postman, The (1997)' -? {movie_title_vectorization_layer('Postman, The (1997)')}\")\n",
    "\n",
    "movie_title_embedding_layer = tf.keras.layers.Embedding(\n",
    "    input_dim = len(vocabulary),\n",
    "    output_dim = MOVIE_TITLE_EMBEDDING_DIM,\n",
    "    # Whether or not the input value 0 is a MASK token.\n",
    "    # Keras TextVectorization layer builds the vocabulary with MASK token.\n",
    "    mask_zero = True\n",
    ")\n",
    "\n",
    "movie_title_model = tf.keras.Sequential(\n",
    "    [\n",
    "       movie_title_vectorization_layer,\n",
    "       movie_title_embedding_layer,\n",
    "       # Each title contains multiple words, so we will get multiple embeddings\n",
    "       # for each title that should be compressed into a single embedding for\n",
    "       # the text. Models like RNNs, Transformers or Attentions are useful here.\n",
    "       # However, averaging all the words' embeddings together is also a good\n",
    "       # starting point.\n",
    "       tf.keras.layers.GlobalAveragePooling1D()\n",
    "    ]\n",
    ")"
   ]
  },
  {
   "cell_type": "markdown",
   "metadata": {},
   "source": [
    "### Build the Retrieval (Candidate Generation Phase)"
   ]
  },
  {
   "cell_type": "code",
   "execution_count": 10,
   "metadata": {},
   "outputs": [],
   "source": [
    "# Query tower\n",
    "query_model = user_id_model\n",
    " \n",
    "# Candidate tower\n",
    "candidate_model = movie_id_model\n",
    " \n",
    " \n",
    "# Here we only used query and candidate identifiers to buid the towers. This\n",
    "# corresponds exactly to a classic matrix factorization approach.\n",
    "# https://ieeexplore.ieee.org/abstract/document/4781121\n",
    "# However, we can extend `tf.keras.Model` class to an arbitrarily complex model\n",
    "# including other features and return the final embedding vector at the end.\n",
    "# For example, by using movie metadata in the candidate tower, we can alleviate\n",
    "# cold-start problem.\n",
    "# return tf.concat([\n",
    "#         self.user_embedding(inputs[\"user_id\"]),\n",
    "#         self.timestamp_embedding(inputs[\"timestamp\"]),\n",
    "#         self.normalized_timestamp(inputs[\"timestamp\"])\n",
    "#     ], axis=1)"
   ]
  },
  {
   "cell_type": "code",
   "execution_count": 11,
   "metadata": {},
   "outputs": [],
   "source": [
    "# Create implicit ratings for Retieval\n",
    "retrieval_ratings_trainset = ratings_trainset.map(\n",
    "    lambda rating: {\n",
    "        'user_id': rating['user_id'],\n",
    "        'movie_id': rating['movie_id'],\n",
    "    }\n",
    ")\n",
    " \n",
    "retrieval_ratings_testset = ratings_validset.map(\n",
    "    lambda rating: {\n",
    "        'user_id': rating['user_id'],\n",
    "        'movie_id': rating['movie_id'],\n",
    "    }\n",
    ")"
   ]
  },
  {
   "cell_type": "code",
   "execution_count": 12,
   "metadata": {},
   "outputs": [],
   "source": [
    "# We are using just `movie_id` feature for making the candidates representation\n",
    "candidates_corpus_dataset = movies_dataset.map(\n",
    "    lambda movie: movie['movie_id']\n",
    ")\n",
    "\n",
    "factorized_top_k_metrics = tfrs.metrics.FactorizedTopK(\n",
    "    # dataset of candidate embeddings from which candidates should be retrieved\n",
    "    candidates = candidates_corpus_dataset.batch(128).map(\n",
    "        candidate_model\n",
    "    )\n",
    ")"
   ]
  },
  {
   "cell_type": "code",
   "execution_count": 13,
   "metadata": {},
   "outputs": [],
   "source": [
    "# The task computes the metrics and return the in-batch softmax loss.\n",
    "# Because the metrics range over the entire candidate set, they are usually much\n",
    "# slower to compute. Consider setting `compute_metrics=False` in Retrieval\n",
    "# costructor during training to save the time in computing the metrics.\n",
    "retrieval_task_layer = tfrs.tasks.Retrieval(\n",
    "    metrics = factorized_top_k_metrics\n",
    ")"
   ]
  },
  {
   "cell_type": "code",
   "execution_count": 14,
   "metadata": {},
   "outputs": [],
   "source": [
    "class RankingModel(tfrs.models.Model):\n",
    "    \"\"\"\n",
    "        Ranking Model\n",
    "    \"\"\"\n",
    "\n",
    "    def __init__(\n",
    "        self,\n",
    "        query_model: tf.keras.Model,\n",
    "        candidate_model: tf.keras.Model,\n",
    "    ) -> 'RankingModel':\n",
    "        super().__init__()\n",
    "\n",
    "        self.query_model = query_model\n",
    "        self.candidate_model = candidate_model\n",
    "\n",
    "        self.rating_model = tf.keras.Sequential(\n",
    "            [\n",
    "                tf.keras.layers.Dense(256, activation='relu'),\n",
    "                tf.keras.layers.Dense(64, activation='relu'),\n",
    "                tf.keras.layers.Dense(1)\n",
    "            ]\n",
    "        )\n",
    "        self.ranking_task_layer = tfrs.tasks.Ranking(\n",
    "            loss = tf.keras.losses.MeanSquaredError(),\n",
    "            metrics = [\n",
    "                tf.keras.metrics.RootMeanSquaredError()\n",
    "            ]\n",
    "        )\n",
    "\n",
    "\n",
    "    def call(self, features: Dict[Text, tf.Tensor]) -> tf.Tensor:\n",
    "        user_id     = features[\"user_id\"]\n",
    "        movie_id    = features[\"movie_id\"]\n",
    "\n",
    "        user_embedding = self.query_model(user_id)\n",
    "        movie_embedding = self.candidate_model(movie_id)\n",
    "\n",
    "        return self.rating_model(tf.concat([user_embedding, movie_embedding], axis=1))\n",
    "\n",
    "\n",
    "    def compute_loss(\n",
    "        self,\n",
    "        features: Dict[Text, tf.Tensor],\n",
    "        training = False\n",
    "    ) -> tf.Tensor:\n",
    "        user_id     = features[\"user_id\"]\n",
    "        movie_id    = features[\"movie_id\"]\n",
    "        user_rating = features[\"user_rating\"]\n",
    "\n",
    "        query_embeddings     = self.query_model(user_id)\n",
    "        candidate_embeddings = self.candidate_model(movie_id)\n",
    "\n",
    "        rating_predictions = self.rating_model(\n",
    "            tf.concat([query_embeddings, candidate_embeddings], axis=1)\n",
    "            # We could use `tf.keras.layers.Concatenate(axis=1)([x, y])`\n",
    "        )\n",
    "\n",
    "        loss = self.ranking_task_layer(\n",
    "            predictions = rating_predictions,\n",
    "            labels = user_rating,\n",
    "            compute_metrics = not training  # Speed up training\n",
    "        )\n",
    "        return loss"
   ]
  },
  {
   "cell_type": "code",
   "execution_count": 15,
   "metadata": {},
   "outputs": [],
   "source": [
    "OPTIMIZER_STEP_SIZE = 0.1\n",
    "\n",
    "ranking_model = RankingModel(\n",
    "    query_model,\n",
    "    candidate_model\n",
    ")\n",
    "\n",
    "optimizer = tf.keras.optimizers.Adagrad(learning_rate = OPTIMIZER_STEP_SIZE)\n",
    "ranking_model.compile(optimizer = optimizer)"
   ]
  },
  {
   "cell_type": "code",
   "execution_count": 16,
   "metadata": {},
   "outputs": [
    {
     "name": "stdout",
     "output_type": "stream",
     "text": [
      "Epoch 1/10\n"
     ]
    },
    {
     "name": "stderr",
     "output_type": "stream",
     "text": [
      "WARNING: All log messages before absl::InitializeLog() is called are written to STDERR\n",
      "I0000 00:00:1724763400.811628   85848 service.cc:146] XLA service 0x7f8edef30970 initialized for platform CUDA (this does not guarantee that XLA will be used). Devices:\n",
      "I0000 00:00:1724763400.811924   85848 service.cc:154]   StreamExecutor device (0): NVIDIA GeForce RTX 3060 Laptop GPU, Compute Capability 8.6\n",
      "2024-08-27 16:26:40.856603: I tensorflow/compiler/mlir/tensorflow/utils/dump_mlir_util.cc:268] disabling MLIR crash reproducer, set env var `MLIR_CRASH_REPRODUCER_DIRECTORY` to enable.\n",
      "2024-08-27 16:26:40.905686: I external/local_xla/xla/stream_executor/cuda/cuda_dnn.cc:531] Loaded cuDNN version 8907\n",
      "I0000 00:00:1724763401.022819   85848 device_compiler.h:188] Compiled cluster using XLA!  This line is logged at most once for the lifetime of the process.\n"
     ]
    },
    {
     "name": "stdout",
     "output_type": "stream",
     "text": [
      "20/20 [==============================] - 14s 358ms/step - root_mean_squared_error: 0.0000e+00 - loss: 2.8486 - regularization_loss: 0.0000e+00 - total_loss: 2.8486 - val_root_mean_squared_error: 1.1273 - val_loss: 1.5132 - val_regularization_loss: 0.0000e+00 - val_total_loss: 1.5132\n",
      "Epoch 2/10\n",
      "20/20 [==============================] - 0s 25ms/step - root_mean_squared_error: 0.0000e+00 - loss: 1.2531 - regularization_loss: 0.0000e+00 - total_loss: 1.2531 - val_root_mean_squared_error: 1.0920 - val_loss: 1.3807 - val_regularization_loss: 0.0000e+00 - val_total_loss: 1.3807\n",
      "Epoch 3/10\n",
      "20/20 [==============================] - 1s 26ms/step - root_mean_squared_error: 0.0000e+00 - loss: 1.1573 - regularization_loss: 0.0000e+00 - total_loss: 1.1573 - val_root_mean_squared_error: 1.0493 - val_loss: 1.2473 - val_regularization_loss: 0.0000e+00 - val_total_loss: 1.2473\n",
      "Epoch 4/10\n",
      "20/20 [==============================] - 1s 28ms/step - root_mean_squared_error: 0.0000e+00 - loss: 1.0652 - regularization_loss: 0.0000e+00 - total_loss: 1.0652 - val_root_mean_squared_error: 1.0240 - val_loss: 1.1819 - val_regularization_loss: 0.0000e+00 - val_total_loss: 1.1819\n",
      "Epoch 5/10\n",
      "20/20 [==============================] - 0s 25ms/step - root_mean_squared_error: 0.0000e+00 - loss: 0.9841 - regularization_loss: 0.0000e+00 - total_loss: 0.9841 - val_root_mean_squared_error: 0.9941 - val_loss: 1.1182 - val_regularization_loss: 0.0000e+00 - val_total_loss: 1.1182\n",
      "Epoch 6/10\n",
      "20/20 [==============================] - 0s 25ms/step - root_mean_squared_error: 0.0000e+00 - loss: 0.9063 - regularization_loss: 0.0000e+00 - total_loss: 0.9063 - val_root_mean_squared_error: 0.9829 - val_loss: 1.0857 - val_regularization_loss: 0.0000e+00 - val_total_loss: 1.0857\n",
      "Epoch 7/10\n",
      "20/20 [==============================] - 0s 25ms/step - root_mean_squared_error: 0.0000e+00 - loss: 0.8754 - regularization_loss: 0.0000e+00 - total_loss: 0.8754 - val_root_mean_squared_error: 0.9824 - val_loss: 1.0757 - val_regularization_loss: 0.0000e+00 - val_total_loss: 1.0757\n",
      "Epoch 8/10\n",
      "20/20 [==============================] - 0s 24ms/step - root_mean_squared_error: 0.0000e+00 - loss: 0.8780 - regularization_loss: 0.0000e+00 - total_loss: 0.8780 - val_root_mean_squared_error: 0.9880 - val_loss: 1.0715 - val_regularization_loss: 0.0000e+00 - val_total_loss: 1.0715\n",
      "Epoch 9/10\n",
      "20/20 [==============================] - 0s 25ms/step - root_mean_squared_error: 0.0000e+00 - loss: 0.8483 - regularization_loss: 0.0000e+00 - total_loss: 0.8483 - val_root_mean_squared_error: 0.9806 - val_loss: 1.0207 - val_regularization_loss: 0.0000e+00 - val_total_loss: 1.0207\n",
      "Epoch 10/10\n",
      "20/20 [==============================] - 1s 26ms/step - root_mean_squared_error: 0.0000e+00 - loss: 0.8597 - regularization_loss: 0.0000e+00 - total_loss: 0.8597 - val_root_mean_squared_error: 0.9871 - val_loss: 1.0375 - val_regularization_loss: 0.0000e+00 - val_total_loss: 1.0375\n"
     ]
    }
   ],
   "source": [
    "EPOCHS = 10\n",
    "\n",
    "# Shuffle the training data for each epoch.\n",
    "# Batch and cache both the training and evaluation data.\n",
    "# `cache()` method caches the elements in the dataset in memory. To caches data\n",
    "# in a file pass the `filename` argument to the method: cache(filename='')\n",
    "# The first time the dataset is iterated over, its elements will be cached\n",
    "# either in the specified file or in memory. Subsequent iterations will use the\n",
    "# cached data.\n",
    "ranking_ratings_trainset = ratings_trainset.shuffle(100_000).batch(1024).cache()\n",
    "ranking_ratings_testset = ratings_validset.batch(1024).cache()\n",
    "\n",
    "history = ranking_model.fit(\n",
    "    ranking_ratings_trainset,\n",
    "    validation_data = ranking_ratings_testset,\n",
    "    validation_freq = 1,\n",
    "    epochs = EPOCHS\n",
    ")"
   ]
  },
  {
   "cell_type": "code",
   "execution_count": 17,
   "metadata": {},
   "outputs": [
    {
     "data": {
      "image/png": "[encoded data removed]",
      "text/plain": [
       "<Figure size 640x480 with 1 Axes>"
      ]
     },
     "metadata": {},
     "output_type": "display_data"
    }
   ],
   "source": [
    "# Plot loss\n",
    "plt.plot(history.history[\"loss\"])\n",
    "plt.plot(history.history[\"val_loss\"])\n",
    "plt.title(\"Model losses during training\")\n",
    "plt.xlabel(\"epoch\")\n",
    "plt.ylabel(\"loss\")\n",
    "plt.legend([\"train\", \"test\"], loc=\"upper right\")\n",
    "plt.show()"
   ]
  },
  {
   "cell_type": "code",
   "execution_count": 19,
   "metadata": {},
   "outputs": [
    {
     "name": "stdout",
     "output_type": "stream",
     "text": [
      "Ratings:\n",
      "500: [[3.4644787]]\n",
      "1681: [[3.3685417]]\n",
      "1457: [[3.3685417]]\n",
      "838: [[3.3685417]]\n",
      "xxx: [[3.3685417]]\n"
     ]
    }
   ],
   "source": [
    "test_ratings = {}\n",
    "movie_ids = ['1681', '1457', '500', '838', 'xxx']\n",
    "for movie_id in movie_ids:\n",
    "  test_ratings[movie_id] = ranking_model({\n",
    "      \"user_id\": np.array([\"1\"]),\n",
    "      \"movie_id\": np.array([movie_id])\n",
    "  })\n",
    "\n",
    "print(\"Ratings:\")\n",
    "for title, score in sorted(test_ratings.items(), key=lambda x: x[1], reverse=True):\n",
    "  print(f\"{title}: {score}\")"
   ]
  }
 ],
 "metadata": {
  "kernelspec": {
   "display_name": ".venv",
   "language": "python",
   "name": "python3"
  },
  "language_info": {
   "codemirror_mode": {
    "name": "ipython",
    "version": 3
   },
   "file_extension": ".py",
   "mimetype": "text/x-python",
   "name": "python",
   "nbconvert_exporter": "python",
   "pygments_lexer": "ipython3",
   "version": "3.10.12"
  }
 },
 "nbformat": 4,
 "nbformat_minor": 2
}
