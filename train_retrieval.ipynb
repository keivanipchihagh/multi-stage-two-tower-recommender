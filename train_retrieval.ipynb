{
 "cells": [
  {
   "cell_type": "code",
   "execution_count": 127,
   "metadata": {},
   "outputs": [],
   "source": [
    "import os\n",
    "import pandas as pd\n",
    "from typing import List, Dict, Tuple\n",
    "\n",
    "# Tensorflow\n",
    "import tensorflow as tf\n",
    "import tensorflow_recommenders as tfrs\n",
    "\n",
    "from src.model.tower import Tower\n",
    "from src.model.embedding import Embedding\n",
    "from src.model.retrieval import Retrieval\n",
    "from src.model.ranking import PointwiseRanking\n",
    "from src.model.recommender import RecommenderModel\n",
    "from src.model.utils.utilities import (\n",
    "    train_test_split,\n",
    "    plot_history\n",
    ")\n",
    "\n",
    "RANDOM_STATE = 42\n",
    "tf.random.set_seed(RANDOM_STATE)\n",
    "os.environ['TF_USE_LEGACY_KERAS'] = '1'"
   ]
  },
  {
   "cell_type": "markdown",
   "metadata": {},
   "source": [
    "## Load Datasets"
   ]
  },
  {
   "cell_type": "code",
   "execution_count": 128,
   "metadata": {},
   "outputs": [],
   "source": [
    "# Dataset size (options: 100k, 1m)\n",
    "DATASET_SIZE: str = '100k'\n",
    "N_RATINGS: int    = 100_000\n",
    "\n",
    "# Load each dataset\n",
    "users_df    = pd.read_parquet(f'data/{DATASET_SIZE}-users.parquet')\n",
    "movies_df   = pd.read_parquet(f'data/{DATASET_SIZE}-movies.parquet')\n",
    "ratings_df  = pd.read_parquet(f'data/{DATASET_SIZE}-ratings.parquet')\n",
    "\n",
    "ratings_df = ratings_df.iloc[:N_RATINGS]\n",
    "\n",
    "# Remove lists\n",
    "movies_df.drop(columns=['movie_genres'], inplace=True)"
   ]
  },
  {
   "cell_type": "code",
   "execution_count": 129,
   "metadata": {},
   "outputs": [
    {
     "data": {
      "text/html": [
       "<div>\n",
       "<style scoped>\n",
       "    .dataframe tbody tr th:only-of-type {\n",
       "        vertical-align: middle;\n",
       "    }\n",
       "\n",
       "    .dataframe tbody tr th {\n",
       "        vertical-align: top;\n",
       "    }\n",
       "\n",
       "    .dataframe thead th {\n",
       "        text-align: right;\n",
       "    }\n",
       "</style>\n",
       "<table border=\"1\" class=\"dataframe\">\n",
       "  <thead>\n",
       "    <tr style=\"text-align: right;\">\n",
       "      <th></th>\n",
       "      <th>user_id</th>\n",
       "      <th>movie_id</th>\n",
       "      <th>timestamp</th>\n",
       "      <th>user_rating</th>\n",
       "      <th>user_gender</th>\n",
       "      <th>user_zip_code</th>\n",
       "      <th>user_bucketized_age</th>\n",
       "      <th>user_occupation_label</th>\n",
       "      <th>movie_title</th>\n",
       "      <th>movie_release_year</th>\n",
       "    </tr>\n",
       "  </thead>\n",
       "  <tbody>\n",
       "    <tr>\n",
       "      <th>0</th>\n",
       "      <td>138</td>\n",
       "      <td>357</td>\n",
       "      <td>879024327</td>\n",
       "      <td>4.0</td>\n",
       "      <td>1</td>\n",
       "      <td>53211</td>\n",
       "      <td>45.0</td>\n",
       "      <td>4</td>\n",
       "      <td>One Flew Over the Cuckoo's Nest</td>\n",
       "      <td>1975</td>\n",
       "    </tr>\n",
       "    <tr>\n",
       "      <th>1</th>\n",
       "      <td>92</td>\n",
       "      <td>709</td>\n",
       "      <td>875654590</td>\n",
       "      <td>2.0</td>\n",
       "      <td>1</td>\n",
       "      <td>80525</td>\n",
       "      <td>25.0</td>\n",
       "      <td>5</td>\n",
       "      <td>Strictly Ballroom</td>\n",
       "      <td>1992</td>\n",
       "    </tr>\n",
       "    <tr>\n",
       "      <th>2</th>\n",
       "      <td>301</td>\n",
       "      <td>412</td>\n",
       "      <td>882075110</td>\n",
       "      <td>4.0</td>\n",
       "      <td>1</td>\n",
       "      <td>55439</td>\n",
       "      <td>18.0</td>\n",
       "      <td>17</td>\n",
       "      <td>Very Brady Sequel, A</td>\n",
       "      <td>1996</td>\n",
       "    </tr>\n",
       "    <tr>\n",
       "      <th>3</th>\n",
       "      <td>60</td>\n",
       "      <td>56</td>\n",
       "      <td>883326919</td>\n",
       "      <td>4.0</td>\n",
       "      <td>1</td>\n",
       "      <td>06472</td>\n",
       "      <td>50.0</td>\n",
       "      <td>4</td>\n",
       "      <td>Pulp Fiction</td>\n",
       "      <td>1994</td>\n",
       "    </tr>\n",
       "    <tr>\n",
       "      <th>4</th>\n",
       "      <td>197</td>\n",
       "      <td>895</td>\n",
       "      <td>891409199</td>\n",
       "      <td>3.0</td>\n",
       "      <td>1</td>\n",
       "      <td>75094</td>\n",
       "      <td>50.0</td>\n",
       "      <td>18</td>\n",
       "      <td>Scream 2</td>\n",
       "      <td>1997</td>\n",
       "    </tr>\n",
       "  </tbody>\n",
       "</table>\n",
       "</div>"
      ],
      "text/plain": [
       "  user_id movie_id  timestamp  user_rating  user_gender user_zip_code  \\\n",
       "0     138      357  879024327          4.0            1         53211   \n",
       "1      92      709  875654590          2.0            1         80525   \n",
       "2     301      412  882075110          4.0            1         55439   \n",
       "3      60       56  883326919          4.0            1         06472   \n",
       "4     197      895  891409199          3.0            1         75094   \n",
       "\n",
       "   user_bucketized_age  user_occupation_label  \\\n",
       "0                 45.0                      4   \n",
       "1                 25.0                      5   \n",
       "2                 18.0                     17   \n",
       "3                 50.0                      4   \n",
       "4                 50.0                     18   \n",
       "\n",
       "                       movie_title movie_release_year  \n",
       "0  One Flew Over the Cuckoo's Nest               1975  \n",
       "1                Strictly Ballroom               1992  \n",
       "2             Very Brady Sequel, A               1996  \n",
       "3                     Pulp Fiction               1994  \n",
       "4                         Scream 2               1997  "
      ]
     },
     "execution_count": 129,
     "metadata": {},
     "output_type": "execute_result"
    }
   ],
   "source": [
    "# Handle missing values\n",
    "movies_df.fillna(value=-1, inplace=True)\n",
    "\n",
    "# Merge DataFrames\n",
    "ratings_df = ratings_df.merge(users_df, on = 'user_id')\n",
    "ratings_df = ratings_df.merge(movies_df, on = 'movie_id')\n",
    "\n",
    "ratings_df.head()"
   ]
  },
  {
   "cell_type": "code",
   "execution_count": 130,
   "metadata": {},
   "outputs": [
    {
     "data": {
      "text/plain": [
       "{'user_id': b'138',\n",
       " 'movie_id': b'357',\n",
       " 'timestamp': 879024327,\n",
       " 'user_rating': 4.0,\n",
       " 'user_gender': 1,\n",
       " 'user_zip_code': b'53211',\n",
       " 'user_bucketized_age': 45.0,\n",
       " 'user_occupation_label': 4,\n",
       " 'movie_title': b\"One Flew Over the Cuckoo's Nest\",\n",
       " 'movie_release_year': b'1975'}"
      ]
     },
     "execution_count": 130,
     "metadata": {},
     "output_type": "execute_result"
    }
   ],
   "source": [
    "TRAIN_RATIO: float = 0.8\n",
    "\n",
    "# Convert the DataFrame to TensorFlow Dataset\n",
    "ratings_dataset = tf.data.Dataset.from_tensor_slices(dict(ratings_df.astype(str)))\n",
    "movies_dataset  = tf.data.Dataset.from_tensor_slices(dict(movies_df.astype(str)))\n",
    "users_dataset  = tf.data.Dataset.from_tensor_slices(dict(users_df.astype(str)))\n",
    "\n",
    "ratings_dataset = ratings_dataset.map(lambda x: {\n",
    "    'user_id':                  x['user_id'],\n",
    "    'movie_id':                 x['movie_id'],\n",
    "    'timestamp':                int(x['timestamp']),\n",
    "    'user_rating':              float(x['user_rating']),\n",
    "    'user_gender':              int(x['user_gender']),\n",
    "    'user_zip_code':            x['user_zip_code'],\n",
    "    'user_bucketized_age':      float(x['user_bucketized_age']),\n",
    "    'user_occupation_label':    int(x['user_occupation_label']),\n",
    "    'movie_title':              x['movie_title'],\n",
    "    'movie_release_year':       x['movie_release_year'],\n",
    "})\n",
    "\n",
    "movies_dataset = movies_dataset.map(lambda x: {\n",
    "    'movie_id':                 x['movie_id'],\n",
    "    'movie_title':              x['movie_title'],\n",
    "    'movie_release_year':       x['movie_release_year'],\n",
    "})\n",
    "\n",
    "users_dataset = users_dataset.map(lambda x: {\n",
    "    'user_id':                  x['user_id'],\n",
    "    'user_gender':              int(x['user_gender']),\n",
    "    'user_zip_code':            x['user_zip_code'],\n",
    "    'user_bucketized_age':      float(x['user_bucketized_age']),\n",
    "    'user_occupation_label':    int(x['user_occupation_label']),\n",
    "})\n",
    "\n",
    "ratings_dataset.take(1).as_numpy_iterator().next()"
   ]
  },
  {
   "cell_type": "code",
   "execution_count": 131,
   "metadata": {},
   "outputs": [
    {
     "name": "stdout",
     "output_type": "stream",
     "text": [
      "Training data:\t 80000\n",
      "Validation data: 20000\n"
     ]
    }
   ],
   "source": [
    "# Split into train and validation sets\n",
    "ratings_trainset, ratings_validset = train_test_split(\n",
    "    dataset = ratings_dataset,\n",
    "    train_size = TRAIN_RATIO,\n",
    "    random_state = RANDOM_STATE,\n",
    "    buffer_size = 10_000\n",
    ")\n",
    "\n",
    "print(f\"Training data:\\t\", ratings_trainset.__len__().numpy())\n",
    "print(f\"Validation data:\", ratings_validset.__len__().numpy())"
   ]
  },
  {
   "cell_type": "markdown",
   "metadata": {},
   "source": [
    "## Create the Embedding Models"
   ]
  },
  {
   "cell_type": "markdown",
   "metadata": {},
   "source": [
    "### User Embeddings"
   ]
  },
  {
   "cell_type": "code",
   "execution_count": 132,
   "metadata": {},
   "outputs": [],
   "source": [
    "# For either integer or string categorical features, the\n",
    "# `StringLookup` layer will create a vocabulary that maps\n",
    "# each string value to an integer index followed by an\n",
    "# embedding layer:\n",
    "USER_STR_FEATURES: List[str] = ['user_id', 'user_zip_code']\n",
    "USER_INT_FEATURES: List[str] = ['user_gender', 'user_bucketized_age', 'user_occupation_label']\n",
    "\n",
    "# For text features, the `TextVectorization` layer will\n",
    "# create a vocabulary that maps each token to an integer\n",
    "# index followed by an embedding layer:\n",
    "USER_TEXT_FEATURES: List[str] = []\n",
    "\n",
    "# Timestamp features will be discretized into buckets\n",
    "# and the `Discretization` layer will create a vocabulary\n",
    "# for the embedding layer. The value will finally be\n",
    "# normalized between 0 and 1:\n",
    "USER_TIMESTAMP_FEATURES: List[str] = []\n",
    "\n",
    "# Embedding layers will be applied to each of the specified \n",
    "# features, with all layers having the same dimensionality \n",
    "# as defined below:\n",
    "USER_EMBEDDING_DIM: int = 64"
   ]
  },
  {
   "cell_type": "code",
   "execution_count": 133,
   "metadata": {},
   "outputs": [],
   "source": [
    "user_embedding_model = Embedding(\n",
    "    dataset             = users_dataset.batch(1_000),\n",
    "    str_features        = USER_STR_FEATURES,\n",
    "    int_features        = USER_INT_FEATURES,\n",
    "    text_features       = USER_TEXT_FEATURES,\n",
    "    timestamp_features  = USER_TIMESTAMP_FEATURES,\n",
    "    embedding_dim       = USER_EMBEDDING_DIM,\n",
    ")"
   ]
  },
  {
   "cell_type": "markdown",
   "metadata": {},
   "source": [
    "### Movie Embeddings"
   ]
  },
  {
   "cell_type": "code",
   "execution_count": 134,
   "metadata": {},
   "outputs": [],
   "source": [
    "# For either integer or string categorical features, the\n",
    "# `StringLookup` layer will create a vocabulary that maps\n",
    "# each string value to an integer index followed by an\n",
    "# embedding layer:\n",
    "MOVIE_STR_FEATURES: List[str] = ['movie_release_year']\n",
    "MOVIE_INT_FEATURES: List[str] = []\n",
    "\n",
    "# For text features, the `TextVectorization` layer will\n",
    "# create a vocabulary that maps each token to an integer\n",
    "# index followed by an embedding layer:\n",
    "MOVIE_TEXT_FEATURES: List[str] = ['movie_title']\n",
    "\n",
    "# Timestamp features will be discretized into buckets\n",
    "# and the `Discretization` layer will create a vocabulary\n",
    "# for the embedding layer. The value will finally be\n",
    "# normalized between 0 and 1:\n",
    "MOVIE_TIMESTAMP_FEATURES: List[str] = []\n",
    "\n",
    "# Embedding layers will be applied to each of the specified \n",
    "# features, with all layers having the same dimensionality \n",
    "# as defined below:\n",
    "MOVIE_EMBEDDING_DIM: int  = 32"
   ]
  },
  {
   "cell_type": "code",
   "execution_count": 135,
   "metadata": {},
   "outputs": [],
   "source": [
    "movie_embedding_model = Embedding(\n",
    "    dataset             = movies_dataset.batch(1_000),\n",
    "    str_features        = MOVIE_STR_FEATURES,\n",
    "    int_features        = MOVIE_INT_FEATURES,\n",
    "    text_features       = MOVIE_TEXT_FEATURES,\n",
    "    timestamp_features  = MOVIE_TIMESTAMP_FEATURES,\n",
    "    embedding_dim       = MOVIE_EMBEDDING_DIM,\n",
    ")"
   ]
  },
  {
   "cell_type": "markdown",
   "metadata": {},
   "source": [
    "## Create the Towers Models"
   ]
  },
  {
   "cell_type": "markdown",
   "metadata": {},
   "source": [
    "### Query Tower"
   ]
  },
  {
   "cell_type": "code",
   "execution_count": 136,
   "metadata": {},
   "outputs": [],
   "source": [
    "# The projection dimension determines the size of the feature \n",
    "# space for learning cross-features. By employing low-rank \n",
    "# techniques to approximate the weight matrices of the DCN, \n",
    "# we can effectively reduce both training and serving costs.\n",
    "# More: https://www.tensorflow.org/recommenders/examples/dcn\n",
    "QT_CROSS_PROJECTION_DIM: int = user_embedding_model.embeddings_output_dim / 4\n",
    "\n",
    "# Larger and more complex models, though often delivering better \n",
    "# performance, generally require careful tuning. Nevertheless, it's \n",
    "# essential to include at least one dense layer in the tower to unify \n",
    "# the outputs from the embedding layers. This is necessary because \n",
    "# each tower may generate embeddings of varying sizes, depending on \n",
    "# the different features it processes:\n",
    "# More: https://www.tensorflow.org/recommenders/examples/deep_recommenders\n",
    "QT_DENSE_LAYERS: List[int] = [32]"
   ]
  },
  {
   "cell_type": "code",
   "execution_count": 137,
   "metadata": {},
   "outputs": [],
   "source": [
    "# Deep & Cross Network\n",
    "qt_cross_layer = tfrs.layers.dcn.Cross(\n",
    "    projection_dim     = QT_CROSS_PROJECTION_DIM,\n",
    "    kernel_initializer = \"glorot_uniform\"\n",
    ")\n",
    "\n",
    "query_tower = Tower(\n",
    "    embedding_model = user_embedding_model,\n",
    "    cross_layer     = qt_cross_layer,\n",
    "    dense_layers    = QT_DENSE_LAYERS\n",
    ")"
   ]
  },
  {
   "cell_type": "markdown",
   "metadata": {},
   "source": [
    "### Candidate Tower"
   ]
  },
  {
   "cell_type": "code",
   "execution_count": 138,
   "metadata": {},
   "outputs": [],
   "source": [
    "# The projection dimension determines the size of the feature \n",
    "# space for learning cross-features. By employing low-rank \n",
    "# techniques to approximate the weight matrices of the DCN, \n",
    "# we can effectively reduce both training and serving costs.\n",
    "# More: https://www.tensorflow.org/recommenders/examples/dcn\n",
    "CT_CROSS_PROJECTION_DIM: int = movie_embedding_model.embeddings_output_dim / 2\n",
    "\n",
    "# Larger and more complex models, though often delivering better \n",
    "# performance, generally require careful tuning. Nevertheless, it's \n",
    "# essential to include at least one dense layer in the tower to unify \n",
    "# the outputs from the embedding layers. This is necessary because \n",
    "# each tower may generate embeddings of varying sizes, depending on \n",
    "# the different features it processes:\n",
    "# More: https://www.tensorflow.org/recommenders/examples/deep_recommenders\n",
    "CT_DENSE_LAYERS: List[int] = [32]"
   ]
  },
  {
   "cell_type": "code",
   "execution_count": 139,
   "metadata": {},
   "outputs": [],
   "source": [
    "# Deep & Cross Network\n",
    "ct_cross_layer = tfrs.layers.dcn.Cross(\n",
    "    projection_dim     = CT_CROSS_PROJECTION_DIM,\n",
    "    kernel_initializer = \"glorot_uniform\"\n",
    ")\n",
    "\n",
    "candidate_tower = Tower(\n",
    "    embedding_model = movie_embedding_model,\n",
    "    cross_layer     = ct_cross_layer,\n",
    "    dense_layers    = CT_DENSE_LAYERS\n",
    ")"
   ]
  },
  {
   "cell_type": "markdown",
   "metadata": {},
   "source": [
    "## Define the Ranking Model"
   ]
  },
  {
   "cell_type": "code",
   "execution_count": 140,
   "metadata": {},
   "outputs": [],
   "source": [
    "ranking_task = tfrs.tasks.Ranking(\n",
    "    loss = tf.keras.losses.MeanSquaredError(),      # MSE\n",
    "    metrics = [\n",
    "        tf.keras.metrics.RootMeanSquaredError(),    # RMSE\n",
    "    ],\n",
    ")\n",
    "\n",
    "# We will use a ranking model to help train the \n",
    "# retrieval system. We will use the pointwise approach\n",
    "# that assesses the relevance of individual items \n",
    "# or documents independently.\n",
    "ranking_model = PointwiseRanking(\n",
    "    query_tower     = query_tower,\n",
    "    candidate_tower = candidate_tower,\n",
    "    task            = ranking_task\n",
    ")"
   ]
  },
  {
   "cell_type": "markdown",
   "metadata": {},
   "source": [
    "## Define the Retrieval Model"
   ]
  },
  {
   "cell_type": "code",
   "execution_count": 141,
   "metadata": {},
   "outputs": [],
   "source": [
    "# Top K metric\n",
    "factorized_top_k_metrics = tfrs.metrics.FactorizedTopK(\n",
    "    candidates = movies_dataset.batch(128).map(candidate_tower)\n",
    ")\n",
    "\n",
    "# Retrieval task\n",
    "retrieval_task = tfrs.tasks.Retrieval(\n",
    "    metrics = [\n",
    "        factorized_top_k_metrics\n",
    "    ]\n",
    ")\n",
    "\n",
    "retrieval_model = Retrieval(\n",
    "    query_tower     = query_tower,\n",
    "    candidate_tower = candidate_tower,\n",
    "    task            = retrieval_task\n",
    ")"
   ]
  },
  {
   "cell_type": "markdown",
   "metadata": {},
   "source": [
    "## Recommender"
   ]
  },
  {
   "cell_type": "code",
   "execution_count": 142,
   "metadata": {},
   "outputs": [],
   "source": [
    "RANKING_WEIGHT: float   = 0.8\n",
    "RETRIEVAL_WEIGHT: float = 0.2\n",
    "RUN_EAGERLY: bool       = False     # Better debugging, slower training\n",
    "LEARNING_RATE: float    = 0.1\n",
    "\n",
    "model = RecommenderModel(\n",
    "    query_tower      = query_tower,\n",
    "    candidate_tower  = candidate_tower,\n",
    "    ranking_model    = ranking_model,\n",
    "    retrieval_model  = retrieval_model,\n",
    "    retrieval_weight = RANKING_WEIGHT,\n",
    "    ranking_weight   = RETRIEVAL_WEIGHT,\n",
    ")\n",
    "\n",
    "optimizer = tf.keras.optimizers.Adagrad(learning_rate=LEARNING_RATE)\n",
    "model.compile(optimizer = optimizer, run_eagerly=RUN_EAGERLY)"
   ]
  },
  {
   "cell_type": "code",
   "execution_count": 143,
   "metadata": {},
   "outputs": [
    {
     "name": "stdout",
     "output_type": "stream",
     "text": [
      "79/79 [==============================] - 14s 106ms/step - root_mean_squared_error: 0.0000e+00 - factorized_top_k/top_1_categorical_accuracy: 0.0000e+00 - factorized_top_k/top_5_categorical_accuracy: 0.0000e+00 - factorized_top_k/top_10_categorical_accuracy: 0.0000e+00 - factorized_top_k/top_50_categorical_accuracy: 0.0000e+00 - factorized_top_k/top_100_categorical_accuracy: 0.0000e+00 - loss: 11346.6627 - regularization_loss: 0.0000e+00 - total_loss: 11346.6627 - val_root_mean_squared_error: 1.3512 - val_factorized_top_k/top_1_categorical_accuracy: 5.0000e-04 - val_factorized_top_k/top_5_categorical_accuracy: 0.0023 - val_factorized_top_k/top_10_categorical_accuracy: 0.0054 - val_factorized_top_k/top_50_categorical_accuracy: 0.0426 - val_factorized_top_k/top_100_categorical_accuracy: 0.0895 - val_loss: 2721.5168 - val_regularization_loss: 0.0000e+00 - val_total_loss: 2721.5168\n"
     ]
    }
   ],
   "source": [
    "EPOCHS: int          = 1\n",
    "VALIDATION_FREQ: int = 1\n",
    "\n",
    "cached_ratings_trainset = ratings_trainset.shuffle(100_000).batch(1024).cache()\n",
    "cached_ratings_validset = ratings_validset.batch(1024).cache()\n",
    "\n",
    "early_stopping_callback = tf.keras.callbacks.EarlyStopping(\n",
    "    monitor = 'total_loss',\n",
    "    patience = 10,\n",
    ")\n",
    "\n",
    "history = model.fit(\n",
    "    cached_ratings_trainset,\n",
    "    validation_data = cached_ratings_validset,\n",
    "    validation_freq = VALIDATION_FREQ,\n",
    "    epochs          = EPOCHS,\n",
    "    callbacks = [\n",
    "        early_stopping_callback\n",
    "    ]\n",
    ")"
   ]
  },
  {
   "cell_type": "code",
   "execution_count": 144,
   "metadata": {},
   "outputs": [
    {
     "data": {
      "text/plain": [
       "{'root_mean_squared_error': 1.3511549234390259,\n",
       " 'factorized_top_k/top_1_categorical_accuracy': 0.0005000000237487257,\n",
       " 'factorized_top_k/top_5_categorical_accuracy': 0.0023499999660998583,\n",
       " 'factorized_top_k/top_10_categorical_accuracy': 0.005350000225007534,\n",
       " 'factorized_top_k/top_50_categorical_accuracy': 0.042649999260902405,\n",
       " 'factorized_top_k/top_100_categorical_accuracy': 0.08945000171661377,\n",
       " 'loss': 2721.516845703125,\n",
       " 'regularization_loss': 0,\n",
       " 'total_loss': 2721.516845703125}"
      ]
     },
     "execution_count": 144,
     "metadata": {},
     "output_type": "execute_result"
    }
   ],
   "source": [
    "model.evaluate(cached_ratings_validset, return_dict=True, verbose=False)"
   ]
  },
  {
   "cell_type": "code",
   "execution_count": 145,
   "metadata": {},
   "outputs": [
    {
     "data": {
      "image/png": "[encoded data removed]",
      "text/plain": [
       "<Figure size 2000x700 with 9 Axes>"
      ]
     },
     "metadata": {},
     "output_type": "display_data"
    }
   ],
   "source": [
    "plot_history(history = history, plot_training=False)"
   ]
  },
  {
   "cell_type": "code",
   "execution_count": 146,
   "metadata": {},
   "outputs": [
    {
     "name": "stderr",
     "output_type": "stream",
     "text": [
      "2024-09-07 14:01:40.493276: I scann/partitioning/partitioner_factory_base.cc:59] Size of sampled dataset for training partition: 1682\n",
      "2024-09-07 14:01:40.498839: I ./scann/partitioning/kmeans_tree_partitioner_utils.h:88] PartitionerFactory ran in 5.369289ms.\n"
     ]
    },
    {
     "data": {
      "text/plain": [
       "<tensorflow_recommenders.layers.factorized_top_k.ScaNN at 0x7fa79e5f8fd0>"
      ]
     },
     "execution_count": 146,
     "metadata": {},
     "output_type": "execute_result"
    }
   ],
   "source": [
    "TOP_K: int = 10\n",
    "\n",
    "scann_layer = tfrs.layers.factorized_top_k.ScaNN(\n",
    "    model.query_tower,\n",
    "    k = TOP_K,\n",
    ")\n",
    "\n",
    "scann_layer.index_from_dataset(\n",
    "    candidates = tf.data.Dataset.zip(\n",
    "      (\n",
    "          movies_dataset.map(lambda movie: movie['movie_id']).batch(100),\n",
    "          movies_dataset.batch(100).map(model.candidate_tower)\n",
    "      )\n",
    "  )\n",
    ")"
   ]
  },
  {
   "cell_type": "code",
   "execution_count": 147,
   "metadata": {},
   "outputs": [
    {
     "data": {
      "text/plain": [
       "<tensorflow_recommenders.layers.factorized_top_k.BruteForce at 0x7fa783b70be0>"
      ]
     },
     "execution_count": 147,
     "metadata": {},
     "output_type": "execute_result"
    }
   ],
   "source": [
    "TOP_K: int = 10\n",
    "\n",
    "brute_layer = tfrs.layers.factorized_top_k.BruteForce(\n",
    "    model.query_tower,\n",
    "    k = TOP_K,\n",
    ")\n",
    "\n",
    "brute_layer.index_from_dataset(\n",
    "    candidates = tf.data.Dataset.zip(\n",
    "      (\n",
    "          movies_dataset.map(lambda movie: movie['movie_id']).batch(100),\n",
    "          movies_dataset.batch(100).map(model.candidate_tower)\n",
    "      )\n",
    "  )\n",
    ")"
   ]
  },
  {
   "cell_type": "code",
   "execution_count": 148,
   "metadata": {},
   "outputs": [
    {
     "name": "stdout",
     "output_type": "stream",
     "text": [
      "WARNING:tensorflow:5 out of the last 7 calls to <function ScannState.recreate_handle at 0x7fa79fc380d0> triggered tf.function retracing. Tracing is expensive and the excessive number of tracings could be due to (1) creating @tf.function repeatedly in a loop, (2) passing tensors with different shapes, (3) passing Python objects instead of tensors. For (1), please define your @tf.function outside of the loop. For (2), @tf.function has reduce_retracing=True option that can avoid unnecessary retracing. For (3), please refer to https://www.tensorflow.org/guide/function#controlling_retracing and https://www.tensorflow.org/api_docs/python/tf/function for  more details.\n"
     ]
    },
    {
     "name": "stderr",
     "output_type": "stream",
     "text": [
      "WARNING:tensorflow:5 out of the last 7 calls to <function ScannState.recreate_handle at 0x7fa79fc380d0> triggered tf.function retracing. Tracing is expensive and the excessive number of tracings could be due to (1) creating @tf.function repeatedly in a loop, (2) passing tensors with different shapes, (3) passing Python objects instead of tensors. For (1), please define your @tf.function outside of the loop. For (2), @tf.function has reduce_retracing=True option that can avoid unnecessary retracing. For (3), please refer to https://www.tensorflow.org/guide/function#controlling_retracing and https://www.tensorflow.org/api_docs/python/tf/function for  more details.\n"
     ]
    },
    {
     "name": "stdout",
     "output_type": "stream",
     "text": [
      "Movie b'614': 3.348881244659424\n",
      "Movie b'248': 3.008211374282837\n",
      "Movie b'530': 3.2663252353668213\n",
      "Movie b'584': 3.2160866260528564\n",
      "Movie b'357': 3.077296257019043\n",
      "Movie b'202': 3.126511812210083\n",
      "Movie b'1139': 3.270848512649536\n",
      "Movie b'761': 3.0708696842193604\n",
      "Movie b'1107': 3.08752179145813\n",
      "Movie b'739': 2.984395980834961\n"
     ]
    }
   ],
   "source": [
    "user = users_dataset.take(1).as_numpy_iterator().next()\n",
    "user_tensor = {k: tf.convert_to_tensor([v]) for k, v in user.items()}\n",
    "\n",
    "top_movies = scann_layer(user_tensor, 10)\n",
    "_, movie_ids = top_movies\n",
    "\n",
    "for movie_id in movie_ids[0]:\n",
    "    \n",
    "    movie = movies_df.loc[movies_df['movie_id'] == movie_id]\n",
    "\n",
    "    movie_tensor = {k: tf.convert_to_tensor([v]) for k, v in movie.items()}\n",
    "\n",
    "    pred = model({**movie_tensor, **user_tensor})\n",
    "\n",
    "    print(f\"Movie {movie_id}: {pred[0][0]}\")"
   ]
  },
  {
   "cell_type": "code",
   "execution_count": 149,
   "metadata": {},
   "outputs": [
    {
     "name": "stdout",
     "output_type": "stream",
     "text": [
      "Movie b'530': 3.2663252353668213\n",
      "Movie b'739': 2.984395980834961\n",
      "Movie b'357': 3.077296257019043\n",
      "Movie b'503': 3.0828261375427246\n",
      "Movie b'1218': 3.1235949993133545\n",
      "Movie b'519': 3.1775851249694824\n",
      "Movie b'158': 3.0790886878967285\n",
      "Movie b'584': 3.2160866260528564\n",
      "Movie b'614': 3.348881244659424\n",
      "Movie b'355': 3.4718096256256104\n"
     ]
    }
   ],
   "source": [
    "\n",
    "user = users_dataset.take(1).as_numpy_iterator().next()\n",
    "user_tensor = {k: tf.convert_to_tensor([v]) for k, v in user.items()}\n",
    "\n",
    "top_movies = brute_layer(user_tensor, k=10)\n",
    "_, movie_ids = top_movies\n",
    "\n",
    "for movie_id in movie_ids[0]:\n",
    "    \n",
    "    movie = movies_df.loc[movies_df['movie_id'] == movie_id]\n",
    "\n",
    "    movie_tensor = {k: tf.convert_to_tensor([v]) for k, v in movie.items()}\n",
    "\n",
    "    pred = model({**movie_tensor, **user_tensor})\n",
    "\n",
    "    print(f\"Movie {movie_id}: {pred[0][0]}\")"
   ]
  },
  {
   "cell_type": "markdown",
   "metadata": {},
   "source": [
    "## Export the Model"
   ]
  },
  {
   "cell_type": "code",
   "execution_count": 150,
   "metadata": {},
   "outputs": [],
   "source": [
    "class TopK(tf.Module):\n",
    "\n",
    "    def __init__(self, model: tfrs.layers.factorized_top_k.TopK):\n",
    "        self.model = model\n",
    "\n",
    "\n",
    "    @tf.function(\n",
    "        input_signature = [\n",
    "            {\n",
    "                'user_id':               tf.TensorSpec(shape=(1,), dtype=tf.string,  name='user_id'),\n",
    "                'user_gender':           tf.TensorSpec(shape=(1,), dtype=tf.int32,   name='user_gender'),\n",
    "                'user_zip_code':         tf.TensorSpec(shape=(1,), dtype=tf.string,  name='user_zip_code'),\n",
    "                'user_bucketized_age':   tf.TensorSpec(shape=(1,), dtype=tf.float32, name='user_bucketized_age'),\n",
    "                'user_occupation_label': tf.TensorSpec(shape=(1,), dtype=tf.int32,   name='user_occupation_label'),\n",
    "            },\n",
    "            tf.TensorSpec(shape=None, dtype=tf.int32),\n",
    "        ]\n",
    "    )\n",
    "    def call(self, query: Dict[str, tf.Tensor], k: int) -> Tuple[tf.Tensor, tf.Tensor]:\n",
    "        \"\"\"\n",
    "            Call the model\n",
    "\n",
    "            Parameters:\n",
    "                - query (Dict[str, tf.Tensor]): Dictionary of input Tensors.\n",
    "                - k (int): Number of predictions to return.\n",
    "\n",
    "            Returns:\n",
    "                (Tuple[tf.Tensor, tf.Tensor]): Tuple of identifiers and affinity scores.\n",
    "        \"\"\"\n",
    "        affinities, identifiers = self.model(query, k)\n",
    "        return identifiers[0], affinities[0]\n",
    "\n",
    "\n",
    "class Ranking(tf.Module):\n",
    "\n",
    "    def __init__(self, model: PointwiseRanking):\n",
    "        self.model = model\n",
    "\n",
    "\n",
    "    @tf.function(\n",
    "        input_signature = [\n",
    "            {\n",
    "                'user_id':               tf.TensorSpec(shape=(1,), dtype=tf.string,  name='user_id'),\n",
    "                'user_gender':           tf.TensorSpec(shape=(1,), dtype=tf.int32,   name='user_gender'),\n",
    "                'user_zip_code':         tf.TensorSpec(shape=(1,), dtype=tf.string,  name='user_zip_code'),\n",
    "                'user_bucketized_age':   tf.TensorSpec(shape=(1,), dtype=tf.float32, name='user_bucketized_age'),\n",
    "                'user_occupation_label': tf.TensorSpec(shape=(1,), dtype=tf.int32,   name='user_occupation_label'),\n",
    "            },\n",
    "            {\n",
    "                'movie_id':              tf.TensorSpec(shape=(1,), dtype=tf.string,  name='movie_id'),\n",
    "                'movie_title':           tf.TensorSpec(shape=(1,), dtype=tf.string,  name='movie_title'),\n",
    "                'movie_release_year':    tf.TensorSpec(shape=(1,), dtype=tf.string,   name='movie_release_year'),\n",
    "            }\n",
    "        ]\n",
    "    )\n",
    "    def call(self, query: Dict[str, tf.Tensor], candidate: Dict[str, tf.Tensor]) -> List[tf.Tensor]:\n",
    "        \"\"\"\"\n",
    "            Call the model\n",
    "\n",
    "            Parameters:\n",
    "                - query (Dict[str, tf.Tensor]): Dictionary of input Tensors.\n",
    "                - candidate (Dict[str, tf.Tensor]): Dictionary of input Tensors.\n",
    "\n",
    "            Returns:\n",
    "                (Tuple[tf.Tensor, tf.Tensor]): Tuple of identifiers and affinity scores.\n",
    "        \"\"\"\n",
    "        score = self.model({**query, **candidate})\n",
    "        return score"
   ]
  },
  {
   "cell_type": "code",
   "execution_count": 151,
   "metadata": {},
   "outputs": [
    {
     "name": "stdout",
     "output_type": "stream",
     "text": [
      "WARNING:tensorflow:Model's `__init__()` arguments contain non-serializable objects. Please implement a `get_config()` method in the subclassed Model for proper saving and loading. Defaulting to empty config.\n"
     ]
    },
    {
     "name": "stderr",
     "output_type": "stream",
     "text": [
      "WARNING:tensorflow:Model's `__init__()` arguments contain non-serializable objects. Please implement a `get_config()` method in the subclassed Model for proper saving and loading. Defaulting to empty config.\n"
     ]
    },
    {
     "name": "stdout",
     "output_type": "stream",
     "text": [
      "WARNING:tensorflow:Model's `__init__()` arguments contain non-serializable objects. Please implement a `get_config()` method in the subclassed Model for proper saving and loading. Defaulting to empty config.\n"
     ]
    },
    {
     "name": "stderr",
     "output_type": "stream",
     "text": [
      "WARNING:tensorflow:Model's `__init__()` arguments contain non-serializable objects. Please implement a `get_config()` method in the subclassed Model for proper saving and loading. Defaulting to empty config.\n"
     ]
    },
    {
     "name": "stdout",
     "output_type": "stream",
     "text": [
      "WARNING:tensorflow:Model's `__init__()` arguments contain non-serializable objects. Please implement a `get_config()` method in the subclassed Model for proper saving and loading. Defaulting to empty config.\n"
     ]
    },
    {
     "name": "stderr",
     "output_type": "stream",
     "text": [
      "WARNING:tensorflow:Model's `__init__()` arguments contain non-serializable objects. Please implement a `get_config()` method in the subclassed Model for proper saving and loading. Defaulting to empty config.\n"
     ]
    },
    {
     "name": "stdout",
     "output_type": "stream",
     "text": [
      "WARNING:tensorflow:Model's `__init__()` arguments contain non-serializable objects. Please implement a `get_config()` method in the subclassed Model for proper saving and loading. Defaulting to empty config.\n"
     ]
    },
    {
     "name": "stderr",
     "output_type": "stream",
     "text": [
      "WARNING:tensorflow:Model's `__init__()` arguments contain non-serializable objects. Please implement a `get_config()` method in the subclassed Model for proper saving and loading. Defaulting to empty config.\n"
     ]
    },
    {
     "name": "stdout",
     "output_type": "stream",
     "text": [
      "WARNING:tensorflow:Model's `__init__()` arguments contain non-serializable objects. Please implement a `get_config()` method in the subclassed Model for proper saving and loading. Defaulting to empty config.\n"
     ]
    },
    {
     "name": "stderr",
     "output_type": "stream",
     "text": [
      "WARNING:tensorflow:Model's `__init__()` arguments contain non-serializable objects. Please implement a `get_config()` method in the subclassed Model for proper saving and loading. Defaulting to empty config.\n"
     ]
    },
    {
     "name": "stdout",
     "output_type": "stream",
     "text": [
      "WARNING:tensorflow:Model's `__init__()` arguments contain non-serializable objects. Please implement a `get_config()` method in the subclassed Model for proper saving and loading. Defaulting to empty config.\n"
     ]
    },
    {
     "name": "stderr",
     "output_type": "stream",
     "text": [
      "WARNING:tensorflow:Model's `__init__()` arguments contain non-serializable objects. Please implement a `get_config()` method in the subclassed Model for proper saving and loading. Defaulting to empty config.\n"
     ]
    },
    {
     "name": "stdout",
     "output_type": "stream",
     "text": [
      "INFO:tensorflow:Assets written to: ./checkpoints/retrieval/scann/assets\n"
     ]
    },
    {
     "name": "stderr",
     "output_type": "stream",
     "text": [
      "INFO:tensorflow:Assets written to: ./checkpoints/retrieval/scann/assets\n"
     ]
    },
    {
     "name": "stdout",
     "output_type": "stream",
     "text": [
      "WARNING:tensorflow:Model's `__init__()` arguments contain non-serializable objects. Please implement a `get_config()` method in the subclassed Model for proper saving and loading. Defaulting to empty config.\n"
     ]
    },
    {
     "name": "stderr",
     "output_type": "stream",
     "text": [
      "WARNING:tensorflow:Model's `__init__()` arguments contain non-serializable objects. Please implement a `get_config()` method in the subclassed Model for proper saving and loading. Defaulting to empty config.\n"
     ]
    },
    {
     "name": "stdout",
     "output_type": "stream",
     "text": [
      "WARNING:tensorflow:Model's `__init__()` arguments contain non-serializable objects. Please implement a `get_config()` method in the subclassed Model for proper saving and loading. Defaulting to empty config.\n"
     ]
    },
    {
     "name": "stderr",
     "output_type": "stream",
     "text": [
      "WARNING:tensorflow:Model's `__init__()` arguments contain non-serializable objects. Please implement a `get_config()` method in the subclassed Model for proper saving and loading. Defaulting to empty config.\n"
     ]
    },
    {
     "name": "stdout",
     "output_type": "stream",
     "text": [
      "WARNING:tensorflow:Model's `__init__()` arguments contain non-serializable objects. Please implement a `get_config()` method in the subclassed Model for proper saving and loading. Defaulting to empty config.\n"
     ]
    },
    {
     "name": "stderr",
     "output_type": "stream",
     "text": [
      "WARNING:tensorflow:Model's `__init__()` arguments contain non-serializable objects. Please implement a `get_config()` method in the subclassed Model for proper saving and loading. Defaulting to empty config.\n"
     ]
    },
    {
     "name": "stdout",
     "output_type": "stream",
     "text": [
      "WARNING:tensorflow:Model's `__init__()` arguments contain non-serializable objects. Please implement a `get_config()` method in the subclassed Model for proper saving and loading. Defaulting to empty config.\n"
     ]
    },
    {
     "name": "stderr",
     "output_type": "stream",
     "text": [
      "WARNING:tensorflow:Model's `__init__()` arguments contain non-serializable objects. Please implement a `get_config()` method in the subclassed Model for proper saving and loading. Defaulting to empty config.\n"
     ]
    },
    {
     "name": "stdout",
     "output_type": "stream",
     "text": [
      "WARNING:tensorflow:Model's `__init__()` arguments contain non-serializable objects. Please implement a `get_config()` method in the subclassed Model for proper saving and loading. Defaulting to empty config.\n"
     ]
    },
    {
     "name": "stderr",
     "output_type": "stream",
     "text": [
      "WARNING:tensorflow:Model's `__init__()` arguments contain non-serializable objects. Please implement a `get_config()` method in the subclassed Model for proper saving and loading. Defaulting to empty config.\n"
     ]
    },
    {
     "name": "stdout",
     "output_type": "stream",
     "text": [
      "WARNING:tensorflow:Model's `__init__()` arguments contain non-serializable objects. Please implement a `get_config()` method in the subclassed Model for proper saving and loading. Defaulting to empty config.\n"
     ]
    },
    {
     "name": "stderr",
     "output_type": "stream",
     "text": [
      "WARNING:tensorflow:Model's `__init__()` arguments contain non-serializable objects. Please implement a `get_config()` method in the subclassed Model for proper saving and loading. Defaulting to empty config.\n"
     ]
    },
    {
     "name": "stdout",
     "output_type": "stream",
     "text": [
      "INFO:tensorflow:Assets written to: ./checkpoints/retrieval/brute/assets\n"
     ]
    },
    {
     "name": "stderr",
     "output_type": "stream",
     "text": [
      "INFO:tensorflow:Assets written to: ./checkpoints/retrieval/brute/assets\n"
     ]
    },
    {
     "name": "stdout",
     "output_type": "stream",
     "text": [
      "WARNING:tensorflow:Model's `__init__()` arguments contain non-serializable objects. Please implement a `get_config()` method in the subclassed Model for proper saving and loading. Defaulting to empty config.\n"
     ]
    },
    {
     "name": "stderr",
     "output_type": "stream",
     "text": [
      "WARNING:tensorflow:Model's `__init__()` arguments contain non-serializable objects. Please implement a `get_config()` method in the subclassed Model for proper saving and loading. Defaulting to empty config.\n"
     ]
    },
    {
     "name": "stdout",
     "output_type": "stream",
     "text": [
      "WARNING:tensorflow:Model's `__init__()` arguments contain non-serializable objects. Please implement a `get_config()` method in the subclassed Model for proper saving and loading. Defaulting to empty config.\n"
     ]
    },
    {
     "name": "stderr",
     "output_type": "stream",
     "text": [
      "WARNING:tensorflow:Model's `__init__()` arguments contain non-serializable objects. Please implement a `get_config()` method in the subclassed Model for proper saving and loading. Defaulting to empty config.\n"
     ]
    },
    {
     "name": "stdout",
     "output_type": "stream",
     "text": [
      "WARNING:tensorflow:Model's `__init__()` arguments contain non-serializable objects. Please implement a `get_config()` method in the subclassed Model for proper saving and loading. Defaulting to empty config.\n"
     ]
    },
    {
     "name": "stderr",
     "output_type": "stream",
     "text": [
      "WARNING:tensorflow:Model's `__init__()` arguments contain non-serializable objects. Please implement a `get_config()` method in the subclassed Model for proper saving and loading. Defaulting to empty config.\n"
     ]
    },
    {
     "name": "stdout",
     "output_type": "stream",
     "text": [
      "WARNING:tensorflow:Model's `__init__()` arguments contain non-serializable objects. Please implement a `get_config()` method in the subclassed Model for proper saving and loading. Defaulting to empty config.\n"
     ]
    },
    {
     "name": "stderr",
     "output_type": "stream",
     "text": [
      "WARNING:tensorflow:Model's `__init__()` arguments contain non-serializable objects. Please implement a `get_config()` method in the subclassed Model for proper saving and loading. Defaulting to empty config.\n"
     ]
    },
    {
     "name": "stdout",
     "output_type": "stream",
     "text": [
      "WARNING:tensorflow:Model's `__init__()` arguments contain non-serializable objects. Please implement a `get_config()` method in the subclassed Model for proper saving and loading. Defaulting to empty config.\n"
     ]
    },
    {
     "name": "stderr",
     "output_type": "stream",
     "text": [
      "WARNING:tensorflow:Model's `__init__()` arguments contain non-serializable objects. Please implement a `get_config()` method in the subclassed Model for proper saving and loading. Defaulting to empty config.\n"
     ]
    },
    {
     "name": "stdout",
     "output_type": "stream",
     "text": [
      "WARNING:tensorflow:Model's `__init__()` arguments contain non-serializable objects. Please implement a `get_config()` method in the subclassed Model for proper saving and loading. Defaulting to empty config.\n"
     ]
    },
    {
     "name": "stderr",
     "output_type": "stream",
     "text": [
      "WARNING:tensorflow:Model's `__init__()` arguments contain non-serializable objects. Please implement a `get_config()` method in the subclassed Model for proper saving and loading. Defaulting to empty config.\n"
     ]
    },
    {
     "name": "stdout",
     "output_type": "stream",
     "text": [
      "WARNING:tensorflow:Model's `__init__()` arguments contain non-serializable objects. Please implement a `get_config()` method in the subclassed Model for proper saving and loading. Defaulting to empty config.\n"
     ]
    },
    {
     "name": "stderr",
     "output_type": "stream",
     "text": [
      "WARNING:tensorflow:Model's `__init__()` arguments contain non-serializable objects. Please implement a `get_config()` method in the subclassed Model for proper saving and loading. Defaulting to empty config.\n"
     ]
    },
    {
     "name": "stdout",
     "output_type": "stream",
     "text": [
      "WARNING:tensorflow:Model's `__init__()` arguments contain non-serializable objects. Please implement a `get_config()` method in the subclassed Model for proper saving and loading. Defaulting to empty config.\n"
     ]
    },
    {
     "name": "stderr",
     "output_type": "stream",
     "text": [
      "WARNING:tensorflow:Model's `__init__()` arguments contain non-serializable objects. Please implement a `get_config()` method in the subclassed Model for proper saving and loading. Defaulting to empty config.\n"
     ]
    },
    {
     "name": "stdout",
     "output_type": "stream",
     "text": [
      "WARNING:tensorflow:Model's `__init__()` arguments contain non-serializable objects. Please implement a `get_config()` method in the subclassed Model for proper saving and loading. Defaulting to empty config.\n"
     ]
    },
    {
     "name": "stderr",
     "output_type": "stream",
     "text": [
      "WARNING:tensorflow:Model's `__init__()` arguments contain non-serializable objects. Please implement a `get_config()` method in the subclassed Model for proper saving and loading. Defaulting to empty config.\n"
     ]
    },
    {
     "name": "stdout",
     "output_type": "stream",
     "text": [
      "WARNING:tensorflow:Model's `__init__()` arguments contain non-serializable objects. Please implement a `get_config()` method in the subclassed Model for proper saving and loading. Defaulting to empty config.\n"
     ]
    },
    {
     "name": "stderr",
     "output_type": "stream",
     "text": [
      "WARNING:tensorflow:Model's `__init__()` arguments contain non-serializable objects. Please implement a `get_config()` method in the subclassed Model for proper saving and loading. Defaulting to empty config.\n"
     ]
    },
    {
     "name": "stdout",
     "output_type": "stream",
     "text": [
      "INFO:tensorflow:Assets written to: ./checkpoints/ranking/pointwise/assets\n"
     ]
    },
    {
     "name": "stderr",
     "output_type": "stream",
     "text": [
      "INFO:tensorflow:Assets written to: ./checkpoints/ranking/pointwise/assets\n"
     ]
    }
   ],
   "source": [
    "PATH = './checkpoints'\n",
    "\n",
    "_scann_layer = TopK(scann_layer)\n",
    "_brute_layer = TopK(brute_layer)\n",
    "ranking = Ranking(ranking_model)\n",
    "\n",
    "tf.saved_model.save(\n",
    "    obj = _scann_layer,\n",
    "    export_dir = os.path.join(PATH, 'retrieval/scann'),\n",
    "    signatures = { 'call': _scann_layer.call },\n",
    "    options = tf.saved_model.SaveOptions(namespace_whitelist=[\"Scann\"])\n",
    ")\n",
    "\n",
    "# Export Brute Force\n",
    "tf.saved_model.save(\n",
    "    obj = _brute_layer,\n",
    "    export_dir = os.path.join(PATH, 'retrieval/brute'),\n",
    "    signatures = { 'call': _brute_layer.call },\n",
    ")\n",
    "\n",
    "# Export Brute Force\n",
    "tf.saved_model.save(\n",
    "    obj = ranking,\n",
    "    export_dir = os.path.join(PATH, 'ranking/pointwise'),\n",
    "    signatures = { 'call': ranking.call },\n",
    ")"
   ]
  },
  {
   "cell_type": "code",
   "execution_count": 152,
   "metadata": {},
   "outputs": [
    {
     "ename": "OSError",
     "evalue": "SavedModel file does not exist at: checkpoints/scann/{saved_model.pbtxt|saved_model.pb}",
     "output_type": "error",
     "traceback": [
      "\u001b[0;31m---------------------------------------------------------------------------\u001b[0m",
      "\u001b[0;31mOSError\u001b[0m                                   Traceback (most recent call last)",
      "Cell \u001b[0;32mIn[152], line 2\u001b[0m\n\u001b[1;32m      1\u001b[0m \u001b[38;5;66;03m# Load it back; can also be done in TensorFlow Serving.\u001b[39;00m\n\u001b[0;32m----> 2\u001b[0m loaded \u001b[38;5;241m=\u001b[39m \u001b[43mtf\u001b[49m\u001b[38;5;241;43m.\u001b[39;49m\u001b[43msaved_model\u001b[49m\u001b[38;5;241;43m.\u001b[39;49m\u001b[43mload\u001b[49m\u001b[43m(\u001b[49m\u001b[38;5;124;43m\"\u001b[39;49m\u001b[38;5;124;43mcheckpoints/scann\u001b[39;49m\u001b[38;5;124;43m\"\u001b[39;49m\u001b[43m)\u001b[49m\n\u001b[1;32m      4\u001b[0m \u001b[38;5;66;03m# Pass a user id in, get top predicted movie titles back.\u001b[39;00m\n\u001b[1;32m      5\u001b[0m _ \u001b[38;5;241m=\u001b[39m loaded\u001b[38;5;241m.\u001b[39msignatures[\u001b[38;5;124m'\u001b[39m\u001b[38;5;124mcall\u001b[39m\u001b[38;5;124m'\u001b[39m](\u001b[38;5;241m*\u001b[39m\u001b[38;5;241m*\u001b[39muser_tensor, k\u001b[38;5;241m=\u001b[39m\u001b[38;5;241m2\u001b[39m)\n",
      "File \u001b[0;32m~/workspace/github/two-tower-recommender/venv/lib/python3.10/site-packages/tensorflow/python/saved_model/load.py:912\u001b[0m, in \u001b[0;36mload\u001b[0;34m(export_dir, tags, options)\u001b[0m\n\u001b[1;32m    910\u001b[0m \u001b[38;5;28;01mif\u001b[39;00m \u001b[38;5;28misinstance\u001b[39m(export_dir, os\u001b[38;5;241m.\u001b[39mPathLike):\n\u001b[1;32m    911\u001b[0m   export_dir \u001b[38;5;241m=\u001b[39m os\u001b[38;5;241m.\u001b[39mfspath(export_dir)\n\u001b[0;32m--> 912\u001b[0m result \u001b[38;5;241m=\u001b[39m \u001b[43mload_partial\u001b[49m\u001b[43m(\u001b[49m\u001b[43mexport_dir\u001b[49m\u001b[43m,\u001b[49m\u001b[43m \u001b[49m\u001b[38;5;28;43;01mNone\u001b[39;49;00m\u001b[43m,\u001b[49m\u001b[43m \u001b[49m\u001b[43mtags\u001b[49m\u001b[43m,\u001b[49m\u001b[43m \u001b[49m\u001b[43moptions\u001b[49m\u001b[43m)\u001b[49m[\u001b[38;5;124m\"\u001b[39m\u001b[38;5;124mroot\u001b[39m\u001b[38;5;124m\"\u001b[39m]\n\u001b[1;32m    913\u001b[0m \u001b[38;5;28;01mreturn\u001b[39;00m result\n",
      "File \u001b[0;32m~/workspace/github/two-tower-recommender/venv/lib/python3.10/site-packages/tensorflow/python/saved_model/load.py:1017\u001b[0m, in \u001b[0;36mload_partial\u001b[0;34m(export_dir, filters, tags, options)\u001b[0m\n\u001b[1;32m   1012\u001b[0m \u001b[38;5;28;01mif\u001b[39;00m tags \u001b[38;5;129;01mis\u001b[39;00m \u001b[38;5;129;01mnot\u001b[39;00m \u001b[38;5;28;01mNone\u001b[39;00m \u001b[38;5;129;01mand\u001b[39;00m \u001b[38;5;129;01mnot\u001b[39;00m \u001b[38;5;28misinstance\u001b[39m(tags, \u001b[38;5;28mset\u001b[39m):\n\u001b[1;32m   1013\u001b[0m   \u001b[38;5;66;03m# Supports e.g. tags=SERVING and tags=[SERVING]. Sets aren't considered\u001b[39;00m\n\u001b[1;32m   1014\u001b[0m   \u001b[38;5;66;03m# sequences for nest.flatten, so we put those through as-is.\u001b[39;00m\n\u001b[1;32m   1015\u001b[0m   tags \u001b[38;5;241m=\u001b[39m nest\u001b[38;5;241m.\u001b[39mflatten(tags)\n\u001b[1;32m   1016\u001b[0m saved_model_proto, debug_info \u001b[38;5;241m=\u001b[39m (\n\u001b[0;32m-> 1017\u001b[0m     \u001b[43mloader_impl\u001b[49m\u001b[38;5;241;43m.\u001b[39;49m\u001b[43mparse_saved_model_with_debug_info\u001b[49m\u001b[43m(\u001b[49m\u001b[43mexport_dir\u001b[49m\u001b[43m)\u001b[49m)\n\u001b[1;32m   1019\u001b[0m loader \u001b[38;5;241m=\u001b[39m \u001b[38;5;28;01mNone\u001b[39;00m\n\u001b[1;32m   1020\u001b[0m \u001b[38;5;28;01mif\u001b[39;00m (\u001b[38;5;28mlen\u001b[39m(saved_model_proto\u001b[38;5;241m.\u001b[39mmeta_graphs) \u001b[38;5;241m==\u001b[39m \u001b[38;5;241m1\u001b[39m \u001b[38;5;129;01mand\u001b[39;00m\n\u001b[1;32m   1021\u001b[0m     saved_model_proto\u001b[38;5;241m.\u001b[39mmeta_graphs[\u001b[38;5;241m0\u001b[39m]\u001b[38;5;241m.\u001b[39mHasField(\u001b[38;5;124m\"\u001b[39m\u001b[38;5;124mobject_graph_def\u001b[39m\u001b[38;5;124m\"\u001b[39m)):\n",
      "File \u001b[0;32m~/workspace/github/two-tower-recommender/venv/lib/python3.10/site-packages/tensorflow/python/saved_model/loader_impl.py:59\u001b[0m, in \u001b[0;36mparse_saved_model_with_debug_info\u001b[0;34m(export_dir)\u001b[0m\n\u001b[1;32m     46\u001b[0m \u001b[38;5;28;01mdef\u001b[39;00m \u001b[38;5;21mparse_saved_model_with_debug_info\u001b[39m(export_dir):\n\u001b[1;32m     47\u001b[0m \u001b[38;5;250m  \u001b[39m\u001b[38;5;124;03m\"\"\"Reads the savedmodel as well as the graph debug info.\u001b[39;00m\n\u001b[1;32m     48\u001b[0m \n\u001b[1;32m     49\u001b[0m \u001b[38;5;124;03m  Args:\u001b[39;00m\n\u001b[0;32m   (...)\u001b[0m\n\u001b[1;32m     57\u001b[0m \u001b[38;5;124;03m    parsed. Missing graph debug info file is fine.\u001b[39;00m\n\u001b[1;32m     58\u001b[0m \u001b[38;5;124;03m  \"\"\"\u001b[39;00m\n\u001b[0;32m---> 59\u001b[0m   saved_model \u001b[38;5;241m=\u001b[39m \u001b[43mparse_saved_model\u001b[49m\u001b[43m(\u001b[49m\u001b[43mexport_dir\u001b[49m\u001b[43m)\u001b[49m\n\u001b[1;32m     61\u001b[0m   debug_info_path \u001b[38;5;241m=\u001b[39m file_io\u001b[38;5;241m.\u001b[39mjoin(\n\u001b[1;32m     62\u001b[0m       path_helpers\u001b[38;5;241m.\u001b[39mget_debug_dir(export_dir),\n\u001b[1;32m     63\u001b[0m       constants\u001b[38;5;241m.\u001b[39mDEBUG_INFO_FILENAME_PB)\n\u001b[1;32m     64\u001b[0m   debug_info \u001b[38;5;241m=\u001b[39m graph_debug_info_pb2\u001b[38;5;241m.\u001b[39mGraphDebugInfo()\n",
      "File \u001b[0;32m~/workspace/github/two-tower-recommender/venv/lib/python3.10/site-packages/tensorflow/python/saved_model/loader_impl.py:119\u001b[0m, in \u001b[0;36mparse_saved_model\u001b[0;34m(export_dir)\u001b[0m\n\u001b[1;32m    117\u001b[0m     \u001b[38;5;28;01mraise\u001b[39;00m \u001b[38;5;167;01mIOError\u001b[39;00m(\u001b[38;5;124mf\u001b[39m\u001b[38;5;124m\"\u001b[39m\u001b[38;5;124mCannot parse file \u001b[39m\u001b[38;5;132;01m{\u001b[39;00mpath_to_pbtxt\u001b[38;5;132;01m}\u001b[39;00m\u001b[38;5;124m: \u001b[39m\u001b[38;5;132;01m{\u001b[39;00m\u001b[38;5;28mstr\u001b[39m(e)\u001b[38;5;132;01m}\u001b[39;00m\u001b[38;5;124m.\u001b[39m\u001b[38;5;124m\"\u001b[39m) \u001b[38;5;28;01mfrom\u001b[39;00m \u001b[38;5;21;01me\u001b[39;00m\n\u001b[1;32m    118\u001b[0m \u001b[38;5;28;01melse\u001b[39;00m:\n\u001b[0;32m--> 119\u001b[0m   \u001b[38;5;28;01mraise\u001b[39;00m \u001b[38;5;167;01mIOError\u001b[39;00m(\n\u001b[1;32m    120\u001b[0m       \u001b[38;5;124mf\u001b[39m\u001b[38;5;124m\"\u001b[39m\u001b[38;5;124mSavedModel file does not exist at: \u001b[39m\u001b[38;5;132;01m{\u001b[39;00mexport_dir\u001b[38;5;132;01m}\u001b[39;00m\u001b[38;5;132;01m{\u001b[39;00mos\u001b[38;5;241m.\u001b[39mpath\u001b[38;5;241m.\u001b[39msep\u001b[38;5;132;01m}\u001b[39;00m\u001b[38;5;124m\"\u001b[39m\n\u001b[1;32m    121\u001b[0m       \u001b[38;5;124mf\u001b[39m\u001b[38;5;124m\"\u001b[39m\u001b[38;5;130;01m{{\u001b[39;00m\u001b[38;5;132;01m{\u001b[39;00mconstants\u001b[38;5;241m.\u001b[39mSAVED_MODEL_FILENAME_PBTXT\u001b[38;5;132;01m}\u001b[39;00m\u001b[38;5;124m|\u001b[39m\u001b[38;5;124m\"\u001b[39m\n\u001b[1;32m    122\u001b[0m       \u001b[38;5;124mf\u001b[39m\u001b[38;5;124m\"\u001b[39m\u001b[38;5;132;01m{\u001b[39;00mconstants\u001b[38;5;241m.\u001b[39mSAVED_MODEL_FILENAME_PB\u001b[38;5;132;01m}\u001b[39;00m\u001b[38;5;130;01m}}\u001b[39;00m\u001b[38;5;124m\"\u001b[39m)\n\u001b[1;32m    123\u001b[0m \u001b[38;5;28;01mreturn\u001b[39;00m saved_model\n",
      "\u001b[0;31mOSError\u001b[0m: SavedModel file does not exist at: checkpoints/scann/{saved_model.pbtxt|saved_model.pb}"
     ]
    }
   ],
   "source": [
    "# Load it back; can also be done in TensorFlow Serving.\n",
    "loaded = tf.saved_model.load(\"checkpoints/scann\")\n",
    "\n",
    "# Pass a user id in, get top predicted movie titles back.\n",
    "_ = loaded.signatures['call'](**user_tensor, k=2)\n",
    "\n",
    "identifiers = list(_['output_0'].numpy())\n",
    "affnities   = list(_['output_1'].numpy())\n",
    "\n",
    "dict(zip(identifiers, affnities))"
   ]
  },
  {
   "cell_type": "code",
   "execution_count": 126,
   "metadata": {},
   "outputs": [
    {
     "data": {
      "text/plain": [
       "{'output_0': <tf.Tensor: shape=(1, 1), dtype=float32, numpy=array([[3.385887]], dtype=float32)>}"
      ]
     },
     "execution_count": 126,
     "metadata": {},
     "output_type": "execute_result"
    }
   ],
   "source": [
    "ranking = tf.saved_model.load(\"checkpoints/ranking\")\n",
    "\n",
    "query = {\n",
    "    'user_id': '138',\n",
    "    'user_gender': 1,\n",
    "    'user_zip_code': '53211',\n",
    "    'user_bucketized_age': 45.0,\n",
    "    'user_occupation_label': 4,\n",
    "}\n",
    "candidate = {\n",
    "    \"movie_id\": '5',\n",
    "    \"movie_title\": 'Copycat',\n",
    "    \"movie_release_year\": '1995'\n",
    "}\n",
    "\n",
    "query_tensors = {k: tf.convert_to_tensor([v]) for k, v in query.items()}\n",
    "candidate_tensors = {k: tf.convert_to_tensor([v]) for k, v in candidate.items()}\n",
    "\n",
    "ranking.signatures['call'](**query_tensors, **candidate_tensors)"
   ]
  }
 ],
 "metadata": {
  "kernelspec": {
   "display_name": ".venv",
   "language": "python",
   "name": "python3"
  },
  "language_info": {
   "codemirror_mode": {
    "name": "ipython",
    "version": 3
   },
   "file_extension": ".py",
   "mimetype": "text/x-python",
   "name": "python",
   "nbconvert_exporter": "python",
   "pygments_lexer": "ipython3",
   "version": "3.10.12"
  }
 },
 "nbformat": 4,
 "nbformat_minor": 2
}
